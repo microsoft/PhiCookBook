{
 "cells": [
  {
   "cell_type": "markdown",
   "id": "81ad8c65",
   "metadata": {},
   "source": [
    "# Phi-4 Mini ONNX 平行函數呼叫教學\n",
    "\n",
    "本筆記本展示如何使用 Phi-4 Mini 搭配 ONNX Runtime GenAI 進行平行函數呼叫。函數呼叫能讓模型根據使用者需求智能地調用外部工具和 API。\n",
    "\n",
    "## 概述\n",
    "\n",
    "在本教學中，您將學習如何：\n",
    "- 設置 Phi-4 Mini 與 ONNX Runtime GenAI\n",
    "- 定義預訂航班和酒店的函數結構\n",
    "- 使用 Lark 語法進行引導生成以獲得結構化輸出\n",
    "- 執行平行函數呼叫以處理複雜的旅行預訂場景\n",
    "\n",
    "## 先決條件\n",
    "\n",
    "在執行本筆記本之前，請確保您已：\n",
    "- 下載 Phi-4 Mini ONNX 模型\n",
    "- 安裝 `onnxruntime-genai` 套件\n",
    "- 基本了解函數呼叫的概念\n"
   ]
  },
  {
   "cell_type": "markdown",
   "id": "8fc2551b",
   "metadata": {},
   "source": [
    "## 第一步：匯入所需的函式庫\n",
    "\n",
    "首先，我們將匯入實現函式呼叫所需的函式庫。\n"
   ]
  },
  {
   "cell_type": "code",
   "execution_count": 1,
   "id": "7368a24e",
   "metadata": {},
   "outputs": [],
   "source": [
    "import json"
   ]
  },
  {
   "cell_type": "code",
   "execution_count": 2,
   "id": "3e806340",
   "metadata": {},
   "outputs": [],
   "source": [
    "import onnxruntime_genai as og"
   ]
  },
  {
   "cell_type": "markdown",
   "id": "dc55f0ab",
   "metadata": {},
   "source": [
    "## 步驟 2：模型設置與配置\n",
    "\n",
    "現在我們將配置 Phi-4 Mini ONNX 模型。請確保將路徑替換為您實際的模型目錄。\n"
   ]
  },
  {
   "cell_type": "code",
   "execution_count": null,
   "id": "1e8edfbf",
   "metadata": {},
   "outputs": [],
   "source": [
    "# TODO: Replace with your actual Phi-4 Mini ONNX model path\n",
    "# Download from: https://huggingface.co/microsoft/Phi-4-mini-onnx\n",
    "path = 'Your phi-4-mini-onnx path'  # Update this path!"
   ]
  },
  {
   "cell_type": "code",
   "execution_count": 4,
   "id": "b80f5bb5",
   "metadata": {},
   "outputs": [],
   "source": [
    "config = og.Config(path)"
   ]
  },
  {
   "cell_type": "code",
   "execution_count": 5,
   "id": "10e9a553",
   "metadata": {},
   "outputs": [],
   "source": [
    "model = og.Model(config)"
   ]
  },
  {
   "cell_type": "code",
   "execution_count": 6,
   "id": "66ce23b1",
   "metadata": {},
   "outputs": [],
   "source": [
    "tokenizer = og.Tokenizer(model)\n",
    "tokenizer_stream = tokenizer.create_stream()"
   ]
  },
  {
   "cell_type": "markdown",
   "id": "08ac6d4a",
   "metadata": {},
   "source": [
    "## 第三步：設定生成參數\n",
    "\n",
    "設定生成參數以控制模型的輸出行為。這些設定可確保模型在呼叫函數時提供具決定性且專注的回應。\n"
   ]
  },
  {
   "cell_type": "code",
   "execution_count": 7,
   "id": "af01f5ed",
   "metadata": {},
   "outputs": [],
   "source": [
    "# Configure generation parameters for deterministic function calling\n",
    "search_options = {}\n",
    "search_options['max_length'] = 4096      # Maximum tokens to generate\n",
    "search_options['temperature'] = 0.00001  # Very low temperature for deterministic output\n",
    "search_options['top_p'] = 1.0            # Nucleus sampling parameter\n",
    "search_options['do_sample'] = False       # Disable sampling for consistent results"
   ]
  },
  {
   "cell_type": "markdown",
   "id": "c2808a51",
   "metadata": {},
   "source": [
    "## 第四步：定義可用的功能\n",
    "\n",
    "在這裡，我們定義了 AI 助手可以調用的功能。在此範例中，我們有兩個與旅行相關的功能：\n",
    "1. **booking_flight_tickets**：用於預訂機場之間的航班\n",
    "2. **booking_hotels**：用於預訂酒店住宿\n",
    "\n",
    "這些功能的定義遵循 OpenAI 的功能調用架構格式。\n"
   ]
  },
  {
   "cell_type": "code",
   "execution_count": 8,
   "id": "fc53b93b",
   "metadata": {},
   "outputs": [],
   "source": [
    "tool_list = '[{\"name\": \"booking_flight_tickets\", \"description\": \"booking flights\", \"parameters\": {\"origin_airport_code\": {\"description\": \"The name of Departure airport code\", \"type\": \"string\"}, \"destination_airport_code\": {\"description\": \"The name of Destination airport code\", \"type\": \"string\"}, \"departure_date\": {\"description\": \"The date of outbound flight\", \"type\": \"string\"}, \"return_date\": {\"description\": \"The date of return flight\", \"type\": \"string\"}}}, {\"name\": \"booking_hotels\", \"description\": \"booking hotel\", \"parameters\": {\"destination\": {\"description\": \"The name of the city\", \"type\": \"string\"}, \"check_in_date\": {\"description\": \"The date of check in\", \"type\": \"string\"}, \"checkout_date\": {\"description\": \"The date of check out\", \"type\": \"string\"}}}]'"
   ]
  },
  {
   "cell_type": "markdown",
   "id": "f4bb4048",
   "metadata": {},
   "source": [
    "## 第五步：語法生成輔助函數\n",
    "\n",
    "這些輔助函數將我們的函數定義轉換為 Lark 語法格式，ONNX Runtime GenAI 使用該格式進行引導生成。這確保模型輸出符合正確 JSON 格式的有效函數調用。\n"
   ]
  },
  {
   "cell_type": "code",
   "execution_count": 9,
   "id": "0f86e51c",
   "metadata": {},
   "outputs": [],
   "source": [
    "def get_lark_grammar(input_tools):\n",
    "    tools_list = get_tools_list(input_tools)\n",
    "    prompt_tool_input = create_prompt_tool_input(tools_list)\n",
    "    if len(tools_list) == 1:\n",
    "        # output = (\"start: TEXT | fun_call\\n\" \"TEXT: /[^{](.|\\\\n)*/\\n\" \" fun_call: <|tool_call|> %json \" + json.dumps(tools_list[0]))\n",
    "        output = (\"start: TEXT | fun_call\\n\" \"TEXT: /[^{](.|\\\\n)*/\\n\" \" fun_call: <|tool_call|> %json \" + json.dumps(convert_tool_to_grammar_input(tools_list[0])))\n",
    "        return prompt_tool_input, output\n",
    "    else:\n",
    "        return prompt_tool_input, \"start: TEXT | fun_call \\n TEXT: /[^{](.|\\n)*/ \\n fun_call: <|tool_call|> %json {\\\"anyOf\\\": [\" + ','.join([json.dumps(tool) for tool in tools_list]) + \"]}\"\n"
   ]
  },
  {
   "cell_type": "code",
   "execution_count": 10,
   "id": "7f2da98d",
   "metadata": {},
   "outputs": [],
   "source": [
    "def get_tools_list(input_tools):\n",
    "    # input_tools format: '[{\"name\": \"fn1\", \"description\": \"fn details\", \"parameters\": {\"p1\": {\"description\": \"details\", \"type\": \"string\"}}},\n",
    "    # {\"fn2\": 2},{\"fn3\": 3}]'\n",
    "    tools_list = []\n",
    "    try:\n",
    "        tools_list = json.loads(input_tools)\n",
    "    except json.JSONDecodeError:\n",
    "        raise ValueError(\"Invalid JSON format for tools list, expected format: '[{\\\"name\\\": \\\"fn1\\\"},{\\\"name\\\": \\\"fn2\\\"}]'\")\n",
    "    if len(tools_list) == 0:\n",
    "        raise ValueError(\"Tools list cannot be empty\")\n",
    "    return tools_list"
   ]
  },
  {
   "cell_type": "code",
   "execution_count": 11,
   "id": "1b1c2261",
   "metadata": {},
   "outputs": [],
   "source": [
    "def create_prompt_tool_input(tools_list):\n",
    "    tool_input = str(tools_list[0])\n",
    "    for tool in tools_list[1:]:\n",
    "        tool_input += ',' + str(tool)\n",
    "    return tool_input"
   ]
  },
  {
   "cell_type": "code",
   "execution_count": 12,
   "id": "aa82c09c",
   "metadata": {},
   "outputs": [],
   "source": [
    "def convert_tool_to_grammar_input(tool):\n",
    "    param_props = {}\n",
    "    required_params = []\n",
    "    for param_name, param_info in tool.get(\"parameters\", {}).items():\n",
    "        param_props[param_name] = {\n",
    "            \"type\": param_info.get(\"type\", \"string\"),\n",
    "            \"description\": param_info.get(\"description\", \"\")\n",
    "        }\n",
    "        required_params.append(param_name)\n",
    "    output_schema = {\n",
    "        \"description\": tool.get('description', ''),\n",
    "        \"type\": \"object\",\n",
    "        \"required\": [\"name\", \"parameters\"],\n",
    "        \"additionalProperties\": False,\n",
    "        \"properties\": {\n",
    "            \"name\": { \"const\": tool[\"name\"] },\n",
    "            \"parameters\": {\n",
    "                \"type\": \"object\",\n",
    "                \"properties\": param_props,\n",
    "                \"required\": required_params,\n",
    "                \"additionalProperties\": False\n",
    "            }\n",
    "        }\n",
    "    }\n",
    "    if len(param_props) == 0:\n",
    "        output_schema[\"required\"] = [\"name\"]\n",
    "    return output_schema"
   ]
  },
  {
   "cell_type": "code",
   "execution_count": 13,
   "id": "284c9474",
   "metadata": {},
   "outputs": [
    {
     "data": {
      "text/plain": [
       "(\"{'name': 'booking_flight_tickets', 'description': 'booking flights', 'parameters': {'origin_airport_code': {'description': 'The name of Departure airport code', 'type': 'string'}, 'destination_airport_code': {'description': 'The name of Destination airport code', 'type': 'string'}, 'departure_date': {'description': 'The date of outbound flight', 'type': 'string'}, 'return_date': {'description': 'The date of return flight', 'type': 'string'}}},{'name': 'booking_hotels', 'description': 'booking hotel', 'parameters': {'destination': {'description': 'The name of the city', 'type': 'string'}, 'check_in_date': {'description': 'The date of check in', 'type': 'string'}, 'checkout_date': {'description': 'The date of check out', 'type': 'string'}}}\",\n",
       " 'start: TEXT | fun_call \\n TEXT: /[^{](.|\\n)*/ \\n fun_call: <|tool_call|> %json {\"anyOf\": [{\"name\": \"booking_flight_tickets\", \"description\": \"booking flights\", \"parameters\": {\"origin_airport_code\": {\"description\": \"The name of Departure airport code\", \"type\": \"string\"}, \"destination_airport_code\": {\"description\": \"The name of Destination airport code\", \"type\": \"string\"}, \"departure_date\": {\"description\": \"The date of outbound flight\", \"type\": \"string\"}, \"return_date\": {\"description\": \"The date of return flight\", \"type\": \"string\"}}},{\"name\": \"booking_hotels\", \"description\": \"booking hotel\", \"parameters\": {\"destination\": {\"description\": \"The name of the city\", \"type\": \"string\"}, \"check_in_date\": {\"description\": \"The date of check in\", \"type\": \"string\"}, \"checkout_date\": {\"description\": \"The date of check out\", \"type\": \"string\"}}}]}')"
      ]
     },
     "execution_count": 13,
     "metadata": {},
     "output_type": "execute_result"
    }
   ],
   "source": [
    "get_lark_grammar(tool_list)"
   ]
  },
  {
   "cell_type": "markdown",
   "id": "c534ff02",
   "metadata": {},
   "source": [
    "## 第六步：測試語法生成\n",
    "\n",
    "讓我們測試語法生成函數，看看它們如何將工具定義轉換為正確的格式。\n"
   ]
  },
  {
   "cell_type": "code",
   "execution_count": 14,
   "id": "a730b137",
   "metadata": {},
   "outputs": [],
   "source": [
    "prompt_tool_input, guidance_input = get_lark_grammar(tool_list)"
   ]
  },
  {
   "cell_type": "markdown",
   "id": "a4ca5aa8",
   "metadata": {},
   "source": [
    "## 步驟 7：準備系統提示和生成器\n",
    "\n",
    "現在我們將建立系統提示，告訴模型可用的工具，並設置生成器的引導生成參數。\n"
   ]
  },
  {
   "cell_type": "code",
   "execution_count": 15,
   "id": "c8474cdf",
   "metadata": {},
   "outputs": [],
   "source": [
    "# Define the system prompt that introduces the assistant and its capabilities\n",
    "system_prompt = \"You are a helpful assistant with these tools.\""
   ]
  },
  {
   "cell_type": "code",
   "execution_count": 16,
   "id": "97c4c612",
   "metadata": {},
   "outputs": [],
   "source": [
    "# Format the system message with tools information\n",
    "messages = f\"\"\"[{{\"role\": \"system\", \"content\": \"{system_prompt}\", \"tools\": \"{prompt_tool_input}\"}}]\"\"\""
   ]
  },
  {
   "cell_type": "code",
   "execution_count": 17,
   "id": "aaabbc49",
   "metadata": {},
   "outputs": [],
   "source": [
    "# Apply chat template to format the system prompt properly\n",
    "tokenizer_input_system_prompt = tokenizer.apply_chat_template(messages=messages, add_generation_prompt=False)"
   ]
  },
  {
   "cell_type": "code",
   "execution_count": 18,
   "id": "81f0da4d",
   "metadata": {},
   "outputs": [
    {
     "data": {
      "text/plain": [
       "\"<|system|>You are a helpful assistant with these tools.<|tool|>{'name': 'booking_flight_tickets', 'description': 'booking flights', 'parameters': {'origin_airport_code': {'description': 'The name of Departure airport code', 'type': 'string'}, 'destination_airport_code': {'description': 'The name of Destination airport code', 'type': 'string'}, 'departure_date': {'description': 'The date of outbound flight', 'type': 'string'}, 'return_date': {'description': 'The date of return flight', 'type': 'string'}}},{'name': 'booking_hotels', 'description': 'booking hotel', 'parameters': {'destination': {'description': 'The name of the city', 'type': 'string'}, 'check_in_date': {'description': 'The date of check in', 'type': 'string'}, 'checkout_date': {'description': 'The date of check out', 'type': 'string'}}}<|/tool|><|end|><|endoftext|>\""
      ]
     },
     "execution_count": 18,
     "metadata": {},
     "output_type": "execute_result"
    }
   ],
   "source": [
    "tokenizer_input_system_prompt"
   ]
  },
  {
   "cell_type": "code",
   "execution_count": 19,
   "id": "10605b23",
   "metadata": {},
   "outputs": [],
   "source": [
    "input_tokens = tokenizer.encode(tokenizer_input_system_prompt)"
   ]
  },
  {
   "cell_type": "code",
   "execution_count": 20,
   "id": "6de50e32",
   "metadata": {},
   "outputs": [],
   "source": [
    "input_tokens = input_tokens[:-1]"
   ]
  },
  {
   "cell_type": "code",
   "execution_count": 21,
   "id": "1c17a6c9",
   "metadata": {},
   "outputs": [],
   "source": [
    "system_prompt_length = len(input_tokens)"
   ]
  },
  {
   "cell_type": "markdown",
   "id": "5ec5f242",
   "metadata": {},
   "source": [
    "## 第八步：使用引導生成初始化生成器\n",
    "\n",
    "現在我們將使用已配置的參數創建生成器，並應用 Lark 語法進行引導生成。\n"
   ]
  },
  {
   "cell_type": "code",
   "execution_count": 22,
   "id": "b54180c0",
   "metadata": {},
   "outputs": [],
   "source": [
    "# Create generator parameters and apply search options\n",
    "params = og.GeneratorParams(model)\n",
    "params.set_search_options(**search_options)"
   ]
  },
  {
   "cell_type": "code",
   "execution_count": 23,
   "id": "eec56940",
   "metadata": {},
   "outputs": [],
   "source": [
    "# Apply Lark grammar for guided generation to ensure valid function call format\n",
    "params.set_guidance(\"lark_grammar\", guidance_input)"
   ]
  },
  {
   "cell_type": "code",
   "execution_count": null,
   "id": "92207c48",
   "metadata": {},
   "outputs": [],
   "source": []
  },
  {
   "cell_type": "code",
   "execution_count": 24,
   "id": "690112f5",
   "metadata": {},
   "outputs": [],
   "source": [
    "generator = og.Generator(model, params)"
   ]
  },
  {
   "cell_type": "code",
   "execution_count": 25,
   "id": "789d5b1a",
   "metadata": {},
   "outputs": [],
   "source": [
    "generator.append_tokens(input_tokens)"
   ]
  },
  {
   "cell_type": "markdown",
   "id": "5c7c9c2e",
   "metadata": {},
   "source": [
    "## 第九步：測試平行函數呼叫\n",
    "\n",
    "現在讓我們使用一個複雜的旅行預訂情境來測試我們的設置，這需要呼叫多個函數。\n"
   ]
  },
  {
   "cell_type": "code",
   "execution_count": 26,
   "id": "0ac5ff58",
   "metadata": {},
   "outputs": [],
   "source": [
    "# Complex travel booking request that requires both flight and hotel booking\n",
    "text = \"book flight ticket from Beijing to Paris(using airport code) in 2025-12-04 to 2025-12-10 , then book hotel from 2025-12-04 to 2025-12-10 in Paris\""
   ]
  },
  {
   "cell_type": "code",
   "execution_count": 27,
   "id": "36386526",
   "metadata": {},
   "outputs": [],
   "source": [
    "# Format user message and apply chat template\n",
    "messages = f\"\"\"[{{\"role\": \"user\", \"content\": \"{text}\"}}]\"\"\"\n",
    "\n",
    "# Apply Chat Template for user input\n",
    "user_prompt = tokenizer.apply_chat_template(messages=messages, add_generation_prompt=True)\n",
    "input_tokens = tokenizer.encode(user_prompt)\n",
    "generator.append_tokens(input_tokens)"
   ]
  },
  {
   "cell_type": "code",
   "execution_count": 28,
   "id": "f85f5caa",
   "metadata": {},
   "outputs": [
    {
     "data": {
      "text/plain": [
       "'<|user|>book flight ticket from Beijing to Paris(using airport code) in 2025-12-04 to 2025-12-10 , then book hotel from 2025-12-04 to 2025-12-10 in Paris<|end|><|assistant|>'"
      ]
     },
     "execution_count": 28,
     "metadata": {},
     "output_type": "execute_result"
    }
   ],
   "source": [
    "user_prompt"
   ]
  },
  {
   "cell_type": "markdown",
   "id": "833c90f9",
   "metadata": {},
   "source": []
  },
  {
   "cell_type": "markdown",
   "id": "65331735",
   "metadata": {},
   "source": [
    "### 生成函數調用\n",
    "\n",
    "模型現在將根據使用者的請求生成結構化的函數調用。透過引導生成，輸出將是有效的 JSON 格式，可直接執行。\n",
    "\n",
    "**預期輸出**：模型應生成以下函數調用：\n",
    "1. `booking_flight_tickets`，包含北京 (PEK) 至巴黎 (CDG) 的詳細資訊\n",
    "2. `booking_hotels`，包含巴黎住宿的詳細資訊\n",
    "\n",
    "執行下面的單元格以查看即時生成：\n"
   ]
  },
  {
   "cell_type": "code",
   "execution_count": 29,
   "id": "64a703a1",
   "metadata": {},
   "outputs": [
    {
     "name": "stdout",
     "output_type": "stream",
     "text": [
      "[{\"name\": \"booking_flight_tickets\", \"arguments\": {\"origin_airport_code\": \"PEKK\", \"destination_airport_code\": \"CDG\", \"departure_date\": \"2025-12-04\", \"return_date\": \"2025-12-10\"}}, {\"name\": \"booking_hotels\", \"arguments\": {\"destination\": \"Paris\", \"check_in_date\": \"2025-12-04\", \"checkout_date\": \"2025-12-10\"}}]"
     ]
    }
   ],
   "source": [
    "# Generate tokens one by one and stream the output\n",
    "while not generator.is_done():\n",
    "    generator.generate_next_token()\n",
    "    new_token = generator.get_next_tokens()[0]\n",
    "    print(tokenizer_stream.decode(new_token), end='', flush=True)"
   ]
  },
  {
   "cell_type": "markdown",
   "id": "e4db4123",
   "metadata": {},
   "source": [
    "## 結論\n",
    "\n",
    "🎉 **恭喜！** 你已成功使用 ONNX Runtime GenAI 實現 Phi-4 Mini 的平行函數呼叫。\n",
    "\n",
    "### 你學到了什麼：\n",
    "\n",
    "1. **模型設定**：如何使用 ONNX Runtime GenAI 配置 Phi-4 Mini\n",
    "2. **函數定義**：如何定義 AI 函數呼叫的函數結構\n",
    "3. **引導生成**：如何使用 Lark 語法生成結構化輸出\n",
    "4. **平行函數呼叫**：如何處理需要多個函數呼叫的複雜請求\n",
    "\n",
    "### 主要優勢：\n",
    "\n",
    "- ✅ **結構化輸出**：引導生成確保有效的 JSON 函數呼叫\n",
    "- ✅ **平行處理**：在單一請求中處理多個函數呼叫\n",
    "- ✅ **高效能**：ONNX Runtime 提供最佳化的推理性能\n",
    "- ✅ **靈活結構**：輕鬆新增或修改函數定義\n",
    "\n",
    "### 資源：\n",
    "\n",
    "- [Phi-4 Mini 文件](https://huggingface.co/microsoft/Phi-4-mini-onnx)\n",
    "- [ONNX Runtime GenAI 文件](https://onnxruntime.ai/docs/genai/)\n",
    "- [函數呼叫最佳實踐](https://platform.openai.com/docs/guides/function-calling)\n"
   ]
  },
  {
   "cell_type": "markdown",
   "metadata": {},
   "source": [
    "\n---\n\n**免責聲明**：  \n本文件已使用 AI 翻譯服務 [Co-op Translator](https://github.com/Azure/co-op-translator) 進行翻譯。雖然我們致力於提供準確的翻譯，但請注意，自動翻譯可能包含錯誤或不準確之處。原始文件的母語版本應被視為權威來源。對於關鍵資訊，建議使用專業人工翻譯。我們對因使用此翻譯而引起的任何誤解或誤釋不承擔責任。\n"
   ]
  }
 ],
 "metadata": {
  "kernelspec": {
   "display_name": "pydev",
   "language": "python",
   "name": "python3"
  },
  "language_info": {
   "codemirror_mode": {
    "name": "ipython",
    "version": 3
   },
   "file_extension": ".py",
   "mimetype": "text/x-python",
   "name": "python",
   "nbconvert_exporter": "python",
   "pygments_lexer": "ipython3",
   "version": "3.11.8"
  },
  "coopTranslator": {
   "original_hash": "8b61c907614fd2780d526c45c388d285",
   "translation_date": "2025-09-12T18:56:57+00:00",
   "source_file": "md/02.Application/07.FunctionCalling/Phi4/ONNX/onnx_parallel_functioncalling.ipynb",
   "language_code": "mo"
  }
 },
 "nbformat": 4,
 "nbformat_minor": 5
}