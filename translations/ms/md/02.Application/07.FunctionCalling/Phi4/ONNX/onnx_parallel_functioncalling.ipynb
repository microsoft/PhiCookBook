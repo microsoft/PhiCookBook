{
 "cells": [
  {
   "cell_type": "markdown",
   "id": "81ad8c65",
   "metadata": {},
   "source": [
    "# Tutorial Panggilan Fungsi Selari Phi-4 Mini ONNX\n",
    "\n",
    "Notebook ini menunjukkan cara menggunakan Phi-4 Mini dengan ONNX Runtime GenAI untuk panggilan fungsi selari. Panggilan fungsi membolehkan model secara bijak menggunakan alat dan API luaran berdasarkan permintaan pengguna.\n",
    "\n",
    "## Gambaran Keseluruhan\n",
    "\n",
    "Dalam tutorial ini, anda akan belajar cara:\n",
    "- Menyediakan Phi-4 Mini dengan ONNX Runtime GenAI\n",
    "- Menentukan skema fungsi untuk tempahan penerbangan dan hotel\n",
    "- Menggunakan penjanaan berpandu dengan tatabahasa Lark untuk output berstruktur\n",
    "- Melaksanakan panggilan fungsi selari untuk senario tempahan perjalanan yang kompleks\n",
    "\n",
    "## Prasyarat\n",
    "\n",
    "Sebelum menjalankan notebook ini, pastikan anda:\n",
    "- Memuat turun model Phi-4 Mini ONNX\n",
    "- Memasang pakej `onnxruntime-genai`\n",
    "- Memahami asas konsep panggilan fungsi\n"
   ]
  },
  {
   "cell_type": "markdown",
   "id": "8fc2551b",
   "metadata": {},
   "source": [
    "## Langkah 1: Import Perpustakaan Diperlukan\n",
    "\n",
    "Pertama, kita akan mengimport perpustakaan yang diperlukan untuk pelaksanaan pemanggilan fungsi kita.\n"
   ]
  },
  {
   "cell_type": "code",
   "execution_count": 1,
   "id": "7368a24e",
   "metadata": {},
   "outputs": [],
   "source": [
    "import json"
   ]
  },
  {
   "cell_type": "code",
   "execution_count": 2,
   "id": "3e806340",
   "metadata": {},
   "outputs": [],
   "source": [
    "import onnxruntime_genai as og"
   ]
  },
  {
   "cell_type": "markdown",
   "id": "dc55f0ab",
   "metadata": {},
   "source": [
    "## Langkah 2: Persediaan dan Konfigurasi Model\n",
    "\n",
    "Sekarang kita akan mengkonfigurasi model Phi-4 Mini ONNX. Pastikan untuk menggantikan laluan dengan direktori model sebenar anda.\n"
   ]
  },
  {
   "cell_type": "code",
   "execution_count": null,
   "id": "1e8edfbf",
   "metadata": {},
   "outputs": [],
   "source": [
    "# TODO: Replace with your actual Phi-4 Mini ONNX model path\n",
    "# Download from: https://huggingface.co/microsoft/Phi-4-mini-onnx\n",
    "path = 'Your phi-4-mini-onnx path'  # Update this path!"
   ]
  },
  {
   "cell_type": "code",
   "execution_count": 4,
   "id": "b80f5bb5",
   "metadata": {},
   "outputs": [],
   "source": [
    "config = og.Config(path)"
   ]
  },
  {
   "cell_type": "code",
   "execution_count": 5,
   "id": "10e9a553",
   "metadata": {},
   "outputs": [],
   "source": [
    "model = og.Model(config)"
   ]
  },
  {
   "cell_type": "code",
   "execution_count": 6,
   "id": "66ce23b1",
   "metadata": {},
   "outputs": [],
   "source": [
    "tokenizer = og.Tokenizer(model)\n",
    "tokenizer_stream = tokenizer.create_stream()"
   ]
  },
  {
   "cell_type": "markdown",
   "id": "08ac6d4a",
   "metadata": {},
   "source": [
    "## Langkah 3: Konfigurasi Parameter Penjanaan\n",
    "\n",
    "Tetapkan parameter penjanaan untuk mengawal tingkah laku output model. Tetapan ini memastikan respons yang deterministik dan fokus untuk pemanggilan fungsi.\n"
   ]
  },
  {
   "cell_type": "code",
   "execution_count": 7,
   "id": "af01f5ed",
   "metadata": {},
   "outputs": [],
   "source": [
    "# Configure generation parameters for deterministic function calling\n",
    "search_options = {}\n",
    "search_options['max_length'] = 4096      # Maximum tokens to generate\n",
    "search_options['temperature'] = 0.00001  # Very low temperature for deterministic output\n",
    "search_options['top_p'] = 1.0            # Nucleus sampling parameter\n",
    "search_options['do_sample'] = False       # Disable sampling for consistent results"
   ]
  },
  {
   "cell_type": "markdown",
   "id": "c2808a51",
   "metadata": {},
   "source": [
    "## Langkah 4: Tentukan Fungsi yang Tersedia\n",
    "\n",
    "Di sini kita menentukan fungsi yang boleh dipanggil oleh pembantu AI kita. Dalam contoh ini, terdapat dua fungsi berkaitan perjalanan:\n",
    "1. **booking_flight_tickets**: Untuk tempahan penerbangan antara lapangan terbang\n",
    "2. **booking_hotels**: Untuk tempahan penginapan hotel\n",
    "\n",
    "Definisi fungsi mengikuti format skema pemanggilan fungsi OpenAI.\n"
   ]
  },
  {
   "cell_type": "code",
   "execution_count": 8,
   "id": "fc53b93b",
   "metadata": {},
   "outputs": [],
   "source": [
    "tool_list = '[{\"name\": \"booking_flight_tickets\", \"description\": \"booking flights\", \"parameters\": {\"origin_airport_code\": {\"description\": \"The name of Departure airport code\", \"type\": \"string\"}, \"destination_airport_code\": {\"description\": \"The name of Destination airport code\", \"type\": \"string\"}, \"departure_date\": {\"description\": \"The date of outbound flight\", \"type\": \"string\"}, \"return_date\": {\"description\": \"The date of return flight\", \"type\": \"string\"}}}, {\"name\": \"booking_hotels\", \"description\": \"booking hotel\", \"parameters\": {\"destination\": {\"description\": \"The name of the city\", \"type\": \"string\"}, \"check_in_date\": {\"description\": \"The date of check in\", \"type\": \"string\"}, \"checkout_date\": {\"description\": \"The date of check out\", \"type\": \"string\"}}}]'"
   ]
  },
  {
   "cell_type": "markdown",
   "id": "f4bb4048",
   "metadata": {},
   "source": [
    "## Langkah 5: Fungsi Pembantu Penjanaan Tatabahasa\n",
    "\n",
    "Fungsi pembantu ini menukar definisi fungsi kita ke format tatabahasa Lark, yang digunakan oleh ONNX Runtime GenAI untuk penjanaan berpandu. Ini memastikan model menghasilkan panggilan fungsi yang sah dalam format JSON yang betul.\n"
   ]
  },
  {
   "cell_type": "code",
   "execution_count": 9,
   "id": "0f86e51c",
   "metadata": {},
   "outputs": [],
   "source": [
    "def get_lark_grammar(input_tools):\n",
    "    tools_list = get_tools_list(input_tools)\n",
    "    prompt_tool_input = create_prompt_tool_input(tools_list)\n",
    "    if len(tools_list) == 1:\n",
    "        # output = (\"start: TEXT | fun_call\\n\" \"TEXT: /[^{](.|\\\\n)*/\\n\" \" fun_call: <|tool_call|> %json \" + json.dumps(tools_list[0]))\n",
    "        output = (\"start: TEXT | fun_call\\n\" \"TEXT: /[^{](.|\\\\n)*/\\n\" \" fun_call: <|tool_call|> %json \" + json.dumps(convert_tool_to_grammar_input(tools_list[0])))\n",
    "        return prompt_tool_input, output\n",
    "    else:\n",
    "        return prompt_tool_input, \"start: TEXT | fun_call \\n TEXT: /[^{](.|\\n)*/ \\n fun_call: <|tool_call|> %json {\\\"anyOf\\\": [\" + ','.join([json.dumps(tool) for tool in tools_list]) + \"]}\"\n"
   ]
  },
  {
   "cell_type": "code",
   "execution_count": 10,
   "id": "7f2da98d",
   "metadata": {},
   "outputs": [],
   "source": [
    "def get_tools_list(input_tools):\n",
    "    # input_tools format: '[{\"name\": \"fn1\", \"description\": \"fn details\", \"parameters\": {\"p1\": {\"description\": \"details\", \"type\": \"string\"}}},\n",
    "    # {\"fn2\": 2},{\"fn3\": 3}]'\n",
    "    tools_list = []\n",
    "    try:\n",
    "        tools_list = json.loads(input_tools)\n",
    "    except json.JSONDecodeError:\n",
    "        raise ValueError(\"Invalid JSON format for tools list, expected format: '[{\\\"name\\\": \\\"fn1\\\"},{\\\"name\\\": \\\"fn2\\\"}]'\")\n",
    "    if len(tools_list) == 0:\n",
    "        raise ValueError(\"Tools list cannot be empty\")\n",
    "    return tools_list"
   ]
  },
  {
   "cell_type": "code",
   "execution_count": 11,
   "id": "1b1c2261",
   "metadata": {},
   "outputs": [],
   "source": [
    "def create_prompt_tool_input(tools_list):\n",
    "    tool_input = str(tools_list[0])\n",
    "    for tool in tools_list[1:]:\n",
    "        tool_input += ',' + str(tool)\n",
    "    return tool_input"
   ]
  },
  {
   "cell_type": "code",
   "execution_count": 12,
   "id": "aa82c09c",
   "metadata": {},
   "outputs": [],
   "source": [
    "def convert_tool_to_grammar_input(tool):\n",
    "    param_props = {}\n",
    "    required_params = []\n",
    "    for param_name, param_info in tool.get(\"parameters\", {}).items():\n",
    "        param_props[param_name] = {\n",
    "            \"type\": param_info.get(\"type\", \"string\"),\n",
    "            \"description\": param_info.get(\"description\", \"\")\n",
    "        }\n",
    "        required_params.append(param_name)\n",
    "    output_schema = {\n",
    "        \"description\": tool.get('description', ''),\n",
    "        \"type\": \"object\",\n",
    "        \"required\": [\"name\", \"parameters\"],\n",
    "        \"additionalProperties\": False,\n",
    "        \"properties\": {\n",
    "            \"name\": { \"const\": tool[\"name\"] },\n",
    "            \"parameters\": {\n",
    "                \"type\": \"object\",\n",
    "                \"properties\": param_props,\n",
    "                \"required\": required_params,\n",
    "                \"additionalProperties\": False\n",
    "            }\n",
    "        }\n",
    "    }\n",
    "    if len(param_props) == 0:\n",
    "        output_schema[\"required\"] = [\"name\"]\n",
    "    return output_schema"
   ]
  },
  {
   "cell_type": "code",
   "execution_count": 13,
   "id": "284c9474",
   "metadata": {},
   "outputs": [
    {
     "data": {
      "text/plain": [
       "(\"{'name': 'booking_flight_tickets', 'description': 'booking flights', 'parameters': {'origin_airport_code': {'description': 'The name of Departure airport code', 'type': 'string'}, 'destination_airport_code': {'description': 'The name of Destination airport code', 'type': 'string'}, 'departure_date': {'description': 'The date of outbound flight', 'type': 'string'}, 'return_date': {'description': 'The date of return flight', 'type': 'string'}}},{'name': 'booking_hotels', 'description': 'booking hotel', 'parameters': {'destination': {'description': 'The name of the city', 'type': 'string'}, 'check_in_date': {'description': 'The date of check in', 'type': 'string'}, 'checkout_date': {'description': 'The date of check out', 'type': 'string'}}}\",\n",
       " 'start: TEXT | fun_call \\n TEXT: /[^{](.|\\n)*/ \\n fun_call: <|tool_call|> %json {\"anyOf\": [{\"name\": \"booking_flight_tickets\", \"description\": \"booking flights\", \"parameters\": {\"origin_airport_code\": {\"description\": \"The name of Departure airport code\", \"type\": \"string\"}, \"destination_airport_code\": {\"description\": \"The name of Destination airport code\", \"type\": \"string\"}, \"departure_date\": {\"description\": \"The date of outbound flight\", \"type\": \"string\"}, \"return_date\": {\"description\": \"The date of return flight\", \"type\": \"string\"}}},{\"name\": \"booking_hotels\", \"description\": \"booking hotel\", \"parameters\": {\"destination\": {\"description\": \"The name of the city\", \"type\": \"string\"}, \"check_in_date\": {\"description\": \"The date of check in\", \"type\": \"string\"}, \"checkout_date\": {\"description\": \"The date of check out\", \"type\": \"string\"}}}]}')"
      ]
     },
     "execution_count": 13,
     "metadata": {},
     "output_type": "execute_result"
    }
   ],
   "source": [
    "get_lark_grammar(tool_list)"
   ]
  },
  {
   "cell_type": "markdown",
   "id": "c534ff02",
   "metadata": {},
   "source": [
    "## Langkah 6: Uji Penjanaan Tatabahasa\n",
    "\n",
    "Mari kita uji fungsi penjanaan tatabahasa kita untuk melihat bagaimana ia menukar definisi alat kita ke dalam format yang betul.\n"
   ]
  },
  {
   "cell_type": "code",
   "execution_count": 14,
   "id": "a730b137",
   "metadata": {},
   "outputs": [],
   "source": [
    "prompt_tool_input, guidance_input = get_lark_grammar(tool_list)"
   ]
  },
  {
   "cell_type": "markdown",
   "id": "a4ca5aa8",
   "metadata": {},
   "source": [
    "## Langkah 7: Sediakan Prompt Sistem dan Penjana\n",
    "\n",
    "Sekarang kita akan mencipta prompt sistem yang memberitahu model tentang alat yang tersedia dan menyediakan penjana dengan parameter penjanaan berpandu.\n"
   ]
  },
  {
   "cell_type": "code",
   "execution_count": 15,
   "id": "c8474cdf",
   "metadata": {},
   "outputs": [],
   "source": [
    "# Define the system prompt that introduces the assistant and its capabilities\n",
    "system_prompt = \"You are a helpful assistant with these tools.\""
   ]
  },
  {
   "cell_type": "code",
   "execution_count": 16,
   "id": "97c4c612",
   "metadata": {},
   "outputs": [],
   "source": [
    "# Format the system message with tools information\n",
    "messages = f\"\"\"[{{\"role\": \"system\", \"content\": \"{system_prompt}\", \"tools\": \"{prompt_tool_input}\"}}]\"\"\""
   ]
  },
  {
   "cell_type": "code",
   "execution_count": 17,
   "id": "aaabbc49",
   "metadata": {},
   "outputs": [],
   "source": [
    "# Apply chat template to format the system prompt properly\n",
    "tokenizer_input_system_prompt = tokenizer.apply_chat_template(messages=messages, add_generation_prompt=False)"
   ]
  },
  {
   "cell_type": "code",
   "execution_count": 18,
   "id": "81f0da4d",
   "metadata": {},
   "outputs": [
    {
     "data": {
      "text/plain": [
       "\"<|system|>You are a helpful assistant with these tools.<|tool|>{'name': 'booking_flight_tickets', 'description': 'booking flights', 'parameters': {'origin_airport_code': {'description': 'The name of Departure airport code', 'type': 'string'}, 'destination_airport_code': {'description': 'The name of Destination airport code', 'type': 'string'}, 'departure_date': {'description': 'The date of outbound flight', 'type': 'string'}, 'return_date': {'description': 'The date of return flight', 'type': 'string'}}},{'name': 'booking_hotels', 'description': 'booking hotel', 'parameters': {'destination': {'description': 'The name of the city', 'type': 'string'}, 'check_in_date': {'description': 'The date of check in', 'type': 'string'}, 'checkout_date': {'description': 'The date of check out', 'type': 'string'}}}<|/tool|><|end|><|endoftext|>\""
      ]
     },
     "execution_count": 18,
     "metadata": {},
     "output_type": "execute_result"
    }
   ],
   "source": [
    "tokenizer_input_system_prompt"
   ]
  },
  {
   "cell_type": "code",
   "execution_count": 19,
   "id": "10605b23",
   "metadata": {},
   "outputs": [],
   "source": [
    "input_tokens = tokenizer.encode(tokenizer_input_system_prompt)"
   ]
  },
  {
   "cell_type": "code",
   "execution_count": 20,
   "id": "6de50e32",
   "metadata": {},
   "outputs": [],
   "source": [
    "input_tokens = input_tokens[:-1]"
   ]
  },
  {
   "cell_type": "code",
   "execution_count": 21,
   "id": "1c17a6c9",
   "metadata": {},
   "outputs": [],
   "source": [
    "system_prompt_length = len(input_tokens)"
   ]
  },
  {
   "cell_type": "markdown",
   "id": "5ec5f242",
   "metadata": {},
   "source": [
    "## Langkah 8: Inisialisasi Penjana dengan Penjanaan Berpanduan\n",
    "\n",
    "Sekarang kita akan mencipta penjana dengan parameter yang telah dikonfigurasi dan menggunakan tatabahasa Lark untuk penjanaan berpanduan.\n"
   ]
  },
  {
   "cell_type": "code",
   "execution_count": 22,
   "id": "b54180c0",
   "metadata": {},
   "outputs": [],
   "source": [
    "# Create generator parameters and apply search options\n",
    "params = og.GeneratorParams(model)\n",
    "params.set_search_options(**search_options)"
   ]
  },
  {
   "cell_type": "code",
   "execution_count": 23,
   "id": "eec56940",
   "metadata": {},
   "outputs": [],
   "source": [
    "# Apply Lark grammar for guided generation to ensure valid function call format\n",
    "params.set_guidance(\"lark_grammar\", guidance_input)"
   ]
  },
  {
   "cell_type": "code",
   "execution_count": null,
   "id": "92207c48",
   "metadata": {},
   "outputs": [],
   "source": []
  },
  {
   "cell_type": "code",
   "execution_count": 24,
   "id": "690112f5",
   "metadata": {},
   "outputs": [],
   "source": [
    "generator = og.Generator(model, params)"
   ]
  },
  {
   "cell_type": "code",
   "execution_count": 25,
   "id": "789d5b1a",
   "metadata": {},
   "outputs": [],
   "source": [
    "generator.append_tokens(input_tokens)"
   ]
  },
  {
   "cell_type": "markdown",
   "id": "5c7c9c2e",
   "metadata": {},
   "source": [
    "## Langkah 9: Uji Panggilan Fungsi Selari\n",
    "\n",
    "Sekarang mari kita uji tetapan kita dengan senario tempahan perjalanan yang kompleks yang memerlukan panggilan kepada pelbagai fungsi.\n"
   ]
  },
  {
   "cell_type": "code",
   "execution_count": 26,
   "id": "0ac5ff58",
   "metadata": {},
   "outputs": [],
   "source": [
    "# Complex travel booking request that requires both flight and hotel booking\n",
    "text = \"book flight ticket from Beijing to Paris(using airport code) in 2025-12-04 to 2025-12-10 , then book hotel from 2025-12-04 to 2025-12-10 in Paris\""
   ]
  },
  {
   "cell_type": "code",
   "execution_count": 27,
   "id": "36386526",
   "metadata": {},
   "outputs": [],
   "source": [
    "# Format user message and apply chat template\n",
    "messages = f\"\"\"[{{\"role\": \"user\", \"content\": \"{text}\"}}]\"\"\"\n",
    "\n",
    "# Apply Chat Template for user input\n",
    "user_prompt = tokenizer.apply_chat_template(messages=messages, add_generation_prompt=True)\n",
    "input_tokens = tokenizer.encode(user_prompt)\n",
    "generator.append_tokens(input_tokens)"
   ]
  },
  {
   "cell_type": "code",
   "execution_count": 28,
   "id": "f85f5caa",
   "metadata": {},
   "outputs": [
    {
     "data": {
      "text/plain": [
       "'<|user|>book flight ticket from Beijing to Paris(using airport code) in 2025-12-04 to 2025-12-10 , then book hotel from 2025-12-04 to 2025-12-10 in Paris<|end|><|assistant|>'"
      ]
     },
     "execution_count": 28,
     "metadata": {},
     "output_type": "execute_result"
    }
   ],
   "source": [
    "user_prompt"
   ]
  },
  {
   "cell_type": "markdown",
   "id": "833c90f9",
   "metadata": {},
   "source": []
  },
  {
   "cell_type": "markdown",
   "id": "65331735",
   "metadata": {},
   "source": [
    "### Menjana Panggilan Fungsi\n",
    "\n",
    "Model kini akan menjana panggilan fungsi berstruktur berdasarkan permintaan pengguna. Dengan bantuan penjanaan berpandu, output akan berada dalam format JSON yang sah dan boleh dilaksanakan secara langsung.\n",
    "\n",
    "**Output Dijangka**: Model sepatutnya menjana panggilan fungsi untuk:\n",
    "1. `booking_flight_tickets` dengan butiran Beijing (PEK) ke Paris (CDG)\n",
    "2. `booking_hotels` dengan butiran penginapan di Paris\n",
    "\n",
    "Jalankan sel di bawah untuk melihat penjanaan secara langsung:\n"
   ]
  },
  {
   "cell_type": "code",
   "execution_count": 29,
   "id": "64a703a1",
   "metadata": {},
   "outputs": [
    {
     "name": "stdout",
     "output_type": "stream",
     "text": [
      "[{\"name\": \"booking_flight_tickets\", \"arguments\": {\"origin_airport_code\": \"PEKK\", \"destination_airport_code\": \"CDG\", \"departure_date\": \"2025-12-04\", \"return_date\": \"2025-12-10\"}}, {\"name\": \"booking_hotels\", \"arguments\": {\"destination\": \"Paris\", \"check_in_date\": \"2025-12-04\", \"checkout_date\": \"2025-12-10\"}}]"
     ]
    }
   ],
   "source": [
    "# Generate tokens one by one and stream the output\n",
    "while not generator.is_done():\n",
    "    generator.generate_next_token()\n",
    "    new_token = generator.get_next_tokens()[0]\n",
    "    print(tokenizer_stream.decode(new_token), end='', flush=True)"
   ]
  },
  {
   "cell_type": "markdown",
   "id": "e4db4123",
   "metadata": {},
   "source": [
    "## Kesimpulan\n",
    "\n",
    "🎉 **Tahniah!** Anda telah berjaya melaksanakan panggilan fungsi selari dengan Phi-4 Mini menggunakan ONNX Runtime GenAI.\n",
    "\n",
    "### Apa Yang Anda Pelajari:\n",
    "\n",
    "1. **Persediaan Model**: Cara mengkonfigurasi Phi-4 Mini dengan ONNX Runtime GenAI\n",
    "2. **Definisi Fungsi**: Cara mendefinisikan skema fungsi untuk panggilan fungsi AI\n",
    "3. **Penjanaan Berpanduan**: Cara menggunakan tatabahasa Lark untuk menghasilkan output yang berstruktur\n",
    "4. **Panggilan Fungsi Selari**: Cara mengurus permintaan kompleks yang memerlukan pelbagai panggilan fungsi\n",
    "\n",
    "### Manfaat Utama:\n",
    "\n",
    "- ✅ **Output Berstruktur**: Penjanaan berpanduan memastikan panggilan fungsi JSON yang sah\n",
    "- ✅ **Pemprosesan Selari**: Mengurus pelbagai panggilan fungsi dalam satu permintaan\n",
    "- ✅ **Prestasi Tinggi**: ONNX Runtime menyediakan inferens yang dioptimumkan\n",
    "- ✅ **Skema Fleksibel**: Mudah untuk menambah atau mengubah definisi fungsi\n",
    "\n",
    "### Sumber:\n",
    "\n",
    "- [Dokumentasi Phi-4 Mini](https://huggingface.co/microsoft/Phi-4-mini-onnx)\n",
    "- [Dokumentasi ONNX Runtime GenAI](https://onnxruntime.ai/docs/genai/)\n",
    "- [Amalan Terbaik Panggilan Fungsi](https://platform.openai.com/docs/guides/function-calling)\n"
   ]
  },
  {
   "cell_type": "markdown",
   "metadata": {},
   "source": [
    "\n---\n\n**Penafian**:  \nDokumen ini telah diterjemahkan menggunakan perkhidmatan terjemahan AI [Co-op Translator](https://github.com/Azure/co-op-translator). Walaupun kami berusaha untuk memastikan ketepatan, sila ambil perhatian bahawa terjemahan automatik mungkin mengandungi kesilapan atau ketidaktepatan. Dokumen asal dalam bahasa asalnya harus dianggap sebagai sumber yang berwibawa. Untuk maklumat yang kritikal, terjemahan manusia profesional adalah disyorkan. Kami tidak bertanggungjawab atas sebarang salah faham atau salah tafsir yang timbul daripada penggunaan terjemahan ini.\n"
   ]
  }
 ],
 "metadata": {
  "kernelspec": {
   "display_name": "pydev",
   "language": "python",
   "name": "python3"
  },
  "language_info": {
   "codemirror_mode": {
    "name": "ipython",
    "version": 3
   },
   "file_extension": ".py",
   "mimetype": "text/x-python",
   "name": "python",
   "nbconvert_exporter": "python",
   "pygments_lexer": "ipython3",
   "version": "3.11.8"
  },
  "coopTranslator": {
   "original_hash": "8b61c907614fd2780d526c45c388d285",
   "translation_date": "2025-09-12T22:21:09+00:00",
   "source_file": "md/02.Application/07.FunctionCalling/Phi4/ONNX/onnx_parallel_functioncalling.ipynb",
   "language_code": "ms"
  }
 },
 "nbformat": 4,
 "nbformat_minor": 5
}