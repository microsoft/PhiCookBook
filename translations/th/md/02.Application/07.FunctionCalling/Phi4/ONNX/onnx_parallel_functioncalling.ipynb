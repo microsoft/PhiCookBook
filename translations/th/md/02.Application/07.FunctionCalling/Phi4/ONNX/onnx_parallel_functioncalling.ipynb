{
 "cells": [
  {
   "cell_type": "markdown",
   "id": "81ad8c65",
   "metadata": {},
   "source": [
    "# Phi-4 Mini ONNX Parallel Function Calling Tutorial\n",
    "\n",
    "บทเรียนนี้แสดงวิธีการใช้ Phi-4 Mini ร่วมกับ ONNX Runtime GenAI สำหรับการเรียกใช้งานฟังก์ชันแบบขนาน การเรียกใช้งานฟังก์ชันช่วยให้โมเดลสามารถเรียกใช้เครื่องมือและ API ภายนอกได้อย่างชาญฉลาดตามคำขอของผู้ใช้\n",
    "\n",
    "## ภาพรวม\n",
    "\n",
    "ในบทเรียนนี้ คุณจะได้เรียนรู้วิธี:\n",
    "- ตั้งค่า Phi-4 Mini ร่วมกับ ONNX Runtime GenAI\n",
    "- กำหนดโครงสร้างฟังก์ชันสำหรับการจองเที่ยวบินและโรงแรม\n",
    "- ใช้การสร้างผลลัพธ์แบบมีไกด์ด้วยไวยากรณ์ Lark เพื่อให้ได้ผลลัพธ์ที่มีโครงสร้าง\n",
    "- ดำเนินการเรียกใช้งานฟังก์ชันแบบขนานสำหรับสถานการณ์การจองการเดินทางที่ซับซ้อน\n",
    "\n",
    "## สิ่งที่ต้องเตรียม\n",
    "\n",
    "ก่อนที่จะเริ่มต้นบทเรียนนี้ ตรวจสอบให้แน่ใจว่าคุณได้:\n",
    "- ดาวน์โหลดโมเดล Phi-4 Mini ONNX\n",
    "- ติดตั้งแพ็กเกจ `onnxruntime-genai`\n",
    "- มีความเข้าใจพื้นฐานเกี่ยวกับแนวคิดการเรียกใช้งานฟังก์ชัน\n"
   ]
  },
  {
   "cell_type": "markdown",
   "id": "8fc2551b",
   "metadata": {},
   "source": [
    "## ขั้นตอนที่ 1: นำเข้าไลบรารีที่จำเป็น\n",
    "\n",
    "เริ่มต้นด้วยการนำเข้าไลบรารีที่จำเป็นสำหรับการใช้งานฟังก์ชันของเรา\n"
   ]
  },
  {
   "cell_type": "code",
   "execution_count": 1,
   "id": "7368a24e",
   "metadata": {},
   "outputs": [],
   "source": [
    "import json"
   ]
  },
  {
   "cell_type": "code",
   "execution_count": 2,
   "id": "3e806340",
   "metadata": {},
   "outputs": [],
   "source": [
    "import onnxruntime_genai as og"
   ]
  },
  {
   "cell_type": "markdown",
   "id": "dc55f0ab",
   "metadata": {},
   "source": [
    "## ขั้นตอนที่ 2: การตั้งค่าและการกำหนดค่าของโมเดล\n",
    "\n",
    "ตอนนี้เราจะตั้งค่าโมเดล Phi-4 Mini ONNX ตรวจสอบให้แน่ใจว่าได้เปลี่ยนเส้นทางเป็นไดเรกทอรีโมเดลจริงของคุณ\n"
   ]
  },
  {
   "cell_type": "code",
   "execution_count": null,
   "id": "1e8edfbf",
   "metadata": {},
   "outputs": [],
   "source": [
    "# TODO: Replace with your actual Phi-4 Mini ONNX model path\n",
    "# Download from: https://huggingface.co/microsoft/Phi-4-mini-onnx\n",
    "path = 'Your phi-4-mini-onnx path'  # Update this path!"
   ]
  },
  {
   "cell_type": "code",
   "execution_count": 4,
   "id": "b80f5bb5",
   "metadata": {},
   "outputs": [],
   "source": [
    "config = og.Config(path)"
   ]
  },
  {
   "cell_type": "code",
   "execution_count": 5,
   "id": "10e9a553",
   "metadata": {},
   "outputs": [],
   "source": [
    "model = og.Model(config)"
   ]
  },
  {
   "cell_type": "code",
   "execution_count": 6,
   "id": "66ce23b1",
   "metadata": {},
   "outputs": [],
   "source": [
    "tokenizer = og.Tokenizer(model)\n",
    "tokenizer_stream = tokenizer.create_stream()"
   ]
  },
  {
   "cell_type": "markdown",
   "id": "08ac6d4a",
   "metadata": {},
   "source": [
    "## ขั้นตอนที่ 3: กำหนดค่าพารามิเตอร์การสร้าง\n",
    "\n",
    "ตั้งค่าพารามิเตอร์การสร้างเพื่อควบคุมพฤติกรรมการตอบสนองของโมเดล การตั้งค่าเหล่านี้ช่วยให้การเรียกใช้งานฟังก์ชันมีความแน่นอนและมุ่งเน้นมากขึ้น\n"
   ]
  },
  {
   "cell_type": "code",
   "execution_count": 7,
   "id": "af01f5ed",
   "metadata": {},
   "outputs": [],
   "source": [
    "# Configure generation parameters for deterministic function calling\n",
    "search_options = {}\n",
    "search_options['max_length'] = 4096      # Maximum tokens to generate\n",
    "search_options['temperature'] = 0.00001  # Very low temperature for deterministic output\n",
    "search_options['top_p'] = 1.0            # Nucleus sampling parameter\n",
    "search_options['do_sample'] = False       # Disable sampling for consistent results"
   ]
  },
  {
   "cell_type": "markdown",
   "id": "c2808a51",
   "metadata": {},
   "source": [
    "## ขั้นตอนที่ 4: กำหนดฟังก์ชันที่สามารถใช้งานได้\n",
    "\n",
    "ในขั้นตอนนี้ เราจะกำหนดฟังก์ชันที่ผู้ช่วย AI ของเราสามารถเรียกใช้งานได้ ในตัวอย่างนี้ เรามีฟังก์ชันที่เกี่ยวข้องกับการเดินทางสองฟังก์ชัน:\n",
    "1. **booking_flight_tickets**: สำหรับการจองตั๋วเครื่องบินระหว่างสนามบิน\n",
    "2. **booking_hotels**: สำหรับการจองที่พักในโรงแรม\n",
    "\n",
    "การกำหนดฟังก์ชันจะเป็นไปตามรูปแบบ schema การเรียกฟังก์ชันของ OpenAI\n"
   ]
  },
  {
   "cell_type": "code",
   "execution_count": 8,
   "id": "fc53b93b",
   "metadata": {},
   "outputs": [],
   "source": [
    "tool_list = '[{\"name\": \"booking_flight_tickets\", \"description\": \"booking flights\", \"parameters\": {\"origin_airport_code\": {\"description\": \"The name of Departure airport code\", \"type\": \"string\"}, \"destination_airport_code\": {\"description\": \"The name of Destination airport code\", \"type\": \"string\"}, \"departure_date\": {\"description\": \"The date of outbound flight\", \"type\": \"string\"}, \"return_date\": {\"description\": \"The date of return flight\", \"type\": \"string\"}}}, {\"name\": \"booking_hotels\", \"description\": \"booking hotel\", \"parameters\": {\"destination\": {\"description\": \"The name of the city\", \"type\": \"string\"}, \"check_in_date\": {\"description\": \"The date of check in\", \"type\": \"string\"}, \"checkout_date\": {\"description\": \"The date of check out\", \"type\": \"string\"}}}]'"
   ]
  },
  {
   "cell_type": "markdown",
   "id": "f4bb4048",
   "metadata": {},
   "source": [
    "## ขั้นตอนที่ 5: ฟังก์ชันช่วยสร้างไวยากรณ์\n",
    "\n",
    "ฟังก์ชันช่วยเหล่านี้จะแปลงคำจำกัดความของฟังก์ชันของเราให้อยู่ในรูปแบบไวยากรณ์ของ Lark ซึ่งถูกใช้โดย ONNX Runtime GenAI เพื่อการสร้างที่มีการกำกับดูแล สิ่งนี้ช่วยให้โมเดลสร้างการเรียกใช้ฟังก์ชันที่ถูกต้องในรูปแบบ JSON ที่เหมาะสม\n"
   ]
  },
  {
   "cell_type": "code",
   "execution_count": 9,
   "id": "0f86e51c",
   "metadata": {},
   "outputs": [],
   "source": [
    "def get_lark_grammar(input_tools):\n",
    "    tools_list = get_tools_list(input_tools)\n",
    "    prompt_tool_input = create_prompt_tool_input(tools_list)\n",
    "    if len(tools_list) == 1:\n",
    "        # output = (\"start: TEXT | fun_call\\n\" \"TEXT: /[^{](.|\\\\n)*/\\n\" \" fun_call: <|tool_call|> %json \" + json.dumps(tools_list[0]))\n",
    "        output = (\"start: TEXT | fun_call\\n\" \"TEXT: /[^{](.|\\\\n)*/\\n\" \" fun_call: <|tool_call|> %json \" + json.dumps(convert_tool_to_grammar_input(tools_list[0])))\n",
    "        return prompt_tool_input, output\n",
    "    else:\n",
    "        return prompt_tool_input, \"start: TEXT | fun_call \\n TEXT: /[^{](.|\\n)*/ \\n fun_call: <|tool_call|> %json {\\\"anyOf\\\": [\" + ','.join([json.dumps(tool) for tool in tools_list]) + \"]}\"\n"
   ]
  },
  {
   "cell_type": "code",
   "execution_count": 10,
   "id": "7f2da98d",
   "metadata": {},
   "outputs": [],
   "source": [
    "def get_tools_list(input_tools):\n",
    "    # input_tools format: '[{\"name\": \"fn1\", \"description\": \"fn details\", \"parameters\": {\"p1\": {\"description\": \"details\", \"type\": \"string\"}}},\n",
    "    # {\"fn2\": 2},{\"fn3\": 3}]'\n",
    "    tools_list = []\n",
    "    try:\n",
    "        tools_list = json.loads(input_tools)\n",
    "    except json.JSONDecodeError:\n",
    "        raise ValueError(\"Invalid JSON format for tools list, expected format: '[{\\\"name\\\": \\\"fn1\\\"},{\\\"name\\\": \\\"fn2\\\"}]'\")\n",
    "    if len(tools_list) == 0:\n",
    "        raise ValueError(\"Tools list cannot be empty\")\n",
    "    return tools_list"
   ]
  },
  {
   "cell_type": "code",
   "execution_count": 11,
   "id": "1b1c2261",
   "metadata": {},
   "outputs": [],
   "source": [
    "def create_prompt_tool_input(tools_list):\n",
    "    tool_input = str(tools_list[0])\n",
    "    for tool in tools_list[1:]:\n",
    "        tool_input += ',' + str(tool)\n",
    "    return tool_input"
   ]
  },
  {
   "cell_type": "code",
   "execution_count": 12,
   "id": "aa82c09c",
   "metadata": {},
   "outputs": [],
   "source": [
    "def convert_tool_to_grammar_input(tool):\n",
    "    param_props = {}\n",
    "    required_params = []\n",
    "    for param_name, param_info in tool.get(\"parameters\", {}).items():\n",
    "        param_props[param_name] = {\n",
    "            \"type\": param_info.get(\"type\", \"string\"),\n",
    "            \"description\": param_info.get(\"description\", \"\")\n",
    "        }\n",
    "        required_params.append(param_name)\n",
    "    output_schema = {\n",
    "        \"description\": tool.get('description', ''),\n",
    "        \"type\": \"object\",\n",
    "        \"required\": [\"name\", \"parameters\"],\n",
    "        \"additionalProperties\": False,\n",
    "        \"properties\": {\n",
    "            \"name\": { \"const\": tool[\"name\"] },\n",
    "            \"parameters\": {\n",
    "                \"type\": \"object\",\n",
    "                \"properties\": param_props,\n",
    "                \"required\": required_params,\n",
    "                \"additionalProperties\": False\n",
    "            }\n",
    "        }\n",
    "    }\n",
    "    if len(param_props) == 0:\n",
    "        output_schema[\"required\"] = [\"name\"]\n",
    "    return output_schema"
   ]
  },
  {
   "cell_type": "code",
   "execution_count": 13,
   "id": "284c9474",
   "metadata": {},
   "outputs": [
    {
     "data": {
      "text/plain": [
       "(\"{'name': 'booking_flight_tickets', 'description': 'booking flights', 'parameters': {'origin_airport_code': {'description': 'The name of Departure airport code', 'type': 'string'}, 'destination_airport_code': {'description': 'The name of Destination airport code', 'type': 'string'}, 'departure_date': {'description': 'The date of outbound flight', 'type': 'string'}, 'return_date': {'description': 'The date of return flight', 'type': 'string'}}},{'name': 'booking_hotels', 'description': 'booking hotel', 'parameters': {'destination': {'description': 'The name of the city', 'type': 'string'}, 'check_in_date': {'description': 'The date of check in', 'type': 'string'}, 'checkout_date': {'description': 'The date of check out', 'type': 'string'}}}\",\n",
       " 'start: TEXT | fun_call \\n TEXT: /[^{](.|\\n)*/ \\n fun_call: <|tool_call|> %json {\"anyOf\": [{\"name\": \"booking_flight_tickets\", \"description\": \"booking flights\", \"parameters\": {\"origin_airport_code\": {\"description\": \"The name of Departure airport code\", \"type\": \"string\"}, \"destination_airport_code\": {\"description\": \"The name of Destination airport code\", \"type\": \"string\"}, \"departure_date\": {\"description\": \"The date of outbound flight\", \"type\": \"string\"}, \"return_date\": {\"description\": \"The date of return flight\", \"type\": \"string\"}}},{\"name\": \"booking_hotels\", \"description\": \"booking hotel\", \"parameters\": {\"destination\": {\"description\": \"The name of the city\", \"type\": \"string\"}, \"check_in_date\": {\"description\": \"The date of check in\", \"type\": \"string\"}, \"checkout_date\": {\"description\": \"The date of check out\", \"type\": \"string\"}}}]}')"
      ]
     },
     "execution_count": 13,
     "metadata": {},
     "output_type": "execute_result"
    }
   ],
   "source": [
    "get_lark_grammar(tool_list)"
   ]
  },
  {
   "cell_type": "markdown",
   "id": "c534ff02",
   "metadata": {},
   "source": [
    "## ขั้นตอนที่ 6: ทดสอบการสร้างไวยากรณ์\n",
    "\n",
    "มาทดสอบฟังก์ชันการสร้างไวยากรณ์ของเราเพื่อดูว่ามันแปลงคำจำกัดความของเครื่องมือไปเป็นรูปแบบที่เหมาะสมได้อย่างไร\n"
   ]
  },
  {
   "cell_type": "code",
   "execution_count": 14,
   "id": "a730b137",
   "metadata": {},
   "outputs": [],
   "source": [
    "prompt_tool_input, guidance_input = get_lark_grammar(tool_list)"
   ]
  },
  {
   "cell_type": "markdown",
   "id": "a4ca5aa8",
   "metadata": {},
   "source": [
    "## ขั้นตอนที่ 7: เตรียมข้อความระบบและตัวสร้าง\n",
    "\n",
    "ตอนนี้เราจะสร้างข้อความระบบที่บอกโมเดลเกี่ยวกับเครื่องมือที่มีอยู่ และตั้งค่าตัวสร้างด้วยพารามิเตอร์การสร้างที่มีการแนะนำ\n"
   ]
  },
  {
   "cell_type": "code",
   "execution_count": 15,
   "id": "c8474cdf",
   "metadata": {},
   "outputs": [],
   "source": [
    "# Define the system prompt that introduces the assistant and its capabilities\n",
    "system_prompt = \"You are a helpful assistant with these tools.\""
   ]
  },
  {
   "cell_type": "code",
   "execution_count": 16,
   "id": "97c4c612",
   "metadata": {},
   "outputs": [],
   "source": [
    "# Format the system message with tools information\n",
    "messages = f\"\"\"[{{\"role\": \"system\", \"content\": \"{system_prompt}\", \"tools\": \"{prompt_tool_input}\"}}]\"\"\""
   ]
  },
  {
   "cell_type": "code",
   "execution_count": 17,
   "id": "aaabbc49",
   "metadata": {},
   "outputs": [],
   "source": [
    "# Apply chat template to format the system prompt properly\n",
    "tokenizer_input_system_prompt = tokenizer.apply_chat_template(messages=messages, add_generation_prompt=False)"
   ]
  },
  {
   "cell_type": "code",
   "execution_count": 18,
   "id": "81f0da4d",
   "metadata": {},
   "outputs": [
    {
     "data": {
      "text/plain": [
       "\"<|system|>You are a helpful assistant with these tools.<|tool|>{'name': 'booking_flight_tickets', 'description': 'booking flights', 'parameters': {'origin_airport_code': {'description': 'The name of Departure airport code', 'type': 'string'}, 'destination_airport_code': {'description': 'The name of Destination airport code', 'type': 'string'}, 'departure_date': {'description': 'The date of outbound flight', 'type': 'string'}, 'return_date': {'description': 'The date of return flight', 'type': 'string'}}},{'name': 'booking_hotels', 'description': 'booking hotel', 'parameters': {'destination': {'description': 'The name of the city', 'type': 'string'}, 'check_in_date': {'description': 'The date of check in', 'type': 'string'}, 'checkout_date': {'description': 'The date of check out', 'type': 'string'}}}<|/tool|><|end|><|endoftext|>\""
      ]
     },
     "execution_count": 18,
     "metadata": {},
     "output_type": "execute_result"
    }
   ],
   "source": [
    "tokenizer_input_system_prompt"
   ]
  },
  {
   "cell_type": "code",
   "execution_count": 19,
   "id": "10605b23",
   "metadata": {},
   "outputs": [],
   "source": [
    "input_tokens = tokenizer.encode(tokenizer_input_system_prompt)"
   ]
  },
  {
   "cell_type": "code",
   "execution_count": 20,
   "id": "6de50e32",
   "metadata": {},
   "outputs": [],
   "source": [
    "input_tokens = input_tokens[:-1]"
   ]
  },
  {
   "cell_type": "code",
   "execution_count": 21,
   "id": "1c17a6c9",
   "metadata": {},
   "outputs": [],
   "source": [
    "system_prompt_length = len(input_tokens)"
   ]
  },
  {
   "cell_type": "markdown",
   "id": "5ec5f242",
   "metadata": {},
   "source": [
    "## ขั้นตอนที่ 8: เริ่มต้นสร้าง Generator ด้วยการสร้างแบบมีคำแนะนำ\n",
    "\n",
    "ตอนนี้เราจะสร้างตัว generator ด้วยพารามิเตอร์ที่ตั้งค่าไว้ และใช้ไวยากรณ์ Lark เพื่อการสร้างแบบมีคำแนะนำ\n"
   ]
  },
  {
   "cell_type": "code",
   "execution_count": 22,
   "id": "b54180c0",
   "metadata": {},
   "outputs": [],
   "source": [
    "# Create generator parameters and apply search options\n",
    "params = og.GeneratorParams(model)\n",
    "params.set_search_options(**search_options)"
   ]
  },
  {
   "cell_type": "code",
   "execution_count": 23,
   "id": "eec56940",
   "metadata": {},
   "outputs": [],
   "source": [
    "# Apply Lark grammar for guided generation to ensure valid function call format\n",
    "params.set_guidance(\"lark_grammar\", guidance_input)"
   ]
  },
  {
   "cell_type": "code",
   "execution_count": null,
   "id": "92207c48",
   "metadata": {},
   "outputs": [],
   "source": []
  },
  {
   "cell_type": "code",
   "execution_count": 24,
   "id": "690112f5",
   "metadata": {},
   "outputs": [],
   "source": [
    "generator = og.Generator(model, params)"
   ]
  },
  {
   "cell_type": "code",
   "execution_count": 25,
   "id": "789d5b1a",
   "metadata": {},
   "outputs": [],
   "source": [
    "generator.append_tokens(input_tokens)"
   ]
  },
  {
   "cell_type": "markdown",
   "id": "5c7c9c2e",
   "metadata": {},
   "source": [
    "## ขั้นตอนที่ 9: ทดสอบการเรียกฟังก์ชันแบบขนาน\n",
    "\n",
    "ตอนนี้เรามาทดสอบการตั้งค่าของเราด้วยสถานการณ์การจองการเดินทางที่ซับซ้อนซึ่งต้องเรียกใช้ฟังก์ชันหลายตัว\n"
   ]
  },
  {
   "cell_type": "code",
   "execution_count": 26,
   "id": "0ac5ff58",
   "metadata": {},
   "outputs": [],
   "source": [
    "# Complex travel booking request that requires both flight and hotel booking\n",
    "text = \"book flight ticket from Beijing to Paris(using airport code) in 2025-12-04 to 2025-12-10 , then book hotel from 2025-12-04 to 2025-12-10 in Paris\""
   ]
  },
  {
   "cell_type": "code",
   "execution_count": 27,
   "id": "36386526",
   "metadata": {},
   "outputs": [],
   "source": [
    "# Format user message and apply chat template\n",
    "messages = f\"\"\"[{{\"role\": \"user\", \"content\": \"{text}\"}}]\"\"\"\n",
    "\n",
    "# Apply Chat Template for user input\n",
    "user_prompt = tokenizer.apply_chat_template(messages=messages, add_generation_prompt=True)\n",
    "input_tokens = tokenizer.encode(user_prompt)\n",
    "generator.append_tokens(input_tokens)"
   ]
  },
  {
   "cell_type": "code",
   "execution_count": 28,
   "id": "f85f5caa",
   "metadata": {},
   "outputs": [
    {
     "data": {
      "text/plain": [
       "'<|user|>book flight ticket from Beijing to Paris(using airport code) in 2025-12-04 to 2025-12-10 , then book hotel from 2025-12-04 to 2025-12-10 in Paris<|end|><|assistant|>'"
      ]
     },
     "execution_count": 28,
     "metadata": {},
     "output_type": "execute_result"
    }
   ],
   "source": [
    "user_prompt"
   ]
  },
  {
   "cell_type": "markdown",
   "id": "833c90f9",
   "metadata": {},
   "source": []
  },
  {
   "cell_type": "markdown",
   "id": "65331735",
   "metadata": {},
   "source": [
    "### สร้างการเรียกใช้งานฟังก์ชัน\n",
    "\n",
    "โมเดลจะสร้างการเรียกใช้งานฟังก์ชันที่มีโครงสร้างตามคำขอของผู้ใช้ โดยการสร้างที่มีการกำกับจะทำให้ผลลัพธ์อยู่ในรูปแบบ JSON ที่ถูกต้องและสามารถนำไปใช้งานได้โดยตรง\n",
    "\n",
    "**ผลลัพธ์ที่คาดหวัง**: โมเดลควรสร้างการเรียกใช้งานฟังก์ชันสำหรับ:\n",
    "1. `booking_flight_tickets` พร้อมรายละเอียดเที่ยวบินจากปักกิ่ง (PEK) ไปปารีส (CDG)\n",
    "2. `booking_hotels` พร้อมรายละเอียดที่พักในปารีส\n",
    "\n",
    "รันเซลด้านล่างเพื่อดูการสร้างแบบสด:\n"
   ]
  },
  {
   "cell_type": "code",
   "execution_count": 29,
   "id": "64a703a1",
   "metadata": {},
   "outputs": [
    {
     "name": "stdout",
     "output_type": "stream",
     "text": [
      "[{\"name\": \"booking_flight_tickets\", \"arguments\": {\"origin_airport_code\": \"PEKK\", \"destination_airport_code\": \"CDG\", \"departure_date\": \"2025-12-04\", \"return_date\": \"2025-12-10\"}}, {\"name\": \"booking_hotels\", \"arguments\": {\"destination\": \"Paris\", \"check_in_date\": \"2025-12-04\", \"checkout_date\": \"2025-12-10\"}}]"
     ]
    }
   ],
   "source": [
    "# Generate tokens one by one and stream the output\n",
    "while not generator.is_done():\n",
    "    generator.generate_next_token()\n",
    "    new_token = generator.get_next_tokens()[0]\n",
    "    print(tokenizer_stream.decode(new_token), end='', flush=True)"
   ]
  },
  {
   "cell_type": "markdown",
   "id": "e4db4123",
   "metadata": {},
   "source": [
    "## สรุป\n",
    "\n",
    "🎉 **ยินดีด้วย!** คุณได้ดำเนินการเรียกฟังก์ชันแบบขนานด้วย Phi-4 Mini โดยใช้ ONNX Runtime GenAI สำเร็จแล้ว\n",
    "\n",
    "### สิ่งที่คุณได้เรียนรู้:\n",
    "\n",
    "1. **การตั้งค่ารุ่น**: วิธีการตั้งค่า Phi-4 Mini ด้วย ONNX Runtime GenAI  \n",
    "2. **การกำหนดฟังก์ชัน**: วิธีการกำหนดโครงสร้างฟังก์ชันสำหรับการเรียกฟังก์ชัน AI  \n",
    "3. **การสร้างผลลัพธ์แบบมีโครงสร้าง**: วิธีใช้ไวยากรณ์ Lark เพื่อสร้างผลลัพธ์ที่มีโครงสร้าง  \n",
    "4. **การเรียกฟังก์ชันแบบขนาน**: วิธีจัดการคำขอที่ซับซ้อนซึ่งต้องการการเรียกฟังก์ชันหลายครั้ง  \n",
    "\n",
    "### ประโยชน์สำคัญ:\n",
    "\n",
    "- ✅ **ผลลัพธ์ที่มีโครงสร้าง**: การสร้างผลลัพธ์แบบมีโครงสร้างช่วยให้มั่นใจได้ว่าการเรียกฟังก์ชัน JSON มีความถูกต้อง  \n",
    "- ✅ **การประมวลผลแบบขนาน**: จัดการการเรียกฟังก์ชันหลายครั้งในคำขอเดียว  \n",
    "- ✅ **ประสิทธิภาพสูง**: ONNX Runtime ให้การอนุมานที่ปรับแต่งมาอย่างดี  \n",
    "- ✅ **โครงสร้างที่ยืดหยุ่น**: เพิ่มหรือแก้ไขการกำหนดฟังก์ชันได้ง่าย  \n",
    "\n",
    "### แหล่งข้อมูล:\n",
    "\n",
    "- [Phi-4 Mini Documentation](https://huggingface.co/microsoft/Phi-4-mini-onnx)  \n",
    "- [ONNX Runtime GenAI Documentation](https://onnxruntime.ai/docs/genai/)  \n",
    "- [Function Calling Best Practices](https://platform.openai.com/docs/guides/function-calling)  \n"
   ]
  },
  {
   "cell_type": "markdown",
   "metadata": {},
   "source": [
    "\n---\n\n**ข้อจำกัดความรับผิดชอบ**:  \nเอกสารนี้ได้รับการแปลโดยใช้บริการแปลภาษา AI [Co-op Translator](https://github.com/Azure/co-op-translator) แม้ว่าเราจะพยายามให้การแปลมีความถูกต้อง แต่โปรดทราบว่าการแปลอัตโนมัติอาจมีข้อผิดพลาดหรือความไม่ถูกต้อง เอกสารต้นฉบับในภาษาดั้งเดิมควรถือเป็นแหล่งข้อมูลที่เชื่อถือได้ สำหรับข้อมูลที่สำคัญ ขอแนะนำให้ใช้บริการแปลภาษามืออาชีพ เราไม่รับผิดชอบต่อความเข้าใจผิดหรือการตีความผิดที่เกิดจากการใช้การแปลนี้\n"
   ]
  }
 ],
 "metadata": {
  "kernelspec": {
   "display_name": "pydev",
   "language": "python",
   "name": "python3"
  },
  "language_info": {
   "codemirror_mode": {
    "name": "ipython",
    "version": 3
   },
   "file_extension": ".py",
   "mimetype": "text/x-python",
   "name": "python",
   "nbconvert_exporter": "python",
   "pygments_lexer": "ipython3",
   "version": "3.11.8"
  },
  "coopTranslator": {
   "original_hash": "8b61c907614fd2780d526c45c388d285",
   "translation_date": "2025-09-12T22:16:51+00:00",
   "source_file": "md/02.Application/07.FunctionCalling/Phi4/ONNX/onnx_parallel_functioncalling.ipynb",
   "language_code": "th"
  }
 },
 "nbformat": 4,
 "nbformat_minor": 5
}