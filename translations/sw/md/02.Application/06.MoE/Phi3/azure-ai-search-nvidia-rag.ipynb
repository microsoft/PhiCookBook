{
 "cells": [
  {
   "cell_type": "markdown",
   "metadata": {},
   "source": [
    "# Azure AI Search na Muunganiko wa NVIDIA NIM na LlamaIndex\n",
    "\n",
    "Katika daftari hili, tutaonyesha jinsi ya kutumia mifano ya AI ya NVIDIA na LlamaIndex kuunda mfumo wenye nguvu wa Retrieval-Augmented Generation (RAG). Tutaunganisha LLMs na embeddings za NVIDIA na Azure AI Search kama hifadhi ya vector, na kutekeleza RAG ili kuboresha ubora na ufanisi wa utafutaji.\n",
    "\n",
    "## Faida\n",
    "- **Uwezo wa Kupanuka**: Tumia mifano mikubwa ya lugha ya NVIDIA na Azure AI Search kwa utafutaji unaoweza kupanuka na ufanisi.\n",
    "- **Ufanisi wa Gharama**: Boresha utafutaji na urejeshaji kwa kutumia hifadhi ya vector yenye ufanisi na mbinu za utafutaji mseto.\n",
    "- **Utendaji wa Juu**: Changanya LLMs zenye nguvu na utafutaji uliovectorishwa kwa majibu ya haraka na sahihi zaidi.\n",
    "- **Ubora**: Dumisha ubora wa utafutaji kwa kuhusisha majibu ya LLM na nyaraka husika zilizorejeshwa.\n",
    "\n",
    "## Mahitaji ya Awali\n",
    "- 🐍 Python 3.9 au zaidi\n",
    "- 🔗 [Huduma ya Azure AI Search](https://learn.microsoft.com/azure/search/)\n",
    "- 🔗 Kitufe cha API cha NVIDIA kwa ufikiaji wa LLMs na Embeddings za NVIDIA kupitia huduma ndogo za NVIDIA NIM\n",
    "\n",
    "## Vipengele Vilivyofunikwa\n",
    "- ✅ Muunganiko wa LLM za NVIDIA (tutatumia [Phi-3.5-MOE](https://build.nvidia.com/microsoft/phi-3_5-moe))\n",
    "- ✅ Embeddings za NVIDIA (tutatumia [nv-embedqa-e5-v5](https://build.nvidia.com/nvidia/nv-embedqa-e5-v5))\n",
    "- ✅ Njia za Kipekee za Urejeshaji wa Azure AI Search\n",
    "- ✅ Kuorodhesha Nyaraka kwa kutumia LlamaIndex\n",
    "- ✅ RAG kwa kutumia Azure AI Search na LlamaIndex pamoja na LLMs za NVIDIA\n",
    "\n",
    "Tuanzie sasa!\n"
   ]
  },
  {
   "cell_type": "code",
   "execution_count": null,
   "metadata": {},
   "outputs": [],
   "source": [
    "!pip install azure-search-documents==11.5.1\n",
    "!pip install --upgrade llama-index\n",
    "!pip install --upgrade llama-index-core\n",
    "!pip install --upgrade llama-index-readers-file\n",
    "!pip install --upgrade llama-index-llms-nvidia\n",
    "!pip install --upgrade llama-index-embeddings-nvidia\n",
    "!pip install --upgrade llama-index-postprocessor-nvidia-rerank\n",
    "!pip install --upgrade llama-index-vector-stores-azureaisearch\n",
    "!pip install python-dotenv"
   ]
  },
  {
   "cell_type": "markdown",
   "metadata": {},
   "source": [
    "## Usakinishaji na Mahitaji  \n",
    "Unda mazingira ya Python ukitumia toleo la Python >3.10.  \n",
    "\n",
    "## Kuanza!  \n"
   ]
  },
  {
   "cell_type": "markdown",
   "metadata": {},
   "source": [
    "Ili kuanza, unahitaji `NVIDIA_API_KEY` ili kutumia mifano ya NVIDIA AI Foundation:  \n",
    "1) Tengeneza akaunti ya bure na [NVIDIA](https://build.nvidia.com/explore/discover).  \n",
    "2) Bonyeza kwenye mfano wa chaguo lako.  \n",
    "3) Chini ya Ingizo, chagua kichupo cha Python, kisha bonyeza **Get API Key** na kisha bonyeza **Generate Key**.  \n",
    "4) Nakili na hifadhi funguo iliyotengenezwa kama NVIDIA_API_KEY. Kutoka hapo, utakuwa na ufikiaji wa sehemu za mwisho.  \n"
   ]
  },
  {
   "cell_type": "code",
   "execution_count": 3,
   "metadata": {},
   "outputs": [],
   "source": [
    "import getpass\n",
    "import os\n",
    "from dotenv import load_dotenv\n",
    "\n",
    "# Load environment variables\n",
    "load_dotenv()\n",
    "\n",
    "if not os.environ.get(\"NVIDIA_API_KEY\", \"\").startswith(\"nvapi-\"):\n",
    "    nvidia_api_key = getpass.getpass(\"Enter your NVIDIA API key: \")\n",
    "    assert nvidia_api_key.startswith(\"nvapi-\"), f\"{nvidia_api_key[:5]}... is not a valid key\"\n",
    "    os.environ[\"NVIDIA_API_KEY\"] = nvidia_api_key\n"
   ]
  },
  {
   "cell_type": "markdown",
   "metadata": {},
   "source": [
    "## Mfano wa RAG ukitumia LLM na Embedding\n",
    "### 1) Anzisha LLM\n",
    "`llama-index-llms-nvidia`, inayojulikana pia kama kiunganishi cha LLM cha NVIDIA, inakuwezesha kuunganishwa na kuzalisha kutoka kwa mifano inayopatikana kwenye katalogi ya API ya NVIDIA. Tazama hapa kwa orodha ya mifano ya kukamilisha mazungumzo: https://build.nvidia.com/search?term=Text-to-Text\n",
    "\n",
    "Hapa tutatumia **mixtral-8x7b-instruct-v0.1**\n"
   ]
  },
  {
   "cell_type": "code",
   "execution_count": 75,
   "metadata": {},
   "outputs": [],
   "source": [
    "from llama_index.core import Settings\n",
    "from llama_index.llms.nvidia import NVIDIA\n",
    "\n",
    "# Here we are using mixtral-8x7b-instruct-v0.1 model from API Catalog\n",
    "Settings.llm = NVIDIA(model=\"microsoft/phi-3.5-moe-instruct\", api_key=os.getenv(\"NVIDIA_API_KEY\"))"
   ]
  },
  {
   "cell_type": "markdown",
   "metadata": {},
   "source": [
    "### 2) Anzisha Embedding  \n",
    "`llama-index-embeddings-nvidia`, inayojulikana pia kama Kiongeza cha Embeddings cha NVIDIA, hukuruhusu kuunganishwa na kuzalisha kutoka kwa mifano inayooana inayopatikana kwenye orodha ya API ya NVIDIA. Tulichagua `nvidia/nv-embedqa-e5-v5` kama mfano wa embedding. Tazama hapa kwa orodha ya mifano ya embedding ya maandishi: https://build.nvidia.com/nim?filters=usecase%3Ausecase_text_to_embedding%2Cusecase%3Ausecase_image_to_embedding\n"
   ]
  },
  {
   "cell_type": "code",
   "execution_count": 6,
   "metadata": {},
   "outputs": [],
   "source": [
    "from llama_index.embeddings.nvidia import NVIDIAEmbedding\n",
    "\n",
    "Settings.embed_model = NVIDIAEmbedding(model=\"nvidia/nv-embedqa-e5-v5\", api_key=os.getenv(\"NVIDIA_API_KEY\"))"
   ]
  },
  {
   "cell_type": "markdown",
   "metadata": {},
   "source": []
  },
  {
   "cell_type": "code",
   "execution_count": 76,
   "metadata": {},
   "outputs": [],
   "source": [
    "import logging\n",
    "import sys\n",
    "import os\n",
    "import getpass\n",
    "from azure.core.credentials import AzureKeyCredential\n",
    "from azure.search.documents import SearchClient\n",
    "from azure.search.documents.indexes import SearchIndexClient\n",
    "from IPython.display import Markdown, display\n",
    "from llama_index.vector_stores.azureaisearch import AzureAISearchVectorStore, IndexManagement\n",
    "\n",
    "\n",
    "search_service_api_key = os.getenv('AZURE_SEARCH_ADMIN_KEY') or getpass.getpass('Enter your Azure Search API key: ')\n",
    "search_service_endpoint = os.getenv('AZURE_SEARCH_SERVICE_ENDPOINT') or getpass.getpass('Enter your Azure Search service endpoint: ')\n",
    "search_service_api_version = \"2024-07-01\"\n",
    "credential = AzureKeyCredential(search_service_api_key)\n",
    "\n",
    "# Index name to use\n",
    "index_name = \"llamaindex-nvidia-azureaisearch-demo\"\n",
    "\n",
    "# Use index client to demonstrate creating an index\n",
    "index_client = SearchIndexClient(\n",
    "    endpoint=search_service_endpoint,\n",
    "    credential=credential,\n",
    ")\n",
    "\n",
    "# Use search client to demonstrate using existing index\n",
    "search_client = SearchClient(\n",
    "    endpoint=search_service_endpoint,\n",
    "    index_name=index_name,\n",
    "    credential=credential,\n",
    ")"
   ]
  },
  {
   "cell_type": "code",
   "execution_count": null,
   "metadata": {},
   "outputs": [],
   "source": [
    "vector_store = AzureAISearchVectorStore(\n",
    "    search_or_index_client=index_client,\n",
    "    index_name=index_name,\n",
    "    index_management=IndexManagement.CREATE_IF_NOT_EXISTS,\n",
    "    id_field_key=\"id\",\n",
    "    chunk_field_key=\"chunk\",\n",
    "    embedding_field_key=\"embedding\",\n",
    "    embedding_dimensionality=1024, # dimensionality for nv-embedqa-e5-v5 model\n",
    "    metadata_string_field_key=\"metadata\",\n",
    "    doc_id_field_key=\"doc_id\",\n",
    "    language_analyzer=\"en.lucene\",\n",
    "    vector_algorithm_type=\"exhaustiveKnn\",\n",
    "    # compression_type=\"binary\" # Option to use \"scalar\" or \"binary\". NOTE: compression is only supported for HNSW\n",
    ")"
   ]
  },
  {
   "cell_type": "markdown",
   "metadata": {},
   "source": []
  },
  {
   "cell_type": "code",
   "execution_count": 20,
   "metadata": {},
   "outputs": [],
   "source": [
    "from llama_index.core import SimpleDirectoryReader, StorageContext, VectorStoreIndex\n",
    "from llama_index.core.text_splitter import TokenTextSplitter\n",
    "\n",
    "# Configure text splitter (nv-embedqa-e5-v5 model has a limit of 512 tokens per input size)\n",
    "text_splitter = TokenTextSplitter(separator=\" \", chunk_size=500, chunk_overlap=10)\n",
    "\n",
    "# Load documents\n",
    "documents = SimpleDirectoryReader(\n",
    "    input_files=[\"data/txt/state_of_the_union.txt\"]\n",
    ").load_data()\n",
    "storage_context = StorageContext.from_defaults(vector_store=vector_store)\n",
    "\n",
    "# Create index with text splitter\n",
    "index = VectorStoreIndex.from_documents(\n",
    "    documents,\n",
    "    transformations=[text_splitter],\n",
    "    storage_context=storage_context,\n",
    ")"
   ]
  },
  {
   "cell_type": "markdown",
   "metadata": {},
   "source": [
    "### 5) Unda Injini ya Maswali ili kuuliza maswali kuhusu data yako\n",
    "\n",
    "Hapa kuna swali linalotumia utafutaji wa vekta safi katika Azure AI Search na kuhusisha jibu na LLM yetu (Phi-3.5-MOE)\n"
   ]
  },
  {
   "cell_type": "code",
   "execution_count": 69,
   "metadata": {},
   "outputs": [
    {
     "data": {
      "text/markdown": [
       " The speaker mentioned the Ukrainian Ambassador to the United States, along with other members of Congress, the Cabinet, and various officials such as the Vice President, the First Lady, and the Second Gentleman, as being present in the chamber."
      ],
      "text/plain": [
       "<IPython.core.display.Markdown object>"
      ]
     },
     "metadata": {},
     "output_type": "display_data"
    }
   ],
   "source": [
    "query_engine = index.as_query_engine()\n",
    "response = query_engine.query(\"Who did the speaker mention as being present in the chamber?\")\n",
    "display(Markdown(f\"{response}\"))"
   ]
  },
  {
   "cell_type": "markdown",
   "metadata": {},
   "source": [
    "Hapa kuna swali linalotumia utafutaji wa mseto katika Azure AI Search.\n"
   ]
  },
  {
   "cell_type": "code",
   "execution_count": 70,
   "metadata": {},
   "outputs": [
    {
     "data": {
      "text/markdown": [
       " The Russian stock market experienced a significant drop, losing 40% of its value. Additionally, trading had to be suspended due to the ongoing situation."
      ],
      "text/plain": [
       "<IPython.core.display.Markdown object>"
      ]
     },
     "metadata": {},
     "output_type": "display_data"
    },
    {
     "name": "stdout",
     "output_type": "stream",
     "text": [
      "\n",
      "\n",
      "Source Nodes:\n",
      "file_path: data\\txt\\state_of_the_union.txt\n",
      "\n",
      "building a coalition of other freedom-loving nations from Europe and the Americas to Asia and Africa to confront Putin. \n",
      "\n",
      "I spent countless hours unifying our European allies. We shared with the world in advance what we knew Putin was planning and precisely how he would try to falsely justify his aggression.  \n",
      "\n",
      "We countered Russia’s lies with truth.   \n",
      "\n",
      "And now that he has acted the free world is holding him accountable. \n",
      "\n",
      "Along with twenty-seven members of the European Union including France, Germany, Italy, as well as countries like the United Kingdom, Canada, Japan, Korea, Australia, New Zealand, and many others, even Switzerland. \n",
      "\n",
      "We are inflicting pain on Russia and supporting the people of Ukraine. Putin is now isolated from the world more than ever. \n",
      "\n",
      "Together with our allies –we are right now enforcing powerful economic sanctions. \n",
      "\n",
      "We are cutting off Russia’s largest banks from the international financial system.  \n",
      "\n",
      "Preventing Russia’s central bank from defending the Russian Ruble making Putin’s $630 Billion “war fund” worthless.   \n",
      "\n",
      "We are choking off Russia’s access to technology that will sap its economic strength and weaken its military for years to come.  \n",
      "\n",
      "Tonight I say to the Russian oligarchs and corrupt leaders who have bilked billions of dollars off this violent regime no more. \n",
      "\n",
      "The U.S. Department of Justice is assembling a dedicated task force to go after the crimes of Russian oligarchs.  \n",
      "\n",
      "We are joining with our European allies to find and seize your yachts your luxury apartments your private jets. We are coming for your ill-begotten gains. \n",
      "\n",
      "And tonight I am announcing that we will join our allies in closing off American air space to all Russian flights – further isolating Russia – and adding an additional squeeze –on their economy. The Ruble has lost 30% of its value. \n",
      "\n",
      "The Russian stock market has lost 40% of its value and trading remains suspended. Russia’s economy is reeling and Putin alone is to blame. \n",
      "\n",
      "Together with our allies we are providing support to the Ukrainians in their fight for freedom. Military assistance. Economic assistance. Humanitarian assistance. \n",
      "\n",
      "We are giving more than $1 Billion in direct assistance to Ukraine. \n",
      "\n",
      "And we will continue to aid the Ukrainian people as they defend their country and to help ease their suffering.  \n",
      "\n",
      "Let me be clear, our forces are not engaged and will not engage in\n",
      "file_path: data\\txt\\state_of_the_union.txt\n",
      "\n",
      "our forces are not engaged and will not engage in conflict with Russian forces in Ukraine.  \n",
      "\n",
      "Our forces are not going to Europe to fight in Ukraine, but to defend our NATO Allies – in the event that Putin decides to keep moving west.  \n",
      "\n",
      "For that purpose we’ve mobilized American ground forces, air squadrons, and ship deployments to protect NATO countries including Poland, Romania, Latvia, Lithuania, and Estonia. \n",
      "\n",
      "As I have made crystal clear the United States and our Allies will defend every inch of territory of NATO countries with the full force of our collective power.  \n",
      "\n",
      "And we remain clear-eyed. The Ukrainians are fighting back with pure courage. But the next few days weeks, months, will be hard on them.  \n",
      "\n",
      "Putin has unleashed violence and chaos.  But while he may make gains on the battlefield – he will pay a continuing high price over the long run. \n",
      "\n",
      "And a proud Ukrainian people, who have known 30 years  of independence, have repeatedly shown that they will not tolerate anyone who tries to take their country backwards.  \n",
      "\n",
      "To all Americans, I will be honest with you, as I’ve always promised. A Russian dictator, invading a foreign country, has costs around the world. \n",
      "\n",
      "And I’m taking robust action to make sure the pain of our sanctions  is targeted at Russia’s economy. And I will use every tool at our disposal to protect American businesses and consumers. \n",
      "\n",
      "Tonight, I can announce that the United States has worked with 30 other countries to release 60 Million barrels of oil from reserves around the world.  \n",
      "\n",
      "America will lead that effort, releasing 30 Million barrels from our own Strategic Petroleum Reserve. And we stand ready to do more if necessary, unified with our allies.  \n",
      "\n",
      "These steps will help blunt gas prices here at home. And I know the news about what’s happening can seem alarming. \n",
      "\n",
      "But I want you to know that we are going to be okay. \n",
      "\n",
      "When the history of this era is written Putin’s war on Ukraine will have left Russia weaker and the rest of the world stronger. \n",
      "\n",
      "While it shouldn’t have taken something so terrible for people around the world to see what’s at stake now everyone sees it clearly. \n",
      "\n",
      "We see the unity among leaders of nations and a more unified Europe a more unified West. And we see unity among the people who are gathering in cities in large crowds around the world\n"
     ]
    }
   ],
   "source": [
    "from llama_index.core.query_engine import RetrieverQueryEngine\n",
    "from llama_index.core.vector_stores.types import VectorStoreQueryMode\n",
    "from IPython.display import Markdown, display\n",
    "from llama_index.core.schema import MetadataMode\n",
    "\n",
    "# Initialize hybrid retriever and query engine\n",
    "hybrid_retriever = index.as_retriever(vector_store_query_mode=VectorStoreQueryMode.HYBRID)\n",
    "hybrid_query_engine = RetrieverQueryEngine(retriever=hybrid_retriever)\n",
    "\n",
    "# Query execution\n",
    "query = \"What were the exact economic consequences mentioned in relation to Russia's stock market?\"\n",
    "response = hybrid_query_engine.query(query)\n",
    "\n",
    "# Display the response\n",
    "display(Markdown(f\"{response}\"))\n",
    "print(\"\\n\")\n",
    "\n",
    "# Print the source nodes\n",
    "print(\"Source Nodes:\")\n",
    "for node in response.source_nodes:\n",
    "    print(node.get_content(metadata_mode=MetadataMode.LLM))"
   ]
  },
  {
   "cell_type": "markdown",
   "metadata": {},
   "source": [
    "#### Uchambuzi wa Utafutaji wa Vector\n",
    "Jibu la LLM limeeleza kwa usahihi matokeo makuu ya kiuchumi yaliyotajwa katika maandishi ya chanzo kuhusu soko la hisa la Urusi. Hasa, linaeleza kuwa soko la hisa la Urusi liliporomoka kwa kiwango kikubwa, likipoteza 40% ya thamani yake, na kwamba biashara ilisitishwa kutokana na hali inayoendelea. Jibu hili linaendana vyema na taarifa zilizotolewa katika chanzo, likionyesha kuwa LLM ilitambua na kufupisha kwa usahihi maelezo muhimu kuhusu athari za soko la hisa kutokana na hatua za Urusi na vikwazo vilivyowekwa.\n",
    "\n",
    "#### Maoni Kuhusu Vyanzo vya Habari\n",
    "Vyanzo vya habari vinatoa maelezo ya kina kuhusu matokeo ya kiuchumi ambayo Urusi ilikumbana nayo kutokana na vikwazo vya kimataifa. Maandishi yanaonyesha kuwa soko la hisa la Urusi lilipoteza 40% ya thamani yake, na biashara ilisitishwa. Zaidi ya hayo, yanataja athari nyingine za kiuchumi, kama kushuka kwa thamani ya Ruble na kutengwa zaidi kwa uchumi wa Urusi. Jibu la LLM lilifupisha kwa ufanisi hoja muhimu kutoka kwa vyanzo hivi, likilenga athari za soko la hisa kama ilivyoombwa na swali.\n"
   ]
  },
  {
   "cell_type": "markdown",
   "metadata": {},
   "source": [
    "Sasa, hebu tuangalie swali ambapo Hybrid Search haipatii jibu lenye msingi mzuri:\n"
   ]
  },
  {
   "cell_type": "code",
   "execution_count": 71,
   "metadata": {},
   "outputs": [
    {
     "data": {
      "text/markdown": [
       " The provided context does not specify the exact date of Russia's invasion of Ukraine. However, it does mention that the events discussed are happening in the current era and that the actions taken are in response to Putin's aggression. For the precise date, one would need to refer to external sources or historical records."
      ],
      "text/plain": [
       "<IPython.core.display.Markdown object>"
      ]
     },
     "metadata": {},
     "output_type": "display_data"
    },
    {
     "name": "stdout",
     "output_type": "stream",
     "text": [
      "\n",
      "\n",
      "Source Nodes:\n",
      "file_path: data\\txt\\state_of_the_union.txt\n",
      "\n",
      "our forces are not engaged and will not engage in conflict with Russian forces in Ukraine.  \n",
      "\n",
      "Our forces are not going to Europe to fight in Ukraine, but to defend our NATO Allies – in the event that Putin decides to keep moving west.  \n",
      "\n",
      "For that purpose we’ve mobilized American ground forces, air squadrons, and ship deployments to protect NATO countries including Poland, Romania, Latvia, Lithuania, and Estonia. \n",
      "\n",
      "As I have made crystal clear the United States and our Allies will defend every inch of territory of NATO countries with the full force of our collective power.  \n",
      "\n",
      "And we remain clear-eyed. The Ukrainians are fighting back with pure courage. But the next few days weeks, months, will be hard on them.  \n",
      "\n",
      "Putin has unleashed violence and chaos.  But while he may make gains on the battlefield – he will pay a continuing high price over the long run. \n",
      "\n",
      "And a proud Ukrainian people, who have known 30 years  of independence, have repeatedly shown that they will not tolerate anyone who tries to take their country backwards.  \n",
      "\n",
      "To all Americans, I will be honest with you, as I’ve always promised. A Russian dictator, invading a foreign country, has costs around the world. \n",
      "\n",
      "And I’m taking robust action to make sure the pain of our sanctions  is targeted at Russia’s economy. And I will use every tool at our disposal to protect American businesses and consumers. \n",
      "\n",
      "Tonight, I can announce that the United States has worked with 30 other countries to release 60 Million barrels of oil from reserves around the world.  \n",
      "\n",
      "America will lead that effort, releasing 30 Million barrels from our own Strategic Petroleum Reserve. And we stand ready to do more if necessary, unified with our allies.  \n",
      "\n",
      "These steps will help blunt gas prices here at home. And I know the news about what’s happening can seem alarming. \n",
      "\n",
      "But I want you to know that we are going to be okay. \n",
      "\n",
      "When the history of this era is written Putin’s war on Ukraine will have left Russia weaker and the rest of the world stronger. \n",
      "\n",
      "While it shouldn’t have taken something so terrible for people around the world to see what’s at stake now everyone sees it clearly. \n",
      "\n",
      "We see the unity among leaders of nations and a more unified Europe a more unified West. And we see unity among the people who are gathering in cities in large crowds around the world\n",
      "file_path: data\\txt\\state_of_the_union.txt\n",
      "\n",
      "building a coalition of other freedom-loving nations from Europe and the Americas to Asia and Africa to confront Putin. \n",
      "\n",
      "I spent countless hours unifying our European allies. We shared with the world in advance what we knew Putin was planning and precisely how he would try to falsely justify his aggression.  \n",
      "\n",
      "We countered Russia’s lies with truth.   \n",
      "\n",
      "And now that he has acted the free world is holding him accountable. \n",
      "\n",
      "Along with twenty-seven members of the European Union including France, Germany, Italy, as well as countries like the United Kingdom, Canada, Japan, Korea, Australia, New Zealand, and many others, even Switzerland. \n",
      "\n",
      "We are inflicting pain on Russia and supporting the people of Ukraine. Putin is now isolated from the world more than ever. \n",
      "\n",
      "Together with our allies –we are right now enforcing powerful economic sanctions. \n",
      "\n",
      "We are cutting off Russia’s largest banks from the international financial system.  \n",
      "\n",
      "Preventing Russia’s central bank from defending the Russian Ruble making Putin’s $630 Billion “war fund” worthless.   \n",
      "\n",
      "We are choking off Russia’s access to technology that will sap its economic strength and weaken its military for years to come.  \n",
      "\n",
      "Tonight I say to the Russian oligarchs and corrupt leaders who have bilked billions of dollars off this violent regime no more. \n",
      "\n",
      "The U.S. Department of Justice is assembling a dedicated task force to go after the crimes of Russian oligarchs.  \n",
      "\n",
      "We are joining with our European allies to find and seize your yachts your luxury apartments your private jets. We are coming for your ill-begotten gains. \n",
      "\n",
      "And tonight I am announcing that we will join our allies in closing off American air space to all Russian flights – further isolating Russia – and adding an additional squeeze –on their economy. The Ruble has lost 30% of its value. \n",
      "\n",
      "The Russian stock market has lost 40% of its value and trading remains suspended. Russia’s economy is reeling and Putin alone is to blame. \n",
      "\n",
      "Together with our allies we are providing support to the Ukrainians in their fight for freedom. Military assistance. Economic assistance. Humanitarian assistance. \n",
      "\n",
      "We are giving more than $1 Billion in direct assistance to Ukraine. \n",
      "\n",
      "And we will continue to aid the Ukrainian people as they defend their country and to help ease their suffering.  \n",
      "\n",
      "Let me be clear, our forces are not engaged and will not engage in\n"
     ]
    }
   ],
   "source": [
    "# Query execution\n",
    "query = \"What was the precise date when Russia invaded Ukraine?\"\n",
    "response = hybrid_query_engine.query(query)\n",
    "\n",
    "# Display the response\n",
    "display(Markdown(f\"{response}\"))\n",
    "print(\"\\n\")\n",
    "\n",
    "# Print the source nodes\n",
    "print(\"Source Nodes:\")\n",
    "for node in response.source_nodes:\n",
    "    print(node.get_content(metadata_mode=MetadataMode.LLM))\n"
   ]
  },
  {
   "cell_type": "markdown",
   "metadata": {},
   "source": [
    "### Utafutaji Mseto: Uchambuzi wa Majibu ya LLM\n",
    "Jibu la LLM katika mfano wa Utafutaji Mseto linaonyesha kuwa muktadha uliotolewa haujaainisha tarehe halisi ya uvamizi wa Urusi nchini Ukraine. Jibu hili linapendekeza kwamba LLM inatumia taarifa zilizopo kwenye nyaraka za chanzo lakini inakubali ukosefu wa maelezo mahususi katika maandishi.\n",
    "\n",
    "Jibu hili ni sahihi katika kubaini kuwa muktadha unataja matukio yanayohusiana na uchokozi wa Urusi lakini haujaonyesha tarehe mahususi ya uvamizi. Hii inaonyesha uwezo wa LLM wa kuelewa taarifa zilizotolewa huku ikitambua mapungufu yaliyopo kwenye maudhui. LLM inamshawishi mtumiaji kutafuta vyanzo vya nje au kumbukumbu za kihistoria kwa ajili ya tarehe halisi, ikionyesha kiwango cha tahadhari wakati taarifa hazijakamilika.\n",
    "\n",
    "### Uchambuzi wa Vifungo vya Chanzo\n",
    "Vifungo vya chanzo katika mfano wa Utafutaji Mseto vinajumuisha dondoo kutoka kwa hotuba inayojadili mwitikio wa Marekani kwa hatua za Urusi nchini Ukraine. Vifungo hivi vinaangazia athari pana za kijiografia na hatua zilizochukuliwa na Marekani pamoja na washirika wake kujibu uvamizi huo, lakini havitaji tarehe mahususi ya uvamizi. Hii inalingana na jibu la LLM, ambalo kwa usahihi linabaini kuwa muktadha hauna taarifa za tarehe halisi.\n"
   ]
  },
  {
   "cell_type": "code",
   "execution_count": 72,
   "metadata": {},
   "outputs": [
    {
     "data": {
      "text/markdown": [
       " The provided context does not specify the exact date of Russia's invasion of Ukraine. However, it mentions that the event occurred six days before the speech was given. To determine the precise date, one would need to know the date of the speech."
      ],
      "text/plain": [
       "<IPython.core.display.Markdown object>"
      ]
     },
     "metadata": {},
     "output_type": "display_data"
    },
    {
     "name": "stdout",
     "output_type": "stream",
     "text": [
      "\n",
      "\n",
      "Source Nodes:\n",
      "file_path: data\\txt\\state_of_the_union.txt\n",
      "\n",
      "Madam Speaker, Madam Vice President, our First Lady and Second Gentleman. Members of Congress and the Cabinet. Justices of the Supreme Court. My fellow Americans.  \n",
      "\n",
      "Last year COVID-19 kept us apart. This year we are finally together again. \n",
      "\n",
      "Tonight, we meet as Democrats Republicans and Independents. But most importantly as Americans. \n",
      "\n",
      "With a duty to one another to the American people to the Constitution. \n",
      "\n",
      "And with an unwavering resolve that freedom will always triumph over tyranny. \n",
      "\n",
      "Six days ago, Russia’s Vladimir Putin sought to shake the foundations of the free world thinking he could make it bend to his menacing ways. But he badly miscalculated. \n",
      "\n",
      "He thought he could roll into Ukraine and the world would roll over. Instead he met a wall of strength he never imagined. \n",
      "\n",
      "He met the Ukrainian people. \n",
      "\n",
      "From President Zelenskyy to every Ukrainian, their fearlessness, their courage, their determination, inspires the world. \n",
      "\n",
      "Groups of citizens blocking tanks with their bodies. Everyone from students to retirees teachers turned soldiers defending their homeland. \n",
      "\n",
      "In this struggle as President Zelenskyy said in his speech to the European Parliament “Light will win over darkness.” The Ukrainian Ambassador to the United States is here tonight. \n",
      "\n",
      "Let each of us here tonight in this Chamber send an unmistakable signal to Ukraine and to the world. \n",
      "\n",
      "Please rise if you are able and show that, Yes, we the United States of America stand with the Ukrainian people. \n",
      "\n",
      "Throughout our history we’ve learned this lesson when dictators do not pay a price for their aggression they cause more chaos.   \n",
      "\n",
      "They keep moving.   \n",
      "\n",
      "And the costs and the threats to America and the world keep rising.   \n",
      "\n",
      "That’s why the NATO Alliance was created to secure peace and stability in Europe after World War 2. \n",
      "\n",
      "The United States is a member along with 29 other nations. \n",
      "\n",
      "It matters. American diplomacy matters. American resolve matters. \n",
      "\n",
      "Putin’s latest attack on Ukraine was premeditated and unprovoked. \n",
      "\n",
      "He rejected repeated efforts at diplomacy. \n",
      "\n",
      "He thought the West and NATO wouldn’t respond. And he thought he could divide us at home. Putin was wrong. We were ready.  Here is what we did.   \n",
      "\n",
      "We prepared extensively and carefully. \n",
      "\n",
      "We spent months building a coalition of other freedom-loving nations from Europe\n",
      "file_path: data\\txt\\state_of_the_union.txt\n",
      "\n",
      "our forces are not engaged and will not engage in conflict with Russian forces in Ukraine.  \n",
      "\n",
      "Our forces are not going to Europe to fight in Ukraine, but to defend our NATO Allies – in the event that Putin decides to keep moving west.  \n",
      "\n",
      "For that purpose we’ve mobilized American ground forces, air squadrons, and ship deployments to protect NATO countries including Poland, Romania, Latvia, Lithuania, and Estonia. \n",
      "\n",
      "As I have made crystal clear the United States and our Allies will defend every inch of territory of NATO countries with the full force of our collective power.  \n",
      "\n",
      "And we remain clear-eyed. The Ukrainians are fighting back with pure courage. But the next few days weeks, months, will be hard on them.  \n",
      "\n",
      "Putin has unleashed violence and chaos.  But while he may make gains on the battlefield – he will pay a continuing high price over the long run. \n",
      "\n",
      "And a proud Ukrainian people, who have known 30 years  of independence, have repeatedly shown that they will not tolerate anyone who tries to take their country backwards.  \n",
      "\n",
      "To all Americans, I will be honest with you, as I’ve always promised. A Russian dictator, invading a foreign country, has costs around the world. \n",
      "\n",
      "And I’m taking robust action to make sure the pain of our sanctions  is targeted at Russia’s economy. And I will use every tool at our disposal to protect American businesses and consumers. \n",
      "\n",
      "Tonight, I can announce that the United States has worked with 30 other countries to release 60 Million barrels of oil from reserves around the world.  \n",
      "\n",
      "America will lead that effort, releasing 30 Million barrels from our own Strategic Petroleum Reserve. And we stand ready to do more if necessary, unified with our allies.  \n",
      "\n",
      "These steps will help blunt gas prices here at home. And I know the news about what’s happening can seem alarming. \n",
      "\n",
      "But I want you to know that we are going to be okay. \n",
      "\n",
      "When the history of this era is written Putin’s war on Ukraine will have left Russia weaker and the rest of the world stronger. \n",
      "\n",
      "While it shouldn’t have taken something so terrible for people around the world to see what’s at stake now everyone sees it clearly. \n",
      "\n",
      "We see the unity among leaders of nations and a more unified Europe a more unified West. And we see unity among the people who are gathering in cities in large crowds around the world\n"
     ]
    }
   ],
   "source": [
    "# Initialize hybrid retriever and query engine\n",
    "semantic_reranker_retriever = index.as_retriever(vector_store_query_mode=VectorStoreQueryMode.SEMANTIC_HYBRID)\n",
    "semantic_reranker_query_engine = RetrieverQueryEngine(retriever=semantic_reranker_retriever)\n",
    "\n",
    "# Query execution\n",
    "query = \"What was the precise date when Russia invaded Ukraine?\"\n",
    "response = semantic_reranker_query_engine.query(query)\n",
    "\n",
    "# Display the response\n",
    "display(Markdown(f\"{response}\"))\n",
    "print(\"\\n\")\n",
    "\n",
    "# Print the source nodes\n",
    "print(\"Source Nodes:\")\n",
    "for node in response.source_nodes:\n",
    "    print(node.get_content(metadata_mode=MetadataMode.LLM))\n"
   ]
  },
  {
   "cell_type": "markdown",
   "metadata": {},
   "source": [
    "### Hybrid w/Reranking: Uchambuzi wa Majibu ya LLM\n",
    "Katika mfano wa Hybrid w/Reranking, jibu la LLM linatoa muktadha wa ziada kwa kutaja kwamba tukio lilitokea siku sita kabla ya hotuba kutolewa. Hii inaonyesha kwamba LLM inaweza kufasiri tarehe ya uvamizi kulingana na muda wa hotuba, ingawa bado inahitaji kujua tarehe halisi ya hotuba kwa usahihi.\n",
    "\n",
    "Jibu hili linaonyesha uwezo ulioboreshwa wa kutumia vidokezo vya muktadha ili kutoa jibu lenye taarifa zaidi. Linaangazia faida ya reranking, ambapo LLM inaweza kufikia na kuzingatia taarifa muhimu zaidi ili kutoa makadirio ya karibu ya undani unaotakiwa (yaani, tarehe ya uvamizi).\n",
    "\n",
    "### Uchambuzi wa Nodes za Chanzo\n",
    "Nodes za chanzo katika mfano huu zinajumuisha marejeleo ya muda wa uvamizi wa Urusi, hasa kutaja kwamba ulitokea siku sita kabla ya hotuba. Ingawa tarehe halisi bado haijatajwa wazi, nodes zinatoa muktadha wa muda unaoruhusu LLM kutoa jibu lenye ufahamu zaidi. Ujumuishaji wa undani huu unaonyesha jinsi reranking inavyoweza kuboresha uwezo wa LLM wa kutoa na kufasiri taarifa kutoka kwa muktadha uliotolewa, na kusababisha jibu sahihi na lenye taarifa zaidi.\n"
   ]
  },
  {
   "cell_type": "markdown",
   "metadata": {},
   "source": [
    "**Kumbuka:**\n",
    "Katika daftari hili, tumetumia huduma ndogo za NVIDIA NIM kutoka Katalogi ya API ya NVIDIA.  \n",
    "API zilizo juu, `NVIDIA (llms)`, `NVIDIAEmbedding`, na [Azure AI Search Semantic Hybrid Retrieval (iliyojengwa kwa upya)](https://learn.microsoft.com/azure/search/semantic-search-overview). Kumbuka, API zilizo juu pia zinaweza kusaidia huduma ndogo zinazojisimamia.\n",
    "\n",
    "**Mfano:**\n",
    "```python\n",
    "NVIDIA(model=\"meta/llama3-8b-instruct\", base_url=\"http://your-nim-host-address:8000/v1\")```\n"
   ]
  },
  {
   "cell_type": "markdown",
   "metadata": {},
   "source": [
    "\n---\n\n**Kanusho**:  \nHati hii imetafsiriwa kwa kutumia huduma ya tafsiri ya AI [Co-op Translator](https://github.com/Azure/co-op-translator). Ingawa tunajitahidi kwa usahihi, tafadhali fahamu kuwa tafsiri za kiotomatiki zinaweza kuwa na makosa au kutokuwa sahihi. Hati ya asili katika lugha yake ya awali inapaswa kuzingatiwa kama chanzo cha mamlaka. Kwa taarifa muhimu, inashauriwa kutumia huduma ya tafsiri ya kitaalamu ya binadamu. Hatutawajibika kwa maelewano mabaya au tafsiri zisizo sahihi zinazotokana na matumizi ya tafsiri hii.\n"
   ]
  }
 ],
 "metadata": {
  "kernelspec": {
   "display_name": "Python 3",
   "language": "python",
   "name": "python3"
  },
  "language_info": {
   "codemirror_mode": {
    "name": "ipython",
    "version": 3
   },
   "file_extension": ".py",
   "mimetype": "text/x-python",
   "name": "python",
   "nbconvert_exporter": "python",
   "pygments_lexer": "ipython3",
   "version": "3.11.9"
  },
  "coopTranslator": {
   "original_hash": "c023540b1eda8c0746871294979e1e5c",
   "translation_date": "2025-09-13T06:10:52+00:00",
   "source_file": "md/02.Application/06.MoE/Phi3/azure-ai-search-nvidia-rag.ipynb",
   "language_code": "sw"
  }
 },
 "nbformat": 4,
 "nbformat_minor": 2
}