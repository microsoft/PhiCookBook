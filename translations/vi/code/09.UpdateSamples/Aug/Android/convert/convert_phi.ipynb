{
 "cells": [
  {
   "cell_type": "code",
   "execution_count": 3,
   "metadata": {},
   "outputs": [],
   "source": [
    "TFLITE_MODEL = 'Your Phi-3.5 tflite model path'\n",
    "TOKENIZER_MODEL = 'Your Phi-3.5 tokenizer.model path'\n",
    "START_TOKEN = \"<s>\"\n",
    "STOP_TOKENS = [\"<|endoftext|>\"]\n",
    "OUTPUT_FILENAME = \"Your Phi-3.5 task model path\"\n",
    "ENABLE_BYTES_TO_UNICODE_MAPPING = True\n",
    "\n"
   ]
  },
  {
   "cell_type": "code",
   "execution_count": 4,
   "metadata": {},
   "outputs": [],
   "source": [
    "import mediapipe as mp\n",
    "from mediapipe.tasks.python.genai import bundler"
   ]
  },
  {
   "cell_type": "code",
   "execution_count": 5,
   "metadata": {},
   "outputs": [],
   "source": [
    "config = bundler.BundleConfig(\n",
    "    tflite_model=TFLITE_MODEL,\n",
    "    tokenizer_model=TOKENIZER_MODEL,\n",
    "    start_token=START_TOKEN,\n",
    "    stop_tokens=STOP_TOKENS,\n",
    "    output_filename=OUTPUT_FILENAME,\n",
    "    enable_bytes_to_unicode_mapping=ENABLE_BYTES_TO_UNICODE_MAPPING,\n",
    ")"
   ]
  },
  {
   "cell_type": "code",
   "execution_count": 6,
   "metadata": {},
   "outputs": [],
   "source": [
    "bundler.create_bundle(config)"
   ]
  },
  {
   "cell_type": "markdown",
   "metadata": {},
   "source": [
    "\n---\n\n**Tuyên bố miễn trừ trách nhiệm**:  \nTài liệu này đã được dịch bằng dịch vụ dịch thuật AI [Co-op Translator](https://github.com/Azure/co-op-translator). Mặc dù chúng tôi cố gắng đảm bảo độ chính xác, xin lưu ý rằng các bản dịch tự động có thể chứa lỗi hoặc không chính xác. Tài liệu gốc bằng ngôn ngữ bản địa nên được coi là nguồn thông tin chính thức. Đối với các thông tin quan trọng, khuyến nghị sử dụng dịch vụ dịch thuật chuyên nghiệp bởi con người. Chúng tôi không chịu trách nhiệm cho bất kỳ sự hiểu lầm hoặc diễn giải sai nào phát sinh từ việc sử dụng bản dịch này.\n"
   ]
  }
 ],
 "metadata": {
  "kernelspec": {
   "display_name": "tflite",
   "language": "python",
   "name": "python3"
  },
  "language_info": {
   "codemirror_mode": {
    "name": "ipython",
    "version": 3
   },
   "file_extension": ".py",
   "mimetype": "text/x-python",
   "name": "python",
   "nbconvert_exporter": "python",
   "pygments_lexer": "ipython3",
   "version": "3.10.12"
  },
  "coopTranslator": {
   "original_hash": "c38852a39916f5605a0d115129fdf162",
   "translation_date": "2025-09-12T22:41:21+00:00",
   "source_file": "code/09.UpdateSamples/Aug/Android/convert/convert_phi.ipynb",
   "language_code": "vi"
  }
 },
 "nbformat": 4,
 "nbformat_minor": 2
}