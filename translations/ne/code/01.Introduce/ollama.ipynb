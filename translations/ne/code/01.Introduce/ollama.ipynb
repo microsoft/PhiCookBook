{
 "cells": [
  {
   "cell_type": "markdown",
   "metadata": {},
   "source": [
    "# ओलामा + ओपनएआई + पाइथन\n",
    "\n",
    "## १. मोडेलको नाम निर्दिष्ट गर्नुहोस्\n",
    "\n",
    "यदि तपाईंले \"phi3:mini\" भन्दा फरक मोडेल ल्याउनुभएको छ भने, तलको सेलमा मान परिवर्तन गर्नुहोस्। त्यो भेरिएबल नोटबुकभरि कोडमा प्रयोग हुनेछ।\n"
   ]
  },
  {
   "cell_type": "code",
   "execution_count": null,
   "metadata": {},
   "outputs": [],
   "source": [
    "MODEL_NAME = \"phi3:mini\""
   ]
  },
  {
   "cell_type": "markdown",
   "metadata": {},
   "source": [
    "## 2. Open AI क्लाइन्ट सेटअप गर्नुहोस्\n",
    "\n",
    "सामान्यतया OpenAI क्लाइन्टलाई OpenAI.com वा Azure OpenAI सँग प्रयोग गरिन्छ ठूलो भाषा मोडेलहरूसँग अन्तरक्रिया गर्न।  \n",
    "तर, यसलाई Ollama सँग पनि प्रयोग गर्न सकिन्छ, किनभने Ollama ले \"http://localhost:11434/v1\" मा OpenAI-संगत अन्त बिन्दु प्रदान गर्दछ।\n"
   ]
  },
  {
   "cell_type": "code",
   "execution_count": null,
   "metadata": {},
   "outputs": [],
   "source": [
    "%pip install openai"
   ]
  },
  {
   "cell_type": "code",
   "execution_count": null,
   "metadata": {},
   "outputs": [],
   "source": [
    "import openai\n",
    "\n",
    "client = openai.OpenAI(\n",
    "    base_url=\"http://localhost:11434/v1\",\n",
    "    api_key=\"nokeyneeded\",\n",
    ")"
   ]
  },
  {
   "cell_type": "markdown",
   "metadata": {},
   "source": [
    "## ३. च्याट पूरा गर्नुहोस्\n",
    "\n",
    "अब हामी OpenAI SDK प्रयोग गरेर कुराकानीको लागि प्रतिक्रिया सिर्जना गर्न सक्छौं। यो अनुरोधले बिरालाहरूको बारेमा एउटा हाइकु सिर्जना गर्नुपर्छ:\n"
   ]
  },
  {
   "cell_type": "code",
   "execution_count": null,
   "metadata": {},
   "outputs": [],
   "source": [
    "response = client.chat.completions.create(\n",
    "    model=MODEL_NAME,\n",
    "    temperature=0.7,\n",
    "    n=1,\n",
    "    messages=[\n",
    "        {\"role\": \"system\", \"content\": \"You are a helpful assistant.\"},\n",
    "        {\"role\": \"user\", \"content\": \"Write a haiku about a hungry cat\"},\n",
    "    ],\n",
    ")\n",
    "\n",
    "print(\"Response:\")\n",
    "print(response.choices[0].message.content)\n"
   ]
  },
  {
   "cell_type": "markdown",
   "metadata": {},
   "source": [
    "## ४. प्रम्प्ट इन्जिनियरिङ\n",
    "\n",
    "भाषा मोडेललाई पठाइएको पहिलो सन्देशलाई \"सिस्टम सन्देश\" वा \"सिस्टम प्रम्प्ट\" भनिन्छ, र यसले मोडेलको समग्र निर्देशन सेट गर्दछ।  \n",
    "तपाईं आफ्नो मनपर्ने कस्टम सिस्टम प्रम्प्ट प्रदान गरेर भाषा मोडेललाई फरक तरिकाले आउटपुट उत्पन्न गर्न मार्गदर्शन गर्न सक्नुहुन्छ।  \n",
    "तलको `SYSTEM_MESSAGE` लाई परिवर्तन गरेर आफ्नो मनपर्ने प्रसिद्ध चलचित्र/टीभी पात्रको जस्तै उत्तर दिन अनुरोध गर्न सक्नुहुन्छ, वा अन्य सिस्टम प्रम्प्टहरूको लागि [Awesome ChatGPT Prompts](https://github.com/f/awesome-chatgpt-prompts?tab=readme-ov-file#prompts) बाट प्रेरणा लिन सक्नुहुन्छ।  \n",
    "\n",
    "एकपटक तपाईंले सिस्टम सन्देशलाई अनुकूलित गरेपछि, पहिलो प्रयोगकर्ता प्रश्नलाई `USER_MESSAGE` मा प्रदान गर्नुहोस्।  \n"
   ]
  },
  {
   "cell_type": "code",
   "execution_count": null,
   "metadata": {},
   "outputs": [],
   "source": [
    "SYSTEM_MESSAGE = \"\"\"\n",
    "I want you to act like Elmo from Sesame Street.\n",
    "I want you to respond and answer like Elmo using the tone, manner and vocabulary that Elmo would use.\n",
    "Do not write any explanations. Only answer like Elmo.\n",
    "You must know all of the knowledge of Elmo, and nothing more.\n",
    "\"\"\"\n",
    "\n",
    "USER_MESSAGE = \"\"\"\n",
    "Hi Elmo, how are you doing today?\n",
    "\"\"\"\n",
    "\n",
    "response = client.chat.completions.create(\n",
    "    model=MODEL_NAME,\n",
    "    temperature=0.7,\n",
    "    n=1,\n",
    "    messages=[\n",
    "        {\"role\": \"system\", \"content\": SYSTEM_MESSAGE},\n",
    "        {\"role\": \"user\", \"content\": USER_MESSAGE},\n",
    "    ],\n",
    ")\n",
    "\n",
    "print(\"Response:\")\n",
    "print(response.choices[0].message.content)\n"
   ]
  },
  {
   "cell_type": "markdown",
   "metadata": {},
   "source": [
    "## ५. थोरै उदाहरणहरू\n",
    "\n",
    "भाषा मोडेललाई मार्गदर्शन गर्ने अर्को तरिका भनेको \"थोरै उदाहरणहरू\" प्रदान गर्नु हो, प्रश्न/उत्तरहरूको शृंखला जसले मोडेललाई कसरी प्रतिक्रिया दिनु पर्ने हो भन्ने देखाउँछ।\n",
    "\n",
    "तलको उदाहरणले भाषा मोडेललाई शिक्षण सहायकको रूपमा काम गर्न प्रेरित गर्न खोज्छ। यसमा शिक्षण सहायकले दिन सक्ने प्रश्न र उत्तरका केही उदाहरणहरू प्रदान गरिएको छ, र त्यसपछि विद्यार्थीले सोध्न सक्ने प्रश्नको साथ मोडेललाई प्रेरित गरिएको छ।\n",
    "\n",
    "पहिले यसलाई प्रयास गर्नुहोस्, त्यसपछि `SYSTEM_MESSAGE`, `EXAMPLES`, र `USER_MESSAGE` लाई नयाँ परिदृश्यका लागि परिमार्जन गर्नुहोस्।\n"
   ]
  },
  {
   "cell_type": "code",
   "execution_count": null,
   "metadata": {},
   "outputs": [],
   "source": [
    "SYSTEM_MESSAGE = \"\"\"\n",
    "You are a helpful assistant that helps students with their homework.\n",
    "Instead of providing the full answer, you respond with a hint or a clue.\n",
    "\"\"\"\n",
    "\n",
    "EXAMPLES = [\n",
    "    (\n",
    "        \"What is the capital of France?\",\n",
    "        \"Can you remember the name of the city that is known for the Eiffel Tower?\"\n",
    "    ),\n",
    "    (\n",
    "        \"What is the square root of 144?\",\n",
    "        \"What number multiplied by itself equals 144?\"\n",
    "    ),\n",
    "    (   \"What is the atomic number of oxygen?\",\n",
    "        \"How many protons does an oxygen atom have?\"\n",
    "    ),\n",
    "]\n",
    "\n",
    "USER_MESSAGE = \"What is the largest planet in our solar system?\"\n",
    "\n",
    "\n",
    "response = client.chat.completions.create(\n",
    "    model=MODEL_NAME,\n",
    "    temperature=0.7,\n",
    "    n=1,\n",
    "    messages=[\n",
    "        {\"role\": \"system\", \"content\": SYSTEM_MESSAGE},\n",
    "        {\"role\": \"user\", \"content\": EXAMPLES[0][0]},\n",
    "        {\"role\": \"assistant\", \"content\": EXAMPLES[0][1]},\n",
    "        {\"role\": \"user\", \"content\": EXAMPLES[1][0]},\n",
    "        {\"role\": \"assistant\", \"content\": EXAMPLES[1][1]},\n",
    "        {\"role\": \"user\", \"content\": EXAMPLES[2][0]},\n",
    "        {\"role\": \"assistant\", \"content\": EXAMPLES[2][1]},\n",
    "        {\"role\": \"user\", \"content\": USER_MESSAGE},\n",
    "    ],\n",
    ")\n",
    "\n",
    "\n",
    "print(\"Response:\")\n",
    "print(response.choices[0].message.content)"
   ]
  },
  {
   "cell_type": "markdown",
   "metadata": {},
   "source": [
    "## ६. पुनःप्राप्ति आधारित उत्पादन\n",
    "\n",
    "RAG (पुनःप्राप्ति आधारित उत्पादन) एउटा प्रविधि हो जसले भाषा मोडेललाई कुनै विशेष क्षेत्रको प्रश्नहरूको सही उत्तर दिन सक्षम बनाउँछ। यसले पहिले ज्ञान स्रोतबाट सम्बन्धित जानकारी खोज्छ र त्यसपछि त्यस जानकारीको आधारमा उत्तर उत्पादन गर्छ।\n",
    "\n",
    "हामीले हाइब्रिड कारहरूको डाटा भएको स्थानीय CSV फाइल उपलब्ध गराएका छौं। तलको कोडले CSV फाइल पढ्छ, प्रयोगकर्ताको प्रश्नसँग मेल खाने जानकारी खोज्छ, र फेला परेको जानकारीको आधारमा उत्तर उत्पादन गर्छ। ध्यान दिनुहोस् कि यो प्रक्रिया अघिल्लो उदाहरणहरूभन्दा बढी समय लिन्छ, किनकि यसले मोडेलमा बढी डाटा पठाउँछ। यदि उत्तर अझै डाटामा आधारित छैन भने, तपाईं प्रणाली इन्जिनियरिङ प्रयास गर्न सक्नुहुन्छ वा अन्य मोडेलहरू प्रयोग गर्न सक्नुहुन्छ। सामान्यतया, RAG ठूला मोडेलहरू वा SLMहरूको फाइन-ट्युन गरिएको संस्करणहरूसँग अधिक प्रभावकारी हुन्छ।\n"
   ]
  },
  {
   "cell_type": "code",
   "execution_count": null,
   "metadata": {},
   "outputs": [],
   "source": [
    "import csv\n",
    "\n",
    "SYSTEM_MESSAGE = \"\"\"\n",
    "You are a helpful assistant that answers questions about cars based off a hybrid car data set.\n",
    "You must use the data set to answer the questions, you should not provide any information that is not in the provided sources.\n",
    "\"\"\"\n",
    "\n",
    "USER_MESSAGE = \"how fast is a prius?\"\n",
    "\n",
    "# Open the CSV and store in a list\n",
    "with open(\"hybrid.csv\", \"r\") as file:\n",
    "    reader = csv.reader(file)\n",
    "    rows = list(reader)\n",
    "\n",
    "# Normalize the user question to replace punctuation and make lowercase\n",
    "normalized_message = USER_MESSAGE.lower().replace(\"?\", \"\").replace(\"(\", \" \").replace(\")\", \" \")\n",
    "\n",
    "# Search the CSV for user question using very naive search\n",
    "words = normalized_message.split()\n",
    "matches = []\n",
    "for row in rows[1:]:\n",
    "    # if the word matches any word in row, add the row to the matches\n",
    "    if any(word in row[0].lower().split() for word in words) or any(word in row[5].lower().split() for word in words):\n",
    "        matches.append(row)\n",
    "\n",
    "# Format as a markdown table, since language models understand markdown\n",
    "matches_table = \" | \".join(rows[0]) + \"\\n\" + \" | \".join(\" --- \" for _ in range(len(rows[0]))) + \"\\n\"\n",
    "matches_table += \"\\n\".join(\" | \".join(row) for row in matches)\n",
    "print(f\"Found {len(matches)} matches:\")\n",
    "print(matches_table)\n",
    "\n",
    "# Now we can use the matches to generate a response\n",
    "response = client.chat.completions.create(\n",
    "    model=MODEL_NAME,\n",
    "    temperature=0.7,\n",
    "    n=1,\n",
    "    messages=[\n",
    "        {\"role\": \"system\", \"content\": SYSTEM_MESSAGE},\n",
    "        {\"role\": \"user\", \"content\": USER_MESSAGE + \"\\nSources: \" + matches_table},\n",
    "    ],\n",
    ")\n",
    "\n",
    "print(\"Response:\")\n",
    "print(response.choices[0].message.content)"
   ]
  },
  {
   "cell_type": "markdown",
   "metadata": {},
   "source": [
    "\n---\n\n**अस्वीकरण**:  \nयो दस्तावेज़ AI अनुवाद सेवा [Co-op Translator](https://github.com/Azure/co-op-translator) प्रयोग गरेर अनुवाद गरिएको छ। हामी शुद्धताको लागि प्रयास गर्छौं, तर कृपया ध्यान दिनुहोस् कि स्वचालित अनुवादहरूमा त्रुटि वा अशुद्धता हुन सक्छ। यसको मूल भाषा मा रहेको मूल दस्तावेज़लाई आधिकारिक स्रोत मानिनुपर्छ। महत्वपूर्ण जानकारीको लागि, व्यावसायिक मानव अनुवाद सिफारिस गरिन्छ। यस अनुवादको प्रयोगबाट उत्पन्न हुने कुनै पनि गलतफहमी वा गलत व्याख्याको लागि हामी जिम्मेवार हुने छैनौं।\n"
   ]
  }
 ],
 "metadata": {
  "kernelspec": {
   "display_name": "Python 3",
   "language": "python",
   "name": "python3"
  },
  "language_info": {
   "codemirror_mode": {
    "name": "ipython",
    "version": 3
   },
   "file_extension": ".py",
   "mimetype": "text/x-python",
   "name": "python",
   "nbconvert_exporter": "python",
   "pygments_lexer": "ipython3",
   "version": "3.12.3"
  },
  "coopTranslator": {
   "original_hash": "6f9e40a7dbbd892aae50aff77da4b4be",
   "translation_date": "2025-09-12T20:11:19+00:00",
   "source_file": "code/01.Introduce/ollama.ipynb",
   "language_code": "ne"
  }
 },
 "nbformat": 4,
 "nbformat_minor": 2
}