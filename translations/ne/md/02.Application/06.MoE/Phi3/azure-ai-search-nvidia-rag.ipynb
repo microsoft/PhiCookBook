{
 "cells": [
  {
   "cell_type": "markdown",
   "metadata": {},
   "source": [
    "# Azure AI Search र NVIDIA NIM र LlamaIndex एकीकरण\n",
    "\n",
    "यस नोटबुकमा, हामी NVIDIA का AI मोडेलहरू र LlamaIndex प्रयोग गरेर शक्तिशाली Retrieval-Augmented Generation (RAG) पाइपलाइन कसरी निर्माण गर्ने देखाउनेछौं। हामी NVIDIA का LLMs र embeddings प्रयोग गर्नेछौं, तिनीहरूलाई Azure AI Search सँग एकीकृत गर्नेछौं जसलाई भेक्टर स्टोरको रूपमा प्रयोग गरिन्छ, र RAG प्रदर्शन गरेर खोजको गुणस्तर र दक्षता सुधार गर्नेछौं।\n",
    "\n",
    "## फाइदाहरू\n",
    "- **स्केलेबिलिटी**: NVIDIA का ठूला भाषा मोडेलहरू र Azure AI Search प्रयोग गरेर स्केलेबल र कुशल पुनःप्राप्ति सुनिश्चित गर्नुहोस्।\n",
    "- **खर्च दक्षता**: भेक्टर स्टोरेज र हाइब्रिड खोज प्रविधिहरू प्रयोग गरेर खोज र पुनःप्राप्ति अनुकूलित गर्नुहोस्।\n",
    "- **उच्च प्रदर्शन**: शक्तिशाली LLMs लाई भेक्टराइज्ड खोजसँग संयोजन गरेर छिटो र सटीक प्रतिक्रिया प्राप्त गर्नुहोस्।\n",
    "- **गुणस्तर**: सम्बन्धित पुनःप्राप्त दस्तावेजहरू प्रयोग गरेर LLM प्रतिक्रियाहरूलाई आधारभूत बनाउँदै उच्च खोज गुणस्तर कायम गर्नुहोस्।\n",
    "\n",
    "## आवश्यकताहरू\n",
    "- 🐍 Python 3.9 वा उच्च संस्करण\n",
    "- 🔗 [Azure AI Search Service](https://learn.microsoft.com/azure/search/)\n",
    "- 🔗 NVIDIA API Key NVIDIA का LLMs र Embeddings मा पहुँचको लागि NVIDIA NIM माइक्रोसर्भिसहरू मार्फत\n",
    "\n",
    "## समेटिएका विशेषताहरू\n",
    "- ✅ NVIDIA LLM एकीकरण (हामी [Phi-3.5-MOE](https://build.nvidia.com/microsoft/phi-3_5-moe) प्रयोग गर्नेछौं)\n",
    "- ✅ NVIDIA Embeddings (हामी [nv-embedqa-e5-v5](https://build.nvidia.com/nvidia/nv-embedqa-e5-v5) प्रयोग गर्नेछौं)\n",
    "- ✅ Azure AI Search उन्नत पुनःप्राप्ति मोडहरू\n",
    "- ✅ LlamaIndex प्रयोग गरेर दस्तावेज अनुक्रमण\n",
    "- ✅ Azure AI Search र LlamaIndex सँग NVIDIA LLMs प्रयोग गरेर RAG\n",
    "\n",
    "अब सुरु गरौं!\n"
   ]
  },
  {
   "cell_type": "code",
   "execution_count": null,
   "metadata": {},
   "outputs": [],
   "source": [
    "!pip install azure-search-documents==11.5.1\n",
    "!pip install --upgrade llama-index\n",
    "!pip install --upgrade llama-index-core\n",
    "!pip install --upgrade llama-index-readers-file\n",
    "!pip install --upgrade llama-index-llms-nvidia\n",
    "!pip install --upgrade llama-index-embeddings-nvidia\n",
    "!pip install --upgrade llama-index-postprocessor-nvidia-rerank\n",
    "!pip install --upgrade llama-index-vector-stores-azureaisearch\n",
    "!pip install python-dotenv"
   ]
  },
  {
   "cell_type": "markdown",
   "metadata": {},
   "source": [
    "## स्थापना र आवश्यकताहरू  \n",
    "Python संस्करण >3.10 प्रयोग गरेर Python वातावरण सिर्जना गर्नुहोस्।  \n",
    "\n",
    "## सुरु गर्दै!  \n"
   ]
  },
  {
   "cell_type": "markdown",
   "metadata": {},
   "source": [
    "NVIDIA AI Foundation मोडेलहरू प्रयोग गर्नको लागि तपाईंलाई `NVIDIA_API_KEY` आवश्यक छ:\n",
    "1) [NVIDIA](https://build.nvidia.com/explore/discover) मा निःशुल्क खाता बनाउनुहोस्।\n",
    "2) आफ्नो रोजाइको मोडेलमा क्लिक गर्नुहोस्।\n",
    "3) Input अन्तर्गत, Python ट्याब चयन गर्नुहोस्, त्यसपछि **Get API Key** मा क्लिक गर्नुहोस् र **Generate Key** मा क्लिक गर्नुहोस्।\n",
    "4) उत्पन्न गरिएको key लाई NVIDIA_API_KEY को रूपमा प्रतिलिपि गर्नुहोस् र सुरक्षित राख्नुहोस्। त्यसपछि, तपाईंले endpoints मा पहुँच पाउनुहुनेछ।\n"
   ]
  },
  {
   "cell_type": "code",
   "execution_count": 3,
   "metadata": {},
   "outputs": [],
   "source": [
    "import getpass\n",
    "import os\n",
    "from dotenv import load_dotenv\n",
    "\n",
    "# Load environment variables\n",
    "load_dotenv()\n",
    "\n",
    "if not os.environ.get(\"NVIDIA_API_KEY\", \"\").startswith(\"nvapi-\"):\n",
    "    nvidia_api_key = getpass.getpass(\"Enter your NVIDIA API key: \")\n",
    "    assert nvidia_api_key.startswith(\"nvapi-\"), f\"{nvidia_api_key[:5]}... is not a valid key\"\n",
    "    os.environ[\"NVIDIA_API_KEY\"] = nvidia_api_key\n"
   ]
  },
  {
   "cell_type": "markdown",
   "metadata": {},
   "source": [
    "## RAG उदाहरण LLM र Embedding प्रयोग गर्दै\n",
    "### १) LLM सुरु गर्नुहोस्\n",
    "`llama-index-llms-nvidia`, जसलाई NVIDIA को LLM कनेक्टर पनि भनिन्छ, तपाईंलाई NVIDIA API क्याटलगमा उपलब्ध उपयुक्त मोडेलहरूसँग जडान गर्न र तिनीहरूबाट उत्पादन गर्न अनुमति दिन्छ। च्याट कम्प्लिशन मोडेलहरूको सूची यहाँ हेर्नुहोस्: https://build.nvidia.com/search?term=Text-to-Text\n",
    "\n",
    "यहाँ हामी **mixtral-8x7b-instruct-v0.1** प्रयोग गर्नेछौं।\n"
   ]
  },
  {
   "cell_type": "code",
   "execution_count": 75,
   "metadata": {},
   "outputs": [],
   "source": [
    "from llama_index.core import Settings\n",
    "from llama_index.llms.nvidia import NVIDIA\n",
    "\n",
    "# Here we are using mixtral-8x7b-instruct-v0.1 model from API Catalog\n",
    "Settings.llm = NVIDIA(model=\"microsoft/phi-3.5-moe-instruct\", api_key=os.getenv(\"NVIDIA_API_KEY\"))"
   ]
  },
  {
   "cell_type": "markdown",
   "metadata": {},
   "source": [
    "### 2) एम्बेडिङ सुरु गर्नुहोस्  \n",
    "`llama-index-embeddings-nvidia`, जसलाई NVIDIA को Embeddings कनेक्टर पनि भनिन्छ, तपाईंलाई NVIDIA API क्याटलगमा उपलब्ध उपयुक्त मोडेलहरूसँग जडान गर्न र तिनीहरूबाट उत्पादन गर्न अनुमति दिन्छ। हामीले `nvidia/nv-embedqa-e5-v5` लाई एम्बेडिङ मोडेलको रूपमा चयन गरेका छौं। यहाँ पाठ एम्बेडिङ मोडेलहरूको सूची हेर्नुहोस्: https://build.nvidia.com/nim?filters=usecase%3Ausecase_text_to_embedding%2Cusecase%3Ausecase_image_to_embedding  \n"
   ]
  },
  {
   "cell_type": "code",
   "execution_count": 6,
   "metadata": {},
   "outputs": [],
   "source": [
    "from llama_index.embeddings.nvidia import NVIDIAEmbedding\n",
    "\n",
    "Settings.embed_model = NVIDIAEmbedding(model=\"nvidia/nv-embedqa-e5-v5\", api_key=os.getenv(\"NVIDIA_API_KEY\"))"
   ]
  },
  {
   "cell_type": "markdown",
   "metadata": {},
   "source": []
  },
  {
   "cell_type": "code",
   "execution_count": 76,
   "metadata": {},
   "outputs": [],
   "source": [
    "import logging\n",
    "import sys\n",
    "import os\n",
    "import getpass\n",
    "from azure.core.credentials import AzureKeyCredential\n",
    "from azure.search.documents import SearchClient\n",
    "from azure.search.documents.indexes import SearchIndexClient\n",
    "from IPython.display import Markdown, display\n",
    "from llama_index.vector_stores.azureaisearch import AzureAISearchVectorStore, IndexManagement\n",
    "\n",
    "\n",
    "search_service_api_key = os.getenv('AZURE_SEARCH_ADMIN_KEY') or getpass.getpass('Enter your Azure Search API key: ')\n",
    "search_service_endpoint = os.getenv('AZURE_SEARCH_SERVICE_ENDPOINT') or getpass.getpass('Enter your Azure Search service endpoint: ')\n",
    "search_service_api_version = \"2024-07-01\"\n",
    "credential = AzureKeyCredential(search_service_api_key)\n",
    "\n",
    "# Index name to use\n",
    "index_name = \"llamaindex-nvidia-azureaisearch-demo\"\n",
    "\n",
    "# Use index client to demonstrate creating an index\n",
    "index_client = SearchIndexClient(\n",
    "    endpoint=search_service_endpoint,\n",
    "    credential=credential,\n",
    ")\n",
    "\n",
    "# Use search client to demonstrate using existing index\n",
    "search_client = SearchClient(\n",
    "    endpoint=search_service_endpoint,\n",
    "    index_name=index_name,\n",
    "    credential=credential,\n",
    ")"
   ]
  },
  {
   "cell_type": "code",
   "execution_count": null,
   "metadata": {},
   "outputs": [],
   "source": [
    "vector_store = AzureAISearchVectorStore(\n",
    "    search_or_index_client=index_client,\n",
    "    index_name=index_name,\n",
    "    index_management=IndexManagement.CREATE_IF_NOT_EXISTS,\n",
    "    id_field_key=\"id\",\n",
    "    chunk_field_key=\"chunk\",\n",
    "    embedding_field_key=\"embedding\",\n",
    "    embedding_dimensionality=1024, # dimensionality for nv-embedqa-e5-v5 model\n",
    "    metadata_string_field_key=\"metadata\",\n",
    "    doc_id_field_key=\"doc_id\",\n",
    "    language_analyzer=\"en.lucene\",\n",
    "    vector_algorithm_type=\"exhaustiveKnn\",\n",
    "    # compression_type=\"binary\" # Option to use \"scalar\" or \"binary\". NOTE: compression is only supported for HNSW\n",
    ")"
   ]
  },
  {
   "cell_type": "markdown",
   "metadata": {},
   "source": []
  },
  {
   "cell_type": "code",
   "execution_count": 20,
   "metadata": {},
   "outputs": [],
   "source": [
    "from llama_index.core import SimpleDirectoryReader, StorageContext, VectorStoreIndex\n",
    "from llama_index.core.text_splitter import TokenTextSplitter\n",
    "\n",
    "# Configure text splitter (nv-embedqa-e5-v5 model has a limit of 512 tokens per input size)\n",
    "text_splitter = TokenTextSplitter(separator=\" \", chunk_size=500, chunk_overlap=10)\n",
    "\n",
    "# Load documents\n",
    "documents = SimpleDirectoryReader(\n",
    "    input_files=[\"data/txt/state_of_the_union.txt\"]\n",
    ").load_data()\n",
    "storage_context = StorageContext.from_defaults(vector_store=vector_store)\n",
    "\n",
    "# Create index with text splitter\n",
    "index = VectorStoreIndex.from_documents(\n",
    "    documents,\n",
    "    transformations=[text_splitter],\n",
    "    storage_context=storage_context,\n",
    ")"
   ]
  },
  {
   "cell_type": "markdown",
   "metadata": {},
   "source": [
    "### ५) आफ्नो डाटामा प्रश्न सोध्नको लागि क्वेरी इन्जिन बनाउनुहोस्\n",
    "\n",
    "यहाँ Azure AI Search मा शुद्ध भेक्टर खोज प्रयोग गरेर र हाम्रो LLM (Phi-3.5-MOE) मा प्रतिक्रिया आधार बनाउँदै गरिएको एक क्वेरी छ।\n"
   ]
  },
  {
   "cell_type": "code",
   "execution_count": 69,
   "metadata": {},
   "outputs": [
    {
     "data": {
      "text/markdown": [
       " The speaker mentioned the Ukrainian Ambassador to the United States, along with other members of Congress, the Cabinet, and various officials such as the Vice President, the First Lady, and the Second Gentleman, as being present in the chamber."
      ],
      "text/plain": [
       "<IPython.core.display.Markdown object>"
      ]
     },
     "metadata": {},
     "output_type": "display_data"
    }
   ],
   "source": [
    "query_engine = index.as_query_engine()\n",
    "response = query_engine.query(\"Who did the speaker mention as being present in the chamber?\")\n",
    "display(Markdown(f\"{response}\"))"
   ]
  },
  {
   "cell_type": "markdown",
   "metadata": {},
   "source": [
    "यहाँ Azure AI खोजमा हाइब्रिड खोज प्रयोग गर्ने एक प्रश्न छ।\n"
   ]
  },
  {
   "cell_type": "code",
   "execution_count": 70,
   "metadata": {},
   "outputs": [
    {
     "data": {
      "text/markdown": [
       " The Russian stock market experienced a significant drop, losing 40% of its value. Additionally, trading had to be suspended due to the ongoing situation."
      ],
      "text/plain": [
       "<IPython.core.display.Markdown object>"
      ]
     },
     "metadata": {},
     "output_type": "display_data"
    },
    {
     "name": "stdout",
     "output_type": "stream",
     "text": [
      "\n",
      "\n",
      "Source Nodes:\n",
      "file_path: data\\txt\\state_of_the_union.txt\n",
      "\n",
      "building a coalition of other freedom-loving nations from Europe and the Americas to Asia and Africa to confront Putin. \n",
      "\n",
      "I spent countless hours unifying our European allies. We shared with the world in advance what we knew Putin was planning and precisely how he would try to falsely justify his aggression.  \n",
      "\n",
      "We countered Russia’s lies with truth.   \n",
      "\n",
      "And now that he has acted the free world is holding him accountable. \n",
      "\n",
      "Along with twenty-seven members of the European Union including France, Germany, Italy, as well as countries like the United Kingdom, Canada, Japan, Korea, Australia, New Zealand, and many others, even Switzerland. \n",
      "\n",
      "We are inflicting pain on Russia and supporting the people of Ukraine. Putin is now isolated from the world more than ever. \n",
      "\n",
      "Together with our allies –we are right now enforcing powerful economic sanctions. \n",
      "\n",
      "We are cutting off Russia’s largest banks from the international financial system.  \n",
      "\n",
      "Preventing Russia’s central bank from defending the Russian Ruble making Putin’s $630 Billion “war fund” worthless.   \n",
      "\n",
      "We are choking off Russia’s access to technology that will sap its economic strength and weaken its military for years to come.  \n",
      "\n",
      "Tonight I say to the Russian oligarchs and corrupt leaders who have bilked billions of dollars off this violent regime no more. \n",
      "\n",
      "The U.S. Department of Justice is assembling a dedicated task force to go after the crimes of Russian oligarchs.  \n",
      "\n",
      "We are joining with our European allies to find and seize your yachts your luxury apartments your private jets. We are coming for your ill-begotten gains. \n",
      "\n",
      "And tonight I am announcing that we will join our allies in closing off American air space to all Russian flights – further isolating Russia – and adding an additional squeeze –on their economy. The Ruble has lost 30% of its value. \n",
      "\n",
      "The Russian stock market has lost 40% of its value and trading remains suspended. Russia’s economy is reeling and Putin alone is to blame. \n",
      "\n",
      "Together with our allies we are providing support to the Ukrainians in their fight for freedom. Military assistance. Economic assistance. Humanitarian assistance. \n",
      "\n",
      "We are giving more than $1 Billion in direct assistance to Ukraine. \n",
      "\n",
      "And we will continue to aid the Ukrainian people as they defend their country and to help ease their suffering.  \n",
      "\n",
      "Let me be clear, our forces are not engaged and will not engage in\n",
      "file_path: data\\txt\\state_of_the_union.txt\n",
      "\n",
      "our forces are not engaged and will not engage in conflict with Russian forces in Ukraine.  \n",
      "\n",
      "Our forces are not going to Europe to fight in Ukraine, but to defend our NATO Allies – in the event that Putin decides to keep moving west.  \n",
      "\n",
      "For that purpose we’ve mobilized American ground forces, air squadrons, and ship deployments to protect NATO countries including Poland, Romania, Latvia, Lithuania, and Estonia. \n",
      "\n",
      "As I have made crystal clear the United States and our Allies will defend every inch of territory of NATO countries with the full force of our collective power.  \n",
      "\n",
      "And we remain clear-eyed. The Ukrainians are fighting back with pure courage. But the next few days weeks, months, will be hard on them.  \n",
      "\n",
      "Putin has unleashed violence and chaos.  But while he may make gains on the battlefield – he will pay a continuing high price over the long run. \n",
      "\n",
      "And a proud Ukrainian people, who have known 30 years  of independence, have repeatedly shown that they will not tolerate anyone who tries to take their country backwards.  \n",
      "\n",
      "To all Americans, I will be honest with you, as I’ve always promised. A Russian dictator, invading a foreign country, has costs around the world. \n",
      "\n",
      "And I’m taking robust action to make sure the pain of our sanctions  is targeted at Russia’s economy. And I will use every tool at our disposal to protect American businesses and consumers. \n",
      "\n",
      "Tonight, I can announce that the United States has worked with 30 other countries to release 60 Million barrels of oil from reserves around the world.  \n",
      "\n",
      "America will lead that effort, releasing 30 Million barrels from our own Strategic Petroleum Reserve. And we stand ready to do more if necessary, unified with our allies.  \n",
      "\n",
      "These steps will help blunt gas prices here at home. And I know the news about what’s happening can seem alarming. \n",
      "\n",
      "But I want you to know that we are going to be okay. \n",
      "\n",
      "When the history of this era is written Putin’s war on Ukraine will have left Russia weaker and the rest of the world stronger. \n",
      "\n",
      "While it shouldn’t have taken something so terrible for people around the world to see what’s at stake now everyone sees it clearly. \n",
      "\n",
      "We see the unity among leaders of nations and a more unified Europe a more unified West. And we see unity among the people who are gathering in cities in large crowds around the world\n"
     ]
    }
   ],
   "source": [
    "from llama_index.core.query_engine import RetrieverQueryEngine\n",
    "from llama_index.core.vector_stores.types import VectorStoreQueryMode\n",
    "from IPython.display import Markdown, display\n",
    "from llama_index.core.schema import MetadataMode\n",
    "\n",
    "# Initialize hybrid retriever and query engine\n",
    "hybrid_retriever = index.as_retriever(vector_store_query_mode=VectorStoreQueryMode.HYBRID)\n",
    "hybrid_query_engine = RetrieverQueryEngine(retriever=hybrid_retriever)\n",
    "\n",
    "# Query execution\n",
    "query = \"What were the exact economic consequences mentioned in relation to Russia's stock market?\"\n",
    "response = hybrid_query_engine.query(query)\n",
    "\n",
    "# Display the response\n",
    "display(Markdown(f\"{response}\"))\n",
    "print(\"\\n\")\n",
    "\n",
    "# Print the source nodes\n",
    "print(\"Source Nodes:\")\n",
    "for node in response.source_nodes:\n",
    "    print(node.get_content(metadata_mode=MetadataMode.LLM))"
   ]
  },
  {
   "cell_type": "markdown",
   "metadata": {},
   "source": [
    "#### भेक्टर खोज विश्लेषण\n",
    "LLM को प्रतिक्रिया स्रोत पाठमा उल्लेखित रूसको स्टक बजारसँग सम्बन्धित मुख्य आर्थिक परिणामहरूलाई सही रूपमा समेट्छ। विशेष रूपमा, यसले बताउँछ कि रूसी स्टक बजारमा ठूलो गिरावट आयो, जसले यसको मूल्यको ४०% गुमायो, र चलिरहेको परिस्थितिका कारण व्यापार स्थगित गरियो। यो प्रतिक्रिया स्रोतमा प्रदान गरिएको जानकारीसँग राम्रोसँग मेल खान्छ, जसले देखाउँछ कि LLM ले रूसको कार्यहरू र लगाइएको प्रतिबन्धहरूको परिणामस्वरूप स्टक बजारमा परेको प्रभावलाई सही रूपमा पहिचान र संक्षेपमा प्रस्तुत गरेको छ।\n",
    "\n",
    "#### स्रोत नोड्स टिप्पणी\n",
    "स्रोत नोड्सले अन्तर्राष्ट्रिय प्रतिबन्धका कारण रूसले सामना गरेको आर्थिक परिणामहरूको विस्तृत विवरण प्रदान गर्दछ। पाठले उल्लेख गर्दछ कि रूसी स्टक बजारले आफ्नो मूल्यको ४०% गुमायो, र व्यापार स्थगित गरियो। साथै, यसले अन्य आर्थिक प्रभावहरू जस्तै रूबलको अवमूल्यन र रूसको अर्थतन्त्रको व्यापक अलगावलाई पनि उल्लेख गर्दछ। LLM को प्रतिक्रियाले यी नोड्सबाट महत्वपूर्ण बिन्दुहरूलाई प्रभावकारी रूपमा संक्षेपमा प्रस्तुत गरेको छ, विशेष गरी सोधिएको प्रश्न अनुसार स्टक बजारको प्रभावमा केन्द्रित हुँदै।\n"
   ]
  },
  {
   "cell_type": "markdown",
   "metadata": {},
   "source": [
    "अब, एउटा प्रश्नलाई हेरौं जहाँ Hybrid Search ले राम्रो आधारभूत उत्तर प्रदान गर्दैन:\n"
   ]
  },
  {
   "cell_type": "code",
   "execution_count": 71,
   "metadata": {},
   "outputs": [
    {
     "data": {
      "text/markdown": [
       " The provided context does not specify the exact date of Russia's invasion of Ukraine. However, it does mention that the events discussed are happening in the current era and that the actions taken are in response to Putin's aggression. For the precise date, one would need to refer to external sources or historical records."
      ],
      "text/plain": [
       "<IPython.core.display.Markdown object>"
      ]
     },
     "metadata": {},
     "output_type": "display_data"
    },
    {
     "name": "stdout",
     "output_type": "stream",
     "text": [
      "\n",
      "\n",
      "Source Nodes:\n",
      "file_path: data\\txt\\state_of_the_union.txt\n",
      "\n",
      "our forces are not engaged and will not engage in conflict with Russian forces in Ukraine.  \n",
      "\n",
      "Our forces are not going to Europe to fight in Ukraine, but to defend our NATO Allies – in the event that Putin decides to keep moving west.  \n",
      "\n",
      "For that purpose we’ve mobilized American ground forces, air squadrons, and ship deployments to protect NATO countries including Poland, Romania, Latvia, Lithuania, and Estonia. \n",
      "\n",
      "As I have made crystal clear the United States and our Allies will defend every inch of territory of NATO countries with the full force of our collective power.  \n",
      "\n",
      "And we remain clear-eyed. The Ukrainians are fighting back with pure courage. But the next few days weeks, months, will be hard on them.  \n",
      "\n",
      "Putin has unleashed violence and chaos.  But while he may make gains on the battlefield – he will pay a continuing high price over the long run. \n",
      "\n",
      "And a proud Ukrainian people, who have known 30 years  of independence, have repeatedly shown that they will not tolerate anyone who tries to take their country backwards.  \n",
      "\n",
      "To all Americans, I will be honest with you, as I’ve always promised. A Russian dictator, invading a foreign country, has costs around the world. \n",
      "\n",
      "And I’m taking robust action to make sure the pain of our sanctions  is targeted at Russia’s economy. And I will use every tool at our disposal to protect American businesses and consumers. \n",
      "\n",
      "Tonight, I can announce that the United States has worked with 30 other countries to release 60 Million barrels of oil from reserves around the world.  \n",
      "\n",
      "America will lead that effort, releasing 30 Million barrels from our own Strategic Petroleum Reserve. And we stand ready to do more if necessary, unified with our allies.  \n",
      "\n",
      "These steps will help blunt gas prices here at home. And I know the news about what’s happening can seem alarming. \n",
      "\n",
      "But I want you to know that we are going to be okay. \n",
      "\n",
      "When the history of this era is written Putin’s war on Ukraine will have left Russia weaker and the rest of the world stronger. \n",
      "\n",
      "While it shouldn’t have taken something so terrible for people around the world to see what’s at stake now everyone sees it clearly. \n",
      "\n",
      "We see the unity among leaders of nations and a more unified Europe a more unified West. And we see unity among the people who are gathering in cities in large crowds around the world\n",
      "file_path: data\\txt\\state_of_the_union.txt\n",
      "\n",
      "building a coalition of other freedom-loving nations from Europe and the Americas to Asia and Africa to confront Putin. \n",
      "\n",
      "I spent countless hours unifying our European allies. We shared with the world in advance what we knew Putin was planning and precisely how he would try to falsely justify his aggression.  \n",
      "\n",
      "We countered Russia’s lies with truth.   \n",
      "\n",
      "And now that he has acted the free world is holding him accountable. \n",
      "\n",
      "Along with twenty-seven members of the European Union including France, Germany, Italy, as well as countries like the United Kingdom, Canada, Japan, Korea, Australia, New Zealand, and many others, even Switzerland. \n",
      "\n",
      "We are inflicting pain on Russia and supporting the people of Ukraine. Putin is now isolated from the world more than ever. \n",
      "\n",
      "Together with our allies –we are right now enforcing powerful economic sanctions. \n",
      "\n",
      "We are cutting off Russia’s largest banks from the international financial system.  \n",
      "\n",
      "Preventing Russia’s central bank from defending the Russian Ruble making Putin’s $630 Billion “war fund” worthless.   \n",
      "\n",
      "We are choking off Russia’s access to technology that will sap its economic strength and weaken its military for years to come.  \n",
      "\n",
      "Tonight I say to the Russian oligarchs and corrupt leaders who have bilked billions of dollars off this violent regime no more. \n",
      "\n",
      "The U.S. Department of Justice is assembling a dedicated task force to go after the crimes of Russian oligarchs.  \n",
      "\n",
      "We are joining with our European allies to find and seize your yachts your luxury apartments your private jets. We are coming for your ill-begotten gains. \n",
      "\n",
      "And tonight I am announcing that we will join our allies in closing off American air space to all Russian flights – further isolating Russia – and adding an additional squeeze –on their economy. The Ruble has lost 30% of its value. \n",
      "\n",
      "The Russian stock market has lost 40% of its value and trading remains suspended. Russia’s economy is reeling and Putin alone is to blame. \n",
      "\n",
      "Together with our allies we are providing support to the Ukrainians in their fight for freedom. Military assistance. Economic assistance. Humanitarian assistance. \n",
      "\n",
      "We are giving more than $1 Billion in direct assistance to Ukraine. \n",
      "\n",
      "And we will continue to aid the Ukrainian people as they defend their country and to help ease their suffering.  \n",
      "\n",
      "Let me be clear, our forces are not engaged and will not engage in\n"
     ]
    }
   ],
   "source": [
    "# Query execution\n",
    "query = \"What was the precise date when Russia invaded Ukraine?\"\n",
    "response = hybrid_query_engine.query(query)\n",
    "\n",
    "# Display the response\n",
    "display(Markdown(f\"{response}\"))\n",
    "print(\"\\n\")\n",
    "\n",
    "# Print the source nodes\n",
    "print(\"Source Nodes:\")\n",
    "for node in response.source_nodes:\n",
    "    print(node.get_content(metadata_mode=MetadataMode.LLM))\n"
   ]
  },
  {
   "cell_type": "markdown",
   "metadata": {},
   "source": [
    "### हाइब्रिड खोज: LLM प्रतिक्रिया विश्लेषण\n",
    "हाइब्रिड खोजको उदाहरणमा LLM प्रतिक्रिया देखाउँछ कि दिइएको सन्दर्भले रूसले युक्रेनमा आक्रमण गरेको ठ्याक्कै मिति निर्दिष्ट गर्दैन। यो प्रतिक्रियाले संकेत गर्दछ कि LLM स्रोत दस्तावेजहरूमा उपलब्ध जानकारी प्रयोग गरिरहेको छ तर पाठमा ठ्याक्कै विवरणको अभावलाई स्वीकार गर्दछ।\n",
    "\n",
    "प्रतिक्रिया सही छ किनभने यसले सन्दर्भमा रूसको आक्रमणसँग सम्बन्धित घटनाहरू उल्लेख गरिएको छ तर ठ्याक्कै आक्रमणको मिति निर्दिष्ट गरिएको छैन भन्ने कुरा पहिचान गर्दछ। यसले LLM को प्रदान गरिएको जानकारी बुझ्ने क्षमता देखाउँछ र सामग्रीमा रहेको खाली ठाउँलाई चिन्हित गर्दछ। LLM ले प्रयोगकर्तालाई ठ्याक्कै मिति पत्ता लगाउन बाह्य स्रोतहरू वा ऐतिहासिक अभिलेखहरूको खोजी गर्न सुझाव दिन्छ, जसले अपूर्ण जानकारी हुँदा सतर्कता देखाउँछ।\n",
    "\n",
    "### स्रोत नोडहरूको विश्लेषण\n",
    "हाइब्रिड खोजको उदाहरणमा स्रोत नोडहरूले रूसको युक्रेनमा कार्यहरूको विरुद्धमा अमेरिकाको प्रतिक्रिया सम्बन्धी भाषणका अंशहरू समावेश गर्दछ। यी नोडहरूले व्यापक भू-राजनीतिक प्रभाव र आक्रमणको प्रतिक्रियामा अमेरिका र यसको सहयोगीहरूले उठाएका कदमहरूलाई जोड दिन्छन्, तर ठ्याक्कै आक्रमणको मिति उल्लेख गर्दैनन्। यो LLM प्रतिक्रियासँग मेल खान्छ, जसले सही रूपमा सन्दर्भमा ठ्याक्कै मिति जानकारीको अभावलाई पहिचान गर्दछ।\n"
   ]
  },
  {
   "cell_type": "code",
   "execution_count": 72,
   "metadata": {},
   "outputs": [
    {
     "data": {
      "text/markdown": [
       " The provided context does not specify the exact date of Russia's invasion of Ukraine. However, it mentions that the event occurred six days before the speech was given. To determine the precise date, one would need to know the date of the speech."
      ],
      "text/plain": [
       "<IPython.core.display.Markdown object>"
      ]
     },
     "metadata": {},
     "output_type": "display_data"
    },
    {
     "name": "stdout",
     "output_type": "stream",
     "text": [
      "\n",
      "\n",
      "Source Nodes:\n",
      "file_path: data\\txt\\state_of_the_union.txt\n",
      "\n",
      "Madam Speaker, Madam Vice President, our First Lady and Second Gentleman. Members of Congress and the Cabinet. Justices of the Supreme Court. My fellow Americans.  \n",
      "\n",
      "Last year COVID-19 kept us apart. This year we are finally together again. \n",
      "\n",
      "Tonight, we meet as Democrats Republicans and Independents. But most importantly as Americans. \n",
      "\n",
      "With a duty to one another to the American people to the Constitution. \n",
      "\n",
      "And with an unwavering resolve that freedom will always triumph over tyranny. \n",
      "\n",
      "Six days ago, Russia’s Vladimir Putin sought to shake the foundations of the free world thinking he could make it bend to his menacing ways. But he badly miscalculated. \n",
      "\n",
      "He thought he could roll into Ukraine and the world would roll over. Instead he met a wall of strength he never imagined. \n",
      "\n",
      "He met the Ukrainian people. \n",
      "\n",
      "From President Zelenskyy to every Ukrainian, their fearlessness, their courage, their determination, inspires the world. \n",
      "\n",
      "Groups of citizens blocking tanks with their bodies. Everyone from students to retirees teachers turned soldiers defending their homeland. \n",
      "\n",
      "In this struggle as President Zelenskyy said in his speech to the European Parliament “Light will win over darkness.” The Ukrainian Ambassador to the United States is here tonight. \n",
      "\n",
      "Let each of us here tonight in this Chamber send an unmistakable signal to Ukraine and to the world. \n",
      "\n",
      "Please rise if you are able and show that, Yes, we the United States of America stand with the Ukrainian people. \n",
      "\n",
      "Throughout our history we’ve learned this lesson when dictators do not pay a price for their aggression they cause more chaos.   \n",
      "\n",
      "They keep moving.   \n",
      "\n",
      "And the costs and the threats to America and the world keep rising.   \n",
      "\n",
      "That’s why the NATO Alliance was created to secure peace and stability in Europe after World War 2. \n",
      "\n",
      "The United States is a member along with 29 other nations. \n",
      "\n",
      "It matters. American diplomacy matters. American resolve matters. \n",
      "\n",
      "Putin’s latest attack on Ukraine was premeditated and unprovoked. \n",
      "\n",
      "He rejected repeated efforts at diplomacy. \n",
      "\n",
      "He thought the West and NATO wouldn’t respond. And he thought he could divide us at home. Putin was wrong. We were ready.  Here is what we did.   \n",
      "\n",
      "We prepared extensively and carefully. \n",
      "\n",
      "We spent months building a coalition of other freedom-loving nations from Europe\n",
      "file_path: data\\txt\\state_of_the_union.txt\n",
      "\n",
      "our forces are not engaged and will not engage in conflict with Russian forces in Ukraine.  \n",
      "\n",
      "Our forces are not going to Europe to fight in Ukraine, but to defend our NATO Allies – in the event that Putin decides to keep moving west.  \n",
      "\n",
      "For that purpose we’ve mobilized American ground forces, air squadrons, and ship deployments to protect NATO countries including Poland, Romania, Latvia, Lithuania, and Estonia. \n",
      "\n",
      "As I have made crystal clear the United States and our Allies will defend every inch of territory of NATO countries with the full force of our collective power.  \n",
      "\n",
      "And we remain clear-eyed. The Ukrainians are fighting back with pure courage. But the next few days weeks, months, will be hard on them.  \n",
      "\n",
      "Putin has unleashed violence and chaos.  But while he may make gains on the battlefield – he will pay a continuing high price over the long run. \n",
      "\n",
      "And a proud Ukrainian people, who have known 30 years  of independence, have repeatedly shown that they will not tolerate anyone who tries to take their country backwards.  \n",
      "\n",
      "To all Americans, I will be honest with you, as I’ve always promised. A Russian dictator, invading a foreign country, has costs around the world. \n",
      "\n",
      "And I’m taking robust action to make sure the pain of our sanctions  is targeted at Russia’s economy. And I will use every tool at our disposal to protect American businesses and consumers. \n",
      "\n",
      "Tonight, I can announce that the United States has worked with 30 other countries to release 60 Million barrels of oil from reserves around the world.  \n",
      "\n",
      "America will lead that effort, releasing 30 Million barrels from our own Strategic Petroleum Reserve. And we stand ready to do more if necessary, unified with our allies.  \n",
      "\n",
      "These steps will help blunt gas prices here at home. And I know the news about what’s happening can seem alarming. \n",
      "\n",
      "But I want you to know that we are going to be okay. \n",
      "\n",
      "When the history of this era is written Putin’s war on Ukraine will have left Russia weaker and the rest of the world stronger. \n",
      "\n",
      "While it shouldn’t have taken something so terrible for people around the world to see what’s at stake now everyone sees it clearly. \n",
      "\n",
      "We see the unity among leaders of nations and a more unified Europe a more unified West. And we see unity among the people who are gathering in cities in large crowds around the world\n"
     ]
    }
   ],
   "source": [
    "# Initialize hybrid retriever and query engine\n",
    "semantic_reranker_retriever = index.as_retriever(vector_store_query_mode=VectorStoreQueryMode.SEMANTIC_HYBRID)\n",
    "semantic_reranker_query_engine = RetrieverQueryEngine(retriever=semantic_reranker_retriever)\n",
    "\n",
    "# Query execution\n",
    "query = \"What was the precise date when Russia invaded Ukraine?\"\n",
    "response = semantic_reranker_query_engine.query(query)\n",
    "\n",
    "# Display the response\n",
    "display(Markdown(f\"{response}\"))\n",
    "print(\"\\n\")\n",
    "\n",
    "# Print the source nodes\n",
    "print(\"Source Nodes:\")\n",
    "for node in response.source_nodes:\n",
    "    print(node.get_content(metadata_mode=MetadataMode.LLM))\n"
   ]
  },
  {
   "cell_type": "markdown",
   "metadata": {},
   "source": [
    "### हाइब्रिड w/रिर्याङ्किङ: LLM प्रतिक्रिया विश्लेषण\n",
    "हाइब्रिड w/रिर्याङ्किङ उदाहरणमा, LLM प्रतिक्रियाले थप सन्दर्भ प्रदान गर्दछ जसले देखाउँछ कि घटना भाषण दिइनु भन्दा छ दिन अघि भएको थियो। यसले संकेत गर्दछ कि LLM ले भाषणको समयको आधारमा आक्रमणको मिति अनुमान गर्न सक्षम छ, यद्यपि सटीकता सुनिश्चित गर्न भाषणको ठ्याक्कै मिति थाहा हुनु आवश्यक छ।\n",
    "\n",
    "यो प्रतिक्रिया सन्दर्भ संकेतहरूको प्रयोग गरेर थप जानकारीमूलक उत्तर दिन सक्ने सुधारिएको क्षमता देखाउँछ। यसले रिर्याङ्किङको फाइदा उजागर गर्दछ, जहाँ LLM ले थप सान्दर्भिक जानकारी पहुँच गर्न र प्राथमिकता दिन सक्छ ताकि चाहिएको विवरण (जस्तै, आक्रमणको मिति) को नजिकको अनुमान प्रदान गर्न सकियोस्।\n",
    "\n",
    "### स्रोत नोडहरूको विश्लेषण\n",
    "यस उदाहरणमा स्रोत नोडहरूले रूसको आक्रमणको समयको सन्दर्भ समावेश गर्दछ, विशेष गरी उल्लेख गर्दै कि यो भाषण भन्दा छ दिन अघि भएको थियो। यद्यपि ठ्याक्कै मिति स्पष्ट रूपमा उल्लेख गरिएको छैन, नोडहरूले अस्थायी सन्दर्भ प्रदान गर्दछ जसले LLM लाई थप सूक्ष्म प्रतिक्रिया दिन सक्षम बनाउँछ। यो विवरणको समावेशले देखाउँछ कि रिर्याङ्किङले LLM लाई प्रदान गरिएको सन्दर्भबाट जानकारी निकाल्न र अनुमान गर्न सक्ने क्षमता सुधार गर्न कसरी मद्दत गर्दछ, जसले थप सटीक र जानकारीमूलक प्रतिक्रिया दिन्छ।\n"
   ]
  },
  {
   "cell_type": "markdown",
   "metadata": {},
   "source": [
    "**नोट:**\n",
    "यस नोटबुकमा, हामीले NVIDIA API Catalog बाट NVIDIA NIM माइक्रोसर्भिसहरू प्रयोग गरेका छौं।  \n",
    "माथिका APIहरू, `NVIDIA (llms)`, `NVIDIAEmbedding`, र [Azure AI Search Semantic Hybrid Retrieval (बिल्ट-इन रीर्याङ्किङ)](https://learn.microsoft.com/azure/search/semantic-search-overview)।  \n",
    "नोट गर्नुहोस्, माथिका APIहरूले स्व-होस्ट गरिएको माइक्रोसर्भिसहरूको पनि समर्थन गर्न सक्छ।  \n",
    "\n",
    "**उदाहरण:**\n",
    "```python\n",
    "NVIDIA(model=\"meta/llama3-8b-instruct\", base_url=\"http://your-nim-host-address:8000/v1\")```\n"
   ]
  },
  {
   "cell_type": "markdown",
   "metadata": {},
   "source": [
    "\n---\n\n**अस्वीकरण**:  \nयो दस्तावेज़ AI अनुवाद सेवा [Co-op Translator](https://github.com/Azure/co-op-translator) प्रयोग गरेर अनुवाद गरिएको हो। हामी शुद्धताको लागि प्रयास गर्छौं, तर कृपया ध्यान दिनुहोस् कि स्वचालित अनुवादहरूमा त्रुटि वा अशुद्धता हुन सक्छ। यसको मूल भाषा मा रहेको मूल दस्तावेज़लाई आधिकारिक स्रोत मानिनुपर्छ। महत्वपूर्ण जानकारीको लागि, व्यावसायिक मानव अनुवाद सिफारिस गरिन्छ। यस अनुवादको प्रयोगबाट उत्पन्न हुने कुनै पनि गलतफहमी वा गलत व्याख्याको लागि हामी जिम्मेवार हुने छैनौं।\n"
   ]
  }
 ],
 "metadata": {
  "kernelspec": {
   "display_name": "Python 3",
   "language": "python",
   "name": "python3"
  },
  "language_info": {
   "codemirror_mode": {
    "name": "ipython",
    "version": 3
   },
   "file_extension": ".py",
   "mimetype": "text/x-python",
   "name": "python",
   "nbconvert_exporter": "python",
   "pygments_lexer": "ipython3",
   "version": "3.11.9"
  },
  "coopTranslator": {
   "original_hash": "c023540b1eda8c0746871294979e1e5c",
   "translation_date": "2025-09-12T19:06:44+00:00",
   "source_file": "md/02.Application/06.MoE/Phi3/azure-ai-search-nvidia-rag.ipynb",
   "language_code": "ne"
  }
 },
 "nbformat": 4,
 "nbformat_minor": 2
}