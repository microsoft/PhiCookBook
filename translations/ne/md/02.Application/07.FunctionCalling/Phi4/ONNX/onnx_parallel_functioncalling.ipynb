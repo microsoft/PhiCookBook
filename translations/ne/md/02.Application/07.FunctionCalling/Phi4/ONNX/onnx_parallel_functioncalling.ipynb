{
 "cells": [
  {
   "cell_type": "markdown",
   "id": "81ad8c65",
   "metadata": {},
   "source": [
    "# Phi-4 Mini ONNX समानान्तर फङ्सन कलिङ ट्युटोरियल\n",
    "\n",
    "यो नोटबुकले Phi-4 Mini लाई ONNX Runtime GenAI सँग समानान्तर फङ्सन कलिङको लागि कसरी प्रयोग गर्ने भनेर देखाउँछ। फङ्सन कलिङले मोडेललाई प्रयोगकर्ताको अनुरोधको आधारमा बाह्य उपकरणहरू र API हरूलाई बुद्धिमानी रूपमा बोलाउन अनुमति दिन्छ।\n",
    "\n",
    "## अवलोकन\n",
    "\n",
    "यस ट्युटोरियलमा, तपाईंले सिक्नुहुनेछ:\n",
    "- Phi-4 Mini लाई ONNX Runtime GenAI सँग सेट अप गर्ने\n",
    "- उडान र होटल बुकिङको लागि फङ्सन स्किमाहरू परिभाषित गर्ने\n",
    "- संरचित आउटपुटको लागि Lark व्याकरणको साथ निर्देशित जेनेरेसन प्रयोग गर्ने\n",
    "- जटिल यात्रा बुकिङ परिदृश्यहरूको लागि समानान्तर फङ्सन कलहरू कार्यान्वयन गर्ने\n",
    "\n",
    "## पूर्वआवश्यकताहरू\n",
    "\n",
    "यो नोटबुक चलाउनु अघि, सुनिश्चित गर्नुहोस् कि तपाईंले:\n",
    "- Phi-4 Mini ONNX मोडेल डाउनलोड गर्नुभएको छ\n",
    "- `onnxruntime-genai` प्याकेज स्थापना गर्नुभएको छ\n",
    "- फङ्सन कलिङ अवधारणाहरूको आधारभूत समझ\n"
   ]
  },
  {
   "cell_type": "markdown",
   "id": "8fc2551b",
   "metadata": {},
   "source": [
    "## चरण १: आवश्यक लाइब्रेरीहरू आयात गर्नुहोस्\n",
    "\n",
    "पहिले, हामी हाम्रो फङ्सन कलिङ कार्यान्वयनको लागि आवश्यक लाइब्रेरीहरू आयात गर्नेछौं।\n"
   ]
  },
  {
   "cell_type": "code",
   "execution_count": 1,
   "id": "7368a24e",
   "metadata": {},
   "outputs": [],
   "source": [
    "import json"
   ]
  },
  {
   "cell_type": "code",
   "execution_count": 2,
   "id": "3e806340",
   "metadata": {},
   "outputs": [],
   "source": [
    "import onnxruntime_genai as og"
   ]
  },
  {
   "cell_type": "markdown",
   "id": "dc55f0ab",
   "metadata": {},
   "source": [
    "## चरण २: मोडेल सेटअप र कन्फिगरेसन\n",
    "\n",
    "अब हामी Phi-4 Mini ONNX मोडेललाई कन्फिगर गर्नेछौं। आफ्नो वास्तविक मोडेल निर्देशिका प्रयोग गर्न पथलाई परिवर्तन गर्न निश्चित गर्नुहोस्।\n"
   ]
  },
  {
   "cell_type": "code",
   "execution_count": null,
   "id": "1e8edfbf",
   "metadata": {},
   "outputs": [],
   "source": [
    "# TODO: Replace with your actual Phi-4 Mini ONNX model path\n",
    "# Download from: https://huggingface.co/microsoft/Phi-4-mini-onnx\n",
    "path = 'Your phi-4-mini-onnx path'  # Update this path!"
   ]
  },
  {
   "cell_type": "code",
   "execution_count": 4,
   "id": "b80f5bb5",
   "metadata": {},
   "outputs": [],
   "source": [
    "config = og.Config(path)"
   ]
  },
  {
   "cell_type": "code",
   "execution_count": 5,
   "id": "10e9a553",
   "metadata": {},
   "outputs": [],
   "source": [
    "model = og.Model(config)"
   ]
  },
  {
   "cell_type": "code",
   "execution_count": 6,
   "id": "66ce23b1",
   "metadata": {},
   "outputs": [],
   "source": [
    "tokenizer = og.Tokenizer(model)\n",
    "tokenizer_stream = tokenizer.create_stream()"
   ]
  },
  {
   "cell_type": "markdown",
   "id": "08ac6d4a",
   "metadata": {},
   "source": [
    "## चरण ३: उत्पादन प्यारामिटरहरू कन्फिगर गर्नुहोस्\n",
    "\n",
    "मोडेलको आउटपुट व्यवहार नियन्त्रण गर्न उत्पादन प्यारामिटरहरू सेट गर्नुहोस्। यी सेटिङहरूले फङ्सन कलिङका लागि निश्चित र केन्द्रित प्रतिक्रिया सुनिश्चित गर्छ।\n"
   ]
  },
  {
   "cell_type": "code",
   "execution_count": 7,
   "id": "af01f5ed",
   "metadata": {},
   "outputs": [],
   "source": [
    "# Configure generation parameters for deterministic function calling\n",
    "search_options = {}\n",
    "search_options['max_length'] = 4096      # Maximum tokens to generate\n",
    "search_options['temperature'] = 0.00001  # Very low temperature for deterministic output\n",
    "search_options['top_p'] = 1.0            # Nucleus sampling parameter\n",
    "search_options['do_sample'] = False       # Disable sampling for consistent results"
   ]
  },
  {
   "cell_type": "markdown",
   "id": "c2808a51",
   "metadata": {},
   "source": [
    "## चरण ४: उपलब्ध कार्यहरू परिभाषित गर्नुहोस्\n",
    "\n",
    "यहाँ हामी हाम्रो AI सहायकले कल गर्न सक्ने कार्यहरू परिभाषित गर्छौं। यस उदाहरणमा, हामीसँग दुई यात्रा सम्बन्धित कार्यहरू छन्:\n",
    "1. **booking_flight_tickets**: विमानस्थलहरू बीच उडान टिकट बुक गर्नका लागि\n",
    "2. **booking_hotels**: होटल आवास बुक गर्नका लागि\n",
    "\n",
    "कार्य परिभाषाहरू OpenAI को कार्य कल गर्ने स्कीमा ढाँचा अनुसरण गर्छ।\n"
   ]
  },
  {
   "cell_type": "code",
   "execution_count": 8,
   "id": "fc53b93b",
   "metadata": {},
   "outputs": [],
   "source": [
    "tool_list = '[{\"name\": \"booking_flight_tickets\", \"description\": \"booking flights\", \"parameters\": {\"origin_airport_code\": {\"description\": \"The name of Departure airport code\", \"type\": \"string\"}, \"destination_airport_code\": {\"description\": \"The name of Destination airport code\", \"type\": \"string\"}, \"departure_date\": {\"description\": \"The date of outbound flight\", \"type\": \"string\"}, \"return_date\": {\"description\": \"The date of return flight\", \"type\": \"string\"}}}, {\"name\": \"booking_hotels\", \"description\": \"booking hotel\", \"parameters\": {\"destination\": {\"description\": \"The name of the city\", \"type\": \"string\"}, \"check_in_date\": {\"description\": \"The date of check in\", \"type\": \"string\"}, \"checkout_date\": {\"description\": \"The date of check out\", \"type\": \"string\"}}}]'"
   ]
  },
  {
   "cell_type": "markdown",
   "id": "f4bb4048",
   "metadata": {},
   "source": [
    "## चरण ५: व्याकरण निर्माण सहायक कार्यहरू\n",
    "\n",
    "यी सहायक कार्यहरूले हाम्रो कार्य परिभाषालाई Lark व्याकरण ढाँचामा रूपान्तरण गर्छन्, जुन ONNX Runtime GenAI द्वारा निर्देशित निर्माणको लागि प्रयोग गरिन्छ। यसले मोडेलले सही JSON ढाँचामा मान्य कार्य कलहरू उत्पादन गर्न सुनिश्चित गर्दछ।\n"
   ]
  },
  {
   "cell_type": "code",
   "execution_count": 9,
   "id": "0f86e51c",
   "metadata": {},
   "outputs": [],
   "source": [
    "def get_lark_grammar(input_tools):\n",
    "    tools_list = get_tools_list(input_tools)\n",
    "    prompt_tool_input = create_prompt_tool_input(tools_list)\n",
    "    if len(tools_list) == 1:\n",
    "        # output = (\"start: TEXT | fun_call\\n\" \"TEXT: /[^{](.|\\\\n)*/\\n\" \" fun_call: <|tool_call|> %json \" + json.dumps(tools_list[0]))\n",
    "        output = (\"start: TEXT | fun_call\\n\" \"TEXT: /[^{](.|\\\\n)*/\\n\" \" fun_call: <|tool_call|> %json \" + json.dumps(convert_tool_to_grammar_input(tools_list[0])))\n",
    "        return prompt_tool_input, output\n",
    "    else:\n",
    "        return prompt_tool_input, \"start: TEXT | fun_call \\n TEXT: /[^{](.|\\n)*/ \\n fun_call: <|tool_call|> %json {\\\"anyOf\\\": [\" + ','.join([json.dumps(tool) for tool in tools_list]) + \"]}\"\n"
   ]
  },
  {
   "cell_type": "code",
   "execution_count": 10,
   "id": "7f2da98d",
   "metadata": {},
   "outputs": [],
   "source": [
    "def get_tools_list(input_tools):\n",
    "    # input_tools format: '[{\"name\": \"fn1\", \"description\": \"fn details\", \"parameters\": {\"p1\": {\"description\": \"details\", \"type\": \"string\"}}},\n",
    "    # {\"fn2\": 2},{\"fn3\": 3}]'\n",
    "    tools_list = []\n",
    "    try:\n",
    "        tools_list = json.loads(input_tools)\n",
    "    except json.JSONDecodeError:\n",
    "        raise ValueError(\"Invalid JSON format for tools list, expected format: '[{\\\"name\\\": \\\"fn1\\\"},{\\\"name\\\": \\\"fn2\\\"}]'\")\n",
    "    if len(tools_list) == 0:\n",
    "        raise ValueError(\"Tools list cannot be empty\")\n",
    "    return tools_list"
   ]
  },
  {
   "cell_type": "code",
   "execution_count": 11,
   "id": "1b1c2261",
   "metadata": {},
   "outputs": [],
   "source": [
    "def create_prompt_tool_input(tools_list):\n",
    "    tool_input = str(tools_list[0])\n",
    "    for tool in tools_list[1:]:\n",
    "        tool_input += ',' + str(tool)\n",
    "    return tool_input"
   ]
  },
  {
   "cell_type": "code",
   "execution_count": 12,
   "id": "aa82c09c",
   "metadata": {},
   "outputs": [],
   "source": [
    "def convert_tool_to_grammar_input(tool):\n",
    "    param_props = {}\n",
    "    required_params = []\n",
    "    for param_name, param_info in tool.get(\"parameters\", {}).items():\n",
    "        param_props[param_name] = {\n",
    "            \"type\": param_info.get(\"type\", \"string\"),\n",
    "            \"description\": param_info.get(\"description\", \"\")\n",
    "        }\n",
    "        required_params.append(param_name)\n",
    "    output_schema = {\n",
    "        \"description\": tool.get('description', ''),\n",
    "        \"type\": \"object\",\n",
    "        \"required\": [\"name\", \"parameters\"],\n",
    "        \"additionalProperties\": False,\n",
    "        \"properties\": {\n",
    "            \"name\": { \"const\": tool[\"name\"] },\n",
    "            \"parameters\": {\n",
    "                \"type\": \"object\",\n",
    "                \"properties\": param_props,\n",
    "                \"required\": required_params,\n",
    "                \"additionalProperties\": False\n",
    "            }\n",
    "        }\n",
    "    }\n",
    "    if len(param_props) == 0:\n",
    "        output_schema[\"required\"] = [\"name\"]\n",
    "    return output_schema"
   ]
  },
  {
   "cell_type": "code",
   "execution_count": 13,
   "id": "284c9474",
   "metadata": {},
   "outputs": [
    {
     "data": {
      "text/plain": [
       "(\"{'name': 'booking_flight_tickets', 'description': 'booking flights', 'parameters': {'origin_airport_code': {'description': 'The name of Departure airport code', 'type': 'string'}, 'destination_airport_code': {'description': 'The name of Destination airport code', 'type': 'string'}, 'departure_date': {'description': 'The date of outbound flight', 'type': 'string'}, 'return_date': {'description': 'The date of return flight', 'type': 'string'}}},{'name': 'booking_hotels', 'description': 'booking hotel', 'parameters': {'destination': {'description': 'The name of the city', 'type': 'string'}, 'check_in_date': {'description': 'The date of check in', 'type': 'string'}, 'checkout_date': {'description': 'The date of check out', 'type': 'string'}}}\",\n",
       " 'start: TEXT | fun_call \\n TEXT: /[^{](.|\\n)*/ \\n fun_call: <|tool_call|> %json {\"anyOf\": [{\"name\": \"booking_flight_tickets\", \"description\": \"booking flights\", \"parameters\": {\"origin_airport_code\": {\"description\": \"The name of Departure airport code\", \"type\": \"string\"}, \"destination_airport_code\": {\"description\": \"The name of Destination airport code\", \"type\": \"string\"}, \"departure_date\": {\"description\": \"The date of outbound flight\", \"type\": \"string\"}, \"return_date\": {\"description\": \"The date of return flight\", \"type\": \"string\"}}},{\"name\": \"booking_hotels\", \"description\": \"booking hotel\", \"parameters\": {\"destination\": {\"description\": \"The name of the city\", \"type\": \"string\"}, \"check_in_date\": {\"description\": \"The date of check in\", \"type\": \"string\"}, \"checkout_date\": {\"description\": \"The date of check out\", \"type\": \"string\"}}}]}')"
      ]
     },
     "execution_count": 13,
     "metadata": {},
     "output_type": "execute_result"
    }
   ],
   "source": [
    "get_lark_grammar(tool_list)"
   ]
  },
  {
   "cell_type": "markdown",
   "id": "c534ff02",
   "metadata": {},
   "source": [
    "## चरण ६: व्याकरण निर्माण परीक्षण गर्नुहोस्\n",
    "\n",
    "आउनुहोस्, हाम्रो व्याकरण निर्माण कार्यहरू परीक्षण गरौं ताकि तिनीहरूले हाम्रो उपकरण परिभाषाहरूलाई सही ढाँचामा कसरी रूपान्तरण गर्छन् भन्ने हेर्न सकियोस्।\n"
   ]
  },
  {
   "cell_type": "code",
   "execution_count": 14,
   "id": "a730b137",
   "metadata": {},
   "outputs": [],
   "source": [
    "prompt_tool_input, guidance_input = get_lark_grammar(tool_list)"
   ]
  },
  {
   "cell_type": "markdown",
   "id": "a4ca5aa8",
   "metadata": {},
   "source": [
    "## चरण ७: प्रणाली प्रम्प्ट तयार गर्नुहोस् र जेनेरेटर सेटअप गर्नुहोस्\n",
    "\n",
    "अब हामी प्रणाली प्रम्प्ट तयार गर्नेछौं जसले मोडेललाई उपलब्ध उपकरणहरूको बारेमा जानकारी दिन्छ र निर्देशित उत्पादन मापदण्डहरूसँग जेनेरेटर सेटअप गर्नेछौं।\n"
   ]
  },
  {
   "cell_type": "code",
   "execution_count": 15,
   "id": "c8474cdf",
   "metadata": {},
   "outputs": [],
   "source": [
    "# Define the system prompt that introduces the assistant and its capabilities\n",
    "system_prompt = \"You are a helpful assistant with these tools.\""
   ]
  },
  {
   "cell_type": "code",
   "execution_count": 16,
   "id": "97c4c612",
   "metadata": {},
   "outputs": [],
   "source": [
    "# Format the system message with tools information\n",
    "messages = f\"\"\"[{{\"role\": \"system\", \"content\": \"{system_prompt}\", \"tools\": \"{prompt_tool_input}\"}}]\"\"\""
   ]
  },
  {
   "cell_type": "code",
   "execution_count": 17,
   "id": "aaabbc49",
   "metadata": {},
   "outputs": [],
   "source": [
    "# Apply chat template to format the system prompt properly\n",
    "tokenizer_input_system_prompt = tokenizer.apply_chat_template(messages=messages, add_generation_prompt=False)"
   ]
  },
  {
   "cell_type": "code",
   "execution_count": 18,
   "id": "81f0da4d",
   "metadata": {},
   "outputs": [
    {
     "data": {
      "text/plain": [
       "\"<|system|>You are a helpful assistant with these tools.<|tool|>{'name': 'booking_flight_tickets', 'description': 'booking flights', 'parameters': {'origin_airport_code': {'description': 'The name of Departure airport code', 'type': 'string'}, 'destination_airport_code': {'description': 'The name of Destination airport code', 'type': 'string'}, 'departure_date': {'description': 'The date of outbound flight', 'type': 'string'}, 'return_date': {'description': 'The date of return flight', 'type': 'string'}}},{'name': 'booking_hotels', 'description': 'booking hotel', 'parameters': {'destination': {'description': 'The name of the city', 'type': 'string'}, 'check_in_date': {'description': 'The date of check in', 'type': 'string'}, 'checkout_date': {'description': 'The date of check out', 'type': 'string'}}}<|/tool|><|end|><|endoftext|>\""
      ]
     },
     "execution_count": 18,
     "metadata": {},
     "output_type": "execute_result"
    }
   ],
   "source": [
    "tokenizer_input_system_prompt"
   ]
  },
  {
   "cell_type": "code",
   "execution_count": 19,
   "id": "10605b23",
   "metadata": {},
   "outputs": [],
   "source": [
    "input_tokens = tokenizer.encode(tokenizer_input_system_prompt)"
   ]
  },
  {
   "cell_type": "code",
   "execution_count": 20,
   "id": "6de50e32",
   "metadata": {},
   "outputs": [],
   "source": [
    "input_tokens = input_tokens[:-1]"
   ]
  },
  {
   "cell_type": "code",
   "execution_count": 21,
   "id": "1c17a6c9",
   "metadata": {},
   "outputs": [],
   "source": [
    "system_prompt_length = len(input_tokens)"
   ]
  },
  {
   "cell_type": "markdown",
   "id": "5ec5f242",
   "metadata": {},
   "source": [
    "## चरण ८: निर्देशित उत्पादनको लागि जेनरेटर सुरु गर्नुहोस्\n",
    "\n",
    "अब हामीले कन्फिगर गरेका प्यारामिटरहरू प्रयोग गरेर जेनरेटर बनाउनेछौं र निर्देशित उत्पादनको लागि Lark व्याकरण लागू गर्नेछौं।\n"
   ]
  },
  {
   "cell_type": "code",
   "execution_count": 22,
   "id": "b54180c0",
   "metadata": {},
   "outputs": [],
   "source": [
    "# Create generator parameters and apply search options\n",
    "params = og.GeneratorParams(model)\n",
    "params.set_search_options(**search_options)"
   ]
  },
  {
   "cell_type": "code",
   "execution_count": 23,
   "id": "eec56940",
   "metadata": {},
   "outputs": [],
   "source": [
    "# Apply Lark grammar for guided generation to ensure valid function call format\n",
    "params.set_guidance(\"lark_grammar\", guidance_input)"
   ]
  },
  {
   "cell_type": "code",
   "execution_count": null,
   "id": "92207c48",
   "metadata": {},
   "outputs": [],
   "source": []
  },
  {
   "cell_type": "code",
   "execution_count": 24,
   "id": "690112f5",
   "metadata": {},
   "outputs": [],
   "source": [
    "generator = og.Generator(model, params)"
   ]
  },
  {
   "cell_type": "code",
   "execution_count": 25,
   "id": "789d5b1a",
   "metadata": {},
   "outputs": [],
   "source": [
    "generator.append_tokens(input_tokens)"
   ]
  },
  {
   "cell_type": "markdown",
   "id": "5c7c9c2e",
   "metadata": {},
   "source": [
    "## चरण ९: समानान्तर फङ्सन कलिङ परीक्षण गर्नुहोस्\n",
    "\n",
    "अब हामी हाम्रो सेटअपलाई जटिल यात्रा बुकिङ परिदृश्यसँग परीक्षण गरौं जसले धेरै फङ्सनहरू कल गर्न आवश्यक छ।\n"
   ]
  },
  {
   "cell_type": "code",
   "execution_count": 26,
   "id": "0ac5ff58",
   "metadata": {},
   "outputs": [],
   "source": [
    "# Complex travel booking request that requires both flight and hotel booking\n",
    "text = \"book flight ticket from Beijing to Paris(using airport code) in 2025-12-04 to 2025-12-10 , then book hotel from 2025-12-04 to 2025-12-10 in Paris\""
   ]
  },
  {
   "cell_type": "code",
   "execution_count": 27,
   "id": "36386526",
   "metadata": {},
   "outputs": [],
   "source": [
    "# Format user message and apply chat template\n",
    "messages = f\"\"\"[{{\"role\": \"user\", \"content\": \"{text}\"}}]\"\"\"\n",
    "\n",
    "# Apply Chat Template for user input\n",
    "user_prompt = tokenizer.apply_chat_template(messages=messages, add_generation_prompt=True)\n",
    "input_tokens = tokenizer.encode(user_prompt)\n",
    "generator.append_tokens(input_tokens)"
   ]
  },
  {
   "cell_type": "code",
   "execution_count": 28,
   "id": "f85f5caa",
   "metadata": {},
   "outputs": [
    {
     "data": {
      "text/plain": [
       "'<|user|>book flight ticket from Beijing to Paris(using airport code) in 2025-12-04 to 2025-12-10 , then book hotel from 2025-12-04 to 2025-12-10 in Paris<|end|><|assistant|>'"
      ]
     },
     "execution_count": 28,
     "metadata": {},
     "output_type": "execute_result"
    }
   ],
   "source": [
    "user_prompt"
   ]
  },
  {
   "cell_type": "markdown",
   "id": "833c90f9",
   "metadata": {},
   "source": []
  },
  {
   "cell_type": "markdown",
   "id": "65331735",
   "metadata": {},
   "source": [
    "### फंक्शन कलहरू उत्पन्न गर्नुहोस्\n",
    "\n",
    "मोडेल अब प्रयोगकर्ताको अनुरोधको आधारमा संरचित फंक्शन कलहरू उत्पन्न गर्नेछ। निर्देशित उत्पादनको कारण, नतिजा मान्य JSON ढाँचामा हुनेछ जसलाई सिधै कार्यान्वयन गर्न सकिन्छ।\n",
    "\n",
    "**अपेक्षित नतिजा**: मोडेलले निम्न फंक्शन कलहरू उत्पन्न गर्नुपर्छ:\n",
    "1. `booking_flight_tickets` बीजिङ (PEK) देखि पेरिस (CDG) विवरणसहित\n",
    "2. `booking_hotels` पेरिसको आवास विवरणसहित\n",
    "\n",
    "तलको सेल चलाएर प्रत्यक्ष उत्पादन हेर्नुहोस्:\n"
   ]
  },
  {
   "cell_type": "code",
   "execution_count": 29,
   "id": "64a703a1",
   "metadata": {},
   "outputs": [
    {
     "name": "stdout",
     "output_type": "stream",
     "text": [
      "[{\"name\": \"booking_flight_tickets\", \"arguments\": {\"origin_airport_code\": \"PEKK\", \"destination_airport_code\": \"CDG\", \"departure_date\": \"2025-12-04\", \"return_date\": \"2025-12-10\"}}, {\"name\": \"booking_hotels\", \"arguments\": {\"destination\": \"Paris\", \"check_in_date\": \"2025-12-04\", \"checkout_date\": \"2025-12-10\"}}]"
     ]
    }
   ],
   "source": [
    "# Generate tokens one by one and stream the output\n",
    "while not generator.is_done():\n",
    "    generator.generate_next_token()\n",
    "    new_token = generator.get_next_tokens()[0]\n",
    "    print(tokenizer_stream.decode(new_token), end='', flush=True)"
   ]
  },
  {
   "cell_type": "markdown",
   "id": "e4db4123",
   "metadata": {},
   "source": [
    "## निष्कर्ष\n",
    "\n",
    "🎉 **बधाई छ!** तपाईंले ONNX Runtime GenAI प्रयोग गरेर Phi-4 Mini सँग समानान्तर फङ्सन कलिङ सफलतापूर्वक कार्यान्वयन गर्नुभएको छ।\n",
    "\n",
    "### तपाईंले के सिक्नुभयो:\n",
    "\n",
    "1. **मोडेल सेटअप**: ONNX Runtime GenAI सँग Phi-4 Mini कन्फिगर गर्ने तरिका\n",
    "2. **फङ्सन परिभाषा**: AI फङ्सन कलिङका लागि फङ्सन स्किमाहरू परिभाषित गर्ने तरिका\n",
    "3. **निर्देशित जेनेरेसन**: संरचित आउटपुट जेनेरेसनका लागि Lark व्याकरण प्रयोग गर्ने तरिका\n",
    "4. **समानान्तर फङ्सन कलहरू**: धेरै फङ्सन कलहरू आवश्यक पर्ने जटिल अनुरोधहरू व्यवस्थापन गर्ने तरिका\n",
    "\n",
    "### मुख्य फाइदाहरू:\n",
    "\n",
    "- ✅ **संरचित आउटपुट**: निर्देशित जेनेरेसनले मान्य JSON फङ्सन कल सुनिश्चित गर्दछ\n",
    "- ✅ **समानान्तर प्रशोधन**: एकल अनुरोधमा धेरै फङ्सन कलहरू व्यवस्थापन गर्नुहोस्\n",
    "- ✅ **उच्च प्रदर्शन**: ONNX Runtime ले अनुकूलित इनफरेन्स प्रदान गर्दछ\n",
    "- ✅ **लचिलो स्किमा**: फङ्सन परिभाषाहरू सजिलै थप्न वा परिमार्जन गर्न सकिन्छ\n",
    "\n",
    "### स्रोतहरू:\n",
    "\n",
    "- [Phi-4 Mini दस्तावेज](https://huggingface.co/microsoft/Phi-4-mini-onnx)\n",
    "- [ONNX Runtime GenAI दस्तावेज](https://onnxruntime.ai/docs/genai/)\n",
    "- [फङ्सन कलिङका उत्कृष्ट अभ्यासहरू](https://platform.openai.com/docs/guides/function-calling)\n"
   ]
  },
  {
   "cell_type": "markdown",
   "metadata": {},
   "source": [
    "\n---\n\n**अस्वीकरण**:  \nयो दस्तावेज़ AI अनुवाद सेवा [Co-op Translator](https://github.com/Azure/co-op-translator) प्रयोग गरेर अनुवाद गरिएको छ। हामी शुद्धताको लागि प्रयास गर्छौं, तर कृपया ध्यान दिनुहोस् कि स्वचालित अनुवादमा त्रुटिहरू वा अशुद्धताहरू हुन सक्छ। यसको मूल भाषा मा रहेको मूल दस्तावेज़लाई आधिकारिक स्रोत मानिनुपर्छ। महत्वपूर्ण जानकारीको लागि, व्यावसायिक मानव अनुवाद सिफारिस गरिन्छ। यस अनुवादको प्रयोगबाट उत्पन्न हुने कुनै पनि गलतफहमी वा गलत व्याख्याको लागि हामी जिम्मेवार हुने छैनौं।\n"
   ]
  }
 ],
 "metadata": {
  "kernelspec": {
   "display_name": "pydev",
   "language": "python",
   "name": "python3"
  },
  "language_info": {
   "codemirror_mode": {
    "name": "ipython",
    "version": 3
   },
   "file_extension": ".py",
   "mimetype": "text/x-python",
   "name": "python",
   "nbconvert_exporter": "python",
   "pygments_lexer": "ipython3",
   "version": "3.11.8"
  },
  "coopTranslator": {
   "original_hash": "8b61c907614fd2780d526c45c388d285",
   "translation_date": "2025-09-12T18:58:36+00:00",
   "source_file": "md/02.Application/07.FunctionCalling/Phi4/ONNX/onnx_parallel_functioncalling.ipynb",
   "language_code": "ne"
  }
 },
 "nbformat": 4,
 "nbformat_minor": 5
}