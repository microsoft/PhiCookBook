{
 "cells": [
  {
   "cell_type": "code",
   "execution_count": 3,
   "metadata": {},
   "outputs": [],
   "source": [
    "TFLITE_MODEL = 'Your Phi-3.5 tflite model path'\n",
    "TOKENIZER_MODEL = 'Your Phi-3.5 tokenizer.model path'\n",
    "START_TOKEN = \"<s>\"\n",
    "STOP_TOKENS = [\"<|endoftext|>\"]\n",
    "OUTPUT_FILENAME = \"Your Phi-3.5 task model path\"\n",
    "ENABLE_BYTES_TO_UNICODE_MAPPING = True\n",
    "\n"
   ]
  },
  {
   "cell_type": "code",
   "execution_count": 4,
   "metadata": {},
   "outputs": [],
   "source": [
    "import mediapipe as mp\n",
    "from mediapipe.tasks.python.genai import bundler"
   ]
  },
  {
   "cell_type": "code",
   "execution_count": 5,
   "metadata": {},
   "outputs": [],
   "source": [
    "config = bundler.BundleConfig(\n",
    "    tflite_model=TFLITE_MODEL,\n",
    "    tokenizer_model=TOKENIZER_MODEL,\n",
    "    start_token=START_TOKEN,\n",
    "    stop_tokens=STOP_TOKENS,\n",
    "    output_filename=OUTPUT_FILENAME,\n",
    "    enable_bytes_to_unicode_mapping=ENABLE_BYTES_TO_UNICODE_MAPPING,\n",
    ")"
   ]
  },
  {
   "cell_type": "code",
   "execution_count": 6,
   "metadata": {},
   "outputs": [],
   "source": [
    "bundler.create_bundle(config)"
   ]
  },
  {
   "cell_type": "markdown",
   "metadata": {},
   "source": [
    "\n---\n\n**免責事項**:  \nこの文書は、AI翻訳サービス [Co-op Translator](https://github.com/Azure/co-op-translator) を使用して翻訳されています。正確性を追求しておりますが、自動翻訳には誤りや不正確な部分が含まれる可能性があることをご承知ください。元の言語で記載された文書が正式な情報源とみなされるべきです。重要な情報については、専門の人間による翻訳を推奨します。この翻訳の使用に起因する誤解や誤解釈について、当方は一切の責任を負いません。\n"
   ]
  }
 ],
 "metadata": {
  "kernelspec": {
   "display_name": "tflite",
   "language": "python",
   "name": "python3"
  },
  "language_info": {
   "codemirror_mode": {
    "name": "ipython",
    "version": 3
   },
   "file_extension": ".py",
   "mimetype": "text/x-python",
   "name": "python",
   "nbconvert_exporter": "python",
   "pygments_lexer": "ipython3",
   "version": "3.10.12"
  },
  "coopTranslator": {
   "original_hash": "c38852a39916f5605a0d115129fdf162",
   "translation_date": "2025-09-12T15:58:08+00:00",
   "source_file": "code/09.UpdateSamples/Aug/Android/convert/convert_phi.ipynb",
   "language_code": "ja"
  }
 },
 "nbformat": 4,
 "nbformat_minor": 2
}