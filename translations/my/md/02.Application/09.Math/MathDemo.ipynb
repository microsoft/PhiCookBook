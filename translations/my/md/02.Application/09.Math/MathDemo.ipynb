{
 "cells": [
  {
   "cell_type": "markdown",
   "id": "64e7ac41",
   "metadata": {},
   "source": [
    "## လိုအပ်သောစာကြည့်တိုက်များကို တင်သွင်းပါ  \n",
    "Phi-4 မော်ဒယ်ကို တင်ပြီး အသုံးပြုရန် လိုအပ်သော PyTorch နှင့် transformers စာကြည့်တိုက်များကို တင်သွင်းပါ။  \n"
   ]
  },
  {
   "cell_type": "code",
   "execution_count": null,
   "id": "6381136a",
   "metadata": {},
   "outputs": [],
   "source": [
    "import torch\n",
    "from transformers import AutoModelForCausalLM, AutoTokenizer, pipeline"
   ]
  },
  {
   "cell_type": "markdown",
   "id": "ed6caaf7",
   "metadata": {},
   "source": [
    "## အလွတ်စတင်အမှတ်စဉ် သတ်မှတ်ခြင်း  \n",
    "အလွတ်စတင်အမှတ်စဉ်ကို သတ်မှတ်ပါ၊ ဒါမှမဟုတ် အမျိုးမျိုးသော အကြိမ်ကြိမ်တွင် တူညီသော ရလဒ်များရရှိစေရန် အာမခံနိုင်ပါမည်။\n"
   ]
  },
  {
   "cell_type": "code",
   "execution_count": null,
   "id": "a0f9d6f3",
   "metadata": {},
   "outputs": [],
   "source": [
    "torch.random.manual_seed(0)"
   ]
  },
  {
   "cell_type": "markdown",
   "id": "3c3ce6d9",
   "metadata": {},
   "source": [
    "## Phi-4-mini-flash-reasoning မော်ဒယ်နှင့် Tokenizer ကို Load လုပ်ခြင်း  \n",
    "Microsoft ရဲ့ Phi-4-mini-flash-reasoning မော်ဒယ်နှင့် အဆင်ပြေတဲ့ tokenizer ကို Hugging Face မှာ Load လုပ်ပါ။ မော်ဒယ်ကို CUDA ပေါ်မှာ Load လုပ်ပြီး အမြန်ဆုံး အနိမ့်ဆုံး အကြံပေးမှုများကို ရယူနိုင်ပါမည်။\n"
   ]
  },
  {
   "cell_type": "code",
   "execution_count": null,
   "id": "d981b896",
   "metadata": {},
   "outputs": [],
   "source": [
    "model_id = \"microsoft/Phi-4-mini-flash-reasoning\"\n",
    "model = AutoModelForCausalLM.from_pretrained(\n",
    "   model_id,\n",
    "   device_map=\"cuda\",\n",
    "   torch_dtype=\"auto\",\n",
    "   trust_remote_code=True,\n",
    ")\n",
    "tokenizer = AutoTokenizer.from_pretrained(model_id)"
   ]
  },
  {
   "cell_type": "markdown",
   "id": "c8789ea8",
   "metadata": {},
   "source": [
    "## အဝင်မက်ဆေ့ဂျ်ကို ပြင်ဆင်ပါ  \n",
    "မော်ဒယ်အတွက် စကားဝိုင်းပုံစံကို အသုံးပြု၍ ကွာဒရက်တစ်ဆိုင်ရာ သင်္ချာပြဿနာပါဝင်သော စကားဝိုင်းမက်ဆေ့ဂျ်တစ်ခု ဖန်တီးပါ။\n"
   ]
  },
  {
   "cell_type": "code",
   "execution_count": null,
   "id": "ad1841fc",
   "metadata": {},
   "outputs": [],
   "source": [
    "messages = [{\n",
    "   \"role\": \"user\",\n",
    "   \"content\": \"How to solve 3*x^2+4*x+5=1?\"\n",
    "}]   \n",
    "inputs = tokenizer.apply_chat_template(\n",
    "   messages,\n",
    "   add_generation_prompt=True,\n",
    "   return_dict=True,\n",
    "   return_tensors=\"pt\",\n",
    ")"
   ]
  },
  {
   "cell_type": "markdown",
   "id": "51b87bf8",
   "metadata": {},
   "source": [
    "## တုံ့ပြန်မှု ဖန်တီးရန်  \n",
    "အထွေထွေ randomness ကို ထိန်းချုပ်နိုင်ရန် temperature နှင့် top_p ကဲ့သို့သော သတ်မှတ်ထားသော parameters များကို အသုံးပြု၍ မော်ဒယ်မှ တုံ့ပြန်မှုကို ဖန်တီးပါ။\n"
   ]
  },
  {
   "cell_type": "code",
   "execution_count": null,
   "id": "728f2de1",
   "metadata": {},
   "outputs": [],
   "source": [
    "outputs = model.generate(\n",
    "   **inputs.to(model.device),\n",
    "   max_new_tokens=32768,\n",
    "   temperature=0.6,\n",
    "   top_p=0.95,\n",
    "   do_sample=True,\n",
    ")"
   ]
  },
  {
   "cell_type": "markdown",
   "id": "b5088f0d",
   "metadata": {},
   "source": [
    "## အထွေထွေ Output ကို Text အဖြစ် ပြန်ဖော်ခြင်း  \n",
    "မူလ input token များကို မပါဝင်စေဘဲ၊ မော်ဒယ်၏ တုံ့ပြန်မှုကိုသာ လူနားလည်နိုင်သော စာသားအဖြစ် ပြန်လည်ဖော်ပြပါ။\n"
   ]
  },
  {
   "cell_type": "code",
   "execution_count": null,
   "id": "0b1f67c5",
   "metadata": {},
   "outputs": [],
   "source": [
    "outputs = tokenizer.batch_decode(outputs[:, inputs[\"input_ids\"].shape[-1]:])"
   ]
  },
  {
   "cell_type": "markdown",
   "metadata": {},
   "source": [
    "\n---\n\n**ဝက်ဘ်ဆိုက်မှတ်ချက်**:  \nဤစာရွက်စာတမ်းကို AI ဘာသာပြန်ဝန်ဆောင်မှု [Co-op Translator](https://github.com/Azure/co-op-translator) ကို အသုံးပြု၍ ဘာသာပြန်ထားပါသည်။ ကျွန်ုပ်တို့သည် တိကျမှန်ကန်မှုအတွက် ကြိုးစားနေပါသော်လည်း၊ အလိုအလျောက်ဘာသာပြန်ဆိုမှုများတွင် အမှားများ သို့မဟုတ် မတိကျမှုများ ပါဝင်နိုင်သည်ကို ကျေးဇူးပြု၍ သတိပြုပါ။ မူရင်းဘာသာစကားဖြင့် ရေးသားထားသော စာရွက်စာတမ်းကို အာဏာတည်သော ရင်းမြစ်အဖြစ် သတ်မှတ်သင့်ပါသည်။ အရေးကြီးသော အချက်အလက်များအတွက် လူပညာရှင်များမှ ဘာသာပြန်ဆိုမှုကို အကြံပြုပါသည်။ ဤဘာသာပြန်ကို အသုံးပြုခြင်းမှ ဖြစ်ပေါ်လာသော နားလည်မှုမှားများ သို့မဟုတ် အဓိပ္ပါယ်မှားများအတွက် ကျွန်ုပ်တို့သည် တာဝန်မယူပါ။\n"
   ]
  }
 ],
 "metadata": {
  "kernelspec": {
   "display_name": "pydev",
   "language": "python",
   "name": "python3"
  },
  "language_info": {
   "name": "python",
   "version": "3.11.8"
  },
  "coopTranslator": {
   "original_hash": "93d4d22a7a9ec7e7e668474526477813",
   "translation_date": "2025-09-13T05:59:45+00:00",
   "source_file": "md/02.Application/09.Math/MathDemo.ipynb",
   "language_code": "my"
  }
 },
 "nbformat": 4,
 "nbformat_minor": 5
}