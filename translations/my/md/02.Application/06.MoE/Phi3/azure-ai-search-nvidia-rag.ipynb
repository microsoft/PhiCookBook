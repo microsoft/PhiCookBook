{
 "cells": [
  {
   "cell_type": "markdown",
   "metadata": {},
   "source": [
    "# Azure AI Search နှင့် NVIDIA NIM နှင့် LlamaIndex ပေါင်းစပ်မှု\n",
    "\n",
    "ဒီ notebook မှာ NVIDIA ရဲ့ AI မော်ဒယ်တွေကို LlamaIndex နဲ့ပေါင်းစပ်ပြီး အထူးကောင်းမွန်တဲ့ Retrieval-Augmented Generation (RAG) pipeline တစ်ခုကို ဖန်တီးပုံကို ပြသပေးမှာဖြစ်ပါတယ်။ NVIDIA ရဲ့ LLMs နဲ့ embeddings ကို အသုံးပြုပြီး Azure AI Search ကို vector store အနေနဲ့ ပေါင်းစပ်ကာ RAG ကိုလုပ်ဆောင်ပြီး ရှာဖွေမှုရဲ့ အရည်အသွေးနဲ့ ထိရောက်မှုကို မြှင့်တင်ပေးပါမယ်။\n",
    "\n",
    "## အကျိုးကျေးဇူးများ\n",
    "- **Scalability**: NVIDIA ရဲ့ အကြီးစားဘာသာစကားမော်ဒယ်တွေကို Azure AI Search နဲ့ပေါင်းစပ်ပြီး အကျယ်ပြန့်နဲ့ ထိရောက်တဲ့ ရှာဖွေမှုကို ရရှိနိုင်ပါမယ်။\n",
    "- **Cost Efficiency**: ထိရောက်တဲ့ vector storage နဲ့ hybrid search နည်းလမ်းတွေကို အသုံးပြုပြီး ရှာဖွေမှုနဲ့ retrieval ကို စျေးနှုန်းသက်သာစွာ အကောင်းဆုံးလုပ်ဆောင်နိုင်ပါမယ်။\n",
    "- **High Performance**: အားကောင်းတဲ့ LLMs ကို vectorized search နဲ့ပေါင်းစပ်ပြီး မြန်ဆန်ပြီး တိကျတဲ့ အဖြေတွေကို ရရှိနိုင်ပါမယ်။\n",
    "- **Quality**: LLM ရဲ့ အဖြေတွေကို သက်ဆိုင်တဲ့ စာရွက်စာတမ်းတွေကို ရှာဖွေပြီး အခြေခံထားကာ ရှာဖွေမှုရဲ့ အရည်အသွေးကို ထိန်းသိမ်းနိုင်ပါမယ်။\n",
    "\n",
    "## လိုအပ်ချက်များ\n",
    "- 🐍 Python 3.9 သို့မဟုတ် အထက်\n",
    "- 🔗 [Azure AI Search Service](https://learn.microsoft.com/azure/search/)\n",
    "- 🔗 NVIDIA API Key (NVIDIA NIM microservices မှတဆင့် NVIDIA ရဲ့ LLMs နဲ့ Embeddings ကို အသုံးပြုရန်)\n",
    "\n",
    "## ဖော်ပြမည့် အင်္ဂါရပ်များ\n",
    "- ✅ NVIDIA LLM Integration (ကျွန်တော်တို့ [Phi-3.5-MOE](https://build.nvidia.com/microsoft/phi-3_5-moe) ကို အသုံးပြုပါမယ်)\n",
    "- ✅ NVIDIA Embeddings (ကျွန်တော်တို့ [nv-embedqa-e5-v5](https://build.nvidia.com/nvidia/nv-embedqa-e5-v5) ကို အသုံးပြုပါမယ်)\n",
    "- ✅ Azure AI Search ရဲ့ အဆင့်မြင့် Retrieval Modes\n",
    "- ✅ LlamaIndex ကို အသုံးပြု၍ စာရွက်စာတမ်းများကို Index လုပ်ခြင်း\n",
    "- ✅ Azure AI Search နဲ့ LlamaIndex ကို NVIDIA LLMs နဲ့ပေါင်းစပ်ပြီး RAG လုပ်ဆောင်ခြင်း\n",
    "\n",
    "စတင်လိုက်ရအောင်!\n"
   ]
  },
  {
   "cell_type": "code",
   "execution_count": null,
   "metadata": {},
   "outputs": [],
   "source": [
    "!pip install azure-search-documents==11.5.1\n",
    "!pip install --upgrade llama-index\n",
    "!pip install --upgrade llama-index-core\n",
    "!pip install --upgrade llama-index-readers-file\n",
    "!pip install --upgrade llama-index-llms-nvidia\n",
    "!pip install --upgrade llama-index-embeddings-nvidia\n",
    "!pip install --upgrade llama-index-postprocessor-nvidia-rerank\n",
    "!pip install --upgrade llama-index-vector-stores-azureaisearch\n",
    "!pip install python-dotenv"
   ]
  },
  {
   "cell_type": "markdown",
   "metadata": {},
   "source": [
    "## တပ်ဆင်ခြင်းနှင့် လိုအပ်ချက်များ  \n",
    "Python version >3.10 ကို အသုံးပြု၍ Python ပတ်ဝန်းကျင်တစ်ခု ဖန်တီးပါ။\n",
    "\n",
    "## စတင်အသုံးပြုခြင်း!  \n"
   ]
  },
  {
   "cell_type": "markdown",
   "metadata": {},
   "source": [
    "NVIDIA AI Foundation မော်ဒယ်များကို အသုံးပြုရန် `NVIDIA_API_KEY` တစ်ခုလိုအပ်ပါသည်။\n",
    "1) [NVIDIA](https://build.nvidia.com/explore/discover) တွင် အခမဲ့အကောင့်တစ်ခု ဖန်တီးပါ။\n",
    "2) သင်ရွေးချယ်လိုသော မော်ဒယ်ကို နှိပ်ပါ။\n",
    "3) Input အောက်တွင် Python tab ကို ရွေးချယ်ပြီး **Get API Key** ကို နှိပ်ပါ၊ ထို့နောက် **Generate Key** ကို နှိပ်ပါ။\n",
    "4) ဖန်တီးထားသော key ကို ကူးယူပြီး NVIDIA_API_KEY အဖြစ် သိမ်းဆည်းပါ။ ထို့နောက် သင်သည် endpoint များကို အသုံးပြုနိုင်ပါပြီ။\n"
   ]
  },
  {
   "cell_type": "code",
   "execution_count": 3,
   "metadata": {},
   "outputs": [],
   "source": [
    "import getpass\n",
    "import os\n",
    "from dotenv import load_dotenv\n",
    "\n",
    "# Load environment variables\n",
    "load_dotenv()\n",
    "\n",
    "if not os.environ.get(\"NVIDIA_API_KEY\", \"\").startswith(\"nvapi-\"):\n",
    "    nvidia_api_key = getpass.getpass(\"Enter your NVIDIA API key: \")\n",
    "    assert nvidia_api_key.startswith(\"nvapi-\"), f\"{nvidia_api_key[:5]}... is not a valid key\"\n",
    "    os.environ[\"NVIDIA_API_KEY\"] = nvidia_api_key\n"
   ]
  },
  {
   "cell_type": "markdown",
   "metadata": {},
   "source": [
    "## RAG ကို LLM နှင့် Embedding အသုံးပြု၍ နမူနာ\n",
    "### 1) LLM ကို စတင်မောင်းနှင်ခြင်း\n",
    "`llama-index-llms-nvidia` ဟာ NVIDIA ရဲ့ LLM connector အနေနဲ့ အသုံးပြုနိုင်ပြီး NVIDIA API catalog မှာ ရရှိနိုင်တဲ့ compatible models တွေကို ချိတ်ဆက်ပြီး ထုတ်လုပ်နိုင်စေပါတယ်။ Chat completion models တွေစာရင်းကို ဒီမှာကြည့်နိုင်ပါတယ် - https://build.nvidia.com/search?term=Text-to-Text\n",
    "\n",
    "ဒီနေရာမှာ **mixtral-8x7b-instruct-v0.1** ကို အသုံးပြုပါမယ်။\n"
   ]
  },
  {
   "cell_type": "code",
   "execution_count": 75,
   "metadata": {},
   "outputs": [],
   "source": [
    "from llama_index.core import Settings\n",
    "from llama_index.llms.nvidia import NVIDIA\n",
    "\n",
    "# Here we are using mixtral-8x7b-instruct-v0.1 model from API Catalog\n",
    "Settings.llm = NVIDIA(model=\"microsoft/phi-3.5-moe-instruct\", api_key=os.getenv(\"NVIDIA_API_KEY\"))"
   ]
  },
  {
   "cell_type": "markdown",
   "metadata": {},
   "source": [
    "### 2) Embedding ကို Initialize လုပ်ခြင်း  \n",
    "`llama-index-embeddings-nvidia` ဟာ NVIDIA ရဲ့ Embeddings connector အနေနဲ့လည်း သိပ်ပြီးကျယ်ကျယ်ပြန့်ပြန့်အသုံးပြုနိုင်တဲ့ API catalog မှာရှိတဲ့ compatible models တွေနဲ့ချိတ်ဆက်ပြီး ထုတ်လုပ်နိုင်စေပါတယ်။ ကျွန်တော်တို့ `nvidia/nv-embedqa-e5-v5` ကို embedding model အဖြစ်ရွေးချယ်ခဲ့ပါတယ်။ Text embedding models များစာရင်းကို ဒီမှာကြည့်နိုင်ပါတယ် - https://build.nvidia.com/nim?filters=usecase%3Ausecase_text_to_embedding%2Cusecase%3Ausecase_image_to_embedding\n"
   ]
  },
  {
   "cell_type": "code",
   "execution_count": 6,
   "metadata": {},
   "outputs": [],
   "source": [
    "from llama_index.embeddings.nvidia import NVIDIAEmbedding\n",
    "\n",
    "Settings.embed_model = NVIDIAEmbedding(model=\"nvidia/nv-embedqa-e5-v5\", api_key=os.getenv(\"NVIDIA_API_KEY\"))"
   ]
  },
  {
   "cell_type": "markdown",
   "metadata": {},
   "source": []
  },
  {
   "cell_type": "code",
   "execution_count": 76,
   "metadata": {},
   "outputs": [],
   "source": [
    "import logging\n",
    "import sys\n",
    "import os\n",
    "import getpass\n",
    "from azure.core.credentials import AzureKeyCredential\n",
    "from azure.search.documents import SearchClient\n",
    "from azure.search.documents.indexes import SearchIndexClient\n",
    "from IPython.display import Markdown, display\n",
    "from llama_index.vector_stores.azureaisearch import AzureAISearchVectorStore, IndexManagement\n",
    "\n",
    "\n",
    "search_service_api_key = os.getenv('AZURE_SEARCH_ADMIN_KEY') or getpass.getpass('Enter your Azure Search API key: ')\n",
    "search_service_endpoint = os.getenv('AZURE_SEARCH_SERVICE_ENDPOINT') or getpass.getpass('Enter your Azure Search service endpoint: ')\n",
    "search_service_api_version = \"2024-07-01\"\n",
    "credential = AzureKeyCredential(search_service_api_key)\n",
    "\n",
    "# Index name to use\n",
    "index_name = \"llamaindex-nvidia-azureaisearch-demo\"\n",
    "\n",
    "# Use index client to demonstrate creating an index\n",
    "index_client = SearchIndexClient(\n",
    "    endpoint=search_service_endpoint,\n",
    "    credential=credential,\n",
    ")\n",
    "\n",
    "# Use search client to demonstrate using existing index\n",
    "search_client = SearchClient(\n",
    "    endpoint=search_service_endpoint,\n",
    "    index_name=index_name,\n",
    "    credential=credential,\n",
    ")"
   ]
  },
  {
   "cell_type": "code",
   "execution_count": null,
   "metadata": {},
   "outputs": [],
   "source": [
    "vector_store = AzureAISearchVectorStore(\n",
    "    search_or_index_client=index_client,\n",
    "    index_name=index_name,\n",
    "    index_management=IndexManagement.CREATE_IF_NOT_EXISTS,\n",
    "    id_field_key=\"id\",\n",
    "    chunk_field_key=\"chunk\",\n",
    "    embedding_field_key=\"embedding\",\n",
    "    embedding_dimensionality=1024, # dimensionality for nv-embedqa-e5-v5 model\n",
    "    metadata_string_field_key=\"metadata\",\n",
    "    doc_id_field_key=\"doc_id\",\n",
    "    language_analyzer=\"en.lucene\",\n",
    "    vector_algorithm_type=\"exhaustiveKnn\",\n",
    "    # compression_type=\"binary\" # Option to use \"scalar\" or \"binary\". NOTE: compression is only supported for HNSW\n",
    ")"
   ]
  },
  {
   "cell_type": "markdown",
   "metadata": {},
   "source": []
  },
  {
   "cell_type": "code",
   "execution_count": 20,
   "metadata": {},
   "outputs": [],
   "source": [
    "from llama_index.core import SimpleDirectoryReader, StorageContext, VectorStoreIndex\n",
    "from llama_index.core.text_splitter import TokenTextSplitter\n",
    "\n",
    "# Configure text splitter (nv-embedqa-e5-v5 model has a limit of 512 tokens per input size)\n",
    "text_splitter = TokenTextSplitter(separator=\" \", chunk_size=500, chunk_overlap=10)\n",
    "\n",
    "# Load documents\n",
    "documents = SimpleDirectoryReader(\n",
    "    input_files=[\"data/txt/state_of_the_union.txt\"]\n",
    ").load_data()\n",
    "storage_context = StorageContext.from_defaults(vector_store=vector_store)\n",
    "\n",
    "# Create index with text splitter\n",
    "index = VectorStoreIndex.from_documents(\n",
    "    documents,\n",
    "    transformations=[text_splitter],\n",
    "    storage_context=storage_context,\n",
    ")"
   ]
  },
  {
   "cell_type": "markdown",
   "metadata": {},
   "source": [
    "### 5) သင့်ဒေတာအပေါ်မေးခွန်းများမေးရန် Query Engine တစ်ခုဖန်တီးပါ\n",
    "\n",
    "ဤသည်မှာ Azure AI Search တွင် သန့်စင်သောဗက်တာရှာဖွေရေးကို အသုံးပြုပြီး၊ ကျွန်ုပ်တို့၏ LLM (Phi-3.5-MOE) သို့ အခြေခံထားသော တုံ့ပြန်မှုကို ပေါင်းစပ်သည့် query တစ်ခုဖြစ်သည်။\n"
   ]
  },
  {
   "cell_type": "code",
   "execution_count": 69,
   "metadata": {},
   "outputs": [
    {
     "data": {
      "text/markdown": [
       " The speaker mentioned the Ukrainian Ambassador to the United States, along with other members of Congress, the Cabinet, and various officials such as the Vice President, the First Lady, and the Second Gentleman, as being present in the chamber."
      ],
      "text/plain": [
       "<IPython.core.display.Markdown object>"
      ]
     },
     "metadata": {},
     "output_type": "display_data"
    }
   ],
   "source": [
    "query_engine = index.as_query_engine()\n",
    "response = query_engine.query(\"Who did the speaker mention as being present in the chamber?\")\n",
    "display(Markdown(f\"{response}\"))"
   ]
  },
  {
   "cell_type": "markdown",
   "metadata": {},
   "source": [
    "Azure AI Search တွင် hybrid search ကို အသုံးပြုသော query တစ်ခုမှာ ဒီမှာရှိပါတယ်။\n"
   ]
  },
  {
   "cell_type": "code",
   "execution_count": 70,
   "metadata": {},
   "outputs": [
    {
     "data": {
      "text/markdown": [
       " The Russian stock market experienced a significant drop, losing 40% of its value. Additionally, trading had to be suspended due to the ongoing situation."
      ],
      "text/plain": [
       "<IPython.core.display.Markdown object>"
      ]
     },
     "metadata": {},
     "output_type": "display_data"
    },
    {
     "name": "stdout",
     "output_type": "stream",
     "text": [
      "\n",
      "\n",
      "Source Nodes:\n",
      "file_path: data\\txt\\state_of_the_union.txt\n",
      "\n",
      "building a coalition of other freedom-loving nations from Europe and the Americas to Asia and Africa to confront Putin. \n",
      "\n",
      "I spent countless hours unifying our European allies. We shared with the world in advance what we knew Putin was planning and precisely how he would try to falsely justify his aggression.  \n",
      "\n",
      "We countered Russia’s lies with truth.   \n",
      "\n",
      "And now that he has acted the free world is holding him accountable. \n",
      "\n",
      "Along with twenty-seven members of the European Union including France, Germany, Italy, as well as countries like the United Kingdom, Canada, Japan, Korea, Australia, New Zealand, and many others, even Switzerland. \n",
      "\n",
      "We are inflicting pain on Russia and supporting the people of Ukraine. Putin is now isolated from the world more than ever. \n",
      "\n",
      "Together with our allies –we are right now enforcing powerful economic sanctions. \n",
      "\n",
      "We are cutting off Russia’s largest banks from the international financial system.  \n",
      "\n",
      "Preventing Russia’s central bank from defending the Russian Ruble making Putin’s $630 Billion “war fund” worthless.   \n",
      "\n",
      "We are choking off Russia’s access to technology that will sap its economic strength and weaken its military for years to come.  \n",
      "\n",
      "Tonight I say to the Russian oligarchs and corrupt leaders who have bilked billions of dollars off this violent regime no more. \n",
      "\n",
      "The U.S. Department of Justice is assembling a dedicated task force to go after the crimes of Russian oligarchs.  \n",
      "\n",
      "We are joining with our European allies to find and seize your yachts your luxury apartments your private jets. We are coming for your ill-begotten gains. \n",
      "\n",
      "And tonight I am announcing that we will join our allies in closing off American air space to all Russian flights – further isolating Russia – and adding an additional squeeze –on their economy. The Ruble has lost 30% of its value. \n",
      "\n",
      "The Russian stock market has lost 40% of its value and trading remains suspended. Russia’s economy is reeling and Putin alone is to blame. \n",
      "\n",
      "Together with our allies we are providing support to the Ukrainians in their fight for freedom. Military assistance. Economic assistance. Humanitarian assistance. \n",
      "\n",
      "We are giving more than $1 Billion in direct assistance to Ukraine. \n",
      "\n",
      "And we will continue to aid the Ukrainian people as they defend their country and to help ease their suffering.  \n",
      "\n",
      "Let me be clear, our forces are not engaged and will not engage in\n",
      "file_path: data\\txt\\state_of_the_union.txt\n",
      "\n",
      "our forces are not engaged and will not engage in conflict with Russian forces in Ukraine.  \n",
      "\n",
      "Our forces are not going to Europe to fight in Ukraine, but to defend our NATO Allies – in the event that Putin decides to keep moving west.  \n",
      "\n",
      "For that purpose we’ve mobilized American ground forces, air squadrons, and ship deployments to protect NATO countries including Poland, Romania, Latvia, Lithuania, and Estonia. \n",
      "\n",
      "As I have made crystal clear the United States and our Allies will defend every inch of territory of NATO countries with the full force of our collective power.  \n",
      "\n",
      "And we remain clear-eyed. The Ukrainians are fighting back with pure courage. But the next few days weeks, months, will be hard on them.  \n",
      "\n",
      "Putin has unleashed violence and chaos.  But while he may make gains on the battlefield – he will pay a continuing high price over the long run. \n",
      "\n",
      "And a proud Ukrainian people, who have known 30 years  of independence, have repeatedly shown that they will not tolerate anyone who tries to take their country backwards.  \n",
      "\n",
      "To all Americans, I will be honest with you, as I’ve always promised. A Russian dictator, invading a foreign country, has costs around the world. \n",
      "\n",
      "And I’m taking robust action to make sure the pain of our sanctions  is targeted at Russia’s economy. And I will use every tool at our disposal to protect American businesses and consumers. \n",
      "\n",
      "Tonight, I can announce that the United States has worked with 30 other countries to release 60 Million barrels of oil from reserves around the world.  \n",
      "\n",
      "America will lead that effort, releasing 30 Million barrels from our own Strategic Petroleum Reserve. And we stand ready to do more if necessary, unified with our allies.  \n",
      "\n",
      "These steps will help blunt gas prices here at home. And I know the news about what’s happening can seem alarming. \n",
      "\n",
      "But I want you to know that we are going to be okay. \n",
      "\n",
      "When the history of this era is written Putin’s war on Ukraine will have left Russia weaker and the rest of the world stronger. \n",
      "\n",
      "While it shouldn’t have taken something so terrible for people around the world to see what’s at stake now everyone sees it clearly. \n",
      "\n",
      "We see the unity among leaders of nations and a more unified Europe a more unified West. And we see unity among the people who are gathering in cities in large crowds around the world\n"
     ]
    }
   ],
   "source": [
    "from llama_index.core.query_engine import RetrieverQueryEngine\n",
    "from llama_index.core.vector_stores.types import VectorStoreQueryMode\n",
    "from IPython.display import Markdown, display\n",
    "from llama_index.core.schema import MetadataMode\n",
    "\n",
    "# Initialize hybrid retriever and query engine\n",
    "hybrid_retriever = index.as_retriever(vector_store_query_mode=VectorStoreQueryMode.HYBRID)\n",
    "hybrid_query_engine = RetrieverQueryEngine(retriever=hybrid_retriever)\n",
    "\n",
    "# Query execution\n",
    "query = \"What were the exact economic consequences mentioned in relation to Russia's stock market?\"\n",
    "response = hybrid_query_engine.query(query)\n",
    "\n",
    "# Display the response\n",
    "display(Markdown(f\"{response}\"))\n",
    "print(\"\\n\")\n",
    "\n",
    "# Print the source nodes\n",
    "print(\"Source Nodes:\")\n",
    "for node in response.source_nodes:\n",
    "    print(node.get_content(metadata_mode=MetadataMode.LLM))"
   ]
  },
  {
   "cell_type": "markdown",
   "metadata": {},
   "source": [
    "#### ဗက်တာ ရှာဖွေမှု ချုပ်ခြင်း  \n",
    "LLM ၏ တုံ့ပြန်မှုသည် ရုရှား၏ စတော့ရှယ်ယာဈေးကွက်နှင့် ပတ်သက်သော အဓိက စီးပွားရေးဆိုင်ရာ ရလဒ်များကို အရင်းအမြစ်စာသားတွင် ဖော်ပြထားသည့်အတိုင်း တိကျစွာ ဖော်ထုတ်ထားသည်။ အထူးသဖြင့် ရုရှား စတော့ရှယ်ယာဈေးကွက်သည် တန်ဖိုး၏ ၄၀% ကို ဆုံးရှုံးခဲ့ပြီး လက်ရှိအခြေအနေကြောင့် ရောင်းဝယ်မှုများကို ရပ်ဆိုင်းခဲ့သည်ဟု ဖော်ပြထားသည်။ ဤတုံ့ပြန်မှုသည် အရင်းအမြစ်တွင် ဖော်ပြထားသည့် အချက်များနှင့် လိုက်လျောညီထွေရှိပြီး ရုရှား၏ လုပ်ဆောင်မှုများနှင့် ပိတ်ဆို့မှုများကြောင့် စတော့ရှယ်ယာဈေးကွက်အပေါ် ဖြစ်ပေါ်လာသည့် သက်ရောက်မှုများကို LLM မှ တိကျစွာ ဖော်ထုတ်ပြီး အကျဉ်းချုပ်ထားသည်ကို ပြသသည်။\n",
    "\n",
    "#### အရင်းအမြစ် Node များအပေါ် မှတ်ချက်  \n",
    "အရင်းအမြစ် node များတွင် နိုင်ငံတကာ ပိတ်ဆို့မှုများကြောင့် ရုရှားကြုံတွေ့ခဲ့ရသည့် စီးပွားရေးဆိုင်ရာ ရလဒ်များကို အသေးစိတ် ဖော်ပြထားသည်။ စာသားတွင် ရုရှား စတော့ရှယ်ယာဈေးကွက်သည် တန်ဖိုး၏ ၄၀% ကို ဆုံးရှုံးခဲ့ပြီး ရောင်းဝယ်မှုများကို ရပ်ဆိုင်းခဲ့သည်ဟု ဖော်ပြထားသည်။ ထို့အပြင် ရူဘယ်ငွေကြေးတန်ဖိုးကျဆင်းမှုနှင့် ရုရှား စီးပွားရေးစနစ်၏ ကျယ်ပြန့်သော သီးခြားမှုများကဲ့သို့သော အခြားသော စီးပွားရေးဆိုင်ရာ ရလဒ်များကိုလည်း ဖော်ပြထားသည်။ LLM ၏ တုံ့ပြန်မှုသည် ဤ node များမှ အရေးကြီးသော အချက်များကို ထိရောက်စွာ ချုပ်ဆောင်နိုင်ခဲ့ပြီး စတော့ရှယ်ယာဈေးကွက်အပေါ် သက်ရောက်မှုကို အဓိကထား၍ မေးခွန်းအရ တုံ့ပြန်ခဲ့သည်။\n"
   ]
  },
  {
   "cell_type": "markdown",
   "metadata": {},
   "source": [
    "ယခု Hybrid Search က အခြေခံထားသော အဖြေမပေးနိုင်တဲ့ မေးခွန်းတစ်ခုကို ကြည့်ကြရအောင်:\n"
   ]
  },
  {
   "cell_type": "code",
   "execution_count": 71,
   "metadata": {},
   "outputs": [
    {
     "data": {
      "text/markdown": [
       " The provided context does not specify the exact date of Russia's invasion of Ukraine. However, it does mention that the events discussed are happening in the current era and that the actions taken are in response to Putin's aggression. For the precise date, one would need to refer to external sources or historical records."
      ],
      "text/plain": [
       "<IPython.core.display.Markdown object>"
      ]
     },
     "metadata": {},
     "output_type": "display_data"
    },
    {
     "name": "stdout",
     "output_type": "stream",
     "text": [
      "\n",
      "\n",
      "Source Nodes:\n",
      "file_path: data\\txt\\state_of_the_union.txt\n",
      "\n",
      "our forces are not engaged and will not engage in conflict with Russian forces in Ukraine.  \n",
      "\n",
      "Our forces are not going to Europe to fight in Ukraine, but to defend our NATO Allies – in the event that Putin decides to keep moving west.  \n",
      "\n",
      "For that purpose we’ve mobilized American ground forces, air squadrons, and ship deployments to protect NATO countries including Poland, Romania, Latvia, Lithuania, and Estonia. \n",
      "\n",
      "As I have made crystal clear the United States and our Allies will defend every inch of territory of NATO countries with the full force of our collective power.  \n",
      "\n",
      "And we remain clear-eyed. The Ukrainians are fighting back with pure courage. But the next few days weeks, months, will be hard on them.  \n",
      "\n",
      "Putin has unleashed violence and chaos.  But while he may make gains on the battlefield – he will pay a continuing high price over the long run. \n",
      "\n",
      "And a proud Ukrainian people, who have known 30 years  of independence, have repeatedly shown that they will not tolerate anyone who tries to take their country backwards.  \n",
      "\n",
      "To all Americans, I will be honest with you, as I’ve always promised. A Russian dictator, invading a foreign country, has costs around the world. \n",
      "\n",
      "And I’m taking robust action to make sure the pain of our sanctions  is targeted at Russia’s economy. And I will use every tool at our disposal to protect American businesses and consumers. \n",
      "\n",
      "Tonight, I can announce that the United States has worked with 30 other countries to release 60 Million barrels of oil from reserves around the world.  \n",
      "\n",
      "America will lead that effort, releasing 30 Million barrels from our own Strategic Petroleum Reserve. And we stand ready to do more if necessary, unified with our allies.  \n",
      "\n",
      "These steps will help blunt gas prices here at home. And I know the news about what’s happening can seem alarming. \n",
      "\n",
      "But I want you to know that we are going to be okay. \n",
      "\n",
      "When the history of this era is written Putin’s war on Ukraine will have left Russia weaker and the rest of the world stronger. \n",
      "\n",
      "While it shouldn’t have taken something so terrible for people around the world to see what’s at stake now everyone sees it clearly. \n",
      "\n",
      "We see the unity among leaders of nations and a more unified Europe a more unified West. And we see unity among the people who are gathering in cities in large crowds around the world\n",
      "file_path: data\\txt\\state_of_the_union.txt\n",
      "\n",
      "building a coalition of other freedom-loving nations from Europe and the Americas to Asia and Africa to confront Putin. \n",
      "\n",
      "I spent countless hours unifying our European allies. We shared with the world in advance what we knew Putin was planning and precisely how he would try to falsely justify his aggression.  \n",
      "\n",
      "We countered Russia’s lies with truth.   \n",
      "\n",
      "And now that he has acted the free world is holding him accountable. \n",
      "\n",
      "Along with twenty-seven members of the European Union including France, Germany, Italy, as well as countries like the United Kingdom, Canada, Japan, Korea, Australia, New Zealand, and many others, even Switzerland. \n",
      "\n",
      "We are inflicting pain on Russia and supporting the people of Ukraine. Putin is now isolated from the world more than ever. \n",
      "\n",
      "Together with our allies –we are right now enforcing powerful economic sanctions. \n",
      "\n",
      "We are cutting off Russia’s largest banks from the international financial system.  \n",
      "\n",
      "Preventing Russia’s central bank from defending the Russian Ruble making Putin’s $630 Billion “war fund” worthless.   \n",
      "\n",
      "We are choking off Russia’s access to technology that will sap its economic strength and weaken its military for years to come.  \n",
      "\n",
      "Tonight I say to the Russian oligarchs and corrupt leaders who have bilked billions of dollars off this violent regime no more. \n",
      "\n",
      "The U.S. Department of Justice is assembling a dedicated task force to go after the crimes of Russian oligarchs.  \n",
      "\n",
      "We are joining with our European allies to find and seize your yachts your luxury apartments your private jets. We are coming for your ill-begotten gains. \n",
      "\n",
      "And tonight I am announcing that we will join our allies in closing off American air space to all Russian flights – further isolating Russia – and adding an additional squeeze –on their economy. The Ruble has lost 30% of its value. \n",
      "\n",
      "The Russian stock market has lost 40% of its value and trading remains suspended. Russia’s economy is reeling and Putin alone is to blame. \n",
      "\n",
      "Together with our allies we are providing support to the Ukrainians in their fight for freedom. Military assistance. Economic assistance. Humanitarian assistance. \n",
      "\n",
      "We are giving more than $1 Billion in direct assistance to Ukraine. \n",
      "\n",
      "And we will continue to aid the Ukrainian people as they defend their country and to help ease their suffering.  \n",
      "\n",
      "Let me be clear, our forces are not engaged and will not engage in\n"
     ]
    }
   ],
   "source": [
    "# Query execution\n",
    "query = \"What was the precise date when Russia invaded Ukraine?\"\n",
    "response = hybrid_query_engine.query(query)\n",
    "\n",
    "# Display the response\n",
    "display(Markdown(f\"{response}\"))\n",
    "print(\"\\n\")\n",
    "\n",
    "# Print the source nodes\n",
    "print(\"Source Nodes:\")\n",
    "for node in response.source_nodes:\n",
    "    print(node.get_content(metadata_mode=MetadataMode.LLM))\n"
   ]
  },
  {
   "cell_type": "markdown",
   "metadata": {},
   "source": [
    "### ဟိုက်ဘရစ်ရှာ့ချ်: LLM အဖြေခွဲခြမ်းစိတ်ဖြာခြင်း\n",
    "ဟိုက်ဘရစ်ရှာ့ချ် ဥပမာအတွင်း LLM အဖြေက ရုရှားက ယူကရိန်းကို ကျူးကျော်ခဲ့တဲ့ တိကျတဲ့ရက်စွဲကို ပေးထားတဲ့အကြောင်းအရာမှာ မဖော်ပြထားကြောင်း ပြသနေပါတယ်။ ဒီအဖြေက LLM က ရင်းမြစ်စာရွက်စာတမ်းများထဲက အချက်အလက်များကို အသုံးချနေပြီး၊ စာသားအတွင်းမှာ တိကျတဲ့အသေးစိတ်မပါဝင်ကြောင်းကိုလည်း အသိအမှတ်ပြုနေကြောင်း ဖော်ပြပါတယ်။\n",
    "\n",
    "ဒီအဖြေက ရုရှားရဲ့ တိုက်ခိုက်မှုနှင့်ဆိုင်သော ဖြစ်ရပ်များကို အကြောင်းအရာအတွင်းမှာ ဖော်ပြထားကြောင်း မှန်ကန်စွာ ဖော်ထုတ်ပေးနိုင်သော်လည်း၊ ကျူးကျော်မှုရက်စွဲကို တိကျစွာ ဖော်ပြမထားကြောင်းကိုလည်း သေချာစွာ ဖော်ပြထားပါတယ်။ ဒါက LLM ရဲ့ ပေးထားတဲ့အချက်အလက်ကို နားလည်နိုင်စွမ်းနှင့် အကြောင်းအရာအတွင်းရှိ အချက်အလက်မပြည့်စုံမှုကို အသိအမှတ်ပြုနိုင်စွမ်းကို ပြသနေပါတယ်။ အချက်အလက်မပြည့်စုံတဲ့အခါမှာ ပြင်ပရင်းမြစ်များ သို့မဟုတ် သမိုင်းမှတ်တမ်းများကို ရှာဖွေဖို့ အသုံးပြုသူကို အထောက်အကူပြုနိုင်အောင် သတိပေးနိုင်တဲ့ အရည်အသွေးကိုလည်း ဖော်ပြထားပါတယ်။\n",
    "\n",
    "### ရင်းမြစ် Node များခွဲခြမ်းစိတ်ဖြာခြင်း\n",
    "ဟိုက်ဘရစ်ရှာ့ချ် ဥပမာအတွင်း ရင်းမြစ် node များမှာ ရုရှားရဲ့ လုပ်ရပ်များအပေါ် အမေရိကန်ရဲ့ တုံ့ပြန်မှုကို ဆွေးနွေးထားတဲ့ မိန့်ခွန်းတစ်ခုမှ အပိုင်းအစများ ပါဝင်ပါတယ်။ ဒီ node များက ကျယ်ပြန့်တဲ့ နိုင်ငံတကာနိုင်ငံရေးအကျိုးသက်ရောက်မှုနှင့် ရုရှားရဲ့ ကျူးကျော်မှုအပေါ် အမေရိကန်နှင့် မိတ်ဖက်နိုင်ငံများက လုပ်ဆောင်ခဲ့တဲ့ အဆင့်ဆင့်များကို အဓိကထားဖော်ပြထားပါတယ်။ သို့သော် တိကျတဲ့ ကျူးကျော်မှုရက်စွဲကို မဖော်ပြထားပါဘူး။ ဒါက LLM အဖြေနှင့် ကိုက်ညီနေပြီး၊ အကြောင်းအရာအတွင်းမှာ တိကျတဲ့ရက်စွဲအချက်အလက်မပါဝင်ကြောင်း မှန်ကန်စွာ ဖော်ထုတ်ပေးနိုင်မှုကို ပြသနေပါတယ်။\n"
   ]
  },
  {
   "cell_type": "code",
   "execution_count": 72,
   "metadata": {},
   "outputs": [
    {
     "data": {
      "text/markdown": [
       " The provided context does not specify the exact date of Russia's invasion of Ukraine. However, it mentions that the event occurred six days before the speech was given. To determine the precise date, one would need to know the date of the speech."
      ],
      "text/plain": [
       "<IPython.core.display.Markdown object>"
      ]
     },
     "metadata": {},
     "output_type": "display_data"
    },
    {
     "name": "stdout",
     "output_type": "stream",
     "text": [
      "\n",
      "\n",
      "Source Nodes:\n",
      "file_path: data\\txt\\state_of_the_union.txt\n",
      "\n",
      "Madam Speaker, Madam Vice President, our First Lady and Second Gentleman. Members of Congress and the Cabinet. Justices of the Supreme Court. My fellow Americans.  \n",
      "\n",
      "Last year COVID-19 kept us apart. This year we are finally together again. \n",
      "\n",
      "Tonight, we meet as Democrats Republicans and Independents. But most importantly as Americans. \n",
      "\n",
      "With a duty to one another to the American people to the Constitution. \n",
      "\n",
      "And with an unwavering resolve that freedom will always triumph over tyranny. \n",
      "\n",
      "Six days ago, Russia’s Vladimir Putin sought to shake the foundations of the free world thinking he could make it bend to his menacing ways. But he badly miscalculated. \n",
      "\n",
      "He thought he could roll into Ukraine and the world would roll over. Instead he met a wall of strength he never imagined. \n",
      "\n",
      "He met the Ukrainian people. \n",
      "\n",
      "From President Zelenskyy to every Ukrainian, their fearlessness, their courage, their determination, inspires the world. \n",
      "\n",
      "Groups of citizens blocking tanks with their bodies. Everyone from students to retirees teachers turned soldiers defending their homeland. \n",
      "\n",
      "In this struggle as President Zelenskyy said in his speech to the European Parliament “Light will win over darkness.” The Ukrainian Ambassador to the United States is here tonight. \n",
      "\n",
      "Let each of us here tonight in this Chamber send an unmistakable signal to Ukraine and to the world. \n",
      "\n",
      "Please rise if you are able and show that, Yes, we the United States of America stand with the Ukrainian people. \n",
      "\n",
      "Throughout our history we’ve learned this lesson when dictators do not pay a price for their aggression they cause more chaos.   \n",
      "\n",
      "They keep moving.   \n",
      "\n",
      "And the costs and the threats to America and the world keep rising.   \n",
      "\n",
      "That’s why the NATO Alliance was created to secure peace and stability in Europe after World War 2. \n",
      "\n",
      "The United States is a member along with 29 other nations. \n",
      "\n",
      "It matters. American diplomacy matters. American resolve matters. \n",
      "\n",
      "Putin’s latest attack on Ukraine was premeditated and unprovoked. \n",
      "\n",
      "He rejected repeated efforts at diplomacy. \n",
      "\n",
      "He thought the West and NATO wouldn’t respond. And he thought he could divide us at home. Putin was wrong. We were ready.  Here is what we did.   \n",
      "\n",
      "We prepared extensively and carefully. \n",
      "\n",
      "We spent months building a coalition of other freedom-loving nations from Europe\n",
      "file_path: data\\txt\\state_of_the_union.txt\n",
      "\n",
      "our forces are not engaged and will not engage in conflict with Russian forces in Ukraine.  \n",
      "\n",
      "Our forces are not going to Europe to fight in Ukraine, but to defend our NATO Allies – in the event that Putin decides to keep moving west.  \n",
      "\n",
      "For that purpose we’ve mobilized American ground forces, air squadrons, and ship deployments to protect NATO countries including Poland, Romania, Latvia, Lithuania, and Estonia. \n",
      "\n",
      "As I have made crystal clear the United States and our Allies will defend every inch of territory of NATO countries with the full force of our collective power.  \n",
      "\n",
      "And we remain clear-eyed. The Ukrainians are fighting back with pure courage. But the next few days weeks, months, will be hard on them.  \n",
      "\n",
      "Putin has unleashed violence and chaos.  But while he may make gains on the battlefield – he will pay a continuing high price over the long run. \n",
      "\n",
      "And a proud Ukrainian people, who have known 30 years  of independence, have repeatedly shown that they will not tolerate anyone who tries to take their country backwards.  \n",
      "\n",
      "To all Americans, I will be honest with you, as I’ve always promised. A Russian dictator, invading a foreign country, has costs around the world. \n",
      "\n",
      "And I’m taking robust action to make sure the pain of our sanctions  is targeted at Russia’s economy. And I will use every tool at our disposal to protect American businesses and consumers. \n",
      "\n",
      "Tonight, I can announce that the United States has worked with 30 other countries to release 60 Million barrels of oil from reserves around the world.  \n",
      "\n",
      "America will lead that effort, releasing 30 Million barrels from our own Strategic Petroleum Reserve. And we stand ready to do more if necessary, unified with our allies.  \n",
      "\n",
      "These steps will help blunt gas prices here at home. And I know the news about what’s happening can seem alarming. \n",
      "\n",
      "But I want you to know that we are going to be okay. \n",
      "\n",
      "When the history of this era is written Putin’s war on Ukraine will have left Russia weaker and the rest of the world stronger. \n",
      "\n",
      "While it shouldn’t have taken something so terrible for people around the world to see what’s at stake now everyone sees it clearly. \n",
      "\n",
      "We see the unity among leaders of nations and a more unified Europe a more unified West. And we see unity among the people who are gathering in cities in large crowds around the world\n"
     ]
    }
   ],
   "source": [
    "# Initialize hybrid retriever and query engine\n",
    "semantic_reranker_retriever = index.as_retriever(vector_store_query_mode=VectorStoreQueryMode.SEMANTIC_HYBRID)\n",
    "semantic_reranker_query_engine = RetrieverQueryEngine(retriever=semantic_reranker_retriever)\n",
    "\n",
    "# Query execution\n",
    "query = \"What was the precise date when Russia invaded Ukraine?\"\n",
    "response = semantic_reranker_query_engine.query(query)\n",
    "\n",
    "# Display the response\n",
    "display(Markdown(f\"{response}\"))\n",
    "print(\"\\n\")\n",
    "\n",
    "# Print the source nodes\n",
    "print(\"Source Nodes:\")\n",
    "for node in response.source_nodes:\n",
    "    print(node.get_content(metadata_mode=MetadataMode.LLM))\n"
   ]
  },
  {
   "cell_type": "markdown",
   "metadata": {},
   "source": [
    "### Hybrid w/Reranking: LLM Response Analysis\n",
    "Hybrid w/Reranking နမူနာတွင် LLM ရဲ့ အဖြေက အခန်းကဏ္ဍကို ပိုမိုရှင်းလင်းစေဖို့ အကြောင်းအရာအပိုင်းကို ထည့်သွင်းပေးထားပါတယ်။ ဥပမာအားဖြင့် အဆိုပြုခဲ့တဲ့နေ့မတိုင်မီ ရက်ခြောက်ရက်အကြာမှာ ဖြစ်ပွားခဲ့တဲ့ အဖြစ်အပျက်ကို ဖော်ပြထားတာပါ။ ဒါက LLM က အဆိုပြုခဲ့တဲ့နေ့ကို အတိအကျ သိရန်လိုအပ်သော်လည်း အဆိုပြုခဲ့တဲ့အချိန်ကို အခြေခံပြီး ကျူးကျော်မှုရက်စွဲကို ခန့်မှန်းနိုင်စွမ်းရှိကြောင်း ပြသပါတယ်။\n",
    "\n",
    "ဒီအဖြေက အကြောင်းအရာအချက်အလက်များကို အသုံးပြုပြီး ပိုမိုအသေးစိတ်ဖြစ်စေတဲ့ အဖြေတစ်ခုကို ပေးနိုင်စွမ်းရှိကြောင်း ပြသပါတယ်။ ဒါဟာ reranking ရဲ့ အားသာချက်ကို ဖော်ပြပြီး LLM က ပိုမိုသက်ဆိုင်တဲ့ အချက်အလက်များကို ရယူပြီး အဓိကအချက်အလက် (ဥပမာ - ကျူးကျော်မှုရက်စွဲ) ကို ပိုမိုနီးကပ်စွာ ခန့်မှန်းနိုင်စွမ်းရှိကြောင်း ပြသပါတယ်။\n",
    "\n",
    "### Source Nodes Analysis\n",
    "ဒီနမူနာမှာ Source Nodes တွေက ရုရှားရဲ့ ကျူးကျော်မှုအချိန်ကို ရည်ညွှန်းထားပြီး အဆိုပြုခဲ့တဲ့နေ့မတိုင်မီ ရက်ခြောက်ရက်အကြာမှာ ဖြစ်ပွားခဲ့ကြောင်း ဖော်ပြထားပါတယ်။ ရက်စွဲကို အတိအကျ မဖော်ပြထားသော်လည်း Nodes တွေက အချိန်ဆိုင်ရာ အကြောင်းအရာကို ပေးထားပြီး LLM က ပိုမိုအသေးစိတ်ဖြစ်စေတဲ့ အဖြေတစ်ခုကို ပေးနိုင်စွမ်းရှိစေပါတယ်။ ဒီအချက်အလက်ကို ထည့်သွင်းထားတာက reranking က အကြောင်းအရာကို ရယူပြီး ခန့်မှန်းနိုင်စွမ်းကို တိုးတက်စေပြီး ပိုမိုတိကျတဲ့ အဖြေတစ်ခုကို ပေးနိုင်စွမ်းရှိကြောင်း ပြသပါတယ်။\n"
   ]
  },
  {
   "cell_type": "markdown",
   "metadata": {},
   "source": [
    "**မှတ်ချက်:**\n",
    "ဒီ notebook မှာ NVIDIA API Catalog ထဲက NVIDIA NIM microservices တွေကို အသုံးပြုထားပါတယ်။\n",
    "အထက်မှာဖော်ပြထားတဲ့ API တွေ `NVIDIA (llms)`, `NVIDIAEmbedding`, နဲ့ [Azure AI Search Semantic Hybrid Retrieval (built-in reranking)](https://learn.microsoft.com/azure/search/semantic-search-overview) ပါဝင်ပါတယ်။ အထက်ဖော်ပြထားတဲ့ API တွေဟာ self-hosted microservices တွေကိုလည်း ပံ့ပိုးပေးနိုင်ပါတယ်။\n",
    "\n",
    "**ဥပမာ:**\n",
    "```python\n",
    "NVIDIA(model=\"meta/llama3-8b-instruct\", base_url=\"http://your-nim-host-address:8000/v1\")```\n"
   ]
  },
  {
   "cell_type": "markdown",
   "metadata": {},
   "source": [
    "\n---\n\n**ဝက်ဘ်ဆိုက်မှတ်ချက်**:  \nဤစာရွက်စာတမ်းကို AI ဘာသာပြန်ဝန်ဆောင်မှု [Co-op Translator](https://github.com/Azure/co-op-translator) ကို အသုံးပြု၍ ဘာသာပြန်ထားပါသည်။ ကျွန်ုပ်တို့သည် တိကျမှန်ကန်မှုအတွက် ကြိုးစားနေပါသော်လည်း၊ အလိုအလျောက်ဘာသာပြန်ဆိုမှုများတွင် အမှားများ သို့မဟုတ် မတိကျမှုများ ပါဝင်နိုင်သည်ကို ကျေးဇူးပြု၍ သတိပြုပါ။ မူရင်းဘာသာစကားဖြင့် ရေးသားထားသော စာရွက်စာတမ်းကို အာဏာတည်သော ရင်းမြစ်အဖြစ် သတ်မှတ်သင့်ပါသည်။ အရေးကြီးသော အချက်အလက်များအတွက် လူပညာရှင်များမှ ဘာသာပြန်ဆိုမှုကို အကြံပြုပါသည်။ ဤဘာသာပြန်ဆိုမှုကို အသုံးပြုခြင်းမှ ဖြစ်ပေါ်လာသော နားလည်မှုမှားများ သို့မဟုတ် အဓိပ္ပာယ်မှားများအတွက် ကျွန်ုပ်တို့သည် တာဝန်မယူပါ။\n"
   ]
  }
 ],
 "metadata": {
  "kernelspec": {
   "display_name": "Python 3",
   "language": "python",
   "name": "python3"
  },
  "language_info": {
   "codemirror_mode": {
    "name": "ipython",
    "version": 3
   },
   "file_extension": ".py",
   "mimetype": "text/x-python",
   "name": "python",
   "nbconvert_exporter": "python",
   "pygments_lexer": "ipython3",
   "version": "3.11.9"
  },
  "coopTranslator": {
   "original_hash": "c023540b1eda8c0746871294979e1e5c",
   "translation_date": "2025-09-13T06:17:53+00:00",
   "source_file": "md/02.Application/06.MoE/Phi3/azure-ai-search-nvidia-rag.ipynb",
   "language_code": "my"
  }
 },
 "nbformat": 4,
 "nbformat_minor": 2
}