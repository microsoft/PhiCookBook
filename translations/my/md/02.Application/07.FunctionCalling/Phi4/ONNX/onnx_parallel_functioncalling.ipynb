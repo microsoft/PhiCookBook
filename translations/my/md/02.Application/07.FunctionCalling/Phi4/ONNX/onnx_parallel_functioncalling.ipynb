{
 "cells": [
  {
   "cell_type": "markdown",
   "id": "81ad8c65",
   "metadata": {},
   "source": [
    "# Phi-4 Mini ONNX Parallel Function Calling Tutorial\n",
    "\n",
    "ဒီနိုတ်ဘွတ်ခ်မှာ Phi-4 Mini ကို ONNX Runtime GenAI နဲ့အတူ အသုံးပြုပြီး ပျော်လည်း Parallel Function Calling ကို ဘယ်လိုလုပ်ရမလဲဆိုတာကို ပြသပေးမှာဖြစ်ပါတယ်။ Function Calling က မော်ဒယ်ကို အသုံးပြုသူရဲ့ တောင်းဆိုမှုအပေါ်မူတည်ပြီး အပြင်အဆင့်ကိရိယာတွေ၊ API တွေကို ထိထိရောက်ရောက် ခေါ်သုံးနိုင်စေပါတယ်။\n",
    "\n",
    "## အနှစ်ချုပ်\n",
    "\n",
    "ဒီသင်ခန်းစာမှာ သင်လေ့လာနိုင်မယ့်အရာတွေက:\n",
    "- Phi-4 Mini ကို ONNX Runtime GenAI နဲ့အတူ စတင်အသုံးပြုနည်း\n",
    "- လေယာဉ်လက်မှတ်နဲ့ ဟိုတယ်ဘွတ်ကင်လုပ်ဖို့ Function Schema တွေ သတ်မှတ်နည်း\n",
    "- Lark Grammar ကို အသုံးပြုပြီး Guided Generation နဲ့ ဖွဲ့စည်းထားတဲ့ output ရယူနည်း\n",
    "- ခက်ခဲတဲ့ ခရီးသွားဘွတ်ကင်အခြေအနေတွေမှာ Parallel Function Calling ကို အကောင်အထည်ဖော်နည်း\n",
    "\n",
    "## လိုအပ်ချက်များ\n",
    "\n",
    "ဒီနိုတ်ဘွတ်ခ်ကို အကောင်အထည်ဖော်မယ့်အခါမှာ သင်မှာ ရှိထားဖို့လိုတာတွေက:\n",
    "- Phi-4 Mini ONNX မော်ဒယ်ကို ဒေါင်းလုပ်လုပ်ပြီးဖြစ်ရမယ်\n",
    "- `onnxruntime-genai` package ကို ထည့်သွင်းပြီးဖြစ်ရမယ်\n",
    "- Function Calling အကြောင်းအရာတွေကို အခြေခံနားလည်မှု ရှိထားရမယ်\n"
   ]
  },
  {
   "cell_type": "markdown",
   "id": "8fc2551b",
   "metadata": {},
   "source": [
    "## အဆင့် ၁ - လိုအပ်သောစာကြည့်တိုက်များကို သွင်းယူပါ\n",
    "\n",
    "ပထမဦးစွာ၊ function calling ကို အကောင်အထည်ဖော်ရန် လိုအပ်သောစာကြည့်တိုက်များကို သွင်းယူပါမည်။\n"
   ]
  },
  {
   "cell_type": "code",
   "execution_count": 1,
   "id": "7368a24e",
   "metadata": {},
   "outputs": [],
   "source": [
    "import json"
   ]
  },
  {
   "cell_type": "code",
   "execution_count": 2,
   "id": "3e806340",
   "metadata": {},
   "outputs": [],
   "source": [
    "import onnxruntime_genai as og"
   ]
  },
  {
   "cell_type": "markdown",
   "id": "dc55f0ab",
   "metadata": {},
   "source": [
    "## အဆင့် ၂ - မော်ဒယ်တပ်ဆင်ခြင်းနှင့် ပြင်ဆင်မှု\n",
    "\n",
    "ယခုအချိန်တွင် Phi-4 Mini ONNX မော်ဒယ်ကို ပြင်ဆင်သတ်မှတ်ပါမည်။ မော်ဒယ်ရှိတဲ့ ဖိုင်လမ်းကြောင်းကို သင့်ရဲ့ အမှန်တကယ် မော်ဒယ်ဒိုင်ရက်ထဲက လမ်းကြောင်းနဲ့ အစားထိုးပေးပါ။\n"
   ]
  },
  {
   "cell_type": "code",
   "execution_count": null,
   "id": "1e8edfbf",
   "metadata": {},
   "outputs": [],
   "source": [
    "# TODO: Replace with your actual Phi-4 Mini ONNX model path\n",
    "# Download from: https://huggingface.co/microsoft/Phi-4-mini-onnx\n",
    "path = 'Your phi-4-mini-onnx path'  # Update this path!"
   ]
  },
  {
   "cell_type": "code",
   "execution_count": 4,
   "id": "b80f5bb5",
   "metadata": {},
   "outputs": [],
   "source": [
    "config = og.Config(path)"
   ]
  },
  {
   "cell_type": "code",
   "execution_count": 5,
   "id": "10e9a553",
   "metadata": {},
   "outputs": [],
   "source": [
    "model = og.Model(config)"
   ]
  },
  {
   "cell_type": "code",
   "execution_count": 6,
   "id": "66ce23b1",
   "metadata": {},
   "outputs": [],
   "source": [
    "tokenizer = og.Tokenizer(model)\n",
    "tokenizer_stream = tokenizer.create_stream()"
   ]
  },
  {
   "cell_type": "markdown",
   "id": "08ac6d4a",
   "metadata": {},
   "source": [
    "## အဆင့် ၃ - ထုတ်လုပ်မှု ပarameters များကို ပြင်ဆင်ပါ\n",
    "\n",
    "မော်ဒယ်၏ output အပြုအမူကို ထိန်းချုပ်ရန် ထုတ်လုပ်မှု parameters များကို ပြင်ဆင်ပါ။ ဒီဆက်တင်များက function calling အတွက် သေချာပြီး အာရုံစိုက်ထားသော အဖြေများကို အာမခံပေးပါသည်။\n"
   ]
  },
  {
   "cell_type": "code",
   "execution_count": 7,
   "id": "af01f5ed",
   "metadata": {},
   "outputs": [],
   "source": [
    "# Configure generation parameters for deterministic function calling\n",
    "search_options = {}\n",
    "search_options['max_length'] = 4096      # Maximum tokens to generate\n",
    "search_options['temperature'] = 0.00001  # Very low temperature for deterministic output\n",
    "search_options['top_p'] = 1.0            # Nucleus sampling parameter\n",
    "search_options['do_sample'] = False       # Disable sampling for consistent results"
   ]
  },
  {
   "cell_type": "markdown",
   "id": "c2808a51",
   "metadata": {},
   "source": [
    "## အဆင့် ၄ - ရရှိနိုင်သော လုပ်ဆောင်ချက်များ သတ်မှတ်ရန်\n",
    "\n",
    "ဒီအဆင့်မှာ ကျွန်တော်တို့ရဲ့ AI အကူအညီပေးစနစ်က အသုံးပြုနိုင်မည့် လုပ်ဆောင်ချက်များကို သတ်မှတ်ပေးပါမယ်။ ဥပမာအနေနဲ့ ဒီမှာ ခရီးသွားရေးနှင့်ဆိုင်သော လုပ်ဆောင်ချက်နှစ်ခုရှိပါတယ် -\n",
    "\n",
    "1. **booking_flight_tickets**: လေဆိပ်များအကြား လေယာဉ်လက်မှတ်များ ကြိုတင်မှာယူရန်\n",
    "2. **booking_hotels**: ဟိုတယ်အဆောင်များ ကြိုတင်မှာယူရန်\n",
    "\n",
    "လုပ်ဆောင်ချက်များကို OpenAI ရဲ့ function calling schema ပုံစံအတိုင်း သတ်မှတ်ထားပါတယ်။\n"
   ]
  },
  {
   "cell_type": "code",
   "execution_count": 8,
   "id": "fc53b93b",
   "metadata": {},
   "outputs": [],
   "source": [
    "tool_list = '[{\"name\": \"booking_flight_tickets\", \"description\": \"booking flights\", \"parameters\": {\"origin_airport_code\": {\"description\": \"The name of Departure airport code\", \"type\": \"string\"}, \"destination_airport_code\": {\"description\": \"The name of Destination airport code\", \"type\": \"string\"}, \"departure_date\": {\"description\": \"The date of outbound flight\", \"type\": \"string\"}, \"return_date\": {\"description\": \"The date of return flight\", \"type\": \"string\"}}}, {\"name\": \"booking_hotels\", \"description\": \"booking hotel\", \"parameters\": {\"destination\": {\"description\": \"The name of the city\", \"type\": \"string\"}, \"check_in_date\": {\"description\": \"The date of check in\", \"type\": \"string\"}, \"checkout_date\": {\"description\": \"The date of check out\", \"type\": \"string\"}}}]'"
   ]
  },
  {
   "cell_type": "markdown",
   "id": "f4bb4048",
   "metadata": {},
   "source": [
    "## အဆင့် ၅ - သဒ္ဒါဖန်တီးရေးအကူအညီပေးသော Function များ\n",
    "\n",
    "ဒီအကူအညီပေးသော Function များက ကျွန်ုပ်တို့၏ Function အဓိပ္ပာယ်ဖော်ပြချက်များကို Lark သဒ္ဒါပုံစံအဖြစ် ပြောင်းလဲပေးပြီး ONNX Runtime GenAI မှ အညွှန်းအရ ဖန်တီးမှုများအတွက် အသုံးပြုသည်။ ဒါက မော်ဒယ်မှ သင့်တော်သော JSON ပုံစံဖြင့် Function ခေါ်ဆိုမှုများကို ထုတ်ပေးနိုင်ရန် သေချာစေသည်။\n"
   ]
  },
  {
   "cell_type": "code",
   "execution_count": 9,
   "id": "0f86e51c",
   "metadata": {},
   "outputs": [],
   "source": [
    "def get_lark_grammar(input_tools):\n",
    "    tools_list = get_tools_list(input_tools)\n",
    "    prompt_tool_input = create_prompt_tool_input(tools_list)\n",
    "    if len(tools_list) == 1:\n",
    "        # output = (\"start: TEXT | fun_call\\n\" \"TEXT: /[^{](.|\\\\n)*/\\n\" \" fun_call: <|tool_call|> %json \" + json.dumps(tools_list[0]))\n",
    "        output = (\"start: TEXT | fun_call\\n\" \"TEXT: /[^{](.|\\\\n)*/\\n\" \" fun_call: <|tool_call|> %json \" + json.dumps(convert_tool_to_grammar_input(tools_list[0])))\n",
    "        return prompt_tool_input, output\n",
    "    else:\n",
    "        return prompt_tool_input, \"start: TEXT | fun_call \\n TEXT: /[^{](.|\\n)*/ \\n fun_call: <|tool_call|> %json {\\\"anyOf\\\": [\" + ','.join([json.dumps(tool) for tool in tools_list]) + \"]}\"\n"
   ]
  },
  {
   "cell_type": "code",
   "execution_count": 10,
   "id": "7f2da98d",
   "metadata": {},
   "outputs": [],
   "source": [
    "def get_tools_list(input_tools):\n",
    "    # input_tools format: '[{\"name\": \"fn1\", \"description\": \"fn details\", \"parameters\": {\"p1\": {\"description\": \"details\", \"type\": \"string\"}}},\n",
    "    # {\"fn2\": 2},{\"fn3\": 3}]'\n",
    "    tools_list = []\n",
    "    try:\n",
    "        tools_list = json.loads(input_tools)\n",
    "    except json.JSONDecodeError:\n",
    "        raise ValueError(\"Invalid JSON format for tools list, expected format: '[{\\\"name\\\": \\\"fn1\\\"},{\\\"name\\\": \\\"fn2\\\"}]'\")\n",
    "    if len(tools_list) == 0:\n",
    "        raise ValueError(\"Tools list cannot be empty\")\n",
    "    return tools_list"
   ]
  },
  {
   "cell_type": "code",
   "execution_count": 11,
   "id": "1b1c2261",
   "metadata": {},
   "outputs": [],
   "source": [
    "def create_prompt_tool_input(tools_list):\n",
    "    tool_input = str(tools_list[0])\n",
    "    for tool in tools_list[1:]:\n",
    "        tool_input += ',' + str(tool)\n",
    "    return tool_input"
   ]
  },
  {
   "cell_type": "code",
   "execution_count": 12,
   "id": "aa82c09c",
   "metadata": {},
   "outputs": [],
   "source": [
    "def convert_tool_to_grammar_input(tool):\n",
    "    param_props = {}\n",
    "    required_params = []\n",
    "    for param_name, param_info in tool.get(\"parameters\", {}).items():\n",
    "        param_props[param_name] = {\n",
    "            \"type\": param_info.get(\"type\", \"string\"),\n",
    "            \"description\": param_info.get(\"description\", \"\")\n",
    "        }\n",
    "        required_params.append(param_name)\n",
    "    output_schema = {\n",
    "        \"description\": tool.get('description', ''),\n",
    "        \"type\": \"object\",\n",
    "        \"required\": [\"name\", \"parameters\"],\n",
    "        \"additionalProperties\": False,\n",
    "        \"properties\": {\n",
    "            \"name\": { \"const\": tool[\"name\"] },\n",
    "            \"parameters\": {\n",
    "                \"type\": \"object\",\n",
    "                \"properties\": param_props,\n",
    "                \"required\": required_params,\n",
    "                \"additionalProperties\": False\n",
    "            }\n",
    "        }\n",
    "    }\n",
    "    if len(param_props) == 0:\n",
    "        output_schema[\"required\"] = [\"name\"]\n",
    "    return output_schema"
   ]
  },
  {
   "cell_type": "code",
   "execution_count": 13,
   "id": "284c9474",
   "metadata": {},
   "outputs": [
    {
     "data": {
      "text/plain": [
       "(\"{'name': 'booking_flight_tickets', 'description': 'booking flights', 'parameters': {'origin_airport_code': {'description': 'The name of Departure airport code', 'type': 'string'}, 'destination_airport_code': {'description': 'The name of Destination airport code', 'type': 'string'}, 'departure_date': {'description': 'The date of outbound flight', 'type': 'string'}, 'return_date': {'description': 'The date of return flight', 'type': 'string'}}},{'name': 'booking_hotels', 'description': 'booking hotel', 'parameters': {'destination': {'description': 'The name of the city', 'type': 'string'}, 'check_in_date': {'description': 'The date of check in', 'type': 'string'}, 'checkout_date': {'description': 'The date of check out', 'type': 'string'}}}\",\n",
       " 'start: TEXT | fun_call \\n TEXT: /[^{](.|\\n)*/ \\n fun_call: <|tool_call|> %json {\"anyOf\": [{\"name\": \"booking_flight_tickets\", \"description\": \"booking flights\", \"parameters\": {\"origin_airport_code\": {\"description\": \"The name of Departure airport code\", \"type\": \"string\"}, \"destination_airport_code\": {\"description\": \"The name of Destination airport code\", \"type\": \"string\"}, \"departure_date\": {\"description\": \"The date of outbound flight\", \"type\": \"string\"}, \"return_date\": {\"description\": \"The date of return flight\", \"type\": \"string\"}}},{\"name\": \"booking_hotels\", \"description\": \"booking hotel\", \"parameters\": {\"destination\": {\"description\": \"The name of the city\", \"type\": \"string\"}, \"check_in_date\": {\"description\": \"The date of check in\", \"type\": \"string\"}, \"checkout_date\": {\"description\": \"The date of check out\", \"type\": \"string\"}}}]}')"
      ]
     },
     "execution_count": 13,
     "metadata": {},
     "output_type": "execute_result"
    }
   ],
   "source": [
    "get_lark_grammar(tool_list)"
   ]
  },
  {
   "cell_type": "markdown",
   "id": "c534ff02",
   "metadata": {},
   "source": [
    "## အဆင့် ၆ - သဒ္ဒါဖွဲ့စည်းမှု စမ်းသပ်ခြင်း\n",
    "\n",
    "သဒ္ဒါဖွဲ့စည်းမှုလုပ်ဆောင်မှုများကို စမ်းသပ်ကြည့်ပြီး၊ ကျွန်ုပ်တို့၏ tool အဓိပ္ပာယ်ဖော်ပြချက်များကို သင့်လျော်သောပုံစံသို့ ပြောင်းလဲပုံကို ကြည့်ရှုကြမည်။\n"
   ]
  },
  {
   "cell_type": "code",
   "execution_count": 14,
   "id": "a730b137",
   "metadata": {},
   "outputs": [],
   "source": [
    "prompt_tool_input, guidance_input = get_lark_grammar(tool_list)"
   ]
  },
  {
   "cell_type": "markdown",
   "id": "a4ca5aa8",
   "metadata": {},
   "source": [
    "## အဆင့် ၇: စနစ်အမိန့်နှင့် မျိုးစေ့ထုတ်လုပ်သူကို ပြင်ဆင်ပါ\n",
    "\n",
    "ယခုအချိန်တွင် မော်ဒယ်ကို အသုံးပြုနိုင်သော ကိရိယာများအကြောင်း ပြောပြသည့် စနစ်အမိန့်ကို ဖန်တီးပြီး မျိုးစေ့ထုတ်လုပ်မှုဆိုင်ရာ လမ်းညွှန်သတ်မှတ်ချက်များနှင့်အတူ မျိုးစေ့ထုတ်လုပ်သူကို ပြင်ဆင်သတ်မှတ်ပါ။\n"
   ]
  },
  {
   "cell_type": "code",
   "execution_count": 15,
   "id": "c8474cdf",
   "metadata": {},
   "outputs": [],
   "source": [
    "# Define the system prompt that introduces the assistant and its capabilities\n",
    "system_prompt = \"You are a helpful assistant with these tools.\""
   ]
  },
  {
   "cell_type": "code",
   "execution_count": 16,
   "id": "97c4c612",
   "metadata": {},
   "outputs": [],
   "source": [
    "# Format the system message with tools information\n",
    "messages = f\"\"\"[{{\"role\": \"system\", \"content\": \"{system_prompt}\", \"tools\": \"{prompt_tool_input}\"}}]\"\"\""
   ]
  },
  {
   "cell_type": "code",
   "execution_count": 17,
   "id": "aaabbc49",
   "metadata": {},
   "outputs": [],
   "source": [
    "# Apply chat template to format the system prompt properly\n",
    "tokenizer_input_system_prompt = tokenizer.apply_chat_template(messages=messages, add_generation_prompt=False)"
   ]
  },
  {
   "cell_type": "code",
   "execution_count": 18,
   "id": "81f0da4d",
   "metadata": {},
   "outputs": [
    {
     "data": {
      "text/plain": [
       "\"<|system|>You are a helpful assistant with these tools.<|tool|>{'name': 'booking_flight_tickets', 'description': 'booking flights', 'parameters': {'origin_airport_code': {'description': 'The name of Departure airport code', 'type': 'string'}, 'destination_airport_code': {'description': 'The name of Destination airport code', 'type': 'string'}, 'departure_date': {'description': 'The date of outbound flight', 'type': 'string'}, 'return_date': {'description': 'The date of return flight', 'type': 'string'}}},{'name': 'booking_hotels', 'description': 'booking hotel', 'parameters': {'destination': {'description': 'The name of the city', 'type': 'string'}, 'check_in_date': {'description': 'The date of check in', 'type': 'string'}, 'checkout_date': {'description': 'The date of check out', 'type': 'string'}}}<|/tool|><|end|><|endoftext|>\""
      ]
     },
     "execution_count": 18,
     "metadata": {},
     "output_type": "execute_result"
    }
   ],
   "source": [
    "tokenizer_input_system_prompt"
   ]
  },
  {
   "cell_type": "code",
   "execution_count": 19,
   "id": "10605b23",
   "metadata": {},
   "outputs": [],
   "source": [
    "input_tokens = tokenizer.encode(tokenizer_input_system_prompt)"
   ]
  },
  {
   "cell_type": "code",
   "execution_count": 20,
   "id": "6de50e32",
   "metadata": {},
   "outputs": [],
   "source": [
    "input_tokens = input_tokens[:-1]"
   ]
  },
  {
   "cell_type": "code",
   "execution_count": 21,
   "id": "1c17a6c9",
   "metadata": {},
   "outputs": [],
   "source": [
    "system_prompt_length = len(input_tokens)"
   ]
  },
  {
   "cell_type": "markdown",
   "id": "5ec5f242",
   "metadata": {},
   "source": [
    "## အဆင့် ၈: Guided Generation ဖြင့် Generator ကို စတင်မောင်းနှင်ပါ\n",
    "\n",
    "ယခုအချိန်တွင် ကျွန်ုပ်တို့၏ သတ်မှတ်ထားသော parameters များနှင့်အတူ generator ကို ဖန်တီးပြီး Guided Generation အတွက် Lark grammar ကို အသုံးပြုမည်ဖြစ်သည်။\n"
   ]
  },
  {
   "cell_type": "code",
   "execution_count": 22,
   "id": "b54180c0",
   "metadata": {},
   "outputs": [],
   "source": [
    "# Create generator parameters and apply search options\n",
    "params = og.GeneratorParams(model)\n",
    "params.set_search_options(**search_options)"
   ]
  },
  {
   "cell_type": "code",
   "execution_count": 23,
   "id": "eec56940",
   "metadata": {},
   "outputs": [],
   "source": [
    "# Apply Lark grammar for guided generation to ensure valid function call format\n",
    "params.set_guidance(\"lark_grammar\", guidance_input)"
   ]
  },
  {
   "cell_type": "code",
   "execution_count": null,
   "id": "92207c48",
   "metadata": {},
   "outputs": [],
   "source": []
  },
  {
   "cell_type": "code",
   "execution_count": 24,
   "id": "690112f5",
   "metadata": {},
   "outputs": [],
   "source": [
    "generator = og.Generator(model, params)"
   ]
  },
  {
   "cell_type": "code",
   "execution_count": 25,
   "id": "789d5b1a",
   "metadata": {},
   "outputs": [],
   "source": [
    "generator.append_tokens(input_tokens)"
   ]
  },
  {
   "cell_type": "markdown",
   "id": "5c7c9c2e",
   "metadata": {},
   "source": [
    "## အဆင့် ၉ - ပူးတွဲလုပ်ဆောင်မှု ဖန်ရှင်ခေါ်ဆိုမှုကို စမ်းသပ်ပါ\n",
    "\n",
    "အခုတော့ အများဖက်စီးပွားခရီးသွားအခြေအနေတစ်ခုကို စမ်းသပ်ကြမယ်၊ ဒါဟာ ဖန်ရှင်အများကြီးကို ခေါ်ဆိုရမယ့် အခြေအနေဖြစ်ပါတယ်။\n"
   ]
  },
  {
   "cell_type": "code",
   "execution_count": 26,
   "id": "0ac5ff58",
   "metadata": {},
   "outputs": [],
   "source": [
    "# Complex travel booking request that requires both flight and hotel booking\n",
    "text = \"book flight ticket from Beijing to Paris(using airport code) in 2025-12-04 to 2025-12-10 , then book hotel from 2025-12-04 to 2025-12-10 in Paris\""
   ]
  },
  {
   "cell_type": "code",
   "execution_count": 27,
   "id": "36386526",
   "metadata": {},
   "outputs": [],
   "source": [
    "# Format user message and apply chat template\n",
    "messages = f\"\"\"[{{\"role\": \"user\", \"content\": \"{text}\"}}]\"\"\"\n",
    "\n",
    "# Apply Chat Template for user input\n",
    "user_prompt = tokenizer.apply_chat_template(messages=messages, add_generation_prompt=True)\n",
    "input_tokens = tokenizer.encode(user_prompt)\n",
    "generator.append_tokens(input_tokens)"
   ]
  },
  {
   "cell_type": "code",
   "execution_count": 28,
   "id": "f85f5caa",
   "metadata": {},
   "outputs": [
    {
     "data": {
      "text/plain": [
       "'<|user|>book flight ticket from Beijing to Paris(using airport code) in 2025-12-04 to 2025-12-10 , then book hotel from 2025-12-04 to 2025-12-10 in Paris<|end|><|assistant|>'"
      ]
     },
     "execution_count": 28,
     "metadata": {},
     "output_type": "execute_result"
    }
   ],
   "source": [
    "user_prompt"
   ]
  },
  {
   "cell_type": "markdown",
   "id": "833c90f9",
   "metadata": {},
   "source": []
  },
  {
   "cell_type": "markdown",
   "id": "65331735",
   "metadata": {},
   "source": [
    "### ဖန်တီးမှုလုပ်ဆောင်မှုများကို ဖန်တီးပါ\n",
    "\n",
    "မော်ဒယ်သည် ယခုအခါ အသုံးပြုသူ၏ တောင်းဆိုမှုအရ ဖွဲ့စည်းထားသော လုပ်ဆောင်မှုများကို ဖန်တီးပေးမည်ဖြစ်သည်။ ဦးတည်ချက်ထားပြီး ဖန်တီးမှုကြောင့် အထွက်အဖြစ် JSON ပုံစံမှန်ကန်စွာ ထွက်ရှိမည်ဖြစ်ပြီး တိုက်ရိုက်အကောင်အထည်ဖော်နိုင်ပါသည်။\n",
    "\n",
    "**မျှော်မှန်းထားသော အထွက်**: မော်ဒယ်သည် အောက်ပါလုပ်ဆောင်မှုများအတွက် ဖန်တီးမှုများကို ထုတ်ပေးရမည်ဖြစ်သည် -\n",
    "1. Beijing (PEK) မှ Paris (CDG) သို့ သွားရန်အတွက် `booking_flight_tickets`\n",
    "2. Paris တွင် နေရာချထားရန်အတွက် `booking_hotels`\n",
    "\n",
    "အောက်ပါ cell ကို run လုပ်ပြီး တိုက်ရိုက်ဖန်တီးမှုကို ကြည့်ရှုပါ:\n"
   ]
  },
  {
   "cell_type": "code",
   "execution_count": 29,
   "id": "64a703a1",
   "metadata": {},
   "outputs": [
    {
     "name": "stdout",
     "output_type": "stream",
     "text": [
      "[{\"name\": \"booking_flight_tickets\", \"arguments\": {\"origin_airport_code\": \"PEKK\", \"destination_airport_code\": \"CDG\", \"departure_date\": \"2025-12-04\", \"return_date\": \"2025-12-10\"}}, {\"name\": \"booking_hotels\", \"arguments\": {\"destination\": \"Paris\", \"check_in_date\": \"2025-12-04\", \"checkout_date\": \"2025-12-10\"}}]"
     ]
    }
   ],
   "source": [
    "# Generate tokens one by one and stream the output\n",
    "while not generator.is_done():\n",
    "    generator.generate_next_token()\n",
    "    new_token = generator.get_next_tokens()[0]\n",
    "    print(tokenizer_stream.decode(new_token), end='', flush=True)"
   ]
  },
  {
   "cell_type": "markdown",
   "id": "e4db4123",
   "metadata": {},
   "source": [
    "## နိဂုံး\n",
    "\n",
    "🎉 **ဂုဏ်ယူပါတယ်!** သင် ONNX Runtime GenAI ကို အသုံးပြု၍ Phi-4 Mini ဖြင့် ပူးတွဲလုပ်ဆောင်မှုကို အောင်မြင်စွာ အကောင်အထည်ဖော်နိုင်ခဲ့ပါပြီ။\n",
    "\n",
    "### သင်လေ့လာခဲ့တာများ:\n",
    "\n",
    "1. **မော်ဒယ် Setup**: ONNX Runtime GenAI ဖြင့် Phi-4 Mini ကို စနစ်တကျ ပြင်ဆင်ပုံ\n",
    "2. **လုပ်ဆောင်မှု အဓိပ္ပာယ်ဖော်ပြခြင်း**: AI function calling အတွက် function schemas ကို သတ်မှတ်ပုံ\n",
    "3. **Guided Generation**: Lark grammar ကို အသုံးပြု၍ ဖွဲ့စည်းထားသော output ကို ထုတ်လုပ်ပုံ\n",
    "4. **ပူးတွဲလုပ်ဆောင်မှုများ**: လိုအပ်သော အများအပြား function calls ကို စနစ်တကျ ကိုင်တွယ်ပုံ\n",
    "\n",
    "### အဓိက အကျိုးကျေးဇူးများ:\n",
    "\n",
    "- ✅ **ဖွဲ့စည်းထားသော Output**: Guided generation က သက်ဆိုင်သော JSON function calls ကို အတိအကျ ထုတ်ပေးနိုင်ခြင်း\n",
    "- ✅ **ပူးတွဲလုပ်ဆောင်မှု**: တစ်ခါတည်းမှာ function calls အများအပြားကို ကိုင်တွယ်နိုင်ခြင်း\n",
    "- ✅ **မြင့်မားသော စွမ်းဆောင်ရည်**: ONNX Runtime က အကောင်းဆုံး inference ကို ပေးနိုင်ခြင်း\n",
    "- ✅ **အလွယ်တကူ ပြင်ဆင်နိုင်သော Schema**: Function definitions ကို အလွယ်တကူ ထည့်သွင်းခြင်းနှင့် ပြင်ဆင်နိုင်ခြင်း\n",
    "\n",
    "### ရင်းမြစ်များ:\n",
    "\n",
    "- [Phi-4 Mini Documentation](https://huggingface.co/microsoft/Phi-4-mini-onnx)\n",
    "- [ONNX Runtime GenAI Documentation](https://onnxruntime.ai/docs/genai/)\n",
    "- [Function Calling Best Practices](https://platform.openai.com/docs/guides/function-calling)\n"
   ]
  },
  {
   "cell_type": "markdown",
   "metadata": {},
   "source": [
    "\n---\n\n**ဝက်ဘ်ဆိုက်မှတ်ချက်**:  \nဤစာရွက်စာတမ်းကို AI ဘာသာပြန်ဝန်ဆောင်မှု [Co-op Translator](https://github.com/Azure/co-op-translator) ကို အသုံးပြု၍ ဘာသာပြန်ထားပါသည်။ ကျွန်ုပ်တို့သည် တိကျမှန်ကန်မှုအတွက် ကြိုးစားနေပါသော်လည်း၊ အလိုအလျောက်ဘာသာပြန်ဆိုမှုများတွင် အမှားများ သို့မဟုတ် မတိကျမှုများ ပါဝင်နိုင်သည်ကို ကျေးဇူးပြု၍ သတိပြုပါ။ မူရင်းစာရွက်စာတမ်းကို ၎င်း၏ မူလဘာသာစကားဖြင့် အာဏာတည်သောရင်းမြစ်အဖြစ် သတ်မှတ်ရန် လိုအပ်ပါသည်။ အရေးကြီးသော အချက်အလက်များအတွက် လူကောင်းမွန်သော ပရော်ဖက်ရှင်နယ်ဘာသာပြန်ကို အကြံပြုပါသည်။ ဤဘာသာပြန်ကို အသုံးပြုခြင်းမှ ဖြစ်ပေါ်လာသော နားလည်မှုမှားများ သို့မဟုတ် အဓိပ္ပါယ်မှားများအတွက် ကျွန်ုပ်တို့သည် တာဝန်မယူပါ။\n"
   ]
  }
 ],
 "metadata": {
  "kernelspec": {
   "display_name": "pydev",
   "language": "python",
   "name": "python3"
  },
  "language_info": {
   "codemirror_mode": {
    "name": "ipython",
    "version": 3
   },
   "file_extension": ".py",
   "mimetype": "text/x-python",
   "name": "python",
   "nbconvert_exporter": "python",
   "pygments_lexer": "ipython3",
   "version": "3.11.8"
  },
  "coopTranslator": {
   "original_hash": "8b61c907614fd2780d526c45c388d285",
   "translation_date": "2025-09-13T06:09:03+00:00",
   "source_file": "md/02.Application/07.FunctionCalling/Phi4/ONNX/onnx_parallel_functioncalling.ipynb",
   "language_code": "my"
  }
 },
 "nbformat": 4,
 "nbformat_minor": 5
}