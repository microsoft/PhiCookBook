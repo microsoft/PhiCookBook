{
 "cells": [
  {
   "cell_type": "markdown",
   "metadata": {},
   "source": [
    "# Ollama + OpenAI + Python\n",
    "\n",
    "## 1. မော်ဒယ်နာမည်ကို သတ်မှတ်ပါ\n",
    "\n",
    "\"phi3:mini\" မော်ဒယ်အစား အခြားမော်ဒယ်ကို သုံးထားပါက အောက်ပါ cell ထဲမှာ အတိအကျနာမည်ကို ပြောင်းပါ။ အဲဒီ variable ကို notebook တစ်ခုလုံးမှာ code တွေမှာ အသုံးပြုမယ်။\n"
   ]
  },
  {
   "cell_type": "code",
   "execution_count": null,
   "metadata": {},
   "outputs": [],
   "source": [
    "MODEL_NAME = \"phi3:mini\""
   ]
  },
  {
   "cell_type": "markdown",
   "metadata": {},
   "source": [
    "## 2. Open AI client ကို စတင်ပြင်ဆင်ခြင်း\n",
    "\n",
    "အများအားဖြင့် OpenAI client ကို OpenAI.com သို့မဟုတ် Azure OpenAI နှင့်အတူ အသုံးပြု၍ အကြီးစားဘာသာစကားမော်ဒယ်များနှင့် ဆက်သွယ်ရန် အသုံးပြုပါသည်။  \n",
    "သို့သော် Ollama နှင့်လည်း အသုံးပြုနိုင်ပါသည်၊ အကြောင်းမှာ Ollama သည် \"http://localhost:11434/v1\" တွင် OpenAI-compatible endpoint ကို ပံ့ပိုးပေးထားသောကြောင့် ဖြစ်ပါသည်။\n"
   ]
  },
  {
   "cell_type": "code",
   "execution_count": null,
   "metadata": {},
   "outputs": [],
   "source": [
    "%pip install openai"
   ]
  },
  {
   "cell_type": "code",
   "execution_count": null,
   "metadata": {},
   "outputs": [],
   "source": [
    "import openai\n",
    "\n",
    "client = openai.OpenAI(\n",
    "    base_url=\"http://localhost:11434/v1\",\n",
    "    api_key=\"nokeyneeded\",\n",
    ")"
   ]
  },
  {
   "cell_type": "markdown",
   "metadata": {},
   "source": [
    "## 3. စကားပြောအတွက် အဖြေတစ်ခု ဖန်တီးပါ\n",
    "\n",
    "အခု OpenAI SDK ကို အသုံးပြုပြီး စကားပြောအတွက် အဖြေတစ်ခု ဖန်တီးနိုင်ပါပြီ။ ဒီတောင်းဆိုမှုက ကြောင်များအကြောင်း ဟိုက်ကူကဗျာတစ်ပုဒ် ဖန်တီးပေးရမယ်။\n"
   ]
  },
  {
   "cell_type": "code",
   "execution_count": null,
   "metadata": {},
   "outputs": [],
   "source": [
    "response = client.chat.completions.create(\n",
    "    model=MODEL_NAME,\n",
    "    temperature=0.7,\n",
    "    n=1,\n",
    "    messages=[\n",
    "        {\"role\": \"system\", \"content\": \"You are a helpful assistant.\"},\n",
    "        {\"role\": \"user\", \"content\": \"Write a haiku about a hungry cat\"},\n",
    "    ],\n",
    ")\n",
    "\n",
    "print(\"Response:\")\n",
    "print(response.choices[0].message.content)\n"
   ]
  },
  {
   "cell_type": "markdown",
   "metadata": {},
   "source": [
    "## 4. Prompt engineering\n",
    "\n",
    "ဘာသာစကားမော်ဒယ်ကို ပထမဆုံးပို့တဲ့စာကို \"system message\" (စနစ်မက်ဆေ့) သို့မဟုတ် \"system prompt\" (စနစ်အကြောင်းပြ) လို့ခေါ်ပြီး၊ မော်ဒယ်အတွက် အထွေထွေညွှန်ကြားချက်တွေကို သတ်မှတ်ပေးပါတယ်။  \n",
    "သင့်ကိုယ်ပိုင်စနစ်အကြောင်းပြကို ဖန်တီးပြီး ဘာသာစကားမော်ဒယ်ကို အခြားနည်းလမ်းတစ်ခုနဲ့ output ထုတ်ပေးဖို့ လမ်းညွှန်နိုင်ပါတယ်။  \n",
    "အောက်မှာရှိတဲ့ `SYSTEM_MESSAGE` ကို ပြင်ဆင်ပြီး သင့်အကြိုက်ဆုံးရုပ်ရှင်/ရုပ်သံဇာတ်ကောင်လို အဖြေများပေးစေပါ၊ ဒါမှမဟုတ် [Awesome ChatGPT Prompts](https://github.com/f/awesome-chatgpt-prompts?tab=readme-ov-file#prompts) မှ အခြားစနစ်အကြောင်းပြများအတွက် အကြံဉာဏ်ရယူပါ။\n",
    "\n",
    "စနစ်အကြောင်းပြကို ပြင်ဆင်ပြီးရင် `USER_MESSAGE` မှာ ပထမ user မေးခွန်းကို ပေးပါ။\n"
   ]
  },
  {
   "cell_type": "code",
   "execution_count": null,
   "metadata": {},
   "outputs": [],
   "source": [
    "SYSTEM_MESSAGE = \"\"\"\n",
    "I want you to act like Elmo from Sesame Street.\n",
    "I want you to respond and answer like Elmo using the tone, manner and vocabulary that Elmo would use.\n",
    "Do not write any explanations. Only answer like Elmo.\n",
    "You must know all of the knowledge of Elmo, and nothing more.\n",
    "\"\"\"\n",
    "\n",
    "USER_MESSAGE = \"\"\"\n",
    "Hi Elmo, how are you doing today?\n",
    "\"\"\"\n",
    "\n",
    "response = client.chat.completions.create(\n",
    "    model=MODEL_NAME,\n",
    "    temperature=0.7,\n",
    "    n=1,\n",
    "    messages=[\n",
    "        {\"role\": \"system\", \"content\": SYSTEM_MESSAGE},\n",
    "        {\"role\": \"user\", \"content\": USER_MESSAGE},\n",
    "    ],\n",
    ")\n",
    "\n",
    "print(\"Response:\")\n",
    "print(response.choices[0].message.content)\n"
   ]
  },
  {
   "cell_type": "markdown",
   "metadata": {},
   "source": [
    "## ၅။ နည်းနည်းသာ ဥပမာများ\n",
    "\n",
    "ဘာသာစကားမော်ဒယ်ကို လမ်းညွှန်ပေးရန် နည်းလမ်းတစ်ခုက \"နည်းနည်းသာ\" ဥပမာများပေးခြင်းဖြစ်ပြီး၊ မေးခွန်း/အဖြေများ၏ အစဉ်အတိုင်း မော်ဒယ်ကို ဘယ်လို တုံ့ပြန်ရမည်ကို ပြသပေးပါသည်။\n",
    "\n",
    "အောက်ပါ ဥပမာသည် ဘာသာစကားမော်ဒယ်ကို သင်ကြားရေးအကူအညီပေးသူ (TA) အဖြစ် လုပ်ဆောင်စေဖို့ ကြိုးစားပြီး၊ TA အနေနဲ့ ပေးနိုင်သော မေးခွန်းများနှင့် အဖြေများကို ဥပမာအနေနဲ့ ပေးထားပြီး၊ ကျောင်းသားတစ်ဦး မေးနိုင်သော မေးခွန်းဖြင့် မော်ဒယ်ကို အစဉ်အတိုင်း လမ်းညွှန်ပေးသည်။\n",
    "\n",
    "အရင်ဆုံး စမ်းကြည့်ပြီး၊ `SYSTEM_MESSAGE`, `EXAMPLES`, နှင့် `USER_MESSAGE` ကို အသစ်သော အခြေအနေအတွက် ပြင်ဆင်ပါ။\n"
   ]
  },
  {
   "cell_type": "code",
   "execution_count": null,
   "metadata": {},
   "outputs": [],
   "source": [
    "SYSTEM_MESSAGE = \"\"\"\n",
    "You are a helpful assistant that helps students with their homework.\n",
    "Instead of providing the full answer, you respond with a hint or a clue.\n",
    "\"\"\"\n",
    "\n",
    "EXAMPLES = [\n",
    "    (\n",
    "        \"What is the capital of France?\",\n",
    "        \"Can you remember the name of the city that is known for the Eiffel Tower?\"\n",
    "    ),\n",
    "    (\n",
    "        \"What is the square root of 144?\",\n",
    "        \"What number multiplied by itself equals 144?\"\n",
    "    ),\n",
    "    (   \"What is the atomic number of oxygen?\",\n",
    "        \"How many protons does an oxygen atom have?\"\n",
    "    ),\n",
    "]\n",
    "\n",
    "USER_MESSAGE = \"What is the largest planet in our solar system?\"\n",
    "\n",
    "\n",
    "response = client.chat.completions.create(\n",
    "    model=MODEL_NAME,\n",
    "    temperature=0.7,\n",
    "    n=1,\n",
    "    messages=[\n",
    "        {\"role\": \"system\", \"content\": SYSTEM_MESSAGE},\n",
    "        {\"role\": \"user\", \"content\": EXAMPLES[0][0]},\n",
    "        {\"role\": \"assistant\", \"content\": EXAMPLES[0][1]},\n",
    "        {\"role\": \"user\", \"content\": EXAMPLES[1][0]},\n",
    "        {\"role\": \"assistant\", \"content\": EXAMPLES[1][1]},\n",
    "        {\"role\": \"user\", \"content\": EXAMPLES[2][0]},\n",
    "        {\"role\": \"assistant\", \"content\": EXAMPLES[2][1]},\n",
    "        {\"role\": \"user\", \"content\": USER_MESSAGE},\n",
    "    ],\n",
    ")\n",
    "\n",
    "\n",
    "print(\"Response:\")\n",
    "print(response.choices[0].message.content)"
   ]
  },
  {
   "cell_type": "markdown",
   "metadata": {},
   "source": [
    "## 6. Retrieval Augmented Generation\n",
    "\n",
    "RAG (Retrieval Augmented Generation) ဆိုတာ သတ်မှတ်ထားတဲ့နယ်ပယ်အတွက် မေးခွန်းတွေကို တိကျစွာ ဖြေဆိုနိုင်ဖို့အတွက် ဘာသာစကားမော်ဒယ်ကို အသုံးပြုတဲ့နည်းလမ်းတစ်ခုဖြစ်ပြီး၊ အရင်ဆုံး သိမှတ်ဆိုင်ရာအရင်းအမြစ်တွေကနေ သက်ဆိုင်တဲ့ အချက်အလက်တွေကို ရှာဖွေပြီးနောက်မှာ အဲဒီအချက်အလက်တွေကို အခြေခံပြီး အဖြေကို ဖန်တီးပေးတာဖြစ်ပါတယ်။\n",
    "\n",
    "ကျွန်တော်တို့ hybrid cars အကြောင်းအချက်အလက်တွေပါဝင်တဲ့ ဒေသခံ CSV ဖိုင်တစ်ခုကို ပေးထားပါတယ်။ အောက်မှာပါတဲ့ code က CSV ဖိုင်ကို ဖတ်ပြီး၊ အသုံးပြုသူရဲ့ မေးခွန်းနဲ့ ကိုက်ညီတဲ့ အချက်အလက်တွေကို ရှာဖွေပြီး၊ ရှာဖွေတွေ့ရှိထားတဲ့ အချက်အလက်တွေကို အခြေခံပြီး အဖြေကို ဖန်တီးပေးပါတယ်။ ဒီနည်းလမ်းက အရင်က ဥပမာတွေထက် ပိုကြာမြင့်နိုင်ပါတယ်၊ အချက်အလက်တွေကို မော်ဒယ်ဆီပိုပို့ရတဲ့အတွက်ပါ။ အဖြေက အချက်အလက်တွေနဲ့ မသက်ဆိုင်ဘူးလို့ သတိထားမိရင်၊ system engineering ကို စမ်းသပ်ကြည့်ဖို့ သို့မဟုတ် အခြားမော်ဒယ်တွေကို စမ်းသပ်ကြည့်ဖို့ အကြံပေးပါတယ်။ အထူးသဖြင့် RAG က ပိုကြီးမားတဲ့ မော်ဒယ်တွေ သို့မဟုတ် SLMs ရဲ့ fine-tuned version တွေကို အသုံးပြုတဲ့အခါမှာ ပိုထိရောက်ပါတယ်။\n"
   ]
  },
  {
   "cell_type": "code",
   "execution_count": null,
   "metadata": {},
   "outputs": [],
   "source": [
    "import csv\n",
    "\n",
    "SYSTEM_MESSAGE = \"\"\"\n",
    "You are a helpful assistant that answers questions about cars based off a hybrid car data set.\n",
    "You must use the data set to answer the questions, you should not provide any information that is not in the provided sources.\n",
    "\"\"\"\n",
    "\n",
    "USER_MESSAGE = \"how fast is a prius?\"\n",
    "\n",
    "# Open the CSV and store in a list\n",
    "with open(\"hybrid.csv\", \"r\") as file:\n",
    "    reader = csv.reader(file)\n",
    "    rows = list(reader)\n",
    "\n",
    "# Normalize the user question to replace punctuation and make lowercase\n",
    "normalized_message = USER_MESSAGE.lower().replace(\"?\", \"\").replace(\"(\", \" \").replace(\")\", \" \")\n",
    "\n",
    "# Search the CSV for user question using very naive search\n",
    "words = normalized_message.split()\n",
    "matches = []\n",
    "for row in rows[1:]:\n",
    "    # if the word matches any word in row, add the row to the matches\n",
    "    if any(word in row[0].lower().split() for word in words) or any(word in row[5].lower().split() for word in words):\n",
    "        matches.append(row)\n",
    "\n",
    "# Format as a markdown table, since language models understand markdown\n",
    "matches_table = \" | \".join(rows[0]) + \"\\n\" + \" | \".join(\" --- \" for _ in range(len(rows[0]))) + \"\\n\"\n",
    "matches_table += \"\\n\".join(\" | \".join(row) for row in matches)\n",
    "print(f\"Found {len(matches)} matches:\")\n",
    "print(matches_table)\n",
    "\n",
    "# Now we can use the matches to generate a response\n",
    "response = client.chat.completions.create(\n",
    "    model=MODEL_NAME,\n",
    "    temperature=0.7,\n",
    "    n=1,\n",
    "    messages=[\n",
    "        {\"role\": \"system\", \"content\": SYSTEM_MESSAGE},\n",
    "        {\"role\": \"user\", \"content\": USER_MESSAGE + \"\\nSources: \" + matches_table},\n",
    "    ],\n",
    ")\n",
    "\n",
    "print(\"Response:\")\n",
    "print(response.choices[0].message.content)"
   ]
  },
  {
   "cell_type": "markdown",
   "metadata": {},
   "source": [
    "\n---\n\n**ဝက်ဘ်ဆိုက်မှတ်ချက်**:  \nဤစာရွက်စာတမ်းကို AI ဘာသာပြန်ဝန်ဆောင်မှု [Co-op Translator](https://github.com/Azure/co-op-translator) ကို အသုံးပြု၍ ဘာသာပြန်ထားပါသည်။ ကျွန်ုပ်တို့သည် တိကျမှန်ကန်မှုအတွက် ကြိုးစားနေသော်လည်း၊ အလိုအလျောက်ဘာသာပြန်မှုများတွင် အမှားများ သို့မဟုတ် မမှန်ကန်မှုများ ပါဝင်နိုင်သည်ကို ကျေးဇူးပြု၍ သတိပြုပါ။ မူရင်းစာရွက်စာတမ်းကို ၎င်း၏ မူလဘာသာစကားဖြင့် အာဏာတည်သောရင်းမြစ်အဖြစ် သတ်မှတ်သင့်ပါသည်။ အရေးကြီးသော အချက်အလက်များအတွက် လူ့ဘာသာပြန်ပညာရှင်များမှ ပြန်ဆိုမှုကို အကြံပြုပါသည်။ ဤဘာသာပြန်မှုကို အသုံးပြုခြင်းမှ ဖြစ်ပေါ်လာသော နားလည်မှုမှားမှုများ သို့မဟုတ် အဓိပ္ပာယ်မှားမှုများအတွက် ကျွန်ုပ်တို့သည် တာဝန်မယူပါ။\n"
   ]
  }
 ],
 "metadata": {
  "kernelspec": {
   "display_name": "Python 3",
   "language": "python",
   "name": "python3"
  },
  "language_info": {
   "codemirror_mode": {
    "name": "ipython",
    "version": 3
   },
   "file_extension": ".py",
   "mimetype": "text/x-python",
   "name": "python",
   "nbconvert_exporter": "python",
   "pygments_lexer": "ipython3",
   "version": "3.12.3"
  },
  "coopTranslator": {
   "original_hash": "6f9e40a7dbbd892aae50aff77da4b4be",
   "translation_date": "2025-09-13T07:20:43+00:00",
   "source_file": "code/01.Introduce/ollama.ipynb",
   "language_code": "my"
  }
 },
 "nbformat": 4,
 "nbformat_minor": 2
}