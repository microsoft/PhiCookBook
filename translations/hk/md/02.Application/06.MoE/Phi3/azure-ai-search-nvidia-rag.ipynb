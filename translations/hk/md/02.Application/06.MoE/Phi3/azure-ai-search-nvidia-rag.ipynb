{
 "cells": [
  {
   "cell_type": "markdown",
   "metadata": {},
   "source": [
    "# Azure AI Search 與 NVIDIA NIM 及 LlamaIndex 整合\n",
    "\n",
    "在這份筆記中，我們將展示如何利用 NVIDIA 的 AI 模型和 LlamaIndex，建立一個強大的檢索增強生成（RAG）管道。我們會使用 NVIDIA 的大型語言模型（LLM）和嵌入技術，將它們與 Azure AI Search 整合作為向量存儲，並進行 RAG 以提升搜尋的質量和效率。\n",
    "\n",
    "## 優點\n",
    "- **可擴展性**：利用 NVIDIA 的大型語言模型和 Azure AI Search，實現可擴展且高效的檢索。\n",
    "- **成本效益**：透過高效的向量存儲和混合搜尋技術，優化搜尋和檢索成本。\n",
    "- **高性能**：結合強大的 LLM 和向量化搜尋，提供更快、更準確的回應。\n",
    "- **高質量**：透過相關檢索文件，確保 LLM 回應的質量。\n",
    "\n",
    "## 先決條件\n",
    "- 🐍 Python 3.9 或更高版本\n",
    "- 🔗 [Azure AI Search Service](https://learn.microsoft.com/azure/search/)\n",
    "- 🔗 NVIDIA API Key，用於透過 NVIDIA NIM 微服務訪問 NVIDIA 的 LLM 和嵌入技術\n",
    "\n",
    "## 涵蓋的功能\n",
    "- ✅ NVIDIA LLM 整合（我們將使用 [Phi-3.5-MOE](https://build.nvidia.com/microsoft/phi-3_5-moe)）\n",
    "- ✅ NVIDIA 嵌入技術（我們將使用 [nv-embedqa-e5-v5](https://build.nvidia.com/nvidia/nv-embedqa-e5-v5)）\n",
    "- ✅ Azure AI Search 高級檢索模式\n",
    "- ✅ 使用 LlamaIndex 進行文件索引\n",
    "- ✅ 使用 Azure AI Search 和 LlamaIndex 與 NVIDIA LLM 進行 RAG\n",
    "\n",
    "讓我們開始吧！\n"
   ]
  },
  {
   "cell_type": "code",
   "execution_count": null,
   "metadata": {},
   "outputs": [],
   "source": [
    "!pip install azure-search-documents==11.5.1\n",
    "!pip install --upgrade llama-index\n",
    "!pip install --upgrade llama-index-core\n",
    "!pip install --upgrade llama-index-readers-file\n",
    "!pip install --upgrade llama-index-llms-nvidia\n",
    "!pip install --upgrade llama-index-embeddings-nvidia\n",
    "!pip install --upgrade llama-index-postprocessor-nvidia-rerank\n",
    "!pip install --upgrade llama-index-vector-stores-azureaisearch\n",
    "!pip install python-dotenv"
   ]
  },
  {
   "cell_type": "markdown",
   "metadata": {},
   "source": [
    "## 安裝及需求\n",
    "使用 Python 版本 >3.10 建立 Python 環境。\n",
    "\n",
    "## 開始使用！\n"
   ]
  },
  {
   "cell_type": "markdown",
   "metadata": {},
   "source": [
    "要開始使用 NVIDIA AI Foundation 模型，你需要一個 `NVIDIA_API_KEY`：\n",
    "1) 建立一個 [NVIDIA](https://build.nvidia.com/explore/discover) 的免費帳戶。\n",
    "2) 點擊你選擇的模型。\n",
    "3) 在輸入選項中，選擇 Python 標籤，然後點擊 **Get API Key**，再點擊 **Generate Key**。\n",
    "4) 複製並保存生成的金鑰作為 NVIDIA_API_KEY。完成後，你就可以使用相關的端點了。\n"
   ]
  },
  {
   "cell_type": "code",
   "execution_count": 3,
   "metadata": {},
   "outputs": [],
   "source": [
    "import getpass\n",
    "import os\n",
    "from dotenv import load_dotenv\n",
    "\n",
    "# Load environment variables\n",
    "load_dotenv()\n",
    "\n",
    "if not os.environ.get(\"NVIDIA_API_KEY\", \"\").startswith(\"nvapi-\"):\n",
    "    nvidia_api_key = getpass.getpass(\"Enter your NVIDIA API key: \")\n",
    "    assert nvidia_api_key.startswith(\"nvapi-\"), f\"{nvidia_api_key[:5]}... is not a valid key\"\n",
    "    os.environ[\"NVIDIA_API_KEY\"] = nvidia_api_key\n"
   ]
  },
  {
   "cell_type": "markdown",
   "metadata": {},
   "source": [
    "## 使用 LLM 和嵌入的 RAG 範例\n",
    "### 1) 初始化 LLM\n",
    "`llama-index-llms-nvidia`，亦即 NVIDIA 的 LLM 連接器，讓您能夠連接並從 NVIDIA API 目錄中可用的兼容模型生成內容。請參閱此處以查看聊天完成模型列表：https://build.nvidia.com/search?term=Text-to-Text\n",
    "\n",
    "在這裡，我們將使用 **mixtral-8x7b-instruct-v0.1**\n"
   ]
  },
  {
   "cell_type": "code",
   "execution_count": 75,
   "metadata": {},
   "outputs": [],
   "source": [
    "from llama_index.core import Settings\n",
    "from llama_index.llms.nvidia import NVIDIA\n",
    "\n",
    "# Here we are using mixtral-8x7b-instruct-v0.1 model from API Catalog\n",
    "Settings.llm = NVIDIA(model=\"microsoft/phi-3.5-moe-instruct\", api_key=os.getenv(\"NVIDIA_API_KEY\"))"
   ]
  },
  {
   "cell_type": "markdown",
   "metadata": {},
   "source": [
    "### 2) 初始化嵌入\n",
    "`llama-index-embeddings-nvidia`，亦即 NVIDIA 的嵌入連接器，讓你能夠連接並從 NVIDIA API 目錄中可用的兼容模型生成。我們選擇了 `nvidia/nv-embedqa-e5-v5` 作為嵌入模型。請參閱此處以了解文本嵌入模型的列表：https://build.nvidia.com/nim?filters=usecase%3Ausecase_text_to_embedding%2Cusecase%3Ausecase_image_to_embedding\n"
   ]
  },
  {
   "cell_type": "code",
   "execution_count": 6,
   "metadata": {},
   "outputs": [],
   "source": [
    "from llama_index.embeddings.nvidia import NVIDIAEmbedding\n",
    "\n",
    "Settings.embed_model = NVIDIAEmbedding(model=\"nvidia/nv-embedqa-e5-v5\", api_key=os.getenv(\"NVIDIA_API_KEY\"))"
   ]
  },
  {
   "cell_type": "markdown",
   "metadata": {},
   "source": [
    "### 3) 建立 Azure AI 搜索向量存儲\n"
   ]
  },
  {
   "cell_type": "code",
   "execution_count": 76,
   "metadata": {},
   "outputs": [],
   "source": [
    "import logging\n",
    "import sys\n",
    "import os\n",
    "import getpass\n",
    "from azure.core.credentials import AzureKeyCredential\n",
    "from azure.search.documents import SearchClient\n",
    "from azure.search.documents.indexes import SearchIndexClient\n",
    "from IPython.display import Markdown, display\n",
    "from llama_index.vector_stores.azureaisearch import AzureAISearchVectorStore, IndexManagement\n",
    "\n",
    "\n",
    "search_service_api_key = os.getenv('AZURE_SEARCH_ADMIN_KEY') or getpass.getpass('Enter your Azure Search API key: ')\n",
    "search_service_endpoint = os.getenv('AZURE_SEARCH_SERVICE_ENDPOINT') or getpass.getpass('Enter your Azure Search service endpoint: ')\n",
    "search_service_api_version = \"2024-07-01\"\n",
    "credential = AzureKeyCredential(search_service_api_key)\n",
    "\n",
    "# Index name to use\n",
    "index_name = \"llamaindex-nvidia-azureaisearch-demo\"\n",
    "\n",
    "# Use index client to demonstrate creating an index\n",
    "index_client = SearchIndexClient(\n",
    "    endpoint=search_service_endpoint,\n",
    "    credential=credential,\n",
    ")\n",
    "\n",
    "# Use search client to demonstrate using existing index\n",
    "search_client = SearchClient(\n",
    "    endpoint=search_service_endpoint,\n",
    "    index_name=index_name,\n",
    "    credential=credential,\n",
    ")"
   ]
  },
  {
   "cell_type": "code",
   "execution_count": null,
   "metadata": {},
   "outputs": [],
   "source": [
    "vector_store = AzureAISearchVectorStore(\n",
    "    search_or_index_client=index_client,\n",
    "    index_name=index_name,\n",
    "    index_management=IndexManagement.CREATE_IF_NOT_EXISTS,\n",
    "    id_field_key=\"id\",\n",
    "    chunk_field_key=\"chunk\",\n",
    "    embedding_field_key=\"embedding\",\n",
    "    embedding_dimensionality=1024, # dimensionality for nv-embedqa-e5-v5 model\n",
    "    metadata_string_field_key=\"metadata\",\n",
    "    doc_id_field_key=\"doc_id\",\n",
    "    language_analyzer=\"en.lucene\",\n",
    "    vector_algorithm_type=\"exhaustiveKnn\",\n",
    "    # compression_type=\"binary\" # Option to use \"scalar\" or \"binary\". NOTE: compression is only supported for HNSW\n",
    ")"
   ]
  },
  {
   "cell_type": "markdown",
   "metadata": {},
   "source": []
  },
  {
   "cell_type": "code",
   "execution_count": 20,
   "metadata": {},
   "outputs": [],
   "source": [
    "from llama_index.core import SimpleDirectoryReader, StorageContext, VectorStoreIndex\n",
    "from llama_index.core.text_splitter import TokenTextSplitter\n",
    "\n",
    "# Configure text splitter (nv-embedqa-e5-v5 model has a limit of 512 tokens per input size)\n",
    "text_splitter = TokenTextSplitter(separator=\" \", chunk_size=500, chunk_overlap=10)\n",
    "\n",
    "# Load documents\n",
    "documents = SimpleDirectoryReader(\n",
    "    input_files=[\"data/txt/state_of_the_union.txt\"]\n",
    ").load_data()\n",
    "storage_context = StorageContext.from_defaults(vector_store=vector_store)\n",
    "\n",
    "# Create index with text splitter\n",
    "index = VectorStoreIndex.from_documents(\n",
    "    documents,\n",
    "    transformations=[text_splitter],\n",
    "    storage_context=storage_context,\n",
    ")"
   ]
  },
  {
   "cell_type": "markdown",
   "metadata": {},
   "source": [
    "### 5) 建立查詢引擎以便對您的數據進行提問\n",
    "\n",
    "以下是一個使用純向量搜索的查詢，透過 Azure AI Search 並將回應基於我們的 LLM (Phi-3.5-MOE)\n"
   ]
  },
  {
   "cell_type": "code",
   "execution_count": 69,
   "metadata": {},
   "outputs": [
    {
     "data": {
      "text/markdown": [
       " The speaker mentioned the Ukrainian Ambassador to the United States, along with other members of Congress, the Cabinet, and various officials such as the Vice President, the First Lady, and the Second Gentleman, as being present in the chamber."
      ],
      "text/plain": [
       "<IPython.core.display.Markdown object>"
      ]
     },
     "metadata": {},
     "output_type": "display_data"
    }
   ],
   "source": [
    "query_engine = index.as_query_engine()\n",
    "response = query_engine.query(\"Who did the speaker mention as being present in the chamber?\")\n",
    "display(Markdown(f\"{response}\"))"
   ]
  },
  {
   "cell_type": "markdown",
   "metadata": {},
   "source": [
    "以下是一個使用混合搜索的 Azure AI 搜索查詢。\n"
   ]
  },
  {
   "cell_type": "code",
   "execution_count": 70,
   "metadata": {},
   "outputs": [
    {
     "data": {
      "text/markdown": [
       " The Russian stock market experienced a significant drop, losing 40% of its value. Additionally, trading had to be suspended due to the ongoing situation."
      ],
      "text/plain": [
       "<IPython.core.display.Markdown object>"
      ]
     },
     "metadata": {},
     "output_type": "display_data"
    },
    {
     "name": "stdout",
     "output_type": "stream",
     "text": [
      "\n",
      "\n",
      "Source Nodes:\n",
      "file_path: data\\txt\\state_of_the_union.txt\n",
      "\n",
      "building a coalition of other freedom-loving nations from Europe and the Americas to Asia and Africa to confront Putin. \n",
      "\n",
      "I spent countless hours unifying our European allies. We shared with the world in advance what we knew Putin was planning and precisely how he would try to falsely justify his aggression.  \n",
      "\n",
      "We countered Russia’s lies with truth.   \n",
      "\n",
      "And now that he has acted the free world is holding him accountable. \n",
      "\n",
      "Along with twenty-seven members of the European Union including France, Germany, Italy, as well as countries like the United Kingdom, Canada, Japan, Korea, Australia, New Zealand, and many others, even Switzerland. \n",
      "\n",
      "We are inflicting pain on Russia and supporting the people of Ukraine. Putin is now isolated from the world more than ever. \n",
      "\n",
      "Together with our allies –we are right now enforcing powerful economic sanctions. \n",
      "\n",
      "We are cutting off Russia’s largest banks from the international financial system.  \n",
      "\n",
      "Preventing Russia’s central bank from defending the Russian Ruble making Putin’s $630 Billion “war fund” worthless.   \n",
      "\n",
      "We are choking off Russia’s access to technology that will sap its economic strength and weaken its military for years to come.  \n",
      "\n",
      "Tonight I say to the Russian oligarchs and corrupt leaders who have bilked billions of dollars off this violent regime no more. \n",
      "\n",
      "The U.S. Department of Justice is assembling a dedicated task force to go after the crimes of Russian oligarchs.  \n",
      "\n",
      "We are joining with our European allies to find and seize your yachts your luxury apartments your private jets. We are coming for your ill-begotten gains. \n",
      "\n",
      "And tonight I am announcing that we will join our allies in closing off American air space to all Russian flights – further isolating Russia – and adding an additional squeeze –on their economy. The Ruble has lost 30% of its value. \n",
      "\n",
      "The Russian stock market has lost 40% of its value and trading remains suspended. Russia’s economy is reeling and Putin alone is to blame. \n",
      "\n",
      "Together with our allies we are providing support to the Ukrainians in their fight for freedom. Military assistance. Economic assistance. Humanitarian assistance. \n",
      "\n",
      "We are giving more than $1 Billion in direct assistance to Ukraine. \n",
      "\n",
      "And we will continue to aid the Ukrainian people as they defend their country and to help ease their suffering.  \n",
      "\n",
      "Let me be clear, our forces are not engaged and will not engage in\n",
      "file_path: data\\txt\\state_of_the_union.txt\n",
      "\n",
      "our forces are not engaged and will not engage in conflict with Russian forces in Ukraine.  \n",
      "\n",
      "Our forces are not going to Europe to fight in Ukraine, but to defend our NATO Allies – in the event that Putin decides to keep moving west.  \n",
      "\n",
      "For that purpose we’ve mobilized American ground forces, air squadrons, and ship deployments to protect NATO countries including Poland, Romania, Latvia, Lithuania, and Estonia. \n",
      "\n",
      "As I have made crystal clear the United States and our Allies will defend every inch of territory of NATO countries with the full force of our collective power.  \n",
      "\n",
      "And we remain clear-eyed. The Ukrainians are fighting back with pure courage. But the next few days weeks, months, will be hard on them.  \n",
      "\n",
      "Putin has unleashed violence and chaos.  But while he may make gains on the battlefield – he will pay a continuing high price over the long run. \n",
      "\n",
      "And a proud Ukrainian people, who have known 30 years  of independence, have repeatedly shown that they will not tolerate anyone who tries to take their country backwards.  \n",
      "\n",
      "To all Americans, I will be honest with you, as I’ve always promised. A Russian dictator, invading a foreign country, has costs around the world. \n",
      "\n",
      "And I’m taking robust action to make sure the pain of our sanctions  is targeted at Russia’s economy. And I will use every tool at our disposal to protect American businesses and consumers. \n",
      "\n",
      "Tonight, I can announce that the United States has worked with 30 other countries to release 60 Million barrels of oil from reserves around the world.  \n",
      "\n",
      "America will lead that effort, releasing 30 Million barrels from our own Strategic Petroleum Reserve. And we stand ready to do more if necessary, unified with our allies.  \n",
      "\n",
      "These steps will help blunt gas prices here at home. And I know the news about what’s happening can seem alarming. \n",
      "\n",
      "But I want you to know that we are going to be okay. \n",
      "\n",
      "When the history of this era is written Putin’s war on Ukraine will have left Russia weaker and the rest of the world stronger. \n",
      "\n",
      "While it shouldn’t have taken something so terrible for people around the world to see what’s at stake now everyone sees it clearly. \n",
      "\n",
      "We see the unity among leaders of nations and a more unified Europe a more unified West. And we see unity among the people who are gathering in cities in large crowds around the world\n"
     ]
    }
   ],
   "source": [
    "from llama_index.core.query_engine import RetrieverQueryEngine\n",
    "from llama_index.core.vector_stores.types import VectorStoreQueryMode\n",
    "from IPython.display import Markdown, display\n",
    "from llama_index.core.schema import MetadataMode\n",
    "\n",
    "# Initialize hybrid retriever and query engine\n",
    "hybrid_retriever = index.as_retriever(vector_store_query_mode=VectorStoreQueryMode.HYBRID)\n",
    "hybrid_query_engine = RetrieverQueryEngine(retriever=hybrid_retriever)\n",
    "\n",
    "# Query execution\n",
    "query = \"What were the exact economic consequences mentioned in relation to Russia's stock market?\"\n",
    "response = hybrid_query_engine.query(query)\n",
    "\n",
    "# Display the response\n",
    "display(Markdown(f\"{response}\"))\n",
    "print(\"\\n\")\n",
    "\n",
    "# Print the source nodes\n",
    "print(\"Source Nodes:\")\n",
    "for node in response.source_nodes:\n",
    "    print(node.get_content(metadata_mode=MetadataMode.LLM))"
   ]
  },
  {
   "cell_type": "markdown",
   "metadata": {},
   "source": [
    "#### 向量搜索分析\n",
    "LLM 的回應準確地捕捉了來源文本中提到的有關俄羅斯股市的主要經濟影響。具體而言，它指出俄羅斯股市出現了大幅下跌，市值損失了 40%，並且因為當前局勢而暫停交易。這個回應與來源提供的信息高度一致，表明 LLM 正確地識別並概括了俄羅斯行動及所受制裁對股市影響的相關細節。\n",
    "\n",
    "#### 來源節點評論\n",
    "來源節點詳細描述了俄羅斯因國際制裁而面臨的經濟後果。文本強調俄羅斯股市市值損失了 40%，並且交易被暫停。此外，還提到其他經濟影響，例如盧布貶值以及俄羅斯經濟的更廣泛孤立。LLM 的回應有效地提取了這些節點中的關鍵點，並根據查詢要求聚焦於股市影響。\n"
   ]
  },
  {
   "cell_type": "markdown",
   "metadata": {},
   "source": [
    "現在，讓我們看看一個混合搜索未能提供可靠答案的查詢：\n"
   ]
  },
  {
   "cell_type": "code",
   "execution_count": 71,
   "metadata": {},
   "outputs": [
    {
     "data": {
      "text/markdown": [
       " The provided context does not specify the exact date of Russia's invasion of Ukraine. However, it does mention that the events discussed are happening in the current era and that the actions taken are in response to Putin's aggression. For the precise date, one would need to refer to external sources or historical records."
      ],
      "text/plain": [
       "<IPython.core.display.Markdown object>"
      ]
     },
     "metadata": {},
     "output_type": "display_data"
    },
    {
     "name": "stdout",
     "output_type": "stream",
     "text": [
      "\n",
      "\n",
      "Source Nodes:\n",
      "file_path: data\\txt\\state_of_the_union.txt\n",
      "\n",
      "our forces are not engaged and will not engage in conflict with Russian forces in Ukraine.  \n",
      "\n",
      "Our forces are not going to Europe to fight in Ukraine, but to defend our NATO Allies – in the event that Putin decides to keep moving west.  \n",
      "\n",
      "For that purpose we’ve mobilized American ground forces, air squadrons, and ship deployments to protect NATO countries including Poland, Romania, Latvia, Lithuania, and Estonia. \n",
      "\n",
      "As I have made crystal clear the United States and our Allies will defend every inch of territory of NATO countries with the full force of our collective power.  \n",
      "\n",
      "And we remain clear-eyed. The Ukrainians are fighting back with pure courage. But the next few days weeks, months, will be hard on them.  \n",
      "\n",
      "Putin has unleashed violence and chaos.  But while he may make gains on the battlefield – he will pay a continuing high price over the long run. \n",
      "\n",
      "And a proud Ukrainian people, who have known 30 years  of independence, have repeatedly shown that they will not tolerate anyone who tries to take their country backwards.  \n",
      "\n",
      "To all Americans, I will be honest with you, as I’ve always promised. A Russian dictator, invading a foreign country, has costs around the world. \n",
      "\n",
      "And I’m taking robust action to make sure the pain of our sanctions  is targeted at Russia’s economy. And I will use every tool at our disposal to protect American businesses and consumers. \n",
      "\n",
      "Tonight, I can announce that the United States has worked with 30 other countries to release 60 Million barrels of oil from reserves around the world.  \n",
      "\n",
      "America will lead that effort, releasing 30 Million barrels from our own Strategic Petroleum Reserve. And we stand ready to do more if necessary, unified with our allies.  \n",
      "\n",
      "These steps will help blunt gas prices here at home. And I know the news about what’s happening can seem alarming. \n",
      "\n",
      "But I want you to know that we are going to be okay. \n",
      "\n",
      "When the history of this era is written Putin’s war on Ukraine will have left Russia weaker and the rest of the world stronger. \n",
      "\n",
      "While it shouldn’t have taken something so terrible for people around the world to see what’s at stake now everyone sees it clearly. \n",
      "\n",
      "We see the unity among leaders of nations and a more unified Europe a more unified West. And we see unity among the people who are gathering in cities in large crowds around the world\n",
      "file_path: data\\txt\\state_of_the_union.txt\n",
      "\n",
      "building a coalition of other freedom-loving nations from Europe and the Americas to Asia and Africa to confront Putin. \n",
      "\n",
      "I spent countless hours unifying our European allies. We shared with the world in advance what we knew Putin was planning and precisely how he would try to falsely justify his aggression.  \n",
      "\n",
      "We countered Russia’s lies with truth.   \n",
      "\n",
      "And now that he has acted the free world is holding him accountable. \n",
      "\n",
      "Along with twenty-seven members of the European Union including France, Germany, Italy, as well as countries like the United Kingdom, Canada, Japan, Korea, Australia, New Zealand, and many others, even Switzerland. \n",
      "\n",
      "We are inflicting pain on Russia and supporting the people of Ukraine. Putin is now isolated from the world more than ever. \n",
      "\n",
      "Together with our allies –we are right now enforcing powerful economic sanctions. \n",
      "\n",
      "We are cutting off Russia’s largest banks from the international financial system.  \n",
      "\n",
      "Preventing Russia’s central bank from defending the Russian Ruble making Putin’s $630 Billion “war fund” worthless.   \n",
      "\n",
      "We are choking off Russia’s access to technology that will sap its economic strength and weaken its military for years to come.  \n",
      "\n",
      "Tonight I say to the Russian oligarchs and corrupt leaders who have bilked billions of dollars off this violent regime no more. \n",
      "\n",
      "The U.S. Department of Justice is assembling a dedicated task force to go after the crimes of Russian oligarchs.  \n",
      "\n",
      "We are joining with our European allies to find and seize your yachts your luxury apartments your private jets. We are coming for your ill-begotten gains. \n",
      "\n",
      "And tonight I am announcing that we will join our allies in closing off American air space to all Russian flights – further isolating Russia – and adding an additional squeeze –on their economy. The Ruble has lost 30% of its value. \n",
      "\n",
      "The Russian stock market has lost 40% of its value and trading remains suspended. Russia’s economy is reeling and Putin alone is to blame. \n",
      "\n",
      "Together with our allies we are providing support to the Ukrainians in their fight for freedom. Military assistance. Economic assistance. Humanitarian assistance. \n",
      "\n",
      "We are giving more than $1 Billion in direct assistance to Ukraine. \n",
      "\n",
      "And we will continue to aid the Ukrainian people as they defend their country and to help ease their suffering.  \n",
      "\n",
      "Let me be clear, our forces are not engaged and will not engage in\n"
     ]
    }
   ],
   "source": [
    "# Query execution\n",
    "query = \"What was the precise date when Russia invaded Ukraine?\"\n",
    "response = hybrid_query_engine.query(query)\n",
    "\n",
    "# Display the response\n",
    "display(Markdown(f\"{response}\"))\n",
    "print(\"\\n\")\n",
    "\n",
    "# Print the source nodes\n",
    "print(\"Source Nodes:\")\n",
    "for node in response.source_nodes:\n",
    "    print(node.get_content(metadata_mode=MetadataMode.LLM))\n"
   ]
  },
  {
   "cell_type": "markdown",
   "metadata": {},
   "source": [
    "### 混合搜索：LLM 回應分析\n",
    "在混合搜索範例中，LLM 的回應指出提供的內容並未明確說明俄羅斯入侵烏克蘭的確切日期。這個回應表明 LLM 正在利用來源文件中的資訊，但同時承認文本中缺乏精確的細節。\n",
    "\n",
    "該回應準確地指出內容提及了與俄羅斯侵略相關的事件，但未能確定具體的入侵日期。這展示了 LLM 能夠理解所提供的資訊，同時識別內容中的空白。LLM 有效地提示使用者尋求外部來源或歷史記錄以獲取確切日期，顯示出在資訊不完整時的謹慎態度。\n",
    "\n",
    "### 來源節點分析\n",
    "混合搜索範例中的來源節點包含一段演講的摘錄，討論美國對俄羅斯在烏克蘭行動的回應。這些節點強調了更廣泛的地緣政治影響，以及美國及其盟友對入侵所採取的措施，但並未提及具體的入侵日期。這與 LLM 的回應一致，後者正確地指出內容中缺乏精確的日期資訊。\n"
   ]
  },
  {
   "cell_type": "code",
   "execution_count": 72,
   "metadata": {},
   "outputs": [
    {
     "data": {
      "text/markdown": [
       " The provided context does not specify the exact date of Russia's invasion of Ukraine. However, it mentions that the event occurred six days before the speech was given. To determine the precise date, one would need to know the date of the speech."
      ],
      "text/plain": [
       "<IPython.core.display.Markdown object>"
      ]
     },
     "metadata": {},
     "output_type": "display_data"
    },
    {
     "name": "stdout",
     "output_type": "stream",
     "text": [
      "\n",
      "\n",
      "Source Nodes:\n",
      "file_path: data\\txt\\state_of_the_union.txt\n",
      "\n",
      "Madam Speaker, Madam Vice President, our First Lady and Second Gentleman. Members of Congress and the Cabinet. Justices of the Supreme Court. My fellow Americans.  \n",
      "\n",
      "Last year COVID-19 kept us apart. This year we are finally together again. \n",
      "\n",
      "Tonight, we meet as Democrats Republicans and Independents. But most importantly as Americans. \n",
      "\n",
      "With a duty to one another to the American people to the Constitution. \n",
      "\n",
      "And with an unwavering resolve that freedom will always triumph over tyranny. \n",
      "\n",
      "Six days ago, Russia’s Vladimir Putin sought to shake the foundations of the free world thinking he could make it bend to his menacing ways. But he badly miscalculated. \n",
      "\n",
      "He thought he could roll into Ukraine and the world would roll over. Instead he met a wall of strength he never imagined. \n",
      "\n",
      "He met the Ukrainian people. \n",
      "\n",
      "From President Zelenskyy to every Ukrainian, their fearlessness, their courage, their determination, inspires the world. \n",
      "\n",
      "Groups of citizens blocking tanks with their bodies. Everyone from students to retirees teachers turned soldiers defending their homeland. \n",
      "\n",
      "In this struggle as President Zelenskyy said in his speech to the European Parliament “Light will win over darkness.” The Ukrainian Ambassador to the United States is here tonight. \n",
      "\n",
      "Let each of us here tonight in this Chamber send an unmistakable signal to Ukraine and to the world. \n",
      "\n",
      "Please rise if you are able and show that, Yes, we the United States of America stand with the Ukrainian people. \n",
      "\n",
      "Throughout our history we’ve learned this lesson when dictators do not pay a price for their aggression they cause more chaos.   \n",
      "\n",
      "They keep moving.   \n",
      "\n",
      "And the costs and the threats to America and the world keep rising.   \n",
      "\n",
      "That’s why the NATO Alliance was created to secure peace and stability in Europe after World War 2. \n",
      "\n",
      "The United States is a member along with 29 other nations. \n",
      "\n",
      "It matters. American diplomacy matters. American resolve matters. \n",
      "\n",
      "Putin’s latest attack on Ukraine was premeditated and unprovoked. \n",
      "\n",
      "He rejected repeated efforts at diplomacy. \n",
      "\n",
      "He thought the West and NATO wouldn’t respond. And he thought he could divide us at home. Putin was wrong. We were ready.  Here is what we did.   \n",
      "\n",
      "We prepared extensively and carefully. \n",
      "\n",
      "We spent months building a coalition of other freedom-loving nations from Europe\n",
      "file_path: data\\txt\\state_of_the_union.txt\n",
      "\n",
      "our forces are not engaged and will not engage in conflict with Russian forces in Ukraine.  \n",
      "\n",
      "Our forces are not going to Europe to fight in Ukraine, but to defend our NATO Allies – in the event that Putin decides to keep moving west.  \n",
      "\n",
      "For that purpose we’ve mobilized American ground forces, air squadrons, and ship deployments to protect NATO countries including Poland, Romania, Latvia, Lithuania, and Estonia. \n",
      "\n",
      "As I have made crystal clear the United States and our Allies will defend every inch of territory of NATO countries with the full force of our collective power.  \n",
      "\n",
      "And we remain clear-eyed. The Ukrainians are fighting back with pure courage. But the next few days weeks, months, will be hard on them.  \n",
      "\n",
      "Putin has unleashed violence and chaos.  But while he may make gains on the battlefield – he will pay a continuing high price over the long run. \n",
      "\n",
      "And a proud Ukrainian people, who have known 30 years  of independence, have repeatedly shown that they will not tolerate anyone who tries to take their country backwards.  \n",
      "\n",
      "To all Americans, I will be honest with you, as I’ve always promised. A Russian dictator, invading a foreign country, has costs around the world. \n",
      "\n",
      "And I’m taking robust action to make sure the pain of our sanctions  is targeted at Russia’s economy. And I will use every tool at our disposal to protect American businesses and consumers. \n",
      "\n",
      "Tonight, I can announce that the United States has worked with 30 other countries to release 60 Million barrels of oil from reserves around the world.  \n",
      "\n",
      "America will lead that effort, releasing 30 Million barrels from our own Strategic Petroleum Reserve. And we stand ready to do more if necessary, unified with our allies.  \n",
      "\n",
      "These steps will help blunt gas prices here at home. And I know the news about what’s happening can seem alarming. \n",
      "\n",
      "But I want you to know that we are going to be okay. \n",
      "\n",
      "When the history of this era is written Putin’s war on Ukraine will have left Russia weaker and the rest of the world stronger. \n",
      "\n",
      "While it shouldn’t have taken something so terrible for people around the world to see what’s at stake now everyone sees it clearly. \n",
      "\n",
      "We see the unity among leaders of nations and a more unified Europe a more unified West. And we see unity among the people who are gathering in cities in large crowds around the world\n"
     ]
    }
   ],
   "source": [
    "# Initialize hybrid retriever and query engine\n",
    "semantic_reranker_retriever = index.as_retriever(vector_store_query_mode=VectorStoreQueryMode.SEMANTIC_HYBRID)\n",
    "semantic_reranker_query_engine = RetrieverQueryEngine(retriever=semantic_reranker_retriever)\n",
    "\n",
    "# Query execution\n",
    "query = \"What was the precise date when Russia invaded Ukraine?\"\n",
    "response = semantic_reranker_query_engine.query(query)\n",
    "\n",
    "# Display the response\n",
    "display(Markdown(f\"{response}\"))\n",
    "print(\"\\n\")\n",
    "\n",
    "# Print the source nodes\n",
    "print(\"Source Nodes:\")\n",
    "for node in response.source_nodes:\n",
    "    print(node.get_content(metadata_mode=MetadataMode.LLM))\n"
   ]
  },
  {
   "cell_type": "markdown",
   "metadata": {},
   "source": [
    "### 混合模式與重新排序：LLM 回應分析\n",
    "在混合模式與重新排序的例子中，LLM 的回應透過指出事件發生在演講前六天，提供了額外的背景資訊。這表明 LLM 能夠根據演講的時間推斷出入侵的日期，儘管它仍然需要知道演講的確切日期才能達到精準。\n",
    "\n",
    "這個回應展示了使用背景線索來提供更具資訊性的答案的能力提升。它突出了重新排序的優勢，讓 LLM 能夠存取並優先處理更相關的資訊，以更接近所需的細節（例如入侵日期）。\n",
    "\n",
    "### 資源節點分析\n",
    "此例中的資源節點包括提到俄羅斯入侵時間的參考，特別指出事件發生在演講前六天。雖然仍未明確指出確切日期，但這些節點提供了時間背景，使 LLM 能夠給出更細緻的回應。這些細節的加入展示了重新排序如何提升 LLM 從提供的背景中提取和推斷資訊的能力，從而產生更準確且具資訊性的回應。\n"
   ]
  },
  {
   "cell_type": "markdown",
   "metadata": {},
   "source": [
    "**注意：**  \n",
    "在此筆記本中，我們使用了來自 NVIDIA API Catalog 的 NVIDIA NIM 微服務。  \n",
    "上述 API，包括 `NVIDIA (llms)`、`NVIDIAEmbedding` 和 [Azure AI Search Semantic Hybrid Retrieval（內建重新排序）](https://learn.microsoft.com/azure/search/semantic-search-overview)。請注意，上述 API 也支持自託管的微服務。\n",
    "\n",
    "**範例：**  \n",
    "```python\n",
    "NVIDIA(model=\"meta/llama3-8b-instruct\", base_url=\"http://your-nim-host-address:8000/v1\")\n"
   ]
  },
  {
   "cell_type": "markdown",
   "metadata": {},
   "source": [
    "\n---\n\n**免責聲明**：  \n本文件已使用人工智能翻譯服務 [Co-op Translator](https://github.com/Azure/co-op-translator) 進行翻譯。儘管我們致力於提供準確的翻譯，但請注意，自動翻譯可能包含錯誤或不準確之處。原始文件的母語版本應被視為權威來源。對於重要信息，建議使用專業人工翻譯。我們對因使用此翻譯而引起的任何誤解或錯誤解釋概不負責。\n"
   ]
  }
 ],
 "metadata": {
  "kernelspec": {
   "display_name": "Python 3",
   "language": "python",
   "name": "python3"
  },
  "language_info": {
   "codemirror_mode": {
    "name": "ipython",
    "version": 3
   },
   "file_extension": ".py",
   "mimetype": "text/x-python",
   "name": "python",
   "nbconvert_exporter": "python",
   "pygments_lexer": "ipython3",
   "version": "3.11.9"
  },
  "coopTranslator": {
   "original_hash": "c023540b1eda8c0746871294979e1e5c",
   "translation_date": "2025-09-12T15:39:36+00:00",
   "source_file": "md/02.Application/06.MoE/Phi3/azure-ai-search-nvidia-rag.ipynb",
   "language_code": "hk"
  }
 },
 "nbformat": 4,
 "nbformat_minor": 2
}