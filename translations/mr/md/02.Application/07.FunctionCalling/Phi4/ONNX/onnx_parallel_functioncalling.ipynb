{
 "cells": [
  {
   "cell_type": "markdown",
   "id": "81ad8c65",
   "metadata": {},
   "source": [
    "# Phi-4 Mini ONNX समांतर फंक्शन कॉलिंग ट्यूटोरियल\n",
    "\n",
    "या नोटबुकमध्ये Phi-4 Mini ONNX Runtime GenAI सह समांतर फंक्शन कॉलिंग कसे वापरायचे ते दाखवले आहे. फंक्शन कॉलिंग वापरकर्त्याच्या विनंतीनुसार मॉडेलला बाह्य साधने आणि API बुद्धिमत्तेने वापरण्याची परवानगी देते.\n",
    "\n",
    "## आढावा\n",
    "\n",
    "या ट्यूटोरियलमध्ये तुम्ही शिकाल:\n",
    "- Phi-4 Mini ONNX Runtime GenAI सेट अप कसे करायचे\n",
    "- फ्लाइट आणि हॉटेल बुकिंगसाठी फंक्शन स्कीमाची व्याख्या कशी करायची\n",
    "- संरचित आउटपुटसाठी Lark व्याकरणासह मार्गदर्शित जनरेशन कसे वापरायचे\n",
    "- जटिल प्रवास बुकिंग परिस्थितीसाठी समांतर फंक्शन कॉल कसे अंमलात आणायचे\n",
    "\n",
    "## पूर्वतयारी\n",
    "\n",
    "ही नोटबुक चालवण्यापूर्वी, खात्री करा की तुम्ही:\n",
    "- Phi-4 Mini ONNX मॉडेल डाउनलोड केले आहे\n",
    "- `onnxruntime-genai` पॅकेज स्थापित केले आहे\n",
    "- फंक्शन कॉलिंग संकल्पनांची मूलभूत समज आहे\n"
   ]
  },
  {
   "cell_type": "markdown",
   "id": "8fc2551b",
   "metadata": {},
   "source": [
    "## चरण 1: आवश्यक लायब्ररी आयात करा\n",
    "\n",
    "सर्वप्रथम, आपल्या फंक्शन कॉलिंग अंमलबजावणीसाठी आवश्यक लायब्ररी आयात करू.\n"
   ]
  },
  {
   "cell_type": "code",
   "execution_count": 1,
   "id": "7368a24e",
   "metadata": {},
   "outputs": [],
   "source": [
    "import json"
   ]
  },
  {
   "cell_type": "code",
   "execution_count": 2,
   "id": "3e806340",
   "metadata": {},
   "outputs": [],
   "source": [
    "import onnxruntime_genai as og"
   ]
  },
  {
   "cell_type": "markdown",
   "id": "dc55f0ab",
   "metadata": {},
   "source": [
    "## चरण 2: मॉडेल सेटअप आणि कॉन्फिगरेशन\n",
    "\n",
    "आता आपण Phi-4 Mini ONNX मॉडेल कॉन्फिगर करू. आपला वास्तविक मॉडेल डिरेक्टरीसह पथ बदलण्याची खात्री करा.\n"
   ]
  },
  {
   "cell_type": "code",
   "execution_count": null,
   "id": "1e8edfbf",
   "metadata": {},
   "outputs": [],
   "source": [
    "# TODO: Replace with your actual Phi-4 Mini ONNX model path\n",
    "# Download from: https://huggingface.co/microsoft/Phi-4-mini-onnx\n",
    "path = 'Your phi-4-mini-onnx path'  # Update this path!"
   ]
  },
  {
   "cell_type": "code",
   "execution_count": 4,
   "id": "b80f5bb5",
   "metadata": {},
   "outputs": [],
   "source": [
    "config = og.Config(path)"
   ]
  },
  {
   "cell_type": "code",
   "execution_count": 5,
   "id": "10e9a553",
   "metadata": {},
   "outputs": [],
   "source": [
    "model = og.Model(config)"
   ]
  },
  {
   "cell_type": "code",
   "execution_count": 6,
   "id": "66ce23b1",
   "metadata": {},
   "outputs": [],
   "source": [
    "tokenizer = og.Tokenizer(model)\n",
    "tokenizer_stream = tokenizer.create_stream()"
   ]
  },
  {
   "cell_type": "markdown",
   "id": "08ac6d4a",
   "metadata": {},
   "source": [
    "## चरण ३: जनरेशन पॅरामीटर्स कॉन्फिगर करा\n",
    "\n",
    "मॉडेलच्या आउटपुट वर्तनावर नियंत्रण ठेवण्यासाठी जनरेशन पॅरामीटर्स सेट करा. या सेटिंग्ज फंक्शन कॉलिंगसाठी निश्चित आणि लक्ष केंद्रित प्रतिसाद सुनिश्चित करतात.\n"
   ]
  },
  {
   "cell_type": "code",
   "execution_count": 7,
   "id": "af01f5ed",
   "metadata": {},
   "outputs": [],
   "source": [
    "# Configure generation parameters for deterministic function calling\n",
    "search_options = {}\n",
    "search_options['max_length'] = 4096      # Maximum tokens to generate\n",
    "search_options['temperature'] = 0.00001  # Very low temperature for deterministic output\n",
    "search_options['top_p'] = 1.0            # Nucleus sampling parameter\n",
    "search_options['do_sample'] = False       # Disable sampling for consistent results"
   ]
  },
  {
   "cell_type": "markdown",
   "id": "c2808a51",
   "metadata": {},
   "source": [
    "## चरण ४: उपलब्ध फंक्शन्स निश्चित करा\n",
    "\n",
    "येथे आपण आपल्या AI सहाय्यकाला कॉल करता येणाऱ्या फंक्शन्स निश्चित करतो. या उदाहरणात, आमच्याकडे प्रवासाशी संबंधित दोन फंक्शन्स आहेत:\n",
    "1. **booking_flight_tickets**: विमानतळांदरम्यान फ्लाइट्स बुक करण्यासाठी\n",
    "2. **booking_hotels**: हॉटेल निवास बुक करण्यासाठी\n",
    "\n",
    "फंक्शनची व्याख्या OpenAI च्या फंक्शन कॉलिंग स्कीमा फॉरमॅटचे अनुसरण करते.\n"
   ]
  },
  {
   "cell_type": "code",
   "execution_count": 8,
   "id": "fc53b93b",
   "metadata": {},
   "outputs": [],
   "source": [
    "tool_list = '[{\"name\": \"booking_flight_tickets\", \"description\": \"booking flights\", \"parameters\": {\"origin_airport_code\": {\"description\": \"The name of Departure airport code\", \"type\": \"string\"}, \"destination_airport_code\": {\"description\": \"The name of Destination airport code\", \"type\": \"string\"}, \"departure_date\": {\"description\": \"The date of outbound flight\", \"type\": \"string\"}, \"return_date\": {\"description\": \"The date of return flight\", \"type\": \"string\"}}}, {\"name\": \"booking_hotels\", \"description\": \"booking hotel\", \"parameters\": {\"destination\": {\"description\": \"The name of the city\", \"type\": \"string\"}, \"check_in_date\": {\"description\": \"The date of check in\", \"type\": \"string\"}, \"checkout_date\": {\"description\": \"The date of check out\", \"type\": \"string\"}}}]'"
   ]
  },
  {
   "cell_type": "markdown",
   "id": "f4bb4048",
   "metadata": {},
   "source": [
    "## चरण ५: व्याकरण निर्मिती सहाय्यक फंक्शन्स\n",
    "\n",
    "हे सहाय्यक फंक्शन्स आपल्या फंक्शनच्या व्याख्या Lark व्याकरण स्वरूपात रूपांतरित करतात, जे ONNX Runtime GenAI द्वारे मार्गदर्शित निर्मितीसाठी वापरले जाते. यामुळे मॉडेल योग्य JSON स्वरूपात वैध फंक्शन कॉल्स तयार करते.\n"
   ]
  },
  {
   "cell_type": "code",
   "execution_count": 9,
   "id": "0f86e51c",
   "metadata": {},
   "outputs": [],
   "source": [
    "def get_lark_grammar(input_tools):\n",
    "    tools_list = get_tools_list(input_tools)\n",
    "    prompt_tool_input = create_prompt_tool_input(tools_list)\n",
    "    if len(tools_list) == 1:\n",
    "        # output = (\"start: TEXT | fun_call\\n\" \"TEXT: /[^{](.|\\\\n)*/\\n\" \" fun_call: <|tool_call|> %json \" + json.dumps(tools_list[0]))\n",
    "        output = (\"start: TEXT | fun_call\\n\" \"TEXT: /[^{](.|\\\\n)*/\\n\" \" fun_call: <|tool_call|> %json \" + json.dumps(convert_tool_to_grammar_input(tools_list[0])))\n",
    "        return prompt_tool_input, output\n",
    "    else:\n",
    "        return prompt_tool_input, \"start: TEXT | fun_call \\n TEXT: /[^{](.|\\n)*/ \\n fun_call: <|tool_call|> %json {\\\"anyOf\\\": [\" + ','.join([json.dumps(tool) for tool in tools_list]) + \"]}\"\n"
   ]
  },
  {
   "cell_type": "code",
   "execution_count": 10,
   "id": "7f2da98d",
   "metadata": {},
   "outputs": [],
   "source": [
    "def get_tools_list(input_tools):\n",
    "    # input_tools format: '[{\"name\": \"fn1\", \"description\": \"fn details\", \"parameters\": {\"p1\": {\"description\": \"details\", \"type\": \"string\"}}},\n",
    "    # {\"fn2\": 2},{\"fn3\": 3}]'\n",
    "    tools_list = []\n",
    "    try:\n",
    "        tools_list = json.loads(input_tools)\n",
    "    except json.JSONDecodeError:\n",
    "        raise ValueError(\"Invalid JSON format for tools list, expected format: '[{\\\"name\\\": \\\"fn1\\\"},{\\\"name\\\": \\\"fn2\\\"}]'\")\n",
    "    if len(tools_list) == 0:\n",
    "        raise ValueError(\"Tools list cannot be empty\")\n",
    "    return tools_list"
   ]
  },
  {
   "cell_type": "code",
   "execution_count": 11,
   "id": "1b1c2261",
   "metadata": {},
   "outputs": [],
   "source": [
    "def create_prompt_tool_input(tools_list):\n",
    "    tool_input = str(tools_list[0])\n",
    "    for tool in tools_list[1:]:\n",
    "        tool_input += ',' + str(tool)\n",
    "    return tool_input"
   ]
  },
  {
   "cell_type": "code",
   "execution_count": 12,
   "id": "aa82c09c",
   "metadata": {},
   "outputs": [],
   "source": [
    "def convert_tool_to_grammar_input(tool):\n",
    "    param_props = {}\n",
    "    required_params = []\n",
    "    for param_name, param_info in tool.get(\"parameters\", {}).items():\n",
    "        param_props[param_name] = {\n",
    "            \"type\": param_info.get(\"type\", \"string\"),\n",
    "            \"description\": param_info.get(\"description\", \"\")\n",
    "        }\n",
    "        required_params.append(param_name)\n",
    "    output_schema = {\n",
    "        \"description\": tool.get('description', ''),\n",
    "        \"type\": \"object\",\n",
    "        \"required\": [\"name\", \"parameters\"],\n",
    "        \"additionalProperties\": False,\n",
    "        \"properties\": {\n",
    "            \"name\": { \"const\": tool[\"name\"] },\n",
    "            \"parameters\": {\n",
    "                \"type\": \"object\",\n",
    "                \"properties\": param_props,\n",
    "                \"required\": required_params,\n",
    "                \"additionalProperties\": False\n",
    "            }\n",
    "        }\n",
    "    }\n",
    "    if len(param_props) == 0:\n",
    "        output_schema[\"required\"] = [\"name\"]\n",
    "    return output_schema"
   ]
  },
  {
   "cell_type": "code",
   "execution_count": 13,
   "id": "284c9474",
   "metadata": {},
   "outputs": [
    {
     "data": {
      "text/plain": [
       "(\"{'name': 'booking_flight_tickets', 'description': 'booking flights', 'parameters': {'origin_airport_code': {'description': 'The name of Departure airport code', 'type': 'string'}, 'destination_airport_code': {'description': 'The name of Destination airport code', 'type': 'string'}, 'departure_date': {'description': 'The date of outbound flight', 'type': 'string'}, 'return_date': {'description': 'The date of return flight', 'type': 'string'}}},{'name': 'booking_hotels', 'description': 'booking hotel', 'parameters': {'destination': {'description': 'The name of the city', 'type': 'string'}, 'check_in_date': {'description': 'The date of check in', 'type': 'string'}, 'checkout_date': {'description': 'The date of check out', 'type': 'string'}}}\",\n",
       " 'start: TEXT | fun_call \\n TEXT: /[^{](.|\\n)*/ \\n fun_call: <|tool_call|> %json {\"anyOf\": [{\"name\": \"booking_flight_tickets\", \"description\": \"booking flights\", \"parameters\": {\"origin_airport_code\": {\"description\": \"The name of Departure airport code\", \"type\": \"string\"}, \"destination_airport_code\": {\"description\": \"The name of Destination airport code\", \"type\": \"string\"}, \"departure_date\": {\"description\": \"The date of outbound flight\", \"type\": \"string\"}, \"return_date\": {\"description\": \"The date of return flight\", \"type\": \"string\"}}},{\"name\": \"booking_hotels\", \"description\": \"booking hotel\", \"parameters\": {\"destination\": {\"description\": \"The name of the city\", \"type\": \"string\"}, \"check_in_date\": {\"description\": \"The date of check in\", \"type\": \"string\"}, \"checkout_date\": {\"description\": \"The date of check out\", \"type\": \"string\"}}}]}')"
      ]
     },
     "execution_count": 13,
     "metadata": {},
     "output_type": "execute_result"
    }
   ],
   "source": [
    "get_lark_grammar(tool_list)"
   ]
  },
  {
   "cell_type": "markdown",
   "id": "c534ff02",
   "metadata": {},
   "source": [
    "## चरण 6: व्याकरण निर्मितीची चाचणी करा\n",
    "\n",
    "आपल्या व्याकरण निर्मिती फंक्शन्सची चाचणी घेऊया, ज्यामुळे आपल्या टूलच्या व्याख्या योग्य स्वरूपात परिवर्तित होतात.\n"
   ]
  },
  {
   "cell_type": "code",
   "execution_count": 14,
   "id": "a730b137",
   "metadata": {},
   "outputs": [],
   "source": [
    "prompt_tool_input, guidance_input = get_lark_grammar(tool_list)"
   ]
  },
  {
   "cell_type": "markdown",
   "id": "a4ca5aa8",
   "metadata": {},
   "source": [
    "## चरण ७: प्रणाली प्रॉम्प्ट आणि जनरेटर तयार करा\n",
    "\n",
    "आता आपण प्रणाली प्रॉम्प्ट तयार करू ज्यामध्ये मॉडेलला उपलब्ध साधनांबद्दल माहिती दिली जाते आणि मार्गदर्शित निर्मिती पॅरामीटर्ससह जनरेटर सेट अप करू.\n"
   ]
  },
  {
   "cell_type": "code",
   "execution_count": 15,
   "id": "c8474cdf",
   "metadata": {},
   "outputs": [],
   "source": [
    "# Define the system prompt that introduces the assistant and its capabilities\n",
    "system_prompt = \"You are a helpful assistant with these tools.\""
   ]
  },
  {
   "cell_type": "code",
   "execution_count": 16,
   "id": "97c4c612",
   "metadata": {},
   "outputs": [],
   "source": [
    "# Format the system message with tools information\n",
    "messages = f\"\"\"[{{\"role\": \"system\", \"content\": \"{system_prompt}\", \"tools\": \"{prompt_tool_input}\"}}]\"\"\""
   ]
  },
  {
   "cell_type": "code",
   "execution_count": 17,
   "id": "aaabbc49",
   "metadata": {},
   "outputs": [],
   "source": [
    "# Apply chat template to format the system prompt properly\n",
    "tokenizer_input_system_prompt = tokenizer.apply_chat_template(messages=messages, add_generation_prompt=False)"
   ]
  },
  {
   "cell_type": "code",
   "execution_count": 18,
   "id": "81f0da4d",
   "metadata": {},
   "outputs": [
    {
     "data": {
      "text/plain": [
       "\"<|system|>You are a helpful assistant with these tools.<|tool|>{'name': 'booking_flight_tickets', 'description': 'booking flights', 'parameters': {'origin_airport_code': {'description': 'The name of Departure airport code', 'type': 'string'}, 'destination_airport_code': {'description': 'The name of Destination airport code', 'type': 'string'}, 'departure_date': {'description': 'The date of outbound flight', 'type': 'string'}, 'return_date': {'description': 'The date of return flight', 'type': 'string'}}},{'name': 'booking_hotels', 'description': 'booking hotel', 'parameters': {'destination': {'description': 'The name of the city', 'type': 'string'}, 'check_in_date': {'description': 'The date of check in', 'type': 'string'}, 'checkout_date': {'description': 'The date of check out', 'type': 'string'}}}<|/tool|><|end|><|endoftext|>\""
      ]
     },
     "execution_count": 18,
     "metadata": {},
     "output_type": "execute_result"
    }
   ],
   "source": [
    "tokenizer_input_system_prompt"
   ]
  },
  {
   "cell_type": "code",
   "execution_count": 19,
   "id": "10605b23",
   "metadata": {},
   "outputs": [],
   "source": [
    "input_tokens = tokenizer.encode(tokenizer_input_system_prompt)"
   ]
  },
  {
   "cell_type": "code",
   "execution_count": 20,
   "id": "6de50e32",
   "metadata": {},
   "outputs": [],
   "source": [
    "input_tokens = input_tokens[:-1]"
   ]
  },
  {
   "cell_type": "code",
   "execution_count": 21,
   "id": "1c17a6c9",
   "metadata": {},
   "outputs": [],
   "source": [
    "system_prompt_length = len(input_tokens)"
   ]
  },
  {
   "cell_type": "markdown",
   "id": "5ec5f242",
   "metadata": {},
   "source": [
    "## चरण 8: मार्गदर्शित निर्मितीसाठी जनरेटर प्रारंभ करा\n",
    "\n",
    "आता आपण आपल्या संरचीत पॅरामीटर्ससह जनरेटर तयार करू आणि मार्गदर्शित निर्मितीसाठी Lark व्याकरण लागू करू.\n"
   ]
  },
  {
   "cell_type": "code",
   "execution_count": 22,
   "id": "b54180c0",
   "metadata": {},
   "outputs": [],
   "source": [
    "# Create generator parameters and apply search options\n",
    "params = og.GeneratorParams(model)\n",
    "params.set_search_options(**search_options)"
   ]
  },
  {
   "cell_type": "code",
   "execution_count": 23,
   "id": "eec56940",
   "metadata": {},
   "outputs": [],
   "source": [
    "# Apply Lark grammar for guided generation to ensure valid function call format\n",
    "params.set_guidance(\"lark_grammar\", guidance_input)"
   ]
  },
  {
   "cell_type": "code",
   "execution_count": null,
   "id": "92207c48",
   "metadata": {},
   "outputs": [],
   "source": []
  },
  {
   "cell_type": "code",
   "execution_count": 24,
   "id": "690112f5",
   "metadata": {},
   "outputs": [],
   "source": [
    "generator = og.Generator(model, params)"
   ]
  },
  {
   "cell_type": "code",
   "execution_count": 25,
   "id": "789d5b1a",
   "metadata": {},
   "outputs": [],
   "source": [
    "generator.append_tokens(input_tokens)"
   ]
  },
  {
   "cell_type": "markdown",
   "id": "5c7c9c2e",
   "metadata": {},
   "source": [
    "## चरण 9: समांतर फंक्शन कॉलिंगची चाचणी करा\n",
    "\n",
    "आता आपण अनेक फंक्शन्स कॉल करण्याची आवश्यकता असलेल्या जटिल प्रवास बुकिंग परिस्थितीसह आपल्या सेटअपची चाचणी करूया.\n"
   ]
  },
  {
   "cell_type": "code",
   "execution_count": 26,
   "id": "0ac5ff58",
   "metadata": {},
   "outputs": [],
   "source": [
    "# Complex travel booking request that requires both flight and hotel booking\n",
    "text = \"book flight ticket from Beijing to Paris(using airport code) in 2025-12-04 to 2025-12-10 , then book hotel from 2025-12-04 to 2025-12-10 in Paris\""
   ]
  },
  {
   "cell_type": "code",
   "execution_count": 27,
   "id": "36386526",
   "metadata": {},
   "outputs": [],
   "source": [
    "# Format user message and apply chat template\n",
    "messages = f\"\"\"[{{\"role\": \"user\", \"content\": \"{text}\"}}]\"\"\"\n",
    "\n",
    "# Apply Chat Template for user input\n",
    "user_prompt = tokenizer.apply_chat_template(messages=messages, add_generation_prompt=True)\n",
    "input_tokens = tokenizer.encode(user_prompt)\n",
    "generator.append_tokens(input_tokens)"
   ]
  },
  {
   "cell_type": "code",
   "execution_count": 28,
   "id": "f85f5caa",
   "metadata": {},
   "outputs": [
    {
     "data": {
      "text/plain": [
       "'<|user|>book flight ticket from Beijing to Paris(using airport code) in 2025-12-04 to 2025-12-10 , then book hotel from 2025-12-04 to 2025-12-10 in Paris<|end|><|assistant|>'"
      ]
     },
     "execution_count": 28,
     "metadata": {},
     "output_type": "execute_result"
    }
   ],
   "source": [
    "user_prompt"
   ]
  },
  {
   "cell_type": "markdown",
   "id": "833c90f9",
   "metadata": {},
   "source": []
  },
  {
   "cell_type": "markdown",
   "id": "65331735",
   "metadata": {},
   "source": [
    "### फंक्शन कॉल्स तयार करा\n",
    "\n",
    "मॉडेल आता वापरकर्त्याच्या विनंतीनुसार संरचित फंक्शन कॉल्स तयार करेल. मार्गदर्शित निर्मितीमुळे, आउटपुट वैध JSON स्वरूपात असेल जे थेट कार्यान्वित करता येईल.\n",
    "\n",
    "**अपेक्षित आउटपुट**: मॉडेलने खालील फंक्शन कॉल्स तयार करावेत:\n",
    "1. `booking_flight_tickets` बीजिंग (PEK) ते पॅरिस (CDG) तपशीलांसह\n",
    "2. `booking_hotels` पॅरिस निवासस्थानाच्या तपशीलांसह\n",
    "\n",
    "खालील सेल चालवा आणि थेट निर्मिती पहा:\n"
   ]
  },
  {
   "cell_type": "code",
   "execution_count": 29,
   "id": "64a703a1",
   "metadata": {},
   "outputs": [
    {
     "name": "stdout",
     "output_type": "stream",
     "text": [
      "[{\"name\": \"booking_flight_tickets\", \"arguments\": {\"origin_airport_code\": \"PEKK\", \"destination_airport_code\": \"CDG\", \"departure_date\": \"2025-12-04\", \"return_date\": \"2025-12-10\"}}, {\"name\": \"booking_hotels\", \"arguments\": {\"destination\": \"Paris\", \"check_in_date\": \"2025-12-04\", \"checkout_date\": \"2025-12-10\"}}]"
     ]
    }
   ],
   "source": [
    "# Generate tokens one by one and stream the output\n",
    "while not generator.is_done():\n",
    "    generator.generate_next_token()\n",
    "    new_token = generator.get_next_tokens()[0]\n",
    "    print(tokenizer_stream.decode(new_token), end='', flush=True)"
   ]
  },
  {
   "cell_type": "markdown",
   "id": "e4db4123",
   "metadata": {},
   "source": [
    "## निष्कर्ष\n",
    "\n",
    "🎉 **अभिनंदन!** तुम्ही ONNX Runtime GenAI वापरून Phi-4 Mini सह समांतर फंक्शन कॉलिंग यशस्वीपणे अंमलात आणले आहे.\n",
    "\n",
    "### तुम्ही काय शिकलात:\n",
    "\n",
    "1. **मॉडेल सेटअप**: Phi-4 Mini ONNX Runtime GenAI सह कसे कॉन्फिगर करायचे\n",
    "2. **फंक्शन परिभाषा**: AI फंक्शन कॉलिंगसाठी फंक्शन स्कीमाची परिभाषा कशी करायची\n",
    "3. **मार्गदर्शित जनरेशन**: संरचित आउटपुट जनरेशनसाठी Lark व्याकरणाचा वापर कसा करायचा\n",
    "4. **समांतर फंक्शन कॉल्स**: अनेक फंक्शन कॉल्स आवश्यक असलेल्या जटिल विनंत्यांचे व्यवस्थापन कसे करायचे\n",
    "\n",
    "### मुख्य फायदे:\n",
    "\n",
    "- ✅ **संरचित आउटपुट**: मार्गदर्शित जनरेशनमुळे वैध JSON फंक्शन कॉल्स सुनिश्चित होतात\n",
    "- ✅ **समांतर प्रक्रिया**: एका विनंतीमध्ये अनेक फंक्शन कॉल्स हाताळा\n",
    "- ✅ **उच्च कार्यक्षमता**: ONNX Runtime अनुकूलित अनुमान प्रदान करते\n",
    "- ✅ **लवचिक स्कीमा**: फंक्शन परिभाषा सहजपणे जोडणे किंवा बदलणे शक्य\n",
    "\n",
    "### संसाधने:\n",
    "\n",
    "- [Phi-4 Mini दस्तऐवज](https://huggingface.co/microsoft/Phi-4-mini-onnx)\n",
    "- [ONNX Runtime GenAI दस्तऐवज](https://onnxruntime.ai/docs/genai/)\n",
    "- [फंक्शन कॉलिंग सर्वोत्तम पद्धती](https://platform.openai.com/docs/guides/function-calling)\n"
   ]
  },
  {
   "cell_type": "markdown",
   "metadata": {},
   "source": [
    "\n---\n\n**अस्वीकरण**:  \nहा दस्तऐवज AI भाषांतर सेवा [Co-op Translator](https://github.com/Azure/co-op-translator) चा वापर करून भाषांतरित करण्यात आला आहे. आम्ही अचूकतेसाठी प्रयत्नशील असलो तरी कृपया लक्षात ठेवा की स्वयंचलित भाषांतरे त्रुटी किंवा अचूकतेच्या अभावाने युक्त असू शकतात. मूळ भाषेतील दस्तऐवज हा अधिकृत स्रोत मानला जावा. महत्त्वाच्या माहितीसाठी व्यावसायिक मानवी भाषांतराची शिफारस केली जाते. या भाषांतराचा वापर करून उद्भवलेल्या कोणत्याही गैरसमज किंवा चुकीच्या अर्थासाठी आम्ही जबाबदार राहणार नाही.\n"
   ]
  }
 ],
 "metadata": {
  "kernelspec": {
   "display_name": "pydev",
   "language": "python",
   "name": "python3"
  },
  "language_info": {
   "codemirror_mode": {
    "name": "ipython",
    "version": 3
   },
   "file_extension": ".py",
   "mimetype": "text/x-python",
   "name": "python",
   "nbconvert_exporter": "python",
   "pygments_lexer": "ipython3",
   "version": "3.11.8"
  },
  "coopTranslator": {
   "original_hash": "8b61c907614fd2780d526c45c388d285",
   "translation_date": "2025-09-12T18:58:04+00:00",
   "source_file": "md/02.Application/07.FunctionCalling/Phi4/ONNX/onnx_parallel_functioncalling.ipynb",
   "language_code": "mr"
  }
 },
 "nbformat": 4,
 "nbformat_minor": 5
}