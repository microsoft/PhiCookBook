{
 "cells": [
  {
   "cell_type": "markdown",
   "metadata": {},
   "source": [
    "# Ollama + OpenAI + Python\n",
    "\n",
    "## 1. मॉडेलचे नाव निर्दिष्ट करा\n",
    "\n",
    "जर तुम्ही \"phi3:mini\" पेक्षा वेगळे मॉडेल आणले असेल, तर खालील सेलमधील मूल्य बदला. तो व्हेरिएबल संपूर्ण नोटबुकमध्ये कोडमध्ये वापरला जाईल.\n"
   ]
  },
  {
   "cell_type": "code",
   "execution_count": null,
   "metadata": {},
   "outputs": [],
   "source": [
    "MODEL_NAME = \"phi3:mini\""
   ]
  },
  {
   "cell_type": "markdown",
   "metadata": {},
   "source": [
    "## 2. Open AI क्लायंट सेटअप करा\n",
    "\n",
    "सामान्यतः OpenAI क्लायंट OpenAI.com किंवा Azure OpenAI सह मोठ्या भाषा मॉडेल्सशी संवाद साधण्यासाठी वापरला जातो.  \n",
    "तथापि, तो Ollama सह देखील वापरला जाऊ शकतो, कारण Ollama \"http://localhost:11434/v1\" येथे OpenAI-सुसंगत एन्डपॉइंट प्रदान करते.\n"
   ]
  },
  {
   "cell_type": "code",
   "execution_count": null,
   "metadata": {},
   "outputs": [],
   "source": [
    "%pip install openai"
   ]
  },
  {
   "cell_type": "code",
   "execution_count": null,
   "metadata": {},
   "outputs": [],
   "source": [
    "import openai\n",
    "\n",
    "client = openai.OpenAI(\n",
    "    base_url=\"http://localhost:11434/v1\",\n",
    "    api_key=\"nokeyneeded\",\n",
    ")"
   ]
  },
  {
   "cell_type": "markdown",
   "metadata": {},
   "source": [
    "## 3. चॅट पूर्णता तयार करा\n",
    "\n",
    "आता आपण OpenAI SDK वापरून संभाषणासाठी प्रतिसाद तयार करू शकतो. ही विनंती मांजरींवर एक हायकू तयार करेल:\n"
   ]
  },
  {
   "cell_type": "code",
   "execution_count": null,
   "metadata": {},
   "outputs": [],
   "source": [
    "response = client.chat.completions.create(\n",
    "    model=MODEL_NAME,\n",
    "    temperature=0.7,\n",
    "    n=1,\n",
    "    messages=[\n",
    "        {\"role\": \"system\", \"content\": \"You are a helpful assistant.\"},\n",
    "        {\"role\": \"user\", \"content\": \"Write a haiku about a hungry cat\"},\n",
    "    ],\n",
    ")\n",
    "\n",
    "print(\"Response:\")\n",
    "print(response.choices[0].message.content)\n"
   ]
  },
  {
   "cell_type": "markdown",
   "metadata": {},
   "source": [
    "## 4. प्रॉम्प्ट इंजिनिअरिंग\n",
    "\n",
    "भाषा मॉडेलला पाठवलेला पहिला संदेश \"सिस्टम संदेश\" किंवा \"सिस्टम प्रॉम्प्ट\" म्हणून ओळखला जातो, आणि तो मॉडेलसाठी एकूण सूचना सेट करतो.  \n",
    "तुम्ही तुमचा स्वतःचा सानुकूल सिस्टम प्रॉम्प्ट देऊन भाषेच्या मॉडेलला वेगळ्या प्रकारे आउटपुट तयार करण्यासाठी मार्गदर्शन करू शकता.  \n",
    "खाली दिलेला `SYSTEM_MESSAGE` बदलून तुमच्या आवडत्या प्रसिद्ध चित्रपट/टीव्ही पात्रासारखे उत्तर द्यायला लावा, किंवा इतर सिस्टम प्रॉम्प्टसाठी [Awesome ChatGPT Prompts](https://github.com/f/awesome-chatgpt-prompts?tab=readme-ov-file#prompts) मधून प्रेरणा घ्या.\n",
    "\n",
    "एकदा तुम्ही सिस्टम संदेश सानुकूलित केल्यावर, `USER_MESSAGE` मध्ये पहिला वापरकर्ता प्रश्न द्या.\n"
   ]
  },
  {
   "cell_type": "code",
   "execution_count": null,
   "metadata": {},
   "outputs": [],
   "source": [
    "SYSTEM_MESSAGE = \"\"\"\n",
    "I want you to act like Elmo from Sesame Street.\n",
    "I want you to respond and answer like Elmo using the tone, manner and vocabulary that Elmo would use.\n",
    "Do not write any explanations. Only answer like Elmo.\n",
    "You must know all of the knowledge of Elmo, and nothing more.\n",
    "\"\"\"\n",
    "\n",
    "USER_MESSAGE = \"\"\"\n",
    "Hi Elmo, how are you doing today?\n",
    "\"\"\"\n",
    "\n",
    "response = client.chat.completions.create(\n",
    "    model=MODEL_NAME,\n",
    "    temperature=0.7,\n",
    "    n=1,\n",
    "    messages=[\n",
    "        {\"role\": \"system\", \"content\": SYSTEM_MESSAGE},\n",
    "        {\"role\": \"user\", \"content\": USER_MESSAGE},\n",
    "    ],\n",
    ")\n",
    "\n",
    "print(\"Response:\")\n",
    "print(response.choices[0].message.content)\n"
   ]
  },
  {
   "cell_type": "markdown",
   "metadata": {},
   "source": [
    "## ५. काही उदाहरणे\n",
    "\n",
    "भाषा मॉडेलला मार्गदर्शन करण्याचा आणखी एक मार्ग म्हणजे \"काही उदाहरणे\" प्रदान करणे, म्हणजे प्रश्न/उत्तरांची एक मालिका जी मॉडेलने कसे प्रतिसाद द्यावे हे दाखवते.\n",
    "\n",
    "खालील उदाहरणात, भाषा मॉडेलला शिक्षण सहाय्यकासारखे वागवण्याचा प्रयत्न केला आहे. त्यासाठी काही प्रश्न आणि उत्तरांची उदाहरणे दिली आहेत, जी शिक्षण सहाय्यक देऊ शकतो. त्यानंतर विद्यार्थ्याने विचारू शकणाऱ्या प्रश्नासह मॉडेलला प्रॉम्प्ट केले आहे.\n",
    "\n",
    "हे प्रथम स्वतः करून पहा, आणि नंतर `SYSTEM_MESSAGE`, `EXAMPLES`, आणि `USER_MESSAGE` नवीन परिस्थितीसाठी बदलून पहा.\n"
   ]
  },
  {
   "cell_type": "code",
   "execution_count": null,
   "metadata": {},
   "outputs": [],
   "source": [
    "SYSTEM_MESSAGE = \"\"\"\n",
    "You are a helpful assistant that helps students with their homework.\n",
    "Instead of providing the full answer, you respond with a hint or a clue.\n",
    "\"\"\"\n",
    "\n",
    "EXAMPLES = [\n",
    "    (\n",
    "        \"What is the capital of France?\",\n",
    "        \"Can you remember the name of the city that is known for the Eiffel Tower?\"\n",
    "    ),\n",
    "    (\n",
    "        \"What is the square root of 144?\",\n",
    "        \"What number multiplied by itself equals 144?\"\n",
    "    ),\n",
    "    (   \"What is the atomic number of oxygen?\",\n",
    "        \"How many protons does an oxygen atom have?\"\n",
    "    ),\n",
    "]\n",
    "\n",
    "USER_MESSAGE = \"What is the largest planet in our solar system?\"\n",
    "\n",
    "\n",
    "response = client.chat.completions.create(\n",
    "    model=MODEL_NAME,\n",
    "    temperature=0.7,\n",
    "    n=1,\n",
    "    messages=[\n",
    "        {\"role\": \"system\", \"content\": SYSTEM_MESSAGE},\n",
    "        {\"role\": \"user\", \"content\": EXAMPLES[0][0]},\n",
    "        {\"role\": \"assistant\", \"content\": EXAMPLES[0][1]},\n",
    "        {\"role\": \"user\", \"content\": EXAMPLES[1][0]},\n",
    "        {\"role\": \"assistant\", \"content\": EXAMPLES[1][1]},\n",
    "        {\"role\": \"user\", \"content\": EXAMPLES[2][0]},\n",
    "        {\"role\": \"assistant\", \"content\": EXAMPLES[2][1]},\n",
    "        {\"role\": \"user\", \"content\": USER_MESSAGE},\n",
    "    ],\n",
    ")\n",
    "\n",
    "\n",
    "print(\"Response:\")\n",
    "print(response.choices[0].message.content)"
   ]
  },
  {
   "cell_type": "markdown",
   "metadata": {},
   "source": [
    "## 6. माहिती पुनर्प्राप्ती आधारित निर्मिती\n",
    "\n",
    "RAG (Retrieval Augmented Generation) ही एक तंत्र आहे ज्याद्वारे भाषेचा मॉडेल विशिष्ट क्षेत्रासाठी प्रश्नांची अचूक उत्तरे देतो. यासाठी प्रथम ज्ञान स्रोतातून संबंधित माहिती शोधली जाते आणि नंतर त्या माहितीच्या आधारे उत्तर तयार केले जाते.\n",
    "\n",
    "आम्ही हायब्रिड कार्सबद्दल डेटा असलेली एक स्थानिक CSV फाइल दिली आहे. खालील कोड CSV फाइल वाचतो, वापरकर्त्याच्या प्रश्नाशी जुळणारी माहिती शोधतो आणि सापडलेल्या माहितीच्या आधारे उत्तर तयार करतो. लक्षात ठेवा की हे मागील उदाहरणांपेक्षा जास्त वेळ घेईल कारण यामध्ये मॉडेलला अधिक डेटा पाठवला जातो. जर तुम्हाला उत्तर डेटा आधारित वाटत नसेल, तर तुम्ही सिस्टम इंजिनिअरिंगचा प्रयत्न करू शकता किंवा इतर मॉडेल्स वापरू शकता. सामान्यतः, RAG मोठ्या मॉडेल्ससह किंवा SLMs च्या फाइन-ट्यून केलेल्या आवृत्त्यांसह अधिक प्रभावी असते.\n"
   ]
  },
  {
   "cell_type": "code",
   "execution_count": null,
   "metadata": {},
   "outputs": [],
   "source": [
    "import csv\n",
    "\n",
    "SYSTEM_MESSAGE = \"\"\"\n",
    "You are a helpful assistant that answers questions about cars based off a hybrid car data set.\n",
    "You must use the data set to answer the questions, you should not provide any information that is not in the provided sources.\n",
    "\"\"\"\n",
    "\n",
    "USER_MESSAGE = \"how fast is a prius?\"\n",
    "\n",
    "# Open the CSV and store in a list\n",
    "with open(\"hybrid.csv\", \"r\") as file:\n",
    "    reader = csv.reader(file)\n",
    "    rows = list(reader)\n",
    "\n",
    "# Normalize the user question to replace punctuation and make lowercase\n",
    "normalized_message = USER_MESSAGE.lower().replace(\"?\", \"\").replace(\"(\", \" \").replace(\")\", \" \")\n",
    "\n",
    "# Search the CSV for user question using very naive search\n",
    "words = normalized_message.split()\n",
    "matches = []\n",
    "for row in rows[1:]:\n",
    "    # if the word matches any word in row, add the row to the matches\n",
    "    if any(word in row[0].lower().split() for word in words) or any(word in row[5].lower().split() for word in words):\n",
    "        matches.append(row)\n",
    "\n",
    "# Format as a markdown table, since language models understand markdown\n",
    "matches_table = \" | \".join(rows[0]) + \"\\n\" + \" | \".join(\" --- \" for _ in range(len(rows[0]))) + \"\\n\"\n",
    "matches_table += \"\\n\".join(\" | \".join(row) for row in matches)\n",
    "print(f\"Found {len(matches)} matches:\")\n",
    "print(matches_table)\n",
    "\n",
    "# Now we can use the matches to generate a response\n",
    "response = client.chat.completions.create(\n",
    "    model=MODEL_NAME,\n",
    "    temperature=0.7,\n",
    "    n=1,\n",
    "    messages=[\n",
    "        {\"role\": \"system\", \"content\": SYSTEM_MESSAGE},\n",
    "        {\"role\": \"user\", \"content\": USER_MESSAGE + \"\\nSources: \" + matches_table},\n",
    "    ],\n",
    ")\n",
    "\n",
    "print(\"Response:\")\n",
    "print(response.choices[0].message.content)"
   ]
  },
  {
   "cell_type": "markdown",
   "metadata": {},
   "source": [
    "\n---\n\n**अस्वीकरण**:  \nहा दस्तऐवज AI भाषांतर सेवा [Co-op Translator](https://github.com/Azure/co-op-translator) वापरून भाषांतरित करण्यात आला आहे. आम्ही अचूकतेसाठी प्रयत्नशील असलो तरी कृपया लक्षात ठेवा की स्वयंचलित भाषांतरांमध्ये त्रुटी किंवा अचूकतेचा अभाव असू शकतो. मूळ भाषेतील दस्तऐवज हा अधिकृत स्रोत मानला जावा. महत्त्वाच्या माहितीसाठी व्यावसायिक मानवी भाषांतराची शिफारस केली जाते. या भाषांतराचा वापर करून निर्माण होणाऱ्या कोणत्याही गैरसमज किंवा चुकीच्या अर्थासाठी आम्ही जबाबदार राहणार नाही.\n"
   ]
  }
 ],
 "metadata": {
  "kernelspec": {
   "display_name": "Python 3",
   "language": "python",
   "name": "python3"
  },
  "language_info": {
   "codemirror_mode": {
    "name": "ipython",
    "version": 3
   },
   "file_extension": ".py",
   "mimetype": "text/x-python",
   "name": "python",
   "nbconvert_exporter": "python",
   "pygments_lexer": "ipython3",
   "version": "3.12.3"
  },
  "coopTranslator": {
   "original_hash": "6f9e40a7dbbd892aae50aff77da4b4be",
   "translation_date": "2025-09-12T20:10:58+00:00",
   "source_file": "code/01.Introduce/ollama.ipynb",
   "language_code": "mr"
  }
 },
 "nbformat": 4,
 "nbformat_minor": 2
}