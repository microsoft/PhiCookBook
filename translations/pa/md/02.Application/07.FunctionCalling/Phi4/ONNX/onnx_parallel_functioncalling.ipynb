{
 "cells": [
  {
   "cell_type": "markdown",
   "id": "81ad8c65",
   "metadata": {},
   "source": [
    "# ਫਾਈ-4 ਮਿਨੀ ONNX ਪੈਰਲਲ ਫੰਕਸ਼ਨ ਕਾਲਿੰਗ ਟਿਊਟੋਰਿਅਲ\n",
    "\n",
    "ਇਹ ਨੋਟਬੁੱਕ ਦਿਖਾਉਂਦੀ ਹੈ ਕਿ ONNX Runtime GenAI ਨਾਲ ਫਾਈ-4 ਮਿਨੀ ਦੀ ਵਰਤੋਂ ਕਰਕੇ ਪੈਰਲਲ ਫੰਕਸ਼ਨ ਕਾਲਿੰਗ ਕਿਵੇਂ ਕੀਤੀ ਜਾ ਸਕਦੀ ਹੈ। ਫੰਕਸ਼ਨ ਕਾਲਿੰਗ ਮਾਡਲ ਨੂੰ ਯੂਜ਼ਰ ਦੀਆਂ ਬੇਨਤੀਆਂ ਦੇ ਅਧਾਰ 'ਤੇ ਬਾਹਰੀ ਟੂਲ ਅਤੇ API ਨੂੰ ਸਮਝਦਾਰੀ ਨਾਲ ਕਾਲ ਕਰਨ ਦੀ ਯੋਗਤਾ ਦਿੰਦੀ ਹੈ।\n",
    "\n",
    "## ਝਲਕ\n",
    "\n",
    "ਇਸ ਟਿਊਟੋਰਿਅਲ ਵਿੱਚ, ਤੁਸੀਂ ਸਿੱਖੋਗੇ ਕਿ:\n",
    "- ONNX Runtime GenAI ਨਾਲ ਫਾਈ-4 ਮਿਨੀ ਸੈਟਅੱਪ ਕਰਨਾ\n",
    "- ਫਲਾਈਟ ਅਤੇ ਹੋਟਲ ਬੁਕਿੰਗ ਲਈ ਫੰਕਸ਼ਨ ਸਕੀਮਾ ਪਰਿਭਾਸ਼ਿਤ ਕਰਨਾ\n",
    "- ਸਟ੍ਰਕਚਰਡ ਆਉਟਪੁੱਟ ਲਈ ਲਾਰਕ ਗ੍ਰਾਮਰ ਨਾਲ ਗਾਈਡ ਜਨਰੇਸ਼ਨ ਦੀ ਵਰਤੋਂ ਕਰਨਾ\n",
    "- ਜਟਿਲ ਯਾਤਰਾ ਬੁਕਿੰਗ ਸਥਿਤੀਆਂ ਲਈ ਪੈਰਲਲ ਫੰਕਸ਼ਨ ਕਾਲਾਂ ਨੂੰ ਅੰਜਾਮ ਦੇਣਾ\n",
    "\n",
    "## ਪੂਰਵ ਸ਼ਰਤਾਂ\n",
    "\n",
    "ਇਸ ਨੋਟਬੁੱਕ ਨੂੰ ਚਲਾਉਣ ਤੋਂ ਪਹਿਲਾਂ, ਯਕੀਨੀ ਬਣਾਓ ਕਿ ਤੁਸੀਂ:\n",
    "- ਫਾਈ-4 ਮਿਨੀ ONNX ਮਾਡਲ ਡਾਊਨਲੋਡ ਕੀਤਾ ਹੈ\n",
    "- `onnxruntime-genai` ਪੈਕੇਜ ਇੰਸਟਾਲ ਕੀਤਾ ਹੈ\n",
    "- ਫੰਕਸ਼ਨ ਕਾਲਿੰਗ ਸੰਕਲਪਾਂ ਦੀ ਬੁਨਿਆਦੀ ਸਮਝ\n"
   ]
  },
  {
   "cell_type": "markdown",
   "id": "8fc2551b",
   "metadata": {},
   "source": [
    "## ਪਹਲਾ ਕਦਮ: ਲੋੜੀਂਦੇ ਲਾਇਬ੍ਰੇਰੀਆਂ ਇਮਪੋਰਟ ਕਰੋ\n",
    "\n",
    "ਸਭ ਤੋਂ ਪਹਿਲਾਂ, ਅਸੀਂ ਆਪਣੀ ਫੰਕਸ਼ਨ ਕਾਲਿੰਗ ਨੂੰ ਲਾਗੂ ਕਰਨ ਲਈ ਜ਼ਰੂਰੀ ਲਾਇਬ੍ਰੇਰੀਆਂ ਨੂੰ ਇਮਪੋਰਟ ਕਰਾਂਗੇ।\n"
   ]
  },
  {
   "cell_type": "code",
   "execution_count": 1,
   "id": "7368a24e",
   "metadata": {},
   "outputs": [],
   "source": [
    "import json"
   ]
  },
  {
   "cell_type": "code",
   "execution_count": 2,
   "id": "3e806340",
   "metadata": {},
   "outputs": [],
   "source": [
    "import onnxruntime_genai as og"
   ]
  },
  {
   "cell_type": "markdown",
   "id": "dc55f0ab",
   "metadata": {},
   "source": [
    "## ਚਰਨ 2: ਮਾਡਲ ਸੈਟਅੱਪ ਅਤੇ ਸੰਰਚਨਾ\n",
    "\n",
    "ਹੁਣ ਅਸੀਂ Phi-4 Mini ONNX ਮਾਡਲ ਨੂੰ ਸੰਰਚਿਤ ਕਰਾਂਗੇ। ਯਕੀਨੀ ਬਣਾਓ ਕਿ ਮਾਡਲ ਡਾਇਰੈਕਟਰੀ ਨਾਲ ਆਪਣਾ ਅਸਲ ਪਥ ਬਦਲੋ।\n"
   ]
  },
  {
   "cell_type": "code",
   "execution_count": null,
   "id": "1e8edfbf",
   "metadata": {},
   "outputs": [],
   "source": [
    "# TODO: Replace with your actual Phi-4 Mini ONNX model path\n",
    "# Download from: https://huggingface.co/microsoft/Phi-4-mini-onnx\n",
    "path = 'Your phi-4-mini-onnx path'  # Update this path!"
   ]
  },
  {
   "cell_type": "code",
   "execution_count": 4,
   "id": "b80f5bb5",
   "metadata": {},
   "outputs": [],
   "source": [
    "config = og.Config(path)"
   ]
  },
  {
   "cell_type": "code",
   "execution_count": 5,
   "id": "10e9a553",
   "metadata": {},
   "outputs": [],
   "source": [
    "model = og.Model(config)"
   ]
  },
  {
   "cell_type": "code",
   "execution_count": 6,
   "id": "66ce23b1",
   "metadata": {},
   "outputs": [],
   "source": [
    "tokenizer = og.Tokenizer(model)\n",
    "tokenizer_stream = tokenizer.create_stream()"
   ]
  },
  {
   "cell_type": "markdown",
   "id": "08ac6d4a",
   "metadata": {},
   "source": [
    "## ਚਰਨ 3: ਜਨਰੇਸ਼ਨ ਪੈਰਾਮੀਟਰ ਸੈਟ ਕਰੋ\n",
    "\n",
    "ਮਾਡਲ ਦੇ ਆਉਟਪੁੱਟ ਵਿਵਹਾਰ ਨੂੰ ਨਿਯੰਤਰਿਤ ਕਰਨ ਲਈ ਜਨਰੇਸ਼ਨ ਪੈਰਾਮੀਟਰ ਸੈਟ ਕਰੋ। ਇਹ ਸੈਟਿੰਗਾਂ ਫੰਕਸ਼ਨ ਕਾਲਿੰਗ ਲਈ ਨਿਰਧਾਰਿਤ ਅਤੇ ਕੇਂਦਰਿਤ ਜਵਾਬਾਂ ਨੂੰ ਯਕੀਨੀ ਬਣਾਉਂਦੀਆਂ ਹਨ।\n"
   ]
  },
  {
   "cell_type": "code",
   "execution_count": 7,
   "id": "af01f5ed",
   "metadata": {},
   "outputs": [],
   "source": [
    "# Configure generation parameters for deterministic function calling\n",
    "search_options = {}\n",
    "search_options['max_length'] = 4096      # Maximum tokens to generate\n",
    "search_options['temperature'] = 0.00001  # Very low temperature for deterministic output\n",
    "search_options['top_p'] = 1.0            # Nucleus sampling parameter\n",
    "search_options['do_sample'] = False       # Disable sampling for consistent results"
   ]
  },
  {
   "cell_type": "markdown",
   "id": "c2808a51",
   "metadata": {},
   "source": [
    "## ਚੌਥਾ ਕਦਮ: ਉਪਲਬਧ ਫੰਕਸ਼ਨਾਂ ਦੀ ਪਰਿਭਾਸ਼ਾ ਕਰੋ\n",
    "\n",
    "ਇਥੇ ਅਸੀਂ ਉਹ ਫੰਕਸ਼ਨ ਪਰਿਭਾਸ਼ਿਤ ਕਰਦੇ ਹਾਂ ਜੋ ਸਾਡਾ AI ਸਹਾਇਕ ਕਾਲ ਕਰ ਸਕਦਾ ਹੈ। ਇਸ ਉਦਾਹਰਨ ਵਿੱਚ, ਸਾਡੇ ਕੋਲ ਦੋ ਯਾਤਰਾ-ਸੰਬੰਧੀ ਫੰਕਸ਼ਨ ਹਨ:\n",
    "1. **booking_flight_tickets**: ਹਵਾਈ ਅੱਡਿਆਂ ਦੇ ਵਿਚਕਾਰ ਉਡਾਨਾਂ ਬੁੱਕ ਕਰਨ ਲਈ\n",
    "2. **booking_hotels**: ਹੋਟਲਾਂ ਵਿੱਚ ਰਹਿਣ ਦੀ ਬੁਕਿੰਗ ਕਰਨ ਲਈ\n",
    "\n",
    "ਫੰਕਸ਼ਨ ਦੀ ਪਰਿਭਾਸ਼ਾ OpenAI ਦੇ ਫੰਕਸ਼ਨ ਕਾਲਿੰਗ ਸਕੀਮਾ ਫਾਰਮੈਟ ਦੀ ਪਾਲਨਾ ਕਰਦੀ ਹੈ।\n"
   ]
  },
  {
   "cell_type": "code",
   "execution_count": 8,
   "id": "fc53b93b",
   "metadata": {},
   "outputs": [],
   "source": [
    "tool_list = '[{\"name\": \"booking_flight_tickets\", \"description\": \"booking flights\", \"parameters\": {\"origin_airport_code\": {\"description\": \"The name of Departure airport code\", \"type\": \"string\"}, \"destination_airport_code\": {\"description\": \"The name of Destination airport code\", \"type\": \"string\"}, \"departure_date\": {\"description\": \"The date of outbound flight\", \"type\": \"string\"}, \"return_date\": {\"description\": \"The date of return flight\", \"type\": \"string\"}}}, {\"name\": \"booking_hotels\", \"description\": \"booking hotel\", \"parameters\": {\"destination\": {\"description\": \"The name of the city\", \"type\": \"string\"}, \"check_in_date\": {\"description\": \"The date of check in\", \"type\": \"string\"}, \"checkout_date\": {\"description\": \"The date of check out\", \"type\": \"string\"}}}]'"
   ]
  },
  {
   "cell_type": "markdown",
   "id": "f4bb4048",
   "metadata": {},
   "source": [
    "## ਪਦਾਅ 5: ਵਿਆਕਰਣ ਬਣਾਉਣ ਲਈ ਸਹਾਇਕ ਫੰਕਸ਼ਨ\n",
    "\n",
    "ਇਹ ਸਹਾਇਕ ਫੰਕਸ਼ਨ ਸਾਡੇ ਫੰਕਸ਼ਨ ਦੀ ਪਰਿਭਾਸ਼ਾ ਨੂੰ Lark ਵਿਆਕਰਣ ਫਾਰਮੈਟ ਵਿੱਚ ਬਦਲਦੇ ਹਨ, ਜੋ ONNX Runtime GenAI ਦੁਆਰਾ ਨਿਰਦੇਸ਼ਿਤ ਜਨਰੇਸ਼ਨ ਲਈ ਵਰਤਿਆ ਜਾਂਦਾ ਹੈ। ਇਹ ਯਕੀਨੀ ਬਣਾਉਂਦਾ ਹੈ ਕਿ ਮਾਡਲ ਸਹੀ JSON ਫਾਰਮੈਟ ਵਿੱਚ ਵੈਧ ਫੰਕਸ਼ਨ ਕਾਲਾਂ ਨਿਕਾਲਦਾ ਹੈ।\n"
   ]
  },
  {
   "cell_type": "code",
   "execution_count": 9,
   "id": "0f86e51c",
   "metadata": {},
   "outputs": [],
   "source": [
    "def get_lark_grammar(input_tools):\n",
    "    tools_list = get_tools_list(input_tools)\n",
    "    prompt_tool_input = create_prompt_tool_input(tools_list)\n",
    "    if len(tools_list) == 1:\n",
    "        # output = (\"start: TEXT | fun_call\\n\" \"TEXT: /[^{](.|\\\\n)*/\\n\" \" fun_call: <|tool_call|> %json \" + json.dumps(tools_list[0]))\n",
    "        output = (\"start: TEXT | fun_call\\n\" \"TEXT: /[^{](.|\\\\n)*/\\n\" \" fun_call: <|tool_call|> %json \" + json.dumps(convert_tool_to_grammar_input(tools_list[0])))\n",
    "        return prompt_tool_input, output\n",
    "    else:\n",
    "        return prompt_tool_input, \"start: TEXT | fun_call \\n TEXT: /[^{](.|\\n)*/ \\n fun_call: <|tool_call|> %json {\\\"anyOf\\\": [\" + ','.join([json.dumps(tool) for tool in tools_list]) + \"]}\"\n"
   ]
  },
  {
   "cell_type": "code",
   "execution_count": 10,
   "id": "7f2da98d",
   "metadata": {},
   "outputs": [],
   "source": [
    "def get_tools_list(input_tools):\n",
    "    # input_tools format: '[{\"name\": \"fn1\", \"description\": \"fn details\", \"parameters\": {\"p1\": {\"description\": \"details\", \"type\": \"string\"}}},\n",
    "    # {\"fn2\": 2},{\"fn3\": 3}]'\n",
    "    tools_list = []\n",
    "    try:\n",
    "        tools_list = json.loads(input_tools)\n",
    "    except json.JSONDecodeError:\n",
    "        raise ValueError(\"Invalid JSON format for tools list, expected format: '[{\\\"name\\\": \\\"fn1\\\"},{\\\"name\\\": \\\"fn2\\\"}]'\")\n",
    "    if len(tools_list) == 0:\n",
    "        raise ValueError(\"Tools list cannot be empty\")\n",
    "    return tools_list"
   ]
  },
  {
   "cell_type": "code",
   "execution_count": 11,
   "id": "1b1c2261",
   "metadata": {},
   "outputs": [],
   "source": [
    "def create_prompt_tool_input(tools_list):\n",
    "    tool_input = str(tools_list[0])\n",
    "    for tool in tools_list[1:]:\n",
    "        tool_input += ',' + str(tool)\n",
    "    return tool_input"
   ]
  },
  {
   "cell_type": "code",
   "execution_count": 12,
   "id": "aa82c09c",
   "metadata": {},
   "outputs": [],
   "source": [
    "def convert_tool_to_grammar_input(tool):\n",
    "    param_props = {}\n",
    "    required_params = []\n",
    "    for param_name, param_info in tool.get(\"parameters\", {}).items():\n",
    "        param_props[param_name] = {\n",
    "            \"type\": param_info.get(\"type\", \"string\"),\n",
    "            \"description\": param_info.get(\"description\", \"\")\n",
    "        }\n",
    "        required_params.append(param_name)\n",
    "    output_schema = {\n",
    "        \"description\": tool.get('description', ''),\n",
    "        \"type\": \"object\",\n",
    "        \"required\": [\"name\", \"parameters\"],\n",
    "        \"additionalProperties\": False,\n",
    "        \"properties\": {\n",
    "            \"name\": { \"const\": tool[\"name\"] },\n",
    "            \"parameters\": {\n",
    "                \"type\": \"object\",\n",
    "                \"properties\": param_props,\n",
    "                \"required\": required_params,\n",
    "                \"additionalProperties\": False\n",
    "            }\n",
    "        }\n",
    "    }\n",
    "    if len(param_props) == 0:\n",
    "        output_schema[\"required\"] = [\"name\"]\n",
    "    return output_schema"
   ]
  },
  {
   "cell_type": "code",
   "execution_count": 13,
   "id": "284c9474",
   "metadata": {},
   "outputs": [
    {
     "data": {
      "text/plain": [
       "(\"{'name': 'booking_flight_tickets', 'description': 'booking flights', 'parameters': {'origin_airport_code': {'description': 'The name of Departure airport code', 'type': 'string'}, 'destination_airport_code': {'description': 'The name of Destination airport code', 'type': 'string'}, 'departure_date': {'description': 'The date of outbound flight', 'type': 'string'}, 'return_date': {'description': 'The date of return flight', 'type': 'string'}}},{'name': 'booking_hotels', 'description': 'booking hotel', 'parameters': {'destination': {'description': 'The name of the city', 'type': 'string'}, 'check_in_date': {'description': 'The date of check in', 'type': 'string'}, 'checkout_date': {'description': 'The date of check out', 'type': 'string'}}}\",\n",
       " 'start: TEXT | fun_call \\n TEXT: /[^{](.|\\n)*/ \\n fun_call: <|tool_call|> %json {\"anyOf\": [{\"name\": \"booking_flight_tickets\", \"description\": \"booking flights\", \"parameters\": {\"origin_airport_code\": {\"description\": \"The name of Departure airport code\", \"type\": \"string\"}, \"destination_airport_code\": {\"description\": \"The name of Destination airport code\", \"type\": \"string\"}, \"departure_date\": {\"description\": \"The date of outbound flight\", \"type\": \"string\"}, \"return_date\": {\"description\": \"The date of return flight\", \"type\": \"string\"}}},{\"name\": \"booking_hotels\", \"description\": \"booking hotel\", \"parameters\": {\"destination\": {\"description\": \"The name of the city\", \"type\": \"string\"}, \"check_in_date\": {\"description\": \"The date of check in\", \"type\": \"string\"}, \"checkout_date\": {\"description\": \"The date of check out\", \"type\": \"string\"}}}]}')"
      ]
     },
     "execution_count": 13,
     "metadata": {},
     "output_type": "execute_result"
    }
   ],
   "source": [
    "get_lark_grammar(tool_list)"
   ]
  },
  {
   "cell_type": "markdown",
   "id": "c534ff02",
   "metadata": {},
   "source": [
    "## ਚਰਨ 6: ਵਿਆਕਰਣ ਜਨਰੇਸ਼ਨ ਦੀ ਜਾਂਚ ਕਰੋ\n",
    "\n",
    "ਆਓ ਅਸੀਂ ਆਪਣੀਆਂ ਵਿਆਕਰਣ ਜਨਰੇਸ਼ਨ ਫੰਕਸ਼ਨਾਂ ਦੀ ਜਾਂਚ ਕਰੀਏ ਤਾਂ ਜੋ ਵੇਖ ਸਕੀਏ ਕਿ ਇਹ ਸਾਡੇ ਟੂਲ ਦੀ ਪਰਿਭਾਸ਼ਾਵਾਂ ਨੂੰ ਸਹੀ ਫਾਰਮੈਟ ਵਿੱਚ ਕਿਵੇਂ ਬਦਲਦੀਆਂ ਹਨ।\n"
   ]
  },
  {
   "cell_type": "code",
   "execution_count": 14,
   "id": "a730b137",
   "metadata": {},
   "outputs": [],
   "source": [
    "prompt_tool_input, guidance_input = get_lark_grammar(tool_list)"
   ]
  },
  {
   "cell_type": "markdown",
   "id": "a4ca5aa8",
   "metadata": {},
   "source": [
    "## ਚਰਨ 7: ਸਿਸਟਮ ਪ੍ਰੋੰਪਟ ਅਤੇ ਜਨਰੇਟਰ ਤਿਆਰ ਕਰੋ\n",
    "\n",
    "ਹੁਣ ਅਸੀਂ ਸਿਸਟਮ ਪ੍ਰੋੰਪਟ ਬਣਾਉਣ ਜਾ ਰਹੇ ਹਾਂ ਜੋ ਮਾਡਲ ਨੂੰ ਉਪਲਬਧ ਟੂਲਾਂ ਬਾਰੇ ਦੱਸਦਾ ਹੈ ਅਤੇ ਜਨਰੇਟਰ ਨੂੰ ਨਿਰਦੇਸ਼ਿਤ ਜਨਰੇਸ਼ਨ ਪੈਰਾਮੀਟਰਾਂ ਨਾਲ ਸੈਟ ਕਰਦੇ ਹਾਂ।\n"
   ]
  },
  {
   "cell_type": "code",
   "execution_count": 15,
   "id": "c8474cdf",
   "metadata": {},
   "outputs": [],
   "source": [
    "# Define the system prompt that introduces the assistant and its capabilities\n",
    "system_prompt = \"You are a helpful assistant with these tools.\""
   ]
  },
  {
   "cell_type": "code",
   "execution_count": 16,
   "id": "97c4c612",
   "metadata": {},
   "outputs": [],
   "source": [
    "# Format the system message with tools information\n",
    "messages = f\"\"\"[{{\"role\": \"system\", \"content\": \"{system_prompt}\", \"tools\": \"{prompt_tool_input}\"}}]\"\"\""
   ]
  },
  {
   "cell_type": "code",
   "execution_count": 17,
   "id": "aaabbc49",
   "metadata": {},
   "outputs": [],
   "source": [
    "# Apply chat template to format the system prompt properly\n",
    "tokenizer_input_system_prompt = tokenizer.apply_chat_template(messages=messages, add_generation_prompt=False)"
   ]
  },
  {
   "cell_type": "code",
   "execution_count": 18,
   "id": "81f0da4d",
   "metadata": {},
   "outputs": [
    {
     "data": {
      "text/plain": [
       "\"<|system|>You are a helpful assistant with these tools.<|tool|>{'name': 'booking_flight_tickets', 'description': 'booking flights', 'parameters': {'origin_airport_code': {'description': 'The name of Departure airport code', 'type': 'string'}, 'destination_airport_code': {'description': 'The name of Destination airport code', 'type': 'string'}, 'departure_date': {'description': 'The date of outbound flight', 'type': 'string'}, 'return_date': {'description': 'The date of return flight', 'type': 'string'}}},{'name': 'booking_hotels', 'description': 'booking hotel', 'parameters': {'destination': {'description': 'The name of the city', 'type': 'string'}, 'check_in_date': {'description': 'The date of check in', 'type': 'string'}, 'checkout_date': {'description': 'The date of check out', 'type': 'string'}}}<|/tool|><|end|><|endoftext|>\""
      ]
     },
     "execution_count": 18,
     "metadata": {},
     "output_type": "execute_result"
    }
   ],
   "source": [
    "tokenizer_input_system_prompt"
   ]
  },
  {
   "cell_type": "code",
   "execution_count": 19,
   "id": "10605b23",
   "metadata": {},
   "outputs": [],
   "source": [
    "input_tokens = tokenizer.encode(tokenizer_input_system_prompt)"
   ]
  },
  {
   "cell_type": "code",
   "execution_count": 20,
   "id": "6de50e32",
   "metadata": {},
   "outputs": [],
   "source": [
    "input_tokens = input_tokens[:-1]"
   ]
  },
  {
   "cell_type": "code",
   "execution_count": 21,
   "id": "1c17a6c9",
   "metadata": {},
   "outputs": [],
   "source": [
    "system_prompt_length = len(input_tokens)"
   ]
  },
  {
   "cell_type": "markdown",
   "id": "5ec5f242",
   "metadata": {},
   "source": [
    "## ਚਰਨ 8: ਗਾਈਡ ਕੀਤੀ ਜਨਰੇਸ਼ਨ ਨਾਲ ਜਨਰੇਟਰ ਸ਼ੁਰੂ ਕਰੋ\n",
    "\n",
    "ਹੁਣ ਅਸੀਂ ਆਪਣੇ ਸੰਰਚਿਤ ਪੈਰਾਮੀਟਰਾਂ ਨਾਲ ਜਨਰੇਟਰ ਬਣਾਵਾਂਗੇ ਅਤੇ ਗਾਈਡ ਕੀਤੀ ਜਨਰੇਸ਼ਨ ਲਈ ਲਾਰਕ ਵਿਆਕਰਣ ਲਾਗੂ ਕਰਾਂਗੇ।\n"
   ]
  },
  {
   "cell_type": "code",
   "execution_count": 22,
   "id": "b54180c0",
   "metadata": {},
   "outputs": [],
   "source": [
    "# Create generator parameters and apply search options\n",
    "params = og.GeneratorParams(model)\n",
    "params.set_search_options(**search_options)"
   ]
  },
  {
   "cell_type": "code",
   "execution_count": 23,
   "id": "eec56940",
   "metadata": {},
   "outputs": [],
   "source": [
    "# Apply Lark grammar for guided generation to ensure valid function call format\n",
    "params.set_guidance(\"lark_grammar\", guidance_input)"
   ]
  },
  {
   "cell_type": "code",
   "execution_count": null,
   "id": "92207c48",
   "metadata": {},
   "outputs": [],
   "source": []
  },
  {
   "cell_type": "code",
   "execution_count": 24,
   "id": "690112f5",
   "metadata": {},
   "outputs": [],
   "source": [
    "generator = og.Generator(model, params)"
   ]
  },
  {
   "cell_type": "code",
   "execution_count": 25,
   "id": "789d5b1a",
   "metadata": {},
   "outputs": [],
   "source": [
    "generator.append_tokens(input_tokens)"
   ]
  },
  {
   "cell_type": "markdown",
   "id": "5c7c9c2e",
   "metadata": {},
   "source": [
    "## ਚਰਨ 9: ਸਮਾਂਤਰ ਫੰਕਸ਼ਨ ਕਾਲਿੰਗ ਦੀ ਜਾਂਚ ਕਰੋ\n",
    "\n",
    "ਹੁਣ ਆਓ ਅਸੀਂ ਆਪਣੇ ਸੈਟਅੱਪ ਨੂੰ ਇੱਕ ਜਟਿਲ ਯਾਤਰਾ ਬੁਕਿੰਗ ਸਥਿਤੀ ਨਾਲ ਜਾਂਚੀਏ, ਜਿਸ ਵਿੱਚ ਕਈ ਫੰਕਸ਼ਨਾਂ ਨੂੰ ਕਾਲ ਕਰਨ ਦੀ ਲੋੜ ਹੈ।\n"
   ]
  },
  {
   "cell_type": "code",
   "execution_count": 26,
   "id": "0ac5ff58",
   "metadata": {},
   "outputs": [],
   "source": [
    "# Complex travel booking request that requires both flight and hotel booking\n",
    "text = \"book flight ticket from Beijing to Paris(using airport code) in 2025-12-04 to 2025-12-10 , then book hotel from 2025-12-04 to 2025-12-10 in Paris\""
   ]
  },
  {
   "cell_type": "code",
   "execution_count": 27,
   "id": "36386526",
   "metadata": {},
   "outputs": [],
   "source": [
    "# Format user message and apply chat template\n",
    "messages = f\"\"\"[{{\"role\": \"user\", \"content\": \"{text}\"}}]\"\"\"\n",
    "\n",
    "# Apply Chat Template for user input\n",
    "user_prompt = tokenizer.apply_chat_template(messages=messages, add_generation_prompt=True)\n",
    "input_tokens = tokenizer.encode(user_prompt)\n",
    "generator.append_tokens(input_tokens)"
   ]
  },
  {
   "cell_type": "code",
   "execution_count": 28,
   "id": "f85f5caa",
   "metadata": {},
   "outputs": [
    {
     "data": {
      "text/plain": [
       "'<|user|>book flight ticket from Beijing to Paris(using airport code) in 2025-12-04 to 2025-12-10 , then book hotel from 2025-12-04 to 2025-12-10 in Paris<|end|><|assistant|>'"
      ]
     },
     "execution_count": 28,
     "metadata": {},
     "output_type": "execute_result"
    }
   ],
   "source": [
    "user_prompt"
   ]
  },
  {
   "cell_type": "markdown",
   "id": "833c90f9",
   "metadata": {},
   "source": []
  },
  {
   "cell_type": "markdown",
   "id": "65331735",
   "metadata": {},
   "source": [
    "### ਫੰਕਸ਼ਨ ਕਾਲ ਬਣਾਉਣਾ\n",
    "\n",
    "ਮਾਡਲ ਹੁਣ ਸਾਡੇ ਯੂਜ਼ਰ ਦੀ ਬੇਨਤੀ ਦੇ ਅਧਾਰ 'ਤੇ ਸੰਰਚਿਤ ਫੰਕਸ਼ਨ ਕਾਲ ਬਣਾਏਗਾ। ਗਾਈਡ ਕੀਤੀ ਜਨਰੇਸ਼ਨ ਦੀ ਮਦਦ ਨਾਲ, ਆਉਟਪੁੱਟ ਵੈਧ JSON ਫਾਰਮੈਟ ਵਿੱਚ ਹੋਵੇਗਾ ਜੋ ਸਿੱਧੇ ਚਲਾਇਆ ਜਾ ਸਕਦਾ ਹੈ।\n",
    "\n",
    "**ਉਮੀਦਵਾਰ ਆਉਟਪੁੱਟ**: ਮਾਡਲ ਨੂੰ ਫੰਕਸ਼ਨ ਕਾਲ ਬਣਾਉਣੇ ਚਾਹੀਦੇ ਹਨ:\n",
    "1. `booking_flight_tickets` ਬੀਜਿੰਗ (PEK) ਤੋਂ ਪੈਰਿਸ (CDG) ਦੇ ਵੇਰਵੇ ਨਾਲ\n",
    "2. `booking_hotels` ਪੈਰਿਸ ਵਿੱਚ ਰਹਿਣ ਦੇ ਵੇਰਵੇ ਨਾਲ\n",
    "\n",
    "ਹੇਠਾਂ ਦਿੱਤੇ ਸੈੱਲ ਨੂੰ ਚਲਾਓ ਤਾਂ ਜੋ ਲਾਈਵ ਜਨਰੇਸ਼ਨ ਦੇਖ ਸਕੋ:\n"
   ]
  },
  {
   "cell_type": "code",
   "execution_count": 29,
   "id": "64a703a1",
   "metadata": {},
   "outputs": [
    {
     "name": "stdout",
     "output_type": "stream",
     "text": [
      "[{\"name\": \"booking_flight_tickets\", \"arguments\": {\"origin_airport_code\": \"PEKK\", \"destination_airport_code\": \"CDG\", \"departure_date\": \"2025-12-04\", \"return_date\": \"2025-12-10\"}}, {\"name\": \"booking_hotels\", \"arguments\": {\"destination\": \"Paris\", \"check_in_date\": \"2025-12-04\", \"checkout_date\": \"2025-12-10\"}}]"
     ]
    }
   ],
   "source": [
    "# Generate tokens one by one and stream the output\n",
    "while not generator.is_done():\n",
    "    generator.generate_next_token()\n",
    "    new_token = generator.get_next_tokens()[0]\n",
    "    print(tokenizer_stream.decode(new_token), end='', flush=True)"
   ]
  },
  {
   "cell_type": "markdown",
   "id": "e4db4123",
   "metadata": {},
   "source": [
    "## ਨਤੀਜਾ\n",
    "\n",
    "🎉 **ਵਧਾਈ ਹੋਵੇ!** ਤੁਸੀਂ ONNX Runtime GenAI ਦੀ ਵਰਤੋਂ ਕਰਕੇ Phi-4 Mini ਨਾਲ ਸਮਾਂਤਰ ਫੰਕਸ਼ਨ ਕਾਲਿੰਗ ਨੂੰ ਸਫਲਤਾਪੂਰਵਕ ਲਾਗੂ ਕਰ ਲਿਆ ਹੈ।\n",
    "\n",
    "### ਤੁਸੀਂ ਕੀ ਸਿੱਖਿਆ:\n",
    "\n",
    "1. **ਮਾਡਲ ਸੈਟਅਪ**: ONNX Runtime GenAI ਨਾਲ Phi-4 Mini ਨੂੰ ਕਿਵੇਂ ਕਨਫਿਗਰ ਕਰਨਾ ਹੈ\n",
    "2. **ਫੰਕਸ਼ਨ ਪਰਿਭਾਸ਼ਾ**: AI ਫੰਕਸ਼ਨ ਕਾਲਿੰਗ ਲਈ ਫੰਕਸ਼ਨ ਸਕੀਮਾ ਕਿਵੇਂ ਪਰਿਭਾਸ਼ਿਤ ਕਰਨੇ ਹਨ\n",
    "3. **ਗਾਈਡ ਜਨਰੇਸ਼ਨ**: ਸਟ੍ਰਕਚਰਡ ਆਉਟਪੁੱਟ ਜਨਰੇਸ਼ਨ ਲਈ Lark ਗ੍ਰਾਮਰ ਦੀ ਵਰਤੋਂ ਕਿਵੇਂ ਕਰਨੀ ਹੈ\n",
    "4. **ਸਮਾਂਤਰ ਫੰਕਸ਼ਨ ਕਾਲਸ**: ਕਈ ਫੰਕਸ਼ਨ ਕਾਲਸ ਦੀ ਲੋੜ ਵਾਲੇ ਜਟਿਲ ਬੇਨਤੀਆਂ ਨੂੰ ਕਿਵੇਂ ਸੰਭਾਲਣਾ ਹੈ\n",
    "\n",
    "### ਮੁੱਖ ਫਾਇਦੇ:\n",
    "\n",
    "- ✅ **ਸਟ੍ਰਕਚਰਡ ਆਉਟਪੁੱਟ**: ਗਾਈਡ ਜਨਰੇਸ਼ਨ ਯਕੀਨੀ ਬਣਾਉਂਦਾ ਹੈ ਕਿ JSON ਫੰਕਸ਼ਨ ਕਾਲਸ ਵੈਧ ਹਨ\n",
    "- ✅ **ਸਮਾਂਤਰ ਪ੍ਰੋਸੈਸਿੰਗ**: ਇੱਕੋ ਬੇਨਤੀ ਵਿੱਚ ਕਈ ਫੰਕਸ਼ਨ ਕਾਲਸ ਨੂੰ ਸੰਭਾਲੋ\n",
    "- ✅ **ਉੱਚ ਪ੍ਰਦਰਸ਼ਨ**: ONNX Runtime ਅਨੁਕੂਲ ਇੰਫਰੈਂਸ ਪ੍ਰਦਾਨ ਕਰਦਾ ਹੈ\n",
    "- ✅ **ਲਚਕਦਾਰ ਸਕੀਮਾ**: ਫੰਕਸ਼ਨ ਪਰਿਭਾਸ਼ਾਵਾਂ ਨੂੰ ਆਸਾਨੀ ਨਾਲ ਸ਼ਾਮਲ ਜਾਂ ਸੋਧਿਆ ਜਾ ਸਕਦਾ ਹੈ\n",
    "\n",
    "### ਸਰੋਤ:\n",
    "\n",
    "- [Phi-4 Mini ਦਸਤਾਵੇਜ਼](https://huggingface.co/microsoft/Phi-4-mini-onnx)\n",
    "- [ONNX Runtime GenAI ਦਸਤਾਵੇਜ਼](https://onnxruntime.ai/docs/genai/)\n",
    "- [ਫੰਕਸ਼ਨ ਕਾਲਿੰਗ ਬਿਹਤਰ ਅਭਿਆਸ](https://platform.openai.com/docs/guides/function-calling)\n"
   ]
  },
  {
   "cell_type": "markdown",
   "metadata": {},
   "source": [
    "\n---\n\n**ਅਸਵੀਕਰਤੀ**:  \nਇਹ ਦਸਤਾਵੇਜ਼ AI ਅਨੁਵਾਦ ਸੇਵਾ [Co-op Translator](https://github.com/Azure/co-op-translator) ਦੀ ਵਰਤੋਂ ਕਰਕੇ ਅਨੁਵਾਦ ਕੀਤਾ ਗਿਆ ਹੈ। ਜਦੋਂ ਕਿ ਅਸੀਂ ਸਹੀ ਹੋਣ ਦੀ ਕੋਸ਼ਿਸ਼ ਕਰਦੇ ਹਾਂ, ਕਿਰਪਾ ਕਰਕੇ ਧਿਆਨ ਦਿਓ ਕਿ ਸਵੈਚਾਲਿਤ ਅਨੁਵਾਦਾਂ ਵਿੱਚ ਗਲਤੀਆਂ ਜਾਂ ਅਸੁਚੱਜੇਪਣ ਹੋ ਸਕਦੇ ਹਨ। ਮੂਲ ਦਸਤਾਵੇਜ਼, ਜੋ ਇਸਦੀ ਮੂਲ ਭਾਸ਼ਾ ਵਿੱਚ ਹੈ, ਨੂੰ ਅਧਿਕਾਰਤ ਸਰੋਤ ਮੰਨਿਆ ਜਾਣਾ ਚਾਹੀਦਾ ਹੈ। ਮਹੱਤਵਪੂਰਨ ਜਾਣਕਾਰੀ ਲਈ, ਪੇਸ਼ੇਵਰ ਮਨੁੱਖੀ ਅਨੁਵਾਦ ਦੀ ਸਿਫਾਰਸ਼ ਕੀਤੀ ਜਾਂਦੀ ਹੈ। ਇਸ ਅਨੁਵਾਦ ਦੀ ਵਰਤੋਂ ਤੋਂ ਪੈਦਾ ਹੋਣ ਵਾਲੇ ਕਿਸੇ ਵੀ ਗਲਤਫਹਿਮੀ ਜਾਂ ਗਲਤ ਵਿਆਖਿਆ ਲਈ ਅਸੀਂ ਜ਼ਿੰਮੇਵਾਰ ਨਹੀਂ ਹਾਂ।\n"
   ]
  }
 ],
 "metadata": {
  "kernelspec": {
   "display_name": "pydev",
   "language": "python",
   "name": "python3"
  },
  "language_info": {
   "codemirror_mode": {
    "name": "ipython",
    "version": 3
   },
   "file_extension": ".py",
   "mimetype": "text/x-python",
   "name": "python",
   "nbconvert_exporter": "python",
   "pygments_lexer": "ipython3",
   "version": "3.11.8"
  },
  "coopTranslator": {
   "original_hash": "8b61c907614fd2780d526c45c388d285",
   "translation_date": "2025-09-12T18:59:17+00:00",
   "source_file": "md/02.Application/07.FunctionCalling/Phi4/ONNX/onnx_parallel_functioncalling.ipynb",
   "language_code": "pa"
  }
 },
 "nbformat": 4,
 "nbformat_minor": 5
}