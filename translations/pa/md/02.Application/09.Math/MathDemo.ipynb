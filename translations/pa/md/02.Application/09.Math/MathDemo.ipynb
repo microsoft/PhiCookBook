{
 "cells": [
  {
   "cell_type": "markdown",
   "id": "64e7ac41",
   "metadata": {},
   "source": [
    "## ਲੋੜੀਂਦੇ ਲਾਇਬ੍ਰੇਰੀਆਂ ਇਮਪੋਰਟ ਕਰੋ  \n",
    "ਫਾਈ-4 ਮਾਡਲ ਨੂੰ ਲੋਡ ਅਤੇ ਵਰਤਣ ਲਈ ਲੋੜੀਂਦੇ PyTorch ਅਤੇ transformers ਲਾਇਬ੍ਰੇਰੀਆਂ ਨੂੰ ਇਮਪੋਰਟ ਕਰੋ।  \n"
   ]
  },
  {
   "cell_type": "code",
   "execution_count": null,
   "id": "6381136a",
   "metadata": {},
   "outputs": [],
   "source": [
    "import torch\n",
    "from transformers import AutoModelForCausalLM, AutoTokenizer, pipeline"
   ]
  },
  {
   "cell_type": "markdown",
   "id": "ed6caaf7",
   "metadata": {},
   "source": [
    "## ਰੈਂਡਮ ਸੀਡ ਸੈਟ ਕਰੋ  \n",
    "ਵੱਖ-ਵੱਖ ਰਨਜ਼ ਵਿੱਚ ਦੁਹਰਾਏ ਜਾ ਸਕਣ ਵਾਲੇ ਨਤੀਜੇ ਯਕੀਨੀ ਬਣਾਉਣ ਲਈ ਰੈਂਡਮ ਸੀਡ ਸੈਟ ਕਰੋ।\n"
   ]
  },
  {
   "cell_type": "code",
   "execution_count": null,
   "id": "a0f9d6f3",
   "metadata": {},
   "outputs": [],
   "source": [
    "torch.random.manual_seed(0)"
   ]
  },
  {
   "cell_type": "markdown",
   "id": "3c3ce6d9",
   "metadata": {},
   "source": [
    "## ਫਾਈ-4-ਮਿਨੀ-ਫਲੈਸ਼-ਰੀਜ਼ਨਿੰਗ ਮਾਡਲ ਅਤੇ ਟੋਕਨਾਈਜ਼ਰ ਲੋਡ ਕਰੋ  \n",
    "ਮਾਈਕਰੋਸਾਫਟ ਫਾਈ-4-ਮਿਨੀ-ਫਲੈਸ਼-ਰੀਜ਼ਨਿੰਗ ਮਾਡਲ ਅਤੇ ਇਸ ਨਾਲ ਸੰਬੰਧਿਤ ਟੋਕਨਾਈਜ਼ਰ ਨੂੰ ਹੱਗਿੰਗ ਫੇਸ ਤੋਂ ਲੋਡ ਕਰੋ। ਮਾਡਲ ਨੂੰ ਤੇਜ਼ ਨਤੀਜਿਆਂ ਲਈ CUDA 'ਤੇ ਲੋਡ ਕੀਤਾ ਜਾਵੇਗਾ।  \n"
   ]
  },
  {
   "cell_type": "code",
   "execution_count": null,
   "id": "d981b896",
   "metadata": {},
   "outputs": [],
   "source": [
    "model_id = \"microsoft/Phi-4-mini-flash-reasoning\"\n",
    "model = AutoModelForCausalLM.from_pretrained(\n",
    "   model_id,\n",
    "   device_map=\"cuda\",\n",
    "   torch_dtype=\"auto\",\n",
    "   trust_remote_code=True,\n",
    ")\n",
    "tokenizer = AutoTokenizer.from_pretrained(model_id)"
   ]
  },
  {
   "cell_type": "markdown",
   "id": "c8789ea8",
   "metadata": {},
   "source": [
    "## ਇਨਪੁਟ ਸੁਨੇਹਾ ਤਿਆਰ ਕਰੋ  \n",
    "ਮਾਡਲ ਲਈ ਚੈਟ ਟੈਂਪਲੇਟ ਦੀ ਵਰਤੋਂ ਕਰਕੇ ਗੁਣਾਤਮਕ ਸਮੀਕਰਨ ਗਣਿਤ ਸਮੱਸਿਆ ਵਾਲਾ ਗੱਲਬਾਤ ਸੁਨੇਹਾ ਬਣਾਓ।\n"
   ]
  },
  {
   "cell_type": "code",
   "execution_count": null,
   "id": "ad1841fc",
   "metadata": {},
   "outputs": [],
   "source": [
    "messages = [{\n",
    "   \"role\": \"user\",\n",
    "   \"content\": \"How to solve 3*x^2+4*x+5=1?\"\n",
    "}]   \n",
    "inputs = tokenizer.apply_chat_template(\n",
    "   messages,\n",
    "   add_generation_prompt=True,\n",
    "   return_dict=True,\n",
    "   return_tensors=\"pt\",\n",
    ")"
   ]
  },
  {
   "cell_type": "markdown",
   "id": "51b87bf8",
   "metadata": {},
   "source": [
    "## ਜਵਾਬ ਤਿਆਰ ਕਰੋ\n",
    "ਦਿੱਤੇ ਗਏ ਪੈਰਾਮੀਟਰਾਂ ਜਿਵੇਂ ਕਿ temperature ਅਤੇ top_p ਦੀ ਵਰਤੋਂ ਕਰਕੇ ਮਾਡਲ ਤੋਂ ਨਤੀਜਾ ਪ੍ਰਾਪਤ ਕਰੋ, ਤਾਂ ਜੋ ਨਤੀਜੇ ਵਿੱਚ ਨਿਯੰਤਰਿਤ randomness ਹੋਵੇ।\n"
   ]
  },
  {
   "cell_type": "code",
   "execution_count": null,
   "id": "728f2de1",
   "metadata": {},
   "outputs": [],
   "source": [
    "outputs = model.generate(\n",
    "   **inputs.to(model.device),\n",
    "   max_new_tokens=32768,\n",
    "   temperature=0.6,\n",
    "   top_p=0.95,\n",
    "   do_sample=True,\n",
    ")"
   ]
  },
  {
   "cell_type": "markdown",
   "id": "b5088f0d",
   "metadata": {},
   "source": [
    "## ਆਉਟਪੁੱਟ ਨੂੰ ਟੈਕਸਟ ਵਿੱਚ ਡਿਕੋਡ ਕਰੋ\n",
    "ਜਨਰੇਟ ਕੀਤੇ ਟੋਕਨ ਸੀਕਵੰਸ ਨੂੰ ਵਾਪਸ ਮਨੁੱਖ-ਪੜ੍ਹਨਯੋਗ ਟੈਕਸਟ ਵਿੱਚ ਬਦਲੋ, ਮੂਲ ਇਨਪੁਟ ਟੋਕਨ ਨੂੰ ਛੱਡ ਕੇ ਸਿਰਫ ਮਾਡਲ ਦੀ ਪ੍ਰਤੀਕ੍ਰਿਆ ਦਿਖਾਓ।\n"
   ]
  },
  {
   "cell_type": "code",
   "execution_count": null,
   "id": "0b1f67c5",
   "metadata": {},
   "outputs": [],
   "source": [
    "outputs = tokenizer.batch_decode(outputs[:, inputs[\"input_ids\"].shape[-1]:])"
   ]
  },
  {
   "cell_type": "markdown",
   "metadata": {},
   "source": [
    "\n---\n\n**ਅਸਵੀਕਰਤੀ**:  \nਇਹ ਦਸਤਾਵੇਜ਼ AI ਅਨੁਵਾਦ ਸੇਵਾ [Co-op Translator](https://github.com/Azure/co-op-translator) ਦੀ ਵਰਤੋਂ ਕਰਕੇ ਅਨੁਵਾਦ ਕੀਤਾ ਗਿਆ ਹੈ। ਹਾਲਾਂਕਿ ਅਸੀਂ ਸਹੀ ਹੋਣ ਦੀ ਕੋਸ਼ਿਸ਼ ਕਰਦੇ ਹਾਂ, ਕਿਰਪਾ ਕਰਕੇ ਧਿਆਨ ਦਿਓ ਕਿ ਸਵੈਚਾਲਿਤ ਅਨੁਵਾਦਾਂ ਵਿੱਚ ਗਲਤੀਆਂ ਜਾਂ ਅਸੁੱਤੀਆਂ ਹੋ ਸਕਦੀਆਂ ਹਨ। ਮੂਲ ਦਸਤਾਵੇਜ਼, ਜੋ ਇਸਦੀ ਮੂਲ ਭਾਸ਼ਾ ਵਿੱਚ ਹੈ, ਨੂੰ ਅਧਿਕਾਰਤ ਸਰੋਤ ਮੰਨਿਆ ਜਾਣਾ ਚਾਹੀਦਾ ਹੈ। ਮਹੱਤਵਪੂਰਨ ਜਾਣਕਾਰੀ ਲਈ, ਪੇਸ਼ੇਵਰ ਮਨੁੱਖੀ ਅਨੁਵਾਦ ਦੀ ਸਿਫਾਰਸ਼ ਕੀਤੀ ਜਾਂਦੀ ਹੈ। ਇਸ ਅਨੁਵਾਦ ਦੀ ਵਰਤੋਂ ਤੋਂ ਪੈਦਾ ਹੋਣ ਵਾਲੇ ਕਿਸੇ ਵੀ ਗਲਤਫਹਿਮੀ ਜਾਂ ਗਲਤ ਵਿਆਖਿਆ ਲਈ ਅਸੀਂ ਜ਼ਿੰਮੇਵਾਰ ਨਹੀਂ ਹਾਂ।\n"
   ]
  }
 ],
 "metadata": {
  "kernelspec": {
   "display_name": "pydev",
   "language": "python",
   "name": "python3"
  },
  "language_info": {
   "name": "python",
   "version": "3.11.8"
  },
  "coopTranslator": {
   "original_hash": "93d4d22a7a9ec7e7e668474526477813",
   "translation_date": "2025-09-12T18:50:34+00:00",
   "source_file": "md/02.Application/09.Math/MathDemo.ipynb",
   "language_code": "pa"
  }
 },
 "nbformat": 4,
 "nbformat_minor": 5
}