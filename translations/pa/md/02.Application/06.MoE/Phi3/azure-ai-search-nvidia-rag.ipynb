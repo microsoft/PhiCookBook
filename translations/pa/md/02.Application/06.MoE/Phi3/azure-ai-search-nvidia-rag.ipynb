{
 "cells": [
  {
   "cell_type": "markdown",
   "metadata": {},
   "source": [
    "# Azure AI Search ਨਾਲ NVIDIA NIM ਅਤੇ LlamaIndex ਇੰਟੀਗ੍ਰੇਸ਼ਨ\n",
    "\n",
    "ਇਸ ਨੋਟਬੁੱਕ ਵਿੱਚ, ਅਸੀਂ ਦਿਖਾਵਾਂਗੇ ਕਿ NVIDIA ਦੇ AI ਮਾਡਲ ਅਤੇ LlamaIndex ਦੀ ਵਰਤੋਂ ਕਰਕੇ ਇੱਕ ਸ਼ਕਤੀਸ਼ਾਲੀ Retrieval-Augmented Generation (RAG) ਪਾਈਪਲਾਈਨ ਕਿਵੇਂ ਬਣਾਈ ਜਾ ਸਕਦੀ ਹੈ। ਅਸੀਂ NVIDIA ਦੇ LLMs ਅਤੇ embeddings ਦੀ ਵਰਤੋਂ ਕਰਾਂਗੇ, ਉਨ੍ਹਾਂ ਨੂੰ Azure AI Search ਨਾਲ ਵੈਕਟਰ ਸਟੋਰ ਵਜੋਂ ਇੰਟੀਗ੍ਰੇਟ ਕਰਾਂਗੇ, ਅਤੇ RAG ਕਰਕੇ ਖੋਜ ਦੀ ਗੁਣਵੱਤਾ ਅਤੇ ਕੁਸ਼ਲਤਾ ਨੂੰ ਵਧਾਵਾਂਗੇ।\n",
    "\n",
    "## ਫਾਇਦੇ\n",
    "- **ਸਕੇਲਬਿਲਟੀ**: NVIDIA ਦੇ ਵੱਡੇ ਭਾਸ਼ਾ ਮਾਡਲ ਅਤੇ Azure AI Search ਦੀ ਵਰਤੋਂ ਕਰਕੇ ਸਕੇਲਬਲ ਅਤੇ ਕੁਸ਼ਲ ਰੀਟਰੀਵਲ ਪ੍ਰਾਪਤ ਕਰੋ।\n",
    "- **ਲਾਗਤ ਕੁਸ਼ਲਤਾ**: ਕੁਸ਼ਲ ਵੈਕਟਰ ਸਟੋਰੇਜ ਅਤੇ ਹਾਈਬ੍ਰਿਡ ਖੋਜ ਤਕਨੀਕਾਂ ਨਾਲ ਖੋਜ ਅਤੇ ਰੀਟਰੀਵਲ ਨੂੰ ਅਨੁਕੂਲ ਬਣਾਓ।\n",
    "- **ਉੱਚ ਪ੍ਰਦਰਸ਼ਨ**: ਸ਼ਕਤੀਸ਼ਾਲੀ LLMs ਨੂੰ ਵੈਕਟਰਾਈਜ਼ਡ ਖੋਜ ਨਾਲ ਜੋੜੋ ਤੇ ਤੇਜ਼ ਅਤੇ ਸਹੀ ਜਵਾਬ ਪ੍ਰਾਪਤ ਕਰੋ।\n",
    "- **ਗੁਣਵੱਤਾ**: LLM ਜਵਾਬਾਂ ਨੂੰ ਸਬੰਧਤ ਰੀਟਰੀਵਡ ਦਸਤਾਵੇਜ਼ਾਂ ਨਾਲ ਜੁੜ ਕੇ ਉੱਚ ਖੋਜ ਗੁਣਵੱਤਾ ਬਣਾਈ ਰੱਖੋ।\n",
    "\n",
    "## ਪੂਰਵ ਸ਼ਰਤਾਂ\n",
    "- 🐍 Python 3.9 ਜਾਂ ਇਸ ਤੋਂ ਉੱਚਾ\n",
    "- 🔗 [Azure AI Search Service](https://learn.microsoft.com/azure/search/)\n",
    "- 🔗 NVIDIA API Key NVIDIA ਦੇ LLMs ਅਤੇ Embeddings ਨੂੰ NVIDIA NIM ਮਾਈਕ੍ਰੋਸਰਵਿਸਜ਼ ਰਾਹੀਂ ਐਕਸੈਸ ਕਰਨ ਲਈ\n",
    "\n",
    "## ਕਵਰ ਕੀਤੀਆਂ ਵਿਸ਼ੇਸ਼ਤਾਵਾਂ\n",
    "- ✅ NVIDIA LLM ਇੰਟੀਗ੍ਰੇਸ਼ਨ (ਅਸੀਂ [Phi-3.5-MOE](https://build.nvidia.com/microsoft/phi-3_5-moe) ਦੀ ਵਰਤੋਂ ਕਰਾਂਗੇ)\n",
    "- ✅ NVIDIA Embeddings (ਅਸੀਂ [nv-embedqa-e5-v5](https://build.nvidia.com/nvidia/nv-embedqa-e5-v5) ਦੀ ਵਰਤੋਂ ਕਰਾਂਗੇ)\n",
    "- ✅ Azure AI Search ਉੱਨਤ ਰੀਟਰੀਵਲ ਮੋਡ\n",
    "- ✅ LlamaIndex ਨਾਲ ਦਸਤਾਵੇਜ਼ ਇੰਡੈਕਸਿੰਗ\n",
    "- ✅ Azure AI Search ਅਤੇ LlamaIndex ਨਾਲ NVIDIA LLMs ਦੀ ਵਰਤੋਂ ਕਰਕੇ RAG\n",
    "\n",
    "ਚਲੋ ਸ਼ੁਰੂ ਕਰੀਏ!\n"
   ]
  },
  {
   "cell_type": "code",
   "execution_count": null,
   "metadata": {},
   "outputs": [],
   "source": [
    "!pip install azure-search-documents==11.5.1\n",
    "!pip install --upgrade llama-index\n",
    "!pip install --upgrade llama-index-core\n",
    "!pip install --upgrade llama-index-readers-file\n",
    "!pip install --upgrade llama-index-llms-nvidia\n",
    "!pip install --upgrade llama-index-embeddings-nvidia\n",
    "!pip install --upgrade llama-index-postprocessor-nvidia-rerank\n",
    "!pip install --upgrade llama-index-vector-stores-azureaisearch\n",
    "!pip install python-dotenv"
   ]
  },
  {
   "cell_type": "markdown",
   "metadata": {},
   "source": [
    "## ਇੰਸਟਾਲੇਸ਼ਨ ਅਤੇ ਲੋੜਾਂ  \n",
    "Python ਵਰਜਨ >3.10 ਦੀ ਵਰਤੋਂ ਕਰਕੇ ਇੱਕ Python ਮਾਹੌਲ ਬਣਾਓ।  \n",
    "\n",
    "## ਸ਼ੁਰੂਆਤ ਕਰੋ!  \n"
   ]
  },
  {
   "cell_type": "markdown",
   "metadata": {},
   "source": [
    "ਨਵੀਂ NVIDIA AI ਫਾਊਂਡੇਸ਼ਨ ਮਾਡਲਾਂ ਦੀ ਵਰਤੋਂ ਕਰਨ ਲਈ ਤੁਹਾਨੂੰ `NVIDIA_API_KEY` ਦੀ ਲੋੜ ਹੈ:  \n",
    "1) [NVIDIA](https://build.nvidia.com/explore/discover) ਨਾਲ ਮੁਫ਼ਤ ਖਾਤਾ ਬਣਾਓ।  \n",
    "2) ਆਪਣੀ ਪਸੰਦ ਦੇ ਮਾਡਲ 'ਤੇ ਕਲਿੱਕ ਕਰੋ।  \n",
    "3) Input ਹੇਠਾਂ, Python ਟੈਬ ਚੁਣੋ, **Get API Key** 'ਤੇ ਕਲਿੱਕ ਕਰੋ ਅਤੇ ਫਿਰ **Generate Key** 'ਤੇ ਕਲਿੱਕ ਕਰੋ।  \n",
    "4) ਜਨਰੇਟ ਕੀ ਨੂੰ ਕਾਪੀ ਕਰੋ ਅਤੇ NVIDIA_API_KEY ਵਜੋਂ ਸੇਵ ਕਰੋ। ਇਸ ਤੋਂ ਬਾਅਦ, ਤੁਹਾਨੂੰ ਐਂਡਪੌਇੰਟਸ ਤੱਕ ਪਹੁੰਚ ਮਿਲ ਜਾਵੇਗੀ।  \n"
   ]
  },
  {
   "cell_type": "code",
   "execution_count": 3,
   "metadata": {},
   "outputs": [],
   "source": [
    "import getpass\n",
    "import os\n",
    "from dotenv import load_dotenv\n",
    "\n",
    "# Load environment variables\n",
    "load_dotenv()\n",
    "\n",
    "if not os.environ.get(\"NVIDIA_API_KEY\", \"\").startswith(\"nvapi-\"):\n",
    "    nvidia_api_key = getpass.getpass(\"Enter your NVIDIA API key: \")\n",
    "    assert nvidia_api_key.startswith(\"nvapi-\"), f\"{nvidia_api_key[:5]}... is not a valid key\"\n",
    "    os.environ[\"NVIDIA_API_KEY\"] = nvidia_api_key\n"
   ]
  },
  {
   "cell_type": "markdown",
   "metadata": {},
   "source": [
    "## RAG ਉਦਾਹਰਨ LLM ਅਤੇ ਐਮਬੈਡਿੰਗ ਦੀ ਵਰਤੋਂ ਕਰਕੇ  \n",
    "### 1) LLM ਸ਼ੁਰੂ ਕਰੋ  \n",
    "`llama-index-llms-nvidia`, ਜਿਸ ਨੂੰ NVIDIA ਦਾ LLM ਕਨੈਕਟਰ ਵੀ ਕਿਹਾ ਜਾਂਦਾ ਹੈ, ਤੁਹਾਨੂੰ NVIDIA API ਕੈਟਾਲਾਗ ਵਿੱਚ ਉਪਲਬਧ ਮਾਡਲਾਂ ਨਾਲ ਜੁੜਨ ਅਤੇ ਉਨ੍ਹਾਂ ਤੋਂ ਜਨਰੇਟ ਕਰਨ ਦੀ ਸਹੂਲਤ ਦਿੰਦਾ ਹੈ। ਚੈਟ ਕੰਪਲੀਸ਼ਨ ਮਾਡਲਾਂ ਦੀ ਸੂਚੀ ਲਈ ਇੱਥੇ ਦੇਖੋ: https://build.nvidia.com/search?term=Text-to-Text  \n",
    "\n",
    "ਇੱਥੇ ਅਸੀਂ **mixtral-8x7b-instruct-v0.1** ਦੀ ਵਰਤੋਂ ਕਰਾਂਗੇ  \n"
   ]
  },
  {
   "cell_type": "code",
   "execution_count": 75,
   "metadata": {},
   "outputs": [],
   "source": [
    "from llama_index.core import Settings\n",
    "from llama_index.llms.nvidia import NVIDIA\n",
    "\n",
    "# Here we are using mixtral-8x7b-instruct-v0.1 model from API Catalog\n",
    "Settings.llm = NVIDIA(model=\"microsoft/phi-3.5-moe-instruct\", api_key=os.getenv(\"NVIDIA_API_KEY\"))"
   ]
  },
  {
   "cell_type": "markdown",
   "metadata": {},
   "source": [
    "### 2) ਐਮਬੈਡਿੰਗ ਸ਼ੁਰੂ ਕਰੋ  \n",
    "`llama-index-embeddings-nvidia`, ਜਿਸ ਨੂੰ NVIDIA ਦੇ ਐਮਬੈਡਿੰਗ ਕਨੈਕਟਰ ਦੇ ਨਾਮ ਨਾਲ ਵੀ ਜਾਣਿਆ ਜਾਂਦਾ ਹੈ, ਤੁਹਾਨੂੰ NVIDIA API ਕੈਟਾਲਾਗ ਵਿੱਚ ਉਪਲਬਧ ਮਾਡਲਾਂ ਨਾਲ ਜੁੜਨ ਅਤੇ ਉਨ੍ਹਾਂ ਤੋਂ ਜਨਰੇਟ ਕਰਨ ਦੀ ਸਹੂਲਤ ਦਿੰਦਾ ਹੈ। ਅਸੀਂ `nvidia/nv-embedqa-e5-v5` ਨੂੰ ਐਮਬੈਡਿੰਗ ਮਾਡਲ ਵਜੋਂ ਚੁਣਿਆ। ਟੈਕਸਟ ਐਮਬੈਡਿੰਗ ਮਾਡਲਾਂ ਦੀ ਸੂਚੀ ਦੇਖਣ ਲਈ ਇੱਥੇ ਜਾਓ: https://build.nvidia.com/nim?filters=usecase%3Ausecase_text_to_embedding%2Cusecase%3Ausecase_image_to_embedding\n"
   ]
  },
  {
   "cell_type": "code",
   "execution_count": 6,
   "metadata": {},
   "outputs": [],
   "source": [
    "from llama_index.embeddings.nvidia import NVIDIAEmbedding\n",
    "\n",
    "Settings.embed_model = NVIDIAEmbedding(model=\"nvidia/nv-embedqa-e5-v5\", api_key=os.getenv(\"NVIDIA_API_KEY\"))"
   ]
  },
  {
   "cell_type": "markdown",
   "metadata": {},
   "source": [
    "### 3) ਐਜ਼ਰ AI ਸਰਚ ਵੇਕਟਰ ਸਟੋਰ ਬਣਾਓ\n"
   ]
  },
  {
   "cell_type": "code",
   "execution_count": 76,
   "metadata": {},
   "outputs": [],
   "source": [
    "import logging\n",
    "import sys\n",
    "import os\n",
    "import getpass\n",
    "from azure.core.credentials import AzureKeyCredential\n",
    "from azure.search.documents import SearchClient\n",
    "from azure.search.documents.indexes import SearchIndexClient\n",
    "from IPython.display import Markdown, display\n",
    "from llama_index.vector_stores.azureaisearch import AzureAISearchVectorStore, IndexManagement\n",
    "\n",
    "\n",
    "search_service_api_key = os.getenv('AZURE_SEARCH_ADMIN_KEY') or getpass.getpass('Enter your Azure Search API key: ')\n",
    "search_service_endpoint = os.getenv('AZURE_SEARCH_SERVICE_ENDPOINT') or getpass.getpass('Enter your Azure Search service endpoint: ')\n",
    "search_service_api_version = \"2024-07-01\"\n",
    "credential = AzureKeyCredential(search_service_api_key)\n",
    "\n",
    "# Index name to use\n",
    "index_name = \"llamaindex-nvidia-azureaisearch-demo\"\n",
    "\n",
    "# Use index client to demonstrate creating an index\n",
    "index_client = SearchIndexClient(\n",
    "    endpoint=search_service_endpoint,\n",
    "    credential=credential,\n",
    ")\n",
    "\n",
    "# Use search client to demonstrate using existing index\n",
    "search_client = SearchClient(\n",
    "    endpoint=search_service_endpoint,\n",
    "    index_name=index_name,\n",
    "    credential=credential,\n",
    ")"
   ]
  },
  {
   "cell_type": "code",
   "execution_count": null,
   "metadata": {},
   "outputs": [],
   "source": [
    "vector_store = AzureAISearchVectorStore(\n",
    "    search_or_index_client=index_client,\n",
    "    index_name=index_name,\n",
    "    index_management=IndexManagement.CREATE_IF_NOT_EXISTS,\n",
    "    id_field_key=\"id\",\n",
    "    chunk_field_key=\"chunk\",\n",
    "    embedding_field_key=\"embedding\",\n",
    "    embedding_dimensionality=1024, # dimensionality for nv-embedqa-e5-v5 model\n",
    "    metadata_string_field_key=\"metadata\",\n",
    "    doc_id_field_key=\"doc_id\",\n",
    "    language_analyzer=\"en.lucene\",\n",
    "    vector_algorithm_type=\"exhaustiveKnn\",\n",
    "    # compression_type=\"binary\" # Option to use \"scalar\" or \"binary\". NOTE: compression is only supported for HNSW\n",
    ")"
   ]
  },
  {
   "cell_type": "markdown",
   "metadata": {},
   "source": []
  },
  {
   "cell_type": "code",
   "execution_count": 20,
   "metadata": {},
   "outputs": [],
   "source": [
    "from llama_index.core import SimpleDirectoryReader, StorageContext, VectorStoreIndex\n",
    "from llama_index.core.text_splitter import TokenTextSplitter\n",
    "\n",
    "# Configure text splitter (nv-embedqa-e5-v5 model has a limit of 512 tokens per input size)\n",
    "text_splitter = TokenTextSplitter(separator=\" \", chunk_size=500, chunk_overlap=10)\n",
    "\n",
    "# Load documents\n",
    "documents = SimpleDirectoryReader(\n",
    "    input_files=[\"data/txt/state_of_the_union.txt\"]\n",
    ").load_data()\n",
    "storage_context = StorageContext.from_defaults(vector_store=vector_store)\n",
    "\n",
    "# Create index with text splitter\n",
    "index = VectorStoreIndex.from_documents(\n",
    "    documents,\n",
    "    transformations=[text_splitter],\n",
    "    storage_context=storage_context,\n",
    ")"
   ]
  },
  {
   "cell_type": "markdown",
   "metadata": {},
   "source": [
    "### 5) ਆਪਣੇ ਡਾਟਾ 'ਤੇ ਸਵਾਲ ਪੁੱਛਣ ਲਈ ਇੱਕ ਕਵੈਰੀ ਇੰਜਨ ਬਣਾਓ\n",
    "\n",
    "ਇੱਥੇ ਇੱਕ ਕਵੈਰੀ ਹੈ ਜੋ Azure AI Search ਵਿੱਚ ਸ਼ੁੱਧ ਵੈਕਟਰ ਖੋਜ ਦੀ ਵਰਤੋਂ ਕਰਦੀ ਹੈ ਅਤੇ ਜਵਾਬ ਨੂੰ ਸਾਡੇ LLM (Phi-3.5-MOE) ਨਾਲ ਜੁੜਦੀ ਹੈ।\n"
   ]
  },
  {
   "cell_type": "code",
   "execution_count": 69,
   "metadata": {},
   "outputs": [
    {
     "data": {
      "text/markdown": [
       " The speaker mentioned the Ukrainian Ambassador to the United States, along with other members of Congress, the Cabinet, and various officials such as the Vice President, the First Lady, and the Second Gentleman, as being present in the chamber."
      ],
      "text/plain": [
       "<IPython.core.display.Markdown object>"
      ]
     },
     "metadata": {},
     "output_type": "display_data"
    }
   ],
   "source": [
    "query_engine = index.as_query_engine()\n",
    "response = query_engine.query(\"Who did the speaker mention as being present in the chamber?\")\n",
    "display(Markdown(f\"{response}\"))"
   ]
  },
  {
   "cell_type": "markdown",
   "metadata": {},
   "source": [
    "ਇੱਥੇ Azure AI Search ਵਿੱਚ ਹਾਈਬ੍ਰਿਡ ਖੋਜ ਦੀ ਵਰਤੋਂ ਕਰਦੇ ਹੋਏ ਇੱਕ ਪੁੱਛਤਾਛ ਹੈ।\n"
   ]
  },
  {
   "cell_type": "code",
   "execution_count": 70,
   "metadata": {},
   "outputs": [
    {
     "data": {
      "text/markdown": [
       " The Russian stock market experienced a significant drop, losing 40% of its value. Additionally, trading had to be suspended due to the ongoing situation."
      ],
      "text/plain": [
       "<IPython.core.display.Markdown object>"
      ]
     },
     "metadata": {},
     "output_type": "display_data"
    },
    {
     "name": "stdout",
     "output_type": "stream",
     "text": [
      "\n",
      "\n",
      "Source Nodes:\n",
      "file_path: data\\txt\\state_of_the_union.txt\n",
      "\n",
      "building a coalition of other freedom-loving nations from Europe and the Americas to Asia and Africa to confront Putin. \n",
      "\n",
      "I spent countless hours unifying our European allies. We shared with the world in advance what we knew Putin was planning and precisely how he would try to falsely justify his aggression.  \n",
      "\n",
      "We countered Russia’s lies with truth.   \n",
      "\n",
      "And now that he has acted the free world is holding him accountable. \n",
      "\n",
      "Along with twenty-seven members of the European Union including France, Germany, Italy, as well as countries like the United Kingdom, Canada, Japan, Korea, Australia, New Zealand, and many others, even Switzerland. \n",
      "\n",
      "We are inflicting pain on Russia and supporting the people of Ukraine. Putin is now isolated from the world more than ever. \n",
      "\n",
      "Together with our allies –we are right now enforcing powerful economic sanctions. \n",
      "\n",
      "We are cutting off Russia’s largest banks from the international financial system.  \n",
      "\n",
      "Preventing Russia’s central bank from defending the Russian Ruble making Putin’s $630 Billion “war fund” worthless.   \n",
      "\n",
      "We are choking off Russia’s access to technology that will sap its economic strength and weaken its military for years to come.  \n",
      "\n",
      "Tonight I say to the Russian oligarchs and corrupt leaders who have bilked billions of dollars off this violent regime no more. \n",
      "\n",
      "The U.S. Department of Justice is assembling a dedicated task force to go after the crimes of Russian oligarchs.  \n",
      "\n",
      "We are joining with our European allies to find and seize your yachts your luxury apartments your private jets. We are coming for your ill-begotten gains. \n",
      "\n",
      "And tonight I am announcing that we will join our allies in closing off American air space to all Russian flights – further isolating Russia – and adding an additional squeeze –on their economy. The Ruble has lost 30% of its value. \n",
      "\n",
      "The Russian stock market has lost 40% of its value and trading remains suspended. Russia’s economy is reeling and Putin alone is to blame. \n",
      "\n",
      "Together with our allies we are providing support to the Ukrainians in their fight for freedom. Military assistance. Economic assistance. Humanitarian assistance. \n",
      "\n",
      "We are giving more than $1 Billion in direct assistance to Ukraine. \n",
      "\n",
      "And we will continue to aid the Ukrainian people as they defend their country and to help ease their suffering.  \n",
      "\n",
      "Let me be clear, our forces are not engaged and will not engage in\n",
      "file_path: data\\txt\\state_of_the_union.txt\n",
      "\n",
      "our forces are not engaged and will not engage in conflict with Russian forces in Ukraine.  \n",
      "\n",
      "Our forces are not going to Europe to fight in Ukraine, but to defend our NATO Allies – in the event that Putin decides to keep moving west.  \n",
      "\n",
      "For that purpose we’ve mobilized American ground forces, air squadrons, and ship deployments to protect NATO countries including Poland, Romania, Latvia, Lithuania, and Estonia. \n",
      "\n",
      "As I have made crystal clear the United States and our Allies will defend every inch of territory of NATO countries with the full force of our collective power.  \n",
      "\n",
      "And we remain clear-eyed. The Ukrainians are fighting back with pure courage. But the next few days weeks, months, will be hard on them.  \n",
      "\n",
      "Putin has unleashed violence and chaos.  But while he may make gains on the battlefield – he will pay a continuing high price over the long run. \n",
      "\n",
      "And a proud Ukrainian people, who have known 30 years  of independence, have repeatedly shown that they will not tolerate anyone who tries to take their country backwards.  \n",
      "\n",
      "To all Americans, I will be honest with you, as I’ve always promised. A Russian dictator, invading a foreign country, has costs around the world. \n",
      "\n",
      "And I’m taking robust action to make sure the pain of our sanctions  is targeted at Russia’s economy. And I will use every tool at our disposal to protect American businesses and consumers. \n",
      "\n",
      "Tonight, I can announce that the United States has worked with 30 other countries to release 60 Million barrels of oil from reserves around the world.  \n",
      "\n",
      "America will lead that effort, releasing 30 Million barrels from our own Strategic Petroleum Reserve. And we stand ready to do more if necessary, unified with our allies.  \n",
      "\n",
      "These steps will help blunt gas prices here at home. And I know the news about what’s happening can seem alarming. \n",
      "\n",
      "But I want you to know that we are going to be okay. \n",
      "\n",
      "When the history of this era is written Putin’s war on Ukraine will have left Russia weaker and the rest of the world stronger. \n",
      "\n",
      "While it shouldn’t have taken something so terrible for people around the world to see what’s at stake now everyone sees it clearly. \n",
      "\n",
      "We see the unity among leaders of nations and a more unified Europe a more unified West. And we see unity among the people who are gathering in cities in large crowds around the world\n"
     ]
    }
   ],
   "source": [
    "from llama_index.core.query_engine import RetrieverQueryEngine\n",
    "from llama_index.core.vector_stores.types import VectorStoreQueryMode\n",
    "from IPython.display import Markdown, display\n",
    "from llama_index.core.schema import MetadataMode\n",
    "\n",
    "# Initialize hybrid retriever and query engine\n",
    "hybrid_retriever = index.as_retriever(vector_store_query_mode=VectorStoreQueryMode.HYBRID)\n",
    "hybrid_query_engine = RetrieverQueryEngine(retriever=hybrid_retriever)\n",
    "\n",
    "# Query execution\n",
    "query = \"What were the exact economic consequences mentioned in relation to Russia's stock market?\"\n",
    "response = hybrid_query_engine.query(query)\n",
    "\n",
    "# Display the response\n",
    "display(Markdown(f\"{response}\"))\n",
    "print(\"\\n\")\n",
    "\n",
    "# Print the source nodes\n",
    "print(\"Source Nodes:\")\n",
    "for node in response.source_nodes:\n",
    "    print(node.get_content(metadata_mode=MetadataMode.LLM))"
   ]
  },
  {
   "cell_type": "markdown",
   "metadata": {},
   "source": [
    "#### ਵੇਕਟਰ ਖੋਜ ਵਿਸ਼ਲੇਸ਼ਣ  \n",
    "LLM ਜਵਾਬ ਰੂਸ ਦੇ ਸਟਾਕ ਮਾਰਕੀਟ ਨਾਲ ਸੰਬੰਧਿਤ ਮੁੱਖ ਆਰਥਿਕ ਪ੍ਰਭਾਵਾਂ ਨੂੰ ਸਹੀ ਤਰੀਕੇ ਨਾਲ ਪਕੜਦਾ ਹੈ, ਜਿਵੇਂ ਕਿ ਸੋਰਸ ਟੈਕਸਟ ਵਿੱਚ ਦਿੱਤਾ ਗਿਆ ਹੈ। ਖਾਸ ਤੌਰ 'ਤੇ, ਇਹ ਦੱਸਦਾ ਹੈ ਕਿ ਰੂਸ ਦੀ ਸਟਾਕ ਮਾਰਕੀਟ ਵਿੱਚ ਮਹੱਤਵਪੂਰਨ ਗਿਰਾਵਟ ਆਈ, ਜਿਸ ਨਾਲ ਇਸਦੀ ਕੀਮਤ 40% ਘਟ ਗਈ, ਅਤੇ ਚਾਲੂ ਸਥਿਤੀ ਦੇ ਕਾਰਨ ਵਪਾਰ ਨੂੰ ਰੋਕ ਦਿੱਤਾ ਗਿਆ। ਇਹ ਜਵਾਬ ਸੋਰਸ ਵਿੱਚ ਦਿੱਤੀ ਜਾਣਕਾਰੀ ਨਾਲ ਚੰਗੀ ਤਰ੍ਹਾਂ ਮਿਲਦਾ ਹੈ, ਜੋ ਦਰਸਾਉਂਦਾ ਹੈ ਕਿ LLM ਨੇ ਸਟਾਕ ਮਾਰਕੀਟ ਦੇ ਪ੍ਰਭਾਵਾਂ ਨੂੰ ਸਹੀ ਤਰੀਕੇ ਨਾਲ ਪਛਾਣਿਆ ਅਤੇ ਸੰਖੇਪ ਕੀਤਾ।  \n",
    "\n",
    "#### ਸੋਰਸ ਨੋਡਸ ਟਿੱਪਣੀ  \n",
    "ਸੋਰਸ ਨੋਡਸ ਰੂਸ ਨੂੰ ਅੰਤਰਰਾਸ਼ਟਰੀ ਪਾਬੰਦੀਆਂ ਦੇ ਕਾਰਨ ਹੋਏ ਆਰਥਿਕ ਪ੍ਰਭਾਵਾਂ ਦਾ ਵਿਸਤ੍ਰਿਤ ਵੇਰਵਾ ਦਿੰਦੇ ਹਨ। ਟੈਕਸਟ ਵਿੱਚ ਰੂਸ ਦੀ ਸਟਾਕ ਮਾਰਕੀਟ ਦੀ ਕੀਮਤ 40% ਘਟਣ ਅਤੇ ਵਪਾਰ ਰੋਕੇ ਜਾਣ ਦੀ ਗੱਲ ਉਜਾਗਰ ਕੀਤੀ ਗਈ ਹੈ। ਇਸਦੇ ਨਾਲ ਹੀ, ਹੋਰ ਆਰਥਿਕ ਪ੍ਰਭਾਵਾਂ ਜਿਵੇਂ ਕਿ ਰੂਬਲ ਦੀ ਕੀਮਤ ਘਟਣਾ ਅਤੇ ਰੂਸ ਦੀ ਅਰਥਵਿਵਸਥਾ ਦਾ ਵਿਆਪਕ ਤੌਰ 'ਤੇ ਅਲੱਗ ਹੋਣਾ ਵੀ ਜ਼ਿਕਰ ਕੀਤਾ ਗਿਆ ਹੈ। LLM ਜਵਾਬ ਨੇ ਇਨ੍ਹਾਂ ਨੋਡਸ ਤੋਂ ਮਹੱਤਵਪੂਰਨ ਬਿੰਦੂਆਂ ਨੂੰ ਪ੍ਰਭਾਵਸ਼ਾਲੀ ਤਰੀਕੇ ਨਾਲ ਸੰਖੇਪ ਕੀਤਾ ਹੈ, ਖਾਸ ਤੌਰ 'ਤੇ ਸਟਾਕ ਮਾਰਕੀਟ ਦੇ ਪ੍ਰਭਾਵ 'ਤੇ ਧਿਆਨ ਦਿੱਤਾ ਹੈ, ਜਿਵੇਂ ਕਿ ਕਵੈਰੀ ਵਿੱਚ ਮੰਗਿਆ ਗਿਆ ਸੀ।  \n"
   ]
  },
  {
   "cell_type": "markdown",
   "metadata": {},
   "source": [
    "ਹੁਣ, ਆਓ ਇੱਕ ਪ੍ਰਸ਼ਨ 'ਤੇ ਨਜ਼ਰ ਮਾਰਦੇ ਹਾਂ ਜਿੱਥੇ ਹਾਈਬ੍ਰਿਡ ਖੋਜ ਇੱਕ ਢੁਕਵਾਂ ਜਵਾਬ ਨਹੀਂ ਦਿੰਦੀ:\n"
   ]
  },
  {
   "cell_type": "code",
   "execution_count": 71,
   "metadata": {},
   "outputs": [
    {
     "data": {
      "text/markdown": [
       " The provided context does not specify the exact date of Russia's invasion of Ukraine. However, it does mention that the events discussed are happening in the current era and that the actions taken are in response to Putin's aggression. For the precise date, one would need to refer to external sources or historical records."
      ],
      "text/plain": [
       "<IPython.core.display.Markdown object>"
      ]
     },
     "metadata": {},
     "output_type": "display_data"
    },
    {
     "name": "stdout",
     "output_type": "stream",
     "text": [
      "\n",
      "\n",
      "Source Nodes:\n",
      "file_path: data\\txt\\state_of_the_union.txt\n",
      "\n",
      "our forces are not engaged and will not engage in conflict with Russian forces in Ukraine.  \n",
      "\n",
      "Our forces are not going to Europe to fight in Ukraine, but to defend our NATO Allies – in the event that Putin decides to keep moving west.  \n",
      "\n",
      "For that purpose we’ve mobilized American ground forces, air squadrons, and ship deployments to protect NATO countries including Poland, Romania, Latvia, Lithuania, and Estonia. \n",
      "\n",
      "As I have made crystal clear the United States and our Allies will defend every inch of territory of NATO countries with the full force of our collective power.  \n",
      "\n",
      "And we remain clear-eyed. The Ukrainians are fighting back with pure courage. But the next few days weeks, months, will be hard on them.  \n",
      "\n",
      "Putin has unleashed violence and chaos.  But while he may make gains on the battlefield – he will pay a continuing high price over the long run. \n",
      "\n",
      "And a proud Ukrainian people, who have known 30 years  of independence, have repeatedly shown that they will not tolerate anyone who tries to take their country backwards.  \n",
      "\n",
      "To all Americans, I will be honest with you, as I’ve always promised. A Russian dictator, invading a foreign country, has costs around the world. \n",
      "\n",
      "And I’m taking robust action to make sure the pain of our sanctions  is targeted at Russia’s economy. And I will use every tool at our disposal to protect American businesses and consumers. \n",
      "\n",
      "Tonight, I can announce that the United States has worked with 30 other countries to release 60 Million barrels of oil from reserves around the world.  \n",
      "\n",
      "America will lead that effort, releasing 30 Million barrels from our own Strategic Petroleum Reserve. And we stand ready to do more if necessary, unified with our allies.  \n",
      "\n",
      "These steps will help blunt gas prices here at home. And I know the news about what’s happening can seem alarming. \n",
      "\n",
      "But I want you to know that we are going to be okay. \n",
      "\n",
      "When the history of this era is written Putin’s war on Ukraine will have left Russia weaker and the rest of the world stronger. \n",
      "\n",
      "While it shouldn’t have taken something so terrible for people around the world to see what’s at stake now everyone sees it clearly. \n",
      "\n",
      "We see the unity among leaders of nations and a more unified Europe a more unified West. And we see unity among the people who are gathering in cities in large crowds around the world\n",
      "file_path: data\\txt\\state_of_the_union.txt\n",
      "\n",
      "building a coalition of other freedom-loving nations from Europe and the Americas to Asia and Africa to confront Putin. \n",
      "\n",
      "I spent countless hours unifying our European allies. We shared with the world in advance what we knew Putin was planning and precisely how he would try to falsely justify his aggression.  \n",
      "\n",
      "We countered Russia’s lies with truth.   \n",
      "\n",
      "And now that he has acted the free world is holding him accountable. \n",
      "\n",
      "Along with twenty-seven members of the European Union including France, Germany, Italy, as well as countries like the United Kingdom, Canada, Japan, Korea, Australia, New Zealand, and many others, even Switzerland. \n",
      "\n",
      "We are inflicting pain on Russia and supporting the people of Ukraine. Putin is now isolated from the world more than ever. \n",
      "\n",
      "Together with our allies –we are right now enforcing powerful economic sanctions. \n",
      "\n",
      "We are cutting off Russia’s largest banks from the international financial system.  \n",
      "\n",
      "Preventing Russia’s central bank from defending the Russian Ruble making Putin’s $630 Billion “war fund” worthless.   \n",
      "\n",
      "We are choking off Russia’s access to technology that will sap its economic strength and weaken its military for years to come.  \n",
      "\n",
      "Tonight I say to the Russian oligarchs and corrupt leaders who have bilked billions of dollars off this violent regime no more. \n",
      "\n",
      "The U.S. Department of Justice is assembling a dedicated task force to go after the crimes of Russian oligarchs.  \n",
      "\n",
      "We are joining with our European allies to find and seize your yachts your luxury apartments your private jets. We are coming for your ill-begotten gains. \n",
      "\n",
      "And tonight I am announcing that we will join our allies in closing off American air space to all Russian flights – further isolating Russia – and adding an additional squeeze –on their economy. The Ruble has lost 30% of its value. \n",
      "\n",
      "The Russian stock market has lost 40% of its value and trading remains suspended. Russia’s economy is reeling and Putin alone is to blame. \n",
      "\n",
      "Together with our allies we are providing support to the Ukrainians in their fight for freedom. Military assistance. Economic assistance. Humanitarian assistance. \n",
      "\n",
      "We are giving more than $1 Billion in direct assistance to Ukraine. \n",
      "\n",
      "And we will continue to aid the Ukrainian people as they defend their country and to help ease their suffering.  \n",
      "\n",
      "Let me be clear, our forces are not engaged and will not engage in\n"
     ]
    }
   ],
   "source": [
    "# Query execution\n",
    "query = \"What was the precise date when Russia invaded Ukraine?\"\n",
    "response = hybrid_query_engine.query(query)\n",
    "\n",
    "# Display the response\n",
    "display(Markdown(f\"{response}\"))\n",
    "print(\"\\n\")\n",
    "\n",
    "# Print the source nodes\n",
    "print(\"Source Nodes:\")\n",
    "for node in response.source_nodes:\n",
    "    print(node.get_content(metadata_mode=MetadataMode.LLM))\n"
   ]
  },
  {
   "cell_type": "markdown",
   "metadata": {},
   "source": [
    "### ਹਾਈਬ੍ਰਿਡ ਖੋਜ: LLM ਜਵਾਬ ਵਿਸ਼ਲੇਸ਼ਣ\n",
    "ਹਾਈਬ੍ਰਿਡ ਖੋਜ ਉਦਾਹਰਨ ਵਿੱਚ LLM ਦਾ ਜਵਾਬ ਦਰਸਾਉਂਦਾ ਹੈ ਕਿ ਦਿੱਤੇ ਗਏ ਸੰਦਰਭ ਵਿੱਚ ਰੂਸ ਦੇ ਯੂਕਰੇਨ ਉੱਤੇ ਹਮਲੇ ਦੀ ਸਹੀ ਤਾਰੀਖ ਨਹੀਂ ਦਿੱਤੀ ਗਈ। ਇਹ ਜਵਾਬ ਸੁਝਾਉਂਦਾ ਹੈ ਕਿ LLM ਸਰੋਤ ਦਸਤਾਵੇਜ਼ਾਂ ਵਿੱਚ ਉਪਲਬਧ ਜਾਣਕਾਰੀ ਦੀ ਵਰਤੋਂ ਕਰ ਰਿਹਾ ਹੈ ਪਰ ਪਾਠ ਵਿੱਚ ਸਹੀ ਵੇਰਵੇ ਦੀ ਗੈਰਹਾਜ਼ਰੀ ਨੂੰ ਮੰਨਦਾ ਹੈ।\n",
    "\n",
    "ਜਵਾਬ ਸਹੀ ਹੈ ਕਿਉਂਕਿ ਇਹ ਪਛਾਣਦਾ ਹੈ ਕਿ ਸੰਦਰਭ ਵਿੱਚ ਰੂਸ ਦੀ ਹਮਲਾਵਰਤਾ ਨਾਲ ਸੰਬੰਧਿਤ ਘਟਨਾਵਾਂ ਦਾ ਜ਼ਿਕਰ ਹੈ ਪਰ ਸਪਸ਼ਟ ਤਾਰੀਖ ਨਹੀਂ ਦਿੱਤੀ ਗਈ। ਇਹ LLM ਦੀ ਸਮਝਣ ਦੀ ਯੋਗਤਾ ਨੂੰ ਦਰਸਾਉਂਦਾ ਹੈ ਜੋ ਦਿੱਤੀ ਗਈ ਜਾਣਕਾਰੀ ਨੂੰ ਸਮਝਦਾ ਹੈ ਅਤੇ ਸਮੱਗਰੀ ਵਿੱਚ ਮੌਜੂਦ ਖਾਮੀਆਂ ਨੂੰ ਪਛਾਣਦਾ ਹੈ। LLM ਪ੍ਰਭਾਵਸ਼ਾਲੀ ਢੰਗ ਨਾਲ ਯੂਜ਼ਰ ਨੂੰ ਬਾਹਰੀ ਸਰੋਤਾਂ ਜਾਂ ਇਤਿਹਾਸਕ ਰਿਕਾਰਡਾਂ ਤੋਂ ਸਹੀ ਤਾਰੀਖ ਲੱਭਣ ਲਈ ਪ੍ਰੇਰਿਤ ਕਰਦਾ ਹੈ, ਜਿਸ ਨਾਲ ਅਧੂਰੀ ਜਾਣਕਾਰੀ ਦੇ ਮਾਮਲੇ ਵਿੱਚ ਸਾਵਧਾਨੀ ਦਾ ਪੱਧਰ ਦਿਖਾਈ ਦਿੰਦਾ ਹੈ।\n",
    "\n",
    "### ਸਰੋਤ ਨੋਡ ਵਿਸ਼ਲੇਸ਼ਣ\n",
    "ਹਾਈਬ੍ਰਿਡ ਖੋਜ ਉਦਾਹਰਨ ਵਿੱਚ ਸਰੋਤ ਨੋਡਾਂ ਵਿੱਚ ਇੱਕ ਭਾਸ਼ਣ ਦੇ ਅੰਸ਼ ਸ਼ਾਮਲ ਹਨ ਜੋ ਯੂ.ਐਸ. ਦੇ ਰੂਸ ਦੇ ਕਾਰਵਾਈਆਂ ਦੇ ਜਵਾਬ ਬਾਰੇ ਚਰਚਾ ਕਰਦੇ ਹਨ। ਇਹ ਨੋਡ ਰੂਸ ਦੇ ਹਮਲੇ ਦੇ ਜਵਾਬ ਵਿੱਚ ਯੂ.ਐਸ. ਅਤੇ ਇਸਦੇ ਸਾਥੀਆਂ ਦੁਆਰਾ ਕੀਤੇ ਗਏ ਕਦਮਾਂ ਅਤੇ ਵੱਡੇ ਜਿਓਪੋਲਿਟਿਕਲ ਪ੍ਰਭਾਵ ਨੂੰ ਜ਼ੋਰ ਦਿੰਦੇ ਹਨ, ਪਰ ਸਪਸ਼ਟ ਹਮਲੇ ਦੀ ਤਾਰੀਖ ਦਾ ਜ਼ਿਕਰ ਨਹੀਂ ਕਰਦੇ। ਇਹ LLM ਦੇ ਜਵਾਬ ਨਾਲ ਮਿਲਦਾ ਹੈ, ਜੋ ਸਹੀ ਤੌਰ 'ਤੇ ਪਛਾਣਦਾ ਹੈ ਕਿ ਸੰਦਰਭ ਵਿੱਚ ਸਹੀ ਤਾਰੀਖ ਦੀ ਜਾਣਕਾਰੀ ਦੀ ਗੈਰਹਾਜ਼ਰੀ ਹੈ।\n"
   ]
  },
  {
   "cell_type": "code",
   "execution_count": 72,
   "metadata": {},
   "outputs": [
    {
     "data": {
      "text/markdown": [
       " The provided context does not specify the exact date of Russia's invasion of Ukraine. However, it mentions that the event occurred six days before the speech was given. To determine the precise date, one would need to know the date of the speech."
      ],
      "text/plain": [
       "<IPython.core.display.Markdown object>"
      ]
     },
     "metadata": {},
     "output_type": "display_data"
    },
    {
     "name": "stdout",
     "output_type": "stream",
     "text": [
      "\n",
      "\n",
      "Source Nodes:\n",
      "file_path: data\\txt\\state_of_the_union.txt\n",
      "\n",
      "Madam Speaker, Madam Vice President, our First Lady and Second Gentleman. Members of Congress and the Cabinet. Justices of the Supreme Court. My fellow Americans.  \n",
      "\n",
      "Last year COVID-19 kept us apart. This year we are finally together again. \n",
      "\n",
      "Tonight, we meet as Democrats Republicans and Independents. But most importantly as Americans. \n",
      "\n",
      "With a duty to one another to the American people to the Constitution. \n",
      "\n",
      "And with an unwavering resolve that freedom will always triumph over tyranny. \n",
      "\n",
      "Six days ago, Russia’s Vladimir Putin sought to shake the foundations of the free world thinking he could make it bend to his menacing ways. But he badly miscalculated. \n",
      "\n",
      "He thought he could roll into Ukraine and the world would roll over. Instead he met a wall of strength he never imagined. \n",
      "\n",
      "He met the Ukrainian people. \n",
      "\n",
      "From President Zelenskyy to every Ukrainian, their fearlessness, their courage, their determination, inspires the world. \n",
      "\n",
      "Groups of citizens blocking tanks with their bodies. Everyone from students to retirees teachers turned soldiers defending their homeland. \n",
      "\n",
      "In this struggle as President Zelenskyy said in his speech to the European Parliament “Light will win over darkness.” The Ukrainian Ambassador to the United States is here tonight. \n",
      "\n",
      "Let each of us here tonight in this Chamber send an unmistakable signal to Ukraine and to the world. \n",
      "\n",
      "Please rise if you are able and show that, Yes, we the United States of America stand with the Ukrainian people. \n",
      "\n",
      "Throughout our history we’ve learned this lesson when dictators do not pay a price for their aggression they cause more chaos.   \n",
      "\n",
      "They keep moving.   \n",
      "\n",
      "And the costs and the threats to America and the world keep rising.   \n",
      "\n",
      "That’s why the NATO Alliance was created to secure peace and stability in Europe after World War 2. \n",
      "\n",
      "The United States is a member along with 29 other nations. \n",
      "\n",
      "It matters. American diplomacy matters. American resolve matters. \n",
      "\n",
      "Putin’s latest attack on Ukraine was premeditated and unprovoked. \n",
      "\n",
      "He rejected repeated efforts at diplomacy. \n",
      "\n",
      "He thought the West and NATO wouldn’t respond. And he thought he could divide us at home. Putin was wrong. We were ready.  Here is what we did.   \n",
      "\n",
      "We prepared extensively and carefully. \n",
      "\n",
      "We spent months building a coalition of other freedom-loving nations from Europe\n",
      "file_path: data\\txt\\state_of_the_union.txt\n",
      "\n",
      "our forces are not engaged and will not engage in conflict with Russian forces in Ukraine.  \n",
      "\n",
      "Our forces are not going to Europe to fight in Ukraine, but to defend our NATO Allies – in the event that Putin decides to keep moving west.  \n",
      "\n",
      "For that purpose we’ve mobilized American ground forces, air squadrons, and ship deployments to protect NATO countries including Poland, Romania, Latvia, Lithuania, and Estonia. \n",
      "\n",
      "As I have made crystal clear the United States and our Allies will defend every inch of territory of NATO countries with the full force of our collective power.  \n",
      "\n",
      "And we remain clear-eyed. The Ukrainians are fighting back with pure courage. But the next few days weeks, months, will be hard on them.  \n",
      "\n",
      "Putin has unleashed violence and chaos.  But while he may make gains on the battlefield – he will pay a continuing high price over the long run. \n",
      "\n",
      "And a proud Ukrainian people, who have known 30 years  of independence, have repeatedly shown that they will not tolerate anyone who tries to take their country backwards.  \n",
      "\n",
      "To all Americans, I will be honest with you, as I’ve always promised. A Russian dictator, invading a foreign country, has costs around the world. \n",
      "\n",
      "And I’m taking robust action to make sure the pain of our sanctions  is targeted at Russia’s economy. And I will use every tool at our disposal to protect American businesses and consumers. \n",
      "\n",
      "Tonight, I can announce that the United States has worked with 30 other countries to release 60 Million barrels of oil from reserves around the world.  \n",
      "\n",
      "America will lead that effort, releasing 30 Million barrels from our own Strategic Petroleum Reserve. And we stand ready to do more if necessary, unified with our allies.  \n",
      "\n",
      "These steps will help blunt gas prices here at home. And I know the news about what’s happening can seem alarming. \n",
      "\n",
      "But I want you to know that we are going to be okay. \n",
      "\n",
      "When the history of this era is written Putin’s war on Ukraine will have left Russia weaker and the rest of the world stronger. \n",
      "\n",
      "While it shouldn’t have taken something so terrible for people around the world to see what’s at stake now everyone sees it clearly. \n",
      "\n",
      "We see the unity among leaders of nations and a more unified Europe a more unified West. And we see unity among the people who are gathering in cities in large crowds around the world\n"
     ]
    }
   ],
   "source": [
    "# Initialize hybrid retriever and query engine\n",
    "semantic_reranker_retriever = index.as_retriever(vector_store_query_mode=VectorStoreQueryMode.SEMANTIC_HYBRID)\n",
    "semantic_reranker_query_engine = RetrieverQueryEngine(retriever=semantic_reranker_retriever)\n",
    "\n",
    "# Query execution\n",
    "query = \"What was the precise date when Russia invaded Ukraine?\"\n",
    "response = semantic_reranker_query_engine.query(query)\n",
    "\n",
    "# Display the response\n",
    "display(Markdown(f\"{response}\"))\n",
    "print(\"\\n\")\n",
    "\n",
    "# Print the source nodes\n",
    "print(\"Source Nodes:\")\n",
    "for node in response.source_nodes:\n",
    "    print(node.get_content(metadata_mode=MetadataMode.LLM))\n"
   ]
  },
  {
   "cell_type": "markdown",
   "metadata": {},
   "source": [
    "### ਹਾਈਬ੍ਰਿਡ w/ਰੀਰੈਂਕਿੰਗ: LLM ਜਵਾਬ ਵਿਸ਼ਲੇਸ਼ਣ\n",
    "ਹਾਈਬ੍ਰਿਡ w/ਰੀਰੈਂਕਿੰਗ ਉਦਾਹਰਨ ਵਿੱਚ, LLM ਜਵਾਬ ਵਾਧੂ ਸੰਦਰਭ ਪ੍ਰਦਾਨ ਕਰਦਾ ਹੈ ਜਦੋਂ ਇਹ ਨੋਟ ਕਰਦਾ ਹੈ ਕਿ ਘਟਨਾ ਭਾਸ਼ਣ ਦੇ ਦਿੱਤੇ ਜਾਣ ਤੋਂ ਛੇ ਦਿਨ ਪਹਿਲਾਂ ਹੋਈ ਸੀ। ਇਹ ਦਰਸਾਉਂਦਾ ਹੈ ਕਿ LLM ਭਾਸ਼ਣ ਦੇ ਸਮੇਂ ਦੇ ਆਧਾਰ 'ਤੇ ਹਮਲੇ ਦੀ ਤਾਰੀਖ ਦਾ ਅਨੁਮਾਨ ਲਗਾ ਸਕਦਾ ਹੈ, ਹਾਲਾਂਕਿ ਇਸ ਨੂੰ ਸਹੀ ਤਾਰੀਖ ਦੀ ਜਾਣਕਾਰੀ ਲਈ ਭਾਸ਼ਣ ਦੀ ਸਟ੍ਰਿਕਟ ਤਾਰੀਖ ਦੀ ਲੋੜ ਹੁੰਦੀ ਹੈ।\n",
    "\n",
    "ਇਹ ਜਵਾਬ ਸੰਦਰਭ ਸੰਕੇਤਾਂ ਦੀ ਵਰਤੋਂ ਕਰਕੇ ਵਧੇਰੇ ਜਾਣਕਾਰੀਪੂਰਨ ਜਵਾਬ ਦੇਣ ਦੀ ਸੁਧਾਰਤ ਯੋਗਤਾ ਨੂੰ ਦਰਸਾਉਂਦਾ ਹੈ। ਇਹ ਰੀਰੈਂਕਿੰਗ ਦੇ ਫਾਇਦੇ ਨੂੰ ਉਜਾਗਰ ਕਰਦਾ ਹੈ, ਜਿੱਥੇ LLM ਵਧੇਰੇ ਸਬੰਧਤ ਜਾਣਕਾਰੀ ਤੱਕ ਪਹੁੰਚ ਕਰ ਸਕਦਾ ਹੈ ਅਤੇ ਇਸ ਨੂੰ ਤਰਜੀਹ ਦੇ ਸਕਦਾ ਹੈ ਤਾਂ ਜੋ ਚਾਹੀਦੇ ਵੇਰਵੇ (ਜਿਵੇਂ ਕਿ ਹਮਲੇ ਦੀ ਤਾਰੀਖ) ਦੇ ਇੱਕ ਨਜ਼ਦੀਕੀ ਅਨੁਮਾਨ ਪ੍ਰਦਾਨ ਕੀਤਾ ਜਾ ਸਕੇ।\n",
    "\n",
    "### ਸਰੋਤ ਨੋਡ ਵਿਸ਼ਲੇਸ਼ਣ\n",
    "ਇਸ ਉਦਾਹਰਨ ਵਿੱਚ ਸਰੋਤ ਨੋਡ ਵਿੱਚ ਰੂਸ ਦੇ ਹਮਲੇ ਦੇ ਸਮੇਂ ਦੇ ਹਵਾਲੇ ਸ਼ਾਮਲ ਹਨ, ਖਾਸ ਤੌਰ 'ਤੇ ਇਹ ਦੱਸਦੇ ਹੋਏ ਕਿ ਇਹ ਭਾਸ਼ਣ ਤੋਂ ਛੇ ਦਿਨ ਪਹਿਲਾਂ ਹੋਇਆ ਸੀ। ਹਾਲਾਂਕਿ ਸਟ੍ਰਿਕਟ ਤਾਰੀਖ ਅਜੇ ਵੀ ਸਪਸ਼ਟ ਤੌਰ 'ਤੇ ਨਹੀਂ ਦਿੱਤੀ ਗਈ, ਨੋਡ ਸਮੇਂਕਾਲ ਸੰਦਰਭ ਪ੍ਰਦਾਨ ਕਰਦੇ ਹਨ ਜੋ LLM ਨੂੰ ਵਧੇਰੇ ਸੁਧਾਰਤ ਜਵਾਬ ਦੇਣ ਦੀ ਯੋਗਤਾ ਦਿੰਦੇ ਹਨ। ਇਸ ਵੇਰਵੇ ਦੀ ਸ਼ਾਮਲਾਤ ਰੀਰੈਂਕਿੰਗ ਦੇ ਫਾਇਦੇ ਨੂੰ ਦਰਸਾਉਂਦੀ ਹੈ, ਜਿਸ ਨਾਲ LLM ਪ੍ਰਦਾਨ ਕੀਤੇ ਸੰਦਰਭ ਤੋਂ ਜਾਣਕਾਰੀ ਕੱਢਣ ਅਤੇ ਅਨੁਮਾਨ ਲਗਾਉਣ ਦੀ ਯੋਗਤਾ ਵਿੱਚ ਸੁਧਾਰ ਹੁੰਦਾ ਹੈ, ਜਿਸ ਨਾਲ ਇੱਕ ਵਧੇਰੇ ਸਹੀ ਅਤੇ ਜਾਣਕਾਰੀਪੂਰਨ ਜਵਾਬ ਮਿਲਦਾ ਹੈ।\n"
   ]
  },
  {
   "cell_type": "markdown",
   "metadata": {},
   "source": [
    "**ਨੋਟ:**\n",
    "ਇਸ ਨੋਟਬੁੱਕ ਵਿੱਚ, ਅਸੀਂ NVIDIA API ਕੈਟਾਲਾਗ ਤੋਂ NVIDIA NIM ਮਾਈਕ੍ਰੋਸਰਵਿਸਜ਼ ਦੀ ਵਰਤੋਂ ਕੀਤੀ ਹੈ।  \n",
    "ਉਪਰੋਕਤ API, `NVIDIA (llms)`, `NVIDIAEmbedding`, ਅਤੇ [Azure AI Search Semantic Hybrid Retrieval (ਬਿਲਟ-ਇਨ ਰੀਰੈਂਕਿੰਗ)](https://learn.microsoft.com/azure/search/semantic-search-overview)।  \n",
    "ਨੋਟ ਕਰੋ ਕਿ ਉਪਰੋਕਤ API ਸਵੈ-ਹੋਸਟ ਕੀਤੇ ਮਾਈਕ੍ਰੋਸਰਵਿਸਜ਼ ਦਾ ਸਮਰਥਨ ਵੀ ਕਰ ਸਕਦੇ ਹਨ।  \n",
    "\n",
    "**ਉਦਾਹਰਨ:**\n",
    "```python\n",
    "NVIDIA(model=\"meta/llama3-8b-instruct\", base_url=\"http://your-nim-host-address:8000/v1\")```\n"
   ]
  },
  {
   "cell_type": "markdown",
   "metadata": {},
   "source": [
    "\n---\n\n**ਅਸਵੀਕਰਤੀ**:  \nਇਹ ਦਸਤਾਵੇਜ਼ AI ਅਨੁਵਾਦ ਸੇਵਾ [Co-op Translator](https://github.com/Azure/co-op-translator) ਦੀ ਵਰਤੋਂ ਕਰਕੇ ਅਨੁਵਾਦ ਕੀਤਾ ਗਿਆ ਹੈ। ਜਦੋਂ ਕਿ ਅਸੀਂ ਸਹੀ ਹੋਣ ਦਾ ਯਤਨ ਕਰਦੇ ਹਾਂ, ਕਿਰਪਾ ਕਰਕੇ ਧਿਆਨ ਦਿਓ ਕਿ ਸਵੈਚਾਲਿਤ ਅਨੁਵਾਦਾਂ ਵਿੱਚ ਗਲਤੀਆਂ ਜਾਂ ਅਸੁਚਤਤਾਵਾਂ ਹੋ ਸਕਦੀਆਂ ਹਨ। ਮੂਲ ਦਸਤਾਵੇਜ਼, ਜੋ ਇਸਦੀ ਮੂਲ ਭਾਸ਼ਾ ਵਿੱਚ ਹੈ, ਨੂੰ ਅਧਿਕਾਰਤ ਸਰੋਤ ਮੰਨਿਆ ਜਾਣਾ ਚਾਹੀਦਾ ਹੈ। ਮਹੱਤਵਪੂਰਨ ਜਾਣਕਾਰੀ ਲਈ, ਪੇਸ਼ੇਵਰ ਮਨੁੱਖੀ ਅਨੁਵਾਦ ਦੀ ਸਿਫਾਰਸ਼ ਕੀਤੀ ਜਾਂਦੀ ਹੈ। ਇਸ ਅਨੁਵਾਦ ਦੀ ਵਰਤੋਂ ਤੋਂ ਪੈਦਾ ਹੋਣ ਵਾਲੇ ਕਿਸੇ ਵੀ ਗਲਤਫਹਿਮੀ ਜਾਂ ਗਲਤ ਵਿਆਖਿਆ ਲਈ ਅਸੀਂ ਜ਼ਿੰਮੇਵਾਰ ਨਹੀਂ ਹਾਂ।\n"
   ]
  }
 ],
 "metadata": {
  "kernelspec": {
   "display_name": "Python 3",
   "language": "python",
   "name": "python3"
  },
  "language_info": {
   "codemirror_mode": {
    "name": "ipython",
    "version": 3
   },
   "file_extension": ".py",
   "mimetype": "text/x-python",
   "name": "python",
   "nbconvert_exporter": "python",
   "pygments_lexer": "ipython3",
   "version": "3.11.9"
  },
  "coopTranslator": {
   "original_hash": "c023540b1eda8c0746871294979e1e5c",
   "translation_date": "2025-09-12T19:07:39+00:00",
   "source_file": "md/02.Application/06.MoE/Phi3/azure-ai-search-nvidia-rag.ipynb",
   "language_code": "pa"
  }
 },
 "nbformat": 4,
 "nbformat_minor": 2
}