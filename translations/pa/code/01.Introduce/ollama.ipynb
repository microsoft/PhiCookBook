{
 "cells": [
  {
   "cell_type": "markdown",
   "metadata": {},
   "source": [
    "# ਓਲਾਮਾ + ਓਪਨਏਆਈ + ਪਾਇਥਨ\n",
    "\n",
    "## 1. ਮਾਡਲ ਦਾ ਨਾਮ ਦਰਸਾਓ\n",
    "\n",
    "ਜੇਕਰ ਤੁਸੀਂ \"phi3:mini\" ਤੋਂ ਵੱਖਰਾ ਮਾਡਲ ਲਿਆ ਹੈ, ਤਾਂ ਹੇਠਾਂ ਦਿੱਤੇ ਸੈੱਲ ਵਿੱਚ ਮੁੱਲ ਨੂੰ ਬਦਲੋ। ਉਹ ਵੈਰੀਏਬਲ ਨੋਟਬੁੱਕ ਵਿੱਚ ਸਾਰੇ ਕੋਡ ਵਿੱਚ ਵਰਤਿਆ ਜਾਵੇਗਾ।\n"
   ]
  },
  {
   "cell_type": "code",
   "execution_count": null,
   "metadata": {},
   "outputs": [],
   "source": [
    "MODEL_NAME = \"phi3:mini\""
   ]
  },
  {
   "cell_type": "markdown",
   "metadata": {},
   "source": [
    "## 2. ਓਪਨ ਏਆਈ ਕਲਾਇੰਟ ਸੈਟਅਪ ਕਰੋ\n",
    "\n",
    "ਆਮ ਤੌਰ 'ਤੇ OpenAI ਕਲਾਇੰਟ ਨੂੰ OpenAI.com ਜਾਂ Azure OpenAI ਨਾਲ ਵੱਡੇ ਭਾਸ਼ਾ ਮਾਡਲਾਂ ਨਾਲ ਸੰਚਾਰ ਕਰਨ ਲਈ ਵਰਤਿਆ ਜਾਂਦਾ ਹੈ।  \n",
    "ਹਾਲਾਂਕਿ, ਇਸਨੂੰ Ollama ਨਾਲ ਵੀ ਵਰਤਿਆ ਜਾ ਸਕਦਾ ਹੈ, ਕਿਉਂਕਿ Ollama \"http://localhost:11434/v1\" 'ਤੇ OpenAI-ਅਨੁਕੂਲ ਐਂਡਪੌਇੰਟ ਪ੍ਰਦਾਨ ਕਰਦਾ ਹੈ।\n"
   ]
  },
  {
   "cell_type": "code",
   "execution_count": null,
   "metadata": {},
   "outputs": [],
   "source": [
    "%pip install openai"
   ]
  },
  {
   "cell_type": "code",
   "execution_count": null,
   "metadata": {},
   "outputs": [],
   "source": [
    "import openai\n",
    "\n",
    "client = openai.OpenAI(\n",
    "    base_url=\"http://localhost:11434/v1\",\n",
    "    api_key=\"nokeyneeded\",\n",
    ")"
   ]
  },
  {
   "cell_type": "markdown",
   "metadata": {},
   "source": [
    "## 3. ਚੈਟ ਪੂਰਨਤਾ ਬਣਾਓ\n",
    "\n",
    "ਹੁਣ ਅਸੀਂ OpenAI SDK ਦੀ ਵਰਤੋਂ ਕਰਕੇ ਗੱਲਬਾਤ ਲਈ ਜਵਾਬ ਤਿਆਰ ਕਰ ਸਕਦੇ ਹਾਂ। ਇਹ ਬੇਨਤੀ ਬਿਲੀਆਂ ਬਾਰੇ ਇੱਕ ਹਾਇਕੂ ਬਣਾਉਣੀ ਚਾਹੀਦੀ ਹੈ:\n"
   ]
  },
  {
   "cell_type": "code",
   "execution_count": null,
   "metadata": {},
   "outputs": [],
   "source": [
    "response = client.chat.completions.create(\n",
    "    model=MODEL_NAME,\n",
    "    temperature=0.7,\n",
    "    n=1,\n",
    "    messages=[\n",
    "        {\"role\": \"system\", \"content\": \"You are a helpful assistant.\"},\n",
    "        {\"role\": \"user\", \"content\": \"Write a haiku about a hungry cat\"},\n",
    "    ],\n",
    ")\n",
    "\n",
    "print(\"Response:\")\n",
    "print(response.choices[0].message.content)\n"
   ]
  },
  {
   "cell_type": "markdown",
   "metadata": {},
   "source": [
    "## 4. ਪ੍ਰੋੰਪਟ ਇੰਜੀਨੀਅਰਿੰਗ\n",
    "\n",
    "ਭਾਸ਼ਾ ਮਾਡਲ ਨੂੰ ਭੇਜਿਆ ਗਿਆ ਪਹਿਲਾ ਸੁਨੇਹਾ \"ਸਿਸਟਮ ਸੁਨੇਹਾ\" ਜਾਂ \"ਸਿਸਟਮ ਪ੍ਰੋੰਪਟ\" ਕਿਹਾ ਜਾਂਦਾ ਹੈ, ਅਤੇ ਇਹ ਮਾਡਲ ਲਈ ਕੁੱਲ ਹਦਾਇਤਾਂ ਸੈਟ ਕਰਦਾ ਹੈ।  \n",
    "ਤੁਸੀਂ ਆਪਣਾ ਖੁਦ ਦਾ ਕਸਟਮ ਸਿਸਟਮ ਪ੍ਰੋੰਪਟ ਦੇ ਸਕਦੇ ਹੋ ਤਾਂ ਜੋ ਭਾਸ਼ਾ ਮਾਡਲ ਨੂੰ ਵੱਖਰੇ ਢੰਗ ਨਾਲ ਆਉਟਪੁੱਟ ਪੈਦਾ ਕਰਨ ਲਈ ਗਾਈਡ ਕੀਤਾ ਜਾ ਸਕੇ।  \n",
    "ਹੇਠਾਂ ਦਿੱਤੇ `SYSTEM_MESSAGE` ਨੂੰ ਸੋਧੋ ਤਾਂ ਜੋ ਇਹ ਤੁਹਾਡੇ ਮਨਪਸੰਦ ਮਸ਼ਹੂਰ ਫਿਲਮ/ਟੀਵੀ ਕਿਰਦਾਰ ਵਾਂਗ ਜਵਾਬ ਦੇਵੇ, ਜਾਂ ਹੋਰ ਸਿਸਟਮ ਪ੍ਰੋੰਪਟ ਲਈ ਪ੍ਰੇਰਨਾ ਪ੍ਰਾਪਤ ਕਰਨ ਲਈ [Awesome ChatGPT Prompts](https://github.com/f/awesome-chatgpt-prompts?tab=readme-ov-file#prompts) ਤੋਂ ਸਹਾਇਤਾ ਲਵੋ।  \n",
    "\n",
    "ਜਦੋਂ ਤੁਸੀਂ ਸਿਸਟਮ ਸੁਨੇਹੇ ਨੂੰ ਕਸਟਮਾਈਜ਼ ਕਰ ਲੈਂਦੇ ਹੋ, ਤਾਂ `USER_MESSAGE` ਵਿੱਚ ਪਹਿਲਾ ਯੂਜ਼ਰ ਪ੍ਰਸ਼ਨ ਪ੍ਰਦਾਨ ਕਰੋ।\n"
   ]
  },
  {
   "cell_type": "code",
   "execution_count": null,
   "metadata": {},
   "outputs": [],
   "source": [
    "SYSTEM_MESSAGE = \"\"\"\n",
    "I want you to act like Elmo from Sesame Street.\n",
    "I want you to respond and answer like Elmo using the tone, manner and vocabulary that Elmo would use.\n",
    "Do not write any explanations. Only answer like Elmo.\n",
    "You must know all of the knowledge of Elmo, and nothing more.\n",
    "\"\"\"\n",
    "\n",
    "USER_MESSAGE = \"\"\"\n",
    "Hi Elmo, how are you doing today?\n",
    "\"\"\"\n",
    "\n",
    "response = client.chat.completions.create(\n",
    "    model=MODEL_NAME,\n",
    "    temperature=0.7,\n",
    "    n=1,\n",
    "    messages=[\n",
    "        {\"role\": \"system\", \"content\": SYSTEM_MESSAGE},\n",
    "        {\"role\": \"user\", \"content\": USER_MESSAGE},\n",
    "    ],\n",
    ")\n",
    "\n",
    "print(\"Response:\")\n",
    "print(response.choices[0].message.content)\n"
   ]
  },
  {
   "cell_type": "markdown",
   "metadata": {},
   "source": [
    "## 5. ਕੁਝ ਉਦਾਹਰਨ\n",
    "\n",
    "ਭਾਸ਼ਾ ਮਾਡਲ ਨੂੰ ਦਿਸ਼ਾ ਦੇਣ ਦਾ ਇੱਕ ਹੋਰ ਤਰੀਕਾ \"ਕੁਝ ਉਦਾਹਰਨ\" ਦੇਣਾ ਹੈ, ਜਿੱਥੇ ਸਵਾਲ/ਜਵਾਬਾਂ ਦੀ ਇੱਕ ਲੜੀ ਦਿੱਤੀ ਜਾਂਦੀ ਹੈ ਜੋ ਦਿਖਾਉਂਦੀ ਹੈ ਕਿ ਇਸਨੂੰ ਕਿਵੇਂ ਜਵਾਬ ਦੇਣਾ ਚਾਹੀਦਾ ਹੈ।\n",
    "\n",
    "ਹੇਠਾਂ ਦਿੱਤੇ ਉਦਾਹਰਨ ਵਿੱਚ, ਇੱਕ ਭਾਸ਼ਾ ਮਾਡਲ ਨੂੰ ਸਿੱਖਿਆ ਸਹਾਇਕ ਵਾਂਗ ਕੰਮ ਕਰਨ ਲਈ ਕਹਿੰਦੇ ਹਨ। ਇਸ ਵਿੱਚ ਕੁਝ ਸਵਾਲਾਂ ਅਤੇ ਜਵਾਬਾਂ ਦਿੱਤੇ ਗਏ ਹਨ ਜੋ ਇੱਕ ਸਿੱਖਿਆ ਸਹਾਇਕ ਦੇ ਸਕਦਾ ਹੈ, ਅਤੇ ਫਿਰ ਮਾਡਲ ਨੂੰ ਇੱਕ ਸਵਾਲ ਦੇ ਕੇ ਪ੍ਰੇਰਿਤ ਕੀਤਾ ਜਾਂਦਾ ਹੈ ਜੋ ਇੱਕ ਵਿਦਿਆਰਥੀ ਪੁੱਛ ਸਕਦਾ ਹੈ।\n",
    "\n",
    "ਪਹਿਲਾਂ ਇਸਨੂੰ ਅਜ਼ਮਾਓ, ਅਤੇ ਫਿਰ `SYSTEM_MESSAGE`, `EXAMPLES`, ਅਤੇ `USER_MESSAGE` ਨੂੰ ਇੱਕ ਨਵੇਂ ਦ੍ਰਿਸ਼ਟਿਕੋਣ ਲਈ ਸੋਧੋ।\n"
   ]
  },
  {
   "cell_type": "code",
   "execution_count": null,
   "metadata": {},
   "outputs": [],
   "source": [
    "SYSTEM_MESSAGE = \"\"\"\n",
    "You are a helpful assistant that helps students with their homework.\n",
    "Instead of providing the full answer, you respond with a hint or a clue.\n",
    "\"\"\"\n",
    "\n",
    "EXAMPLES = [\n",
    "    (\n",
    "        \"What is the capital of France?\",\n",
    "        \"Can you remember the name of the city that is known for the Eiffel Tower?\"\n",
    "    ),\n",
    "    (\n",
    "        \"What is the square root of 144?\",\n",
    "        \"What number multiplied by itself equals 144?\"\n",
    "    ),\n",
    "    (   \"What is the atomic number of oxygen?\",\n",
    "        \"How many protons does an oxygen atom have?\"\n",
    "    ),\n",
    "]\n",
    "\n",
    "USER_MESSAGE = \"What is the largest planet in our solar system?\"\n",
    "\n",
    "\n",
    "response = client.chat.completions.create(\n",
    "    model=MODEL_NAME,\n",
    "    temperature=0.7,\n",
    "    n=1,\n",
    "    messages=[\n",
    "        {\"role\": \"system\", \"content\": SYSTEM_MESSAGE},\n",
    "        {\"role\": \"user\", \"content\": EXAMPLES[0][0]},\n",
    "        {\"role\": \"assistant\", \"content\": EXAMPLES[0][1]},\n",
    "        {\"role\": \"user\", \"content\": EXAMPLES[1][0]},\n",
    "        {\"role\": \"assistant\", \"content\": EXAMPLES[1][1]},\n",
    "        {\"role\": \"user\", \"content\": EXAMPLES[2][0]},\n",
    "        {\"role\": \"assistant\", \"content\": EXAMPLES[2][1]},\n",
    "        {\"role\": \"user\", \"content\": USER_MESSAGE},\n",
    "    ],\n",
    ")\n",
    "\n",
    "\n",
    "print(\"Response:\")\n",
    "print(response.choices[0].message.content)"
   ]
  },
  {
   "cell_type": "markdown",
   "metadata": {},
   "source": [
    "## 6. ਰੀਟਰੀਵਲ ਆਗਮੈਂਟਡ ਜਨਰੇਸ਼ਨ\n",
    "\n",
    "RAG (ਰੀਟਰੀਵਲ ਆਗਮੈਂਟਡ ਜਨਰੇਸ਼ਨ) ਇੱਕ ਤਕਨੀਕ ਹੈ ਜੋ ਕਿਸੇ ਖਾਸ ਖੇਤਰ ਲਈ ਸਵਾਲਾਂ ਦੇ ਸਹੀ ਜਵਾਬ ਦੇਣ ਲਈ ਭਾਸ਼ਾ ਮਾਡਲ ਨੂੰ ਯੋਗ ਬਣਾਉਂਦੀ ਹੈ। ਇਸ ਵਿੱਚ ਪਹਿਲਾਂ ਗਿਆਨ ਸਰੋਤ ਤੋਂ ਸਬੰਧਤ ਜਾਣਕਾਰੀ ਪ੍ਰਾਪਤ ਕੀਤੀ ਜਾਂਦੀ ਹੈ ਅਤੇ ਫਿਰ ਉਸ ਜਾਣਕਾਰੀ ਦੇ ਆਧਾਰ 'ਤੇ ਜਵਾਬ ਤਿਆਰ ਕੀਤਾ ਜਾਂਦਾ ਹੈ।\n",
    "\n",
    "ਅਸੀਂ ਹਾਈਬ੍ਰਿਡ ਕਾਰਾਂ ਬਾਰੇ ਡੇਟਾ ਵਾਲੀ ਇੱਕ ਸਥਾਨਕ CSV ਫਾਈਲ ਪ੍ਰਦਾਨ ਕੀਤੀ ਹੈ। ਹੇਠਾਂ ਦਿੱਤਾ ਕੋਡ CSV ਫਾਈਲ ਨੂੰ ਪੜ੍ਹਦਾ ਹੈ, ਯੂਜ਼ਰ ਦੇ ਸਵਾਲ ਨਾਲ ਮਿਲਦੇ-ਜੁਲਦੇ ਡੇਟਾ ਦੀ ਖੋਜ ਕਰਦਾ ਹੈ, ਅਤੇ ਫਿਰ ਮਿਲੀ ਜਾਣਕਾਰੀ ਦੇ ਆਧਾਰ 'ਤੇ ਜਵਾਬ ਤਿਆਰ ਕਰਦਾ ਹੈ। ਧਿਆਨ ਦਿਓ ਕਿ ਇਹ ਪਿਛਲੇ ਉਦਾਹਰਣਾਂ ਨਾਲੋਂ ਵਧੇਰੇ ਸਮਾਂ ਲਵੇਗਾ, ਕਿਉਂਕਿ ਇਹ ਮਾਡਲ ਨੂੰ ਜ਼ਿਆਦਾ ਡੇਟਾ ਭੇਜਦਾ ਹੈ। ਜੇ ਤੁਸੀਂ ਦੇਖਦੇ ਹੋ ਕਿ ਜਵਾਬ ਹਾਲੇ ਵੀ ਡੇਟਾ ਵਿੱਚ ਜੜਿਆ ਹੋਇਆ ਨਹੀਂ ਹੈ, ਤਾਂ ਤੁਸੀਂ ਸਿਸਟਮ ਇੰਜੀਨੀਅਰਿੰਗ ਦੀ ਕੋਸ਼ਿਸ਼ ਕਰ ਸਕਦੇ ਹੋ ਜਾਂ ਹੋਰ ਮਾਡਲਾਂ ਦੀ ਵਰਤੋਂ ਕਰ ਸਕਦੇ ਹੋ। ਆਮ ਤੌਰ 'ਤੇ, RAG ਵੱਡੇ ਮਾਡਲਾਂ ਜਾਂ SLMs ਦੇ ਫਾਈਨ-ਟਿਊਨਡ ਵਰਜਨ ਨਾਲ ਜ਼ਿਆਦਾ ਪ੍ਰਭਾਵਸ਼ਾਲੀ ਹੁੰਦਾ ਹੈ।\n"
   ]
  },
  {
   "cell_type": "code",
   "execution_count": null,
   "metadata": {},
   "outputs": [],
   "source": [
    "import csv\n",
    "\n",
    "SYSTEM_MESSAGE = \"\"\"\n",
    "You are a helpful assistant that answers questions about cars based off a hybrid car data set.\n",
    "You must use the data set to answer the questions, you should not provide any information that is not in the provided sources.\n",
    "\"\"\"\n",
    "\n",
    "USER_MESSAGE = \"how fast is a prius?\"\n",
    "\n",
    "# Open the CSV and store in a list\n",
    "with open(\"hybrid.csv\", \"r\") as file:\n",
    "    reader = csv.reader(file)\n",
    "    rows = list(reader)\n",
    "\n",
    "# Normalize the user question to replace punctuation and make lowercase\n",
    "normalized_message = USER_MESSAGE.lower().replace(\"?\", \"\").replace(\"(\", \" \").replace(\")\", \" \")\n",
    "\n",
    "# Search the CSV for user question using very naive search\n",
    "words = normalized_message.split()\n",
    "matches = []\n",
    "for row in rows[1:]:\n",
    "    # if the word matches any word in row, add the row to the matches\n",
    "    if any(word in row[0].lower().split() for word in words) or any(word in row[5].lower().split() for word in words):\n",
    "        matches.append(row)\n",
    "\n",
    "# Format as a markdown table, since language models understand markdown\n",
    "matches_table = \" | \".join(rows[0]) + \"\\n\" + \" | \".join(\" --- \" for _ in range(len(rows[0]))) + \"\\n\"\n",
    "matches_table += \"\\n\".join(\" | \".join(row) for row in matches)\n",
    "print(f\"Found {len(matches)} matches:\")\n",
    "print(matches_table)\n",
    "\n",
    "# Now we can use the matches to generate a response\n",
    "response = client.chat.completions.create(\n",
    "    model=MODEL_NAME,\n",
    "    temperature=0.7,\n",
    "    n=1,\n",
    "    messages=[\n",
    "        {\"role\": \"system\", \"content\": SYSTEM_MESSAGE},\n",
    "        {\"role\": \"user\", \"content\": USER_MESSAGE + \"\\nSources: \" + matches_table},\n",
    "    ],\n",
    ")\n",
    "\n",
    "print(\"Response:\")\n",
    "print(response.choices[0].message.content)"
   ]
  },
  {
   "cell_type": "markdown",
   "metadata": {},
   "source": [
    "\n---\n\n**ਅਸਵੀਕਰਤੀ**:  \nਇਹ ਦਸਤਾਵੇਜ਼ AI ਅਨੁਵਾਦ ਸੇਵਾ [Co-op Translator](https://github.com/Azure/co-op-translator) ਦੀ ਵਰਤੋਂ ਕਰਕੇ ਅਨੁਵਾਦ ਕੀਤਾ ਗਿਆ ਹੈ। ਜਦੋਂ ਕਿ ਅਸੀਂ ਸਹੀ ਹੋਣ ਦੀ ਕੋਸ਼ਿਸ਼ ਕਰਦੇ ਹਾਂ, ਕਿਰਪਾ ਕਰਕੇ ਧਿਆਨ ਦਿਓ ਕਿ ਸਵੈਚਾਲਿਤ ਅਨੁਵਾਦਾਂ ਵਿੱਚ ਗਲਤੀਆਂ ਜਾਂ ਅਸੁਚੀਤਤਾਵਾਂ ਹੋ ਸਕਦੀਆਂ ਹਨ। ਮੂਲ ਦਸਤਾਵੇਜ਼, ਜੋ ਇਸਦੀ ਮੂਲ ਭਾਸ਼ਾ ਵਿੱਚ ਹੈ, ਨੂੰ ਅਧਿਕਾਰਤ ਸਰੋਤ ਮੰਨਿਆ ਜਾਣਾ ਚਾਹੀਦਾ ਹੈ। ਮਹੱਤਵਪੂਰਨ ਜਾਣਕਾਰੀ ਲਈ, ਪੇਸ਼ੇਵਰ ਮਨੁੱਖੀ ਅਨੁਵਾਦ ਦੀ ਸਿਫਾਰਸ਼ ਕੀਤੀ ਜਾਂਦੀ ਹੈ। ਇਸ ਅਨੁਵਾਦ ਦੀ ਵਰਤੋਂ ਤੋਂ ਪੈਦਾ ਹੋਣ ਵਾਲੇ ਕਿਸੇ ਵੀ ਗਲਤਫਹਿਮੀ ਜਾਂ ਗਲਤ ਵਿਆਖਿਆ ਲਈ ਅਸੀਂ ਜ਼ਿੰਮੇਵਾਰ ਨਹੀਂ ਹਾਂ।\n"
   ]
  }
 ],
 "metadata": {
  "kernelspec": {
   "display_name": "Python 3",
   "language": "python",
   "name": "python3"
  },
  "language_info": {
   "codemirror_mode": {
    "name": "ipython",
    "version": 3
   },
   "file_extension": ".py",
   "mimetype": "text/x-python",
   "name": "python",
   "nbconvert_exporter": "python",
   "pygments_lexer": "ipython3",
   "version": "3.12.3"
  },
  "coopTranslator": {
   "original_hash": "6f9e40a7dbbd892aae50aff77da4b4be",
   "translation_date": "2025-09-12T20:11:43+00:00",
   "source_file": "code/01.Introduce/ollama.ipynb",
   "language_code": "pa"
  }
 },
 "nbformat": 4,
 "nbformat_minor": 2
}