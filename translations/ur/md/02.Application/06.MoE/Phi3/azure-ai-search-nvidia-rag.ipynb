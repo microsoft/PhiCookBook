{
 "cells": [
  {
   "cell_type": "markdown",
   "metadata": {},
   "source": [
    "# Azure AI سرچ کے ساتھ NVIDIA NIM اور LlamaIndex انضمام\n",
    "\n",
    "اس نوٹ بک میں، ہم NVIDIA کے AI ماڈلز اور LlamaIndex کا استعمال کرتے ہوئے ایک طاقتور Retrieval-Augmented Generation (RAG) پائپ لائن بنانے کا مظاہرہ کریں گے۔ ہم NVIDIA کے LLMs اور embeddings کو استعمال کریں گے، انہیں Azure AI سرچ کے ساتھ بطور ویکٹر اسٹور ضم کریں گے، اور RAG کے ذریعے سرچ کی کوالٹی اور کارکردگی کو بہتر بنائیں گے۔\n",
    "\n",
    "## فوائد\n",
    "- **اسکیل ایبلٹی**: NVIDIA کے بڑے زبان ماڈلز اور Azure AI سرچ کا استعمال کرتے ہوئے اسکیل ایبل اور مؤثر ریٹریول حاصل کریں۔\n",
    "- **لاگت کی بچت**: مؤثر ویکٹر اسٹوریج اور ہائبرڈ سرچ تکنیک کے ذریعے سرچ اور ریٹریول کو بہتر بنائیں۔\n",
    "- **اعلی کارکردگی**: طاقتور LLMs کو ویکٹرائزڈ سرچ کے ساتھ ملا کر تیز اور زیادہ درست جوابات حاصل کریں۔\n",
    "- **کوالٹی**: متعلقہ دستاویزات کے ذریعے LLM جوابات کو بنیاد فراہم کرتے ہوئے سرچ کی کوالٹی برقرار رکھیں۔\n",
    "\n",
    "## ضروریات\n",
    "- 🐍 Python 3.9 یا اس سے زیادہ\n",
    "- 🔗 [Azure AI سرچ سروس](https://learn.microsoft.com/azure/search/)\n",
    "- 🔗 NVIDIA API Key تاکہ NVIDIA کے LLMs اور Embeddings تک رسائی حاصل کی جا سکے NVIDIA NIM مائیکرو سروسز کے ذریعے\n",
    "\n",
    "## شامل کردہ خصوصیات\n",
    "- ✅ NVIDIA LLM انضمام (ہم استعمال کریں گے [Phi-3.5-MOE](https://build.nvidia.com/microsoft/phi-3_5-moe))\n",
    "- ✅ NVIDIA Embeddings (ہم استعمال کریں گے [nv-embedqa-e5-v5](https://build.nvidia.com/nvidia/nv-embedqa-e5-v5))\n",
    "- ✅ Azure AI سرچ کے جدید ریٹریول موڈز\n",
    "- ✅ دستاویزات کی انڈیکسنگ LlamaIndex کے ساتھ\n",
    "- ✅ RAG Azure AI سرچ اور LlamaIndex کے ساتھ NVIDIA LLMs کا استعمال کرتے ہوئے\n",
    "\n",
    "چلیں شروع کرتے ہیں!\n"
   ]
  },
  {
   "cell_type": "code",
   "execution_count": null,
   "metadata": {},
   "outputs": [],
   "source": [
    "!pip install azure-search-documents==11.5.1\n",
    "!pip install --upgrade llama-index\n",
    "!pip install --upgrade llama-index-core\n",
    "!pip install --upgrade llama-index-readers-file\n",
    "!pip install --upgrade llama-index-llms-nvidia\n",
    "!pip install --upgrade llama-index-embeddings-nvidia\n",
    "!pip install --upgrade llama-index-postprocessor-nvidia-rerank\n",
    "!pip install --upgrade llama-index-vector-stores-azureaisearch\n",
    "!pip install python-dotenv"
   ]
  },
  {
   "cell_type": "markdown",
   "metadata": {},
   "source": [
    "## تنصیب اور ضروریات  \n",
    "پائتھون ورژن >3.10 استعمال کرتے ہوئے ایک پائتھون ماحول بنائیں۔\n",
    "\n",
    "## شروعات کریں!  \n"
   ]
  },
  {
   "cell_type": "markdown",
   "metadata": {},
   "source": [
    "NVIDIA AI Foundation ماڈلز استعمال کرنے کے لیے آپ کو `NVIDIA_API_KEY` کی ضرورت ہوگی:\n",
    "1) [NVIDIA](https://build.nvidia.com/explore/discover) کے ساتھ ایک مفت اکاؤنٹ بنائیں۔\n",
    "2) اپنی پسند کے ماڈل پر کلک کریں۔\n",
    "3) Input کے تحت، Python ٹیب منتخب کریں، پھر **Get API Key** پر کلک کریں اور **Generate Key** پر کلک کریں۔\n",
    "4) بنائی گئی key کو NVIDIA_API_KEY کے طور پر کاپی کریں اور محفوظ کریں۔ اس کے بعد، آپ کو endpoints تک رسائی حاصل ہوگی۔\n"
   ]
  },
  {
   "cell_type": "code",
   "execution_count": 3,
   "metadata": {},
   "outputs": [],
   "source": [
    "import getpass\n",
    "import os\n",
    "from dotenv import load_dotenv\n",
    "\n",
    "# Load environment variables\n",
    "load_dotenv()\n",
    "\n",
    "if not os.environ.get(\"NVIDIA_API_KEY\", \"\").startswith(\"nvapi-\"):\n",
    "    nvidia_api_key = getpass.getpass(\"Enter your NVIDIA API key: \")\n",
    "    assert nvidia_api_key.startswith(\"nvapi-\"), f\"{nvidia_api_key[:5]}... is not a valid key\"\n",
    "    os.environ[\"NVIDIA_API_KEY\"] = nvidia_api_key\n"
   ]
  },
  {
   "cell_type": "markdown",
   "metadata": {},
   "source": [
    "## ایل ایل ایم اور ایمبیڈنگ کے ساتھ RAG مثال\n",
    "### 1) ایل ایل ایم کو شروع کریں\n",
    "`llama-index-llms-nvidia`، جسے NVIDIA کا ایل ایل ایم کنیکٹر بھی کہا جاتا ہے، آپ کو NVIDIA API کیٹلاگ میں دستیاب ماڈلز سے جڑنے اور ان سے مواد تخلیق کرنے کی اجازت دیتا ہے۔ چیٹ کمپلیشن ماڈلز کی فہرست کے لیے یہاں دیکھیں: https://build.nvidia.com/search?term=Text-to-Text\n",
    "\n",
    "یہاں ہم **mixtral-8x7b-instruct-v0.1** استعمال کریں گے۔\n"
   ]
  },
  {
   "cell_type": "code",
   "execution_count": 75,
   "metadata": {},
   "outputs": [],
   "source": [
    "from llama_index.core import Settings\n",
    "from llama_index.llms.nvidia import NVIDIA\n",
    "\n",
    "# Here we are using mixtral-8x7b-instruct-v0.1 model from API Catalog\n",
    "Settings.llm = NVIDIA(model=\"microsoft/phi-3.5-moe-instruct\", api_key=os.getenv(\"NVIDIA_API_KEY\"))"
   ]
  },
  {
   "cell_type": "markdown",
   "metadata": {},
   "source": [
    "### 2) ایمبیڈنگ کو شروع کریں\n",
    "\n",
    "`llama-index-embeddings-nvidia`، جسے NVIDIA کے ایمبیڈنگ کنیکٹر کے نام سے بھی جانا جاتا ہے، آپ کو NVIDIA API کیٹلاگ میں دستیاب ماڈلز سے جڑنے اور ان سے جنریشن کرنے کی اجازت دیتا ہے۔ ہم نے ایمبیڈنگ ماڈل کے طور پر `nvidia/nv-embedqa-e5-v5` کا انتخاب کیا۔ ٹیکسٹ ایمبیڈنگ ماڈلز کی فہرست یہاں دیکھیں: https://build.nvidia.com/nim?filters=usecase%3Ausecase_text_to_embedding%2Cusecase%3Ausecase_image_to_embedding\n"
   ]
  },
  {
   "cell_type": "code",
   "execution_count": 6,
   "metadata": {},
   "outputs": [],
   "source": [
    "from llama_index.embeddings.nvidia import NVIDIAEmbedding\n",
    "\n",
    "Settings.embed_model = NVIDIAEmbedding(model=\"nvidia/nv-embedqa-e5-v5\", api_key=os.getenv(\"NVIDIA_API_KEY\"))"
   ]
  },
  {
   "cell_type": "markdown",
   "metadata": {},
   "source": [
    "### 3) ایک Azure AI سرچ ویکٹر اسٹور بنائیں\n"
   ]
  },
  {
   "cell_type": "code",
   "execution_count": 76,
   "metadata": {},
   "outputs": [],
   "source": [
    "import logging\n",
    "import sys\n",
    "import os\n",
    "import getpass\n",
    "from azure.core.credentials import AzureKeyCredential\n",
    "from azure.search.documents import SearchClient\n",
    "from azure.search.documents.indexes import SearchIndexClient\n",
    "from IPython.display import Markdown, display\n",
    "from llama_index.vector_stores.azureaisearch import AzureAISearchVectorStore, IndexManagement\n",
    "\n",
    "\n",
    "search_service_api_key = os.getenv('AZURE_SEARCH_ADMIN_KEY') or getpass.getpass('Enter your Azure Search API key: ')\n",
    "search_service_endpoint = os.getenv('AZURE_SEARCH_SERVICE_ENDPOINT') or getpass.getpass('Enter your Azure Search service endpoint: ')\n",
    "search_service_api_version = \"2024-07-01\"\n",
    "credential = AzureKeyCredential(search_service_api_key)\n",
    "\n",
    "# Index name to use\n",
    "index_name = \"llamaindex-nvidia-azureaisearch-demo\"\n",
    "\n",
    "# Use index client to demonstrate creating an index\n",
    "index_client = SearchIndexClient(\n",
    "    endpoint=search_service_endpoint,\n",
    "    credential=credential,\n",
    ")\n",
    "\n",
    "# Use search client to demonstrate using existing index\n",
    "search_client = SearchClient(\n",
    "    endpoint=search_service_endpoint,\n",
    "    index_name=index_name,\n",
    "    credential=credential,\n",
    ")"
   ]
  },
  {
   "cell_type": "code",
   "execution_count": null,
   "metadata": {},
   "outputs": [],
   "source": [
    "vector_store = AzureAISearchVectorStore(\n",
    "    search_or_index_client=index_client,\n",
    "    index_name=index_name,\n",
    "    index_management=IndexManagement.CREATE_IF_NOT_EXISTS,\n",
    "    id_field_key=\"id\",\n",
    "    chunk_field_key=\"chunk\",\n",
    "    embedding_field_key=\"embedding\",\n",
    "    embedding_dimensionality=1024, # dimensionality for nv-embedqa-e5-v5 model\n",
    "    metadata_string_field_key=\"metadata\",\n",
    "    doc_id_field_key=\"doc_id\",\n",
    "    language_analyzer=\"en.lucene\",\n",
    "    vector_algorithm_type=\"exhaustiveKnn\",\n",
    "    # compression_type=\"binary\" # Option to use \"scalar\" or \"binary\". NOTE: compression is only supported for HNSW\n",
    ")"
   ]
  },
  {
   "cell_type": "markdown",
   "metadata": {},
   "source": [
    "### دستاویزات کو لوڈ کریں، ٹکڑوں میں تقسیم کریں، اور اپلوڈ کریں\n"
   ]
  },
  {
   "cell_type": "code",
   "execution_count": 20,
   "metadata": {},
   "outputs": [],
   "source": [
    "from llama_index.core import SimpleDirectoryReader, StorageContext, VectorStoreIndex\n",
    "from llama_index.core.text_splitter import TokenTextSplitter\n",
    "\n",
    "# Configure text splitter (nv-embedqa-e5-v5 model has a limit of 512 tokens per input size)\n",
    "text_splitter = TokenTextSplitter(separator=\" \", chunk_size=500, chunk_overlap=10)\n",
    "\n",
    "# Load documents\n",
    "documents = SimpleDirectoryReader(\n",
    "    input_files=[\"data/txt/state_of_the_union.txt\"]\n",
    ").load_data()\n",
    "storage_context = StorageContext.from_defaults(vector_store=vector_store)\n",
    "\n",
    "# Create index with text splitter\n",
    "index = VectorStoreIndex.from_documents(\n",
    "    documents,\n",
    "    transformations=[text_splitter],\n",
    "    storage_context=storage_context,\n",
    ")"
   ]
  },
  {
   "cell_type": "markdown",
   "metadata": {},
   "source": [
    "### 5) اپنے ڈیٹا پر سوالات پوچھنے کے لیے ایک کوئری انجن بنائیں\n",
    "\n",
    "یہاں ایک کوئری ہے جو Azure AI Search میں خالص ویکٹر تلاش کا استعمال کرتی ہے اور ہمارے LLM (Phi-3.5-MOE) کے جواب کو بنیاد فراہم کرتی ہے۔\n"
   ]
  },
  {
   "cell_type": "code",
   "execution_count": 69,
   "metadata": {},
   "outputs": [
    {
     "data": {
      "text/markdown": [
       " The speaker mentioned the Ukrainian Ambassador to the United States, along with other members of Congress, the Cabinet, and various officials such as the Vice President, the First Lady, and the Second Gentleman, as being present in the chamber."
      ],
      "text/plain": [
       "<IPython.core.display.Markdown object>"
      ]
     },
     "metadata": {},
     "output_type": "display_data"
    }
   ],
   "source": [
    "query_engine = index.as_query_engine()\n",
    "response = query_engine.query(\"Who did the speaker mention as being present in the chamber?\")\n",
    "display(Markdown(f\"{response}\"))"
   ]
  },
  {
   "cell_type": "markdown",
   "metadata": {},
   "source": [
    "یہاں Azure AI سرچ میں ہائبرڈ سرچ استعمال کرنے کی ایک استفسار ہے۔\n"
   ]
  },
  {
   "cell_type": "code",
   "execution_count": 70,
   "metadata": {},
   "outputs": [
    {
     "data": {
      "text/markdown": [
       " The Russian stock market experienced a significant drop, losing 40% of its value. Additionally, trading had to be suspended due to the ongoing situation."
      ],
      "text/plain": [
       "<IPython.core.display.Markdown object>"
      ]
     },
     "metadata": {},
     "output_type": "display_data"
    },
    {
     "name": "stdout",
     "output_type": "stream",
     "text": [
      "\n",
      "\n",
      "Source Nodes:\n",
      "file_path: data\\txt\\state_of_the_union.txt\n",
      "\n",
      "building a coalition of other freedom-loving nations from Europe and the Americas to Asia and Africa to confront Putin. \n",
      "\n",
      "I spent countless hours unifying our European allies. We shared with the world in advance what we knew Putin was planning and precisely how he would try to falsely justify his aggression.  \n",
      "\n",
      "We countered Russia’s lies with truth.   \n",
      "\n",
      "And now that he has acted the free world is holding him accountable. \n",
      "\n",
      "Along with twenty-seven members of the European Union including France, Germany, Italy, as well as countries like the United Kingdom, Canada, Japan, Korea, Australia, New Zealand, and many others, even Switzerland. \n",
      "\n",
      "We are inflicting pain on Russia and supporting the people of Ukraine. Putin is now isolated from the world more than ever. \n",
      "\n",
      "Together with our allies –we are right now enforcing powerful economic sanctions. \n",
      "\n",
      "We are cutting off Russia’s largest banks from the international financial system.  \n",
      "\n",
      "Preventing Russia’s central bank from defending the Russian Ruble making Putin’s $630 Billion “war fund” worthless.   \n",
      "\n",
      "We are choking off Russia’s access to technology that will sap its economic strength and weaken its military for years to come.  \n",
      "\n",
      "Tonight I say to the Russian oligarchs and corrupt leaders who have bilked billions of dollars off this violent regime no more. \n",
      "\n",
      "The U.S. Department of Justice is assembling a dedicated task force to go after the crimes of Russian oligarchs.  \n",
      "\n",
      "We are joining with our European allies to find and seize your yachts your luxury apartments your private jets. We are coming for your ill-begotten gains. \n",
      "\n",
      "And tonight I am announcing that we will join our allies in closing off American air space to all Russian flights – further isolating Russia – and adding an additional squeeze –on their economy. The Ruble has lost 30% of its value. \n",
      "\n",
      "The Russian stock market has lost 40% of its value and trading remains suspended. Russia’s economy is reeling and Putin alone is to blame. \n",
      "\n",
      "Together with our allies we are providing support to the Ukrainians in their fight for freedom. Military assistance. Economic assistance. Humanitarian assistance. \n",
      "\n",
      "We are giving more than $1 Billion in direct assistance to Ukraine. \n",
      "\n",
      "And we will continue to aid the Ukrainian people as they defend their country and to help ease their suffering.  \n",
      "\n",
      "Let me be clear, our forces are not engaged and will not engage in\n",
      "file_path: data\\txt\\state_of_the_union.txt\n",
      "\n",
      "our forces are not engaged and will not engage in conflict with Russian forces in Ukraine.  \n",
      "\n",
      "Our forces are not going to Europe to fight in Ukraine, but to defend our NATO Allies – in the event that Putin decides to keep moving west.  \n",
      "\n",
      "For that purpose we’ve mobilized American ground forces, air squadrons, and ship deployments to protect NATO countries including Poland, Romania, Latvia, Lithuania, and Estonia. \n",
      "\n",
      "As I have made crystal clear the United States and our Allies will defend every inch of territory of NATO countries with the full force of our collective power.  \n",
      "\n",
      "And we remain clear-eyed. The Ukrainians are fighting back with pure courage. But the next few days weeks, months, will be hard on them.  \n",
      "\n",
      "Putin has unleashed violence and chaos.  But while he may make gains on the battlefield – he will pay a continuing high price over the long run. \n",
      "\n",
      "And a proud Ukrainian people, who have known 30 years  of independence, have repeatedly shown that they will not tolerate anyone who tries to take their country backwards.  \n",
      "\n",
      "To all Americans, I will be honest with you, as I’ve always promised. A Russian dictator, invading a foreign country, has costs around the world. \n",
      "\n",
      "And I’m taking robust action to make sure the pain of our sanctions  is targeted at Russia’s economy. And I will use every tool at our disposal to protect American businesses and consumers. \n",
      "\n",
      "Tonight, I can announce that the United States has worked with 30 other countries to release 60 Million barrels of oil from reserves around the world.  \n",
      "\n",
      "America will lead that effort, releasing 30 Million barrels from our own Strategic Petroleum Reserve. And we stand ready to do more if necessary, unified with our allies.  \n",
      "\n",
      "These steps will help blunt gas prices here at home. And I know the news about what’s happening can seem alarming. \n",
      "\n",
      "But I want you to know that we are going to be okay. \n",
      "\n",
      "When the history of this era is written Putin’s war on Ukraine will have left Russia weaker and the rest of the world stronger. \n",
      "\n",
      "While it shouldn’t have taken something so terrible for people around the world to see what’s at stake now everyone sees it clearly. \n",
      "\n",
      "We see the unity among leaders of nations and a more unified Europe a more unified West. And we see unity among the people who are gathering in cities in large crowds around the world\n"
     ]
    }
   ],
   "source": [
    "from llama_index.core.query_engine import RetrieverQueryEngine\n",
    "from llama_index.core.vector_stores.types import VectorStoreQueryMode\n",
    "from IPython.display import Markdown, display\n",
    "from llama_index.core.schema import MetadataMode\n",
    "\n",
    "# Initialize hybrid retriever and query engine\n",
    "hybrid_retriever = index.as_retriever(vector_store_query_mode=VectorStoreQueryMode.HYBRID)\n",
    "hybrid_query_engine = RetrieverQueryEngine(retriever=hybrid_retriever)\n",
    "\n",
    "# Query execution\n",
    "query = \"What were the exact economic consequences mentioned in relation to Russia's stock market?\"\n",
    "response = hybrid_query_engine.query(query)\n",
    "\n",
    "# Display the response\n",
    "display(Markdown(f\"{response}\"))\n",
    "print(\"\\n\")\n",
    "\n",
    "# Print the source nodes\n",
    "print(\"Source Nodes:\")\n",
    "for node in response.source_nodes:\n",
    "    print(node.get_content(metadata_mode=MetadataMode.LLM))"
   ]
  },
  {
   "cell_type": "markdown",
   "metadata": {},
   "source": [
    "#### ویکٹر سرچ تجزیہ  \n",
    "ایل ایل ایم کا جواب روس کی اسٹاک مارکیٹ کے حوالے سے ماخذ متن میں ذکر کردہ اہم اقتصادی نتائج کو درست طریقے سے بیان کرتا ہے۔ خاص طور پر، یہ بتاتا ہے کہ روسی اسٹاک مارکیٹ میں نمایاں کمی ہوئی، جس سے اس کی قدر کا 40% نقصان ہوا، اور جاری صورتحال کی وجہ سے تجارت معطل کر دی گئی۔ یہ جواب ماخذ میں فراہم کردہ معلومات کے ساتھ اچھی طرح مطابقت رکھتا ہے، جو ظاہر کرتا ہے کہ ایل ایل ایم نے اسٹاک مارکیٹ پر اثرات کے متعلق اہم تفصیلات کو درست طریقے سے پہچانا اور خلاصہ کیا۔\n",
    "\n",
    "#### ماخذ نوڈز پر تبصرہ  \n",
    "ماخذ نوڈز بین الاقوامی پابندیوں کی وجہ سے روس کو درپیش اقتصادی نتائج کی تفصیلی وضاحت فراہم کرتے ہیں۔ متن میں یہ بات نمایاں کی گئی ہے کہ روسی اسٹاک مارکیٹ نے اپنی قدر کا 40% کھو دیا، اور تجارت معطل کر دی گئی۔ اس کے علاوہ، دیگر اقتصادی اثرات کا بھی ذکر کیا گیا ہے، جیسے روبل کی قدر میں کمی اور روسی معیشت کی وسیع پیمانے پر تنہائی۔ ایل ایل ایم کے جواب نے ان نوڈز سے اہم نکات کو مؤثر طریقے سے اخذ کیا، خاص طور پر اسٹاک مارکیٹ کے اثرات پر توجہ مرکوز کرتے ہوئے، جیسا کہ سوال میں درخواست کی گئی تھی۔\n"
   ]
  },
  {
   "cell_type": "markdown",
   "metadata": {},
   "source": [
    "اب آئیے ایک ایسی مثال دیکھتے ہیں جہاں ہائبرڈ سرچ ایک مضبوط جواب فراہم نہیں کرتی:\n"
   ]
  },
  {
   "cell_type": "code",
   "execution_count": 71,
   "metadata": {},
   "outputs": [
    {
     "data": {
      "text/markdown": [
       " The provided context does not specify the exact date of Russia's invasion of Ukraine. However, it does mention that the events discussed are happening in the current era and that the actions taken are in response to Putin's aggression. For the precise date, one would need to refer to external sources or historical records."
      ],
      "text/plain": [
       "<IPython.core.display.Markdown object>"
      ]
     },
     "metadata": {},
     "output_type": "display_data"
    },
    {
     "name": "stdout",
     "output_type": "stream",
     "text": [
      "\n",
      "\n",
      "Source Nodes:\n",
      "file_path: data\\txt\\state_of_the_union.txt\n",
      "\n",
      "our forces are not engaged and will not engage in conflict with Russian forces in Ukraine.  \n",
      "\n",
      "Our forces are not going to Europe to fight in Ukraine, but to defend our NATO Allies – in the event that Putin decides to keep moving west.  \n",
      "\n",
      "For that purpose we’ve mobilized American ground forces, air squadrons, and ship deployments to protect NATO countries including Poland, Romania, Latvia, Lithuania, and Estonia. \n",
      "\n",
      "As I have made crystal clear the United States and our Allies will defend every inch of territory of NATO countries with the full force of our collective power.  \n",
      "\n",
      "And we remain clear-eyed. The Ukrainians are fighting back with pure courage. But the next few days weeks, months, will be hard on them.  \n",
      "\n",
      "Putin has unleashed violence and chaos.  But while he may make gains on the battlefield – he will pay a continuing high price over the long run. \n",
      "\n",
      "And a proud Ukrainian people, who have known 30 years  of independence, have repeatedly shown that they will not tolerate anyone who tries to take their country backwards.  \n",
      "\n",
      "To all Americans, I will be honest with you, as I’ve always promised. A Russian dictator, invading a foreign country, has costs around the world. \n",
      "\n",
      "And I’m taking robust action to make sure the pain of our sanctions  is targeted at Russia’s economy. And I will use every tool at our disposal to protect American businesses and consumers. \n",
      "\n",
      "Tonight, I can announce that the United States has worked with 30 other countries to release 60 Million barrels of oil from reserves around the world.  \n",
      "\n",
      "America will lead that effort, releasing 30 Million barrels from our own Strategic Petroleum Reserve. And we stand ready to do more if necessary, unified with our allies.  \n",
      "\n",
      "These steps will help blunt gas prices here at home. And I know the news about what’s happening can seem alarming. \n",
      "\n",
      "But I want you to know that we are going to be okay. \n",
      "\n",
      "When the history of this era is written Putin’s war on Ukraine will have left Russia weaker and the rest of the world stronger. \n",
      "\n",
      "While it shouldn’t have taken something so terrible for people around the world to see what’s at stake now everyone sees it clearly. \n",
      "\n",
      "We see the unity among leaders of nations and a more unified Europe a more unified West. And we see unity among the people who are gathering in cities in large crowds around the world\n",
      "file_path: data\\txt\\state_of_the_union.txt\n",
      "\n",
      "building a coalition of other freedom-loving nations from Europe and the Americas to Asia and Africa to confront Putin. \n",
      "\n",
      "I spent countless hours unifying our European allies. We shared with the world in advance what we knew Putin was planning and precisely how he would try to falsely justify his aggression.  \n",
      "\n",
      "We countered Russia’s lies with truth.   \n",
      "\n",
      "And now that he has acted the free world is holding him accountable. \n",
      "\n",
      "Along with twenty-seven members of the European Union including France, Germany, Italy, as well as countries like the United Kingdom, Canada, Japan, Korea, Australia, New Zealand, and many others, even Switzerland. \n",
      "\n",
      "We are inflicting pain on Russia and supporting the people of Ukraine. Putin is now isolated from the world more than ever. \n",
      "\n",
      "Together with our allies –we are right now enforcing powerful economic sanctions. \n",
      "\n",
      "We are cutting off Russia’s largest banks from the international financial system.  \n",
      "\n",
      "Preventing Russia’s central bank from defending the Russian Ruble making Putin’s $630 Billion “war fund” worthless.   \n",
      "\n",
      "We are choking off Russia’s access to technology that will sap its economic strength and weaken its military for years to come.  \n",
      "\n",
      "Tonight I say to the Russian oligarchs and corrupt leaders who have bilked billions of dollars off this violent regime no more. \n",
      "\n",
      "The U.S. Department of Justice is assembling a dedicated task force to go after the crimes of Russian oligarchs.  \n",
      "\n",
      "We are joining with our European allies to find and seize your yachts your luxury apartments your private jets. We are coming for your ill-begotten gains. \n",
      "\n",
      "And tonight I am announcing that we will join our allies in closing off American air space to all Russian flights – further isolating Russia – and adding an additional squeeze –on their economy. The Ruble has lost 30% of its value. \n",
      "\n",
      "The Russian stock market has lost 40% of its value and trading remains suspended. Russia’s economy is reeling and Putin alone is to blame. \n",
      "\n",
      "Together with our allies we are providing support to the Ukrainians in their fight for freedom. Military assistance. Economic assistance. Humanitarian assistance. \n",
      "\n",
      "We are giving more than $1 Billion in direct assistance to Ukraine. \n",
      "\n",
      "And we will continue to aid the Ukrainian people as they defend their country and to help ease their suffering.  \n",
      "\n",
      "Let me be clear, our forces are not engaged and will not engage in\n"
     ]
    }
   ],
   "source": [
    "# Query execution\n",
    "query = \"What was the precise date when Russia invaded Ukraine?\"\n",
    "response = hybrid_query_engine.query(query)\n",
    "\n",
    "# Display the response\n",
    "display(Markdown(f\"{response}\"))\n",
    "print(\"\\n\")\n",
    "\n",
    "# Print the source nodes\n",
    "print(\"Source Nodes:\")\n",
    "for node in response.source_nodes:\n",
    "    print(node.get_content(metadata_mode=MetadataMode.LLM))\n"
   ]
  },
  {
   "cell_type": "markdown",
   "metadata": {},
   "source": [
    "### ہائبرڈ سرچ: ایل ایل ایم ردعمل کا تجزیہ\n",
    "ہائبرڈ سرچ کی مثال میں ایل ایل ایم کا ردعمل ظاہر کرتا ہے کہ فراہم کردہ سیاق و سباق میں روس کے یوکرین پر حملے کی صحیح تاریخ کا ذکر نہیں ہے۔ یہ ردعمل اس بات کی نشاندہی کرتا ہے کہ ایل ایل ایم دستیاب معلومات کو استعمال کر رہا ہے لیکن متن میں موجود تفصیلات کی کمی کو تسلیم کرتا ہے۔\n",
    "\n",
    "یہ ردعمل درست ہے کیونکہ یہ پہچانتا ہے کہ سیاق و سباق میں روس کی جارحیت سے متعلق واقعات کا ذکر ہے لیکن حملے کی مخصوص تاریخ کا ذکر نہیں ہے۔ یہ ایل ایل ایم کی صلاحیت کو ظاہر کرتا ہے کہ وہ فراہم کردہ معلومات کو سمجھ سکتا ہے اور مواد میں موجود خلا کو پہچان سکتا ہے۔ ایل ایل ایم مؤثر طریقے سے صارف کو بیرونی ذرائع یا تاریخی ریکارڈز سے صحیح تاریخ تلاش کرنے کی ترغیب دیتا ہے، اور جب معلومات مکمل نہ ہوں تو محتاط رویہ اپناتا ہے۔\n",
    "\n",
    "### سورس نوڈز کا تجزیہ\n",
    "ہائبرڈ سرچ کی مثال میں سورس نوڈز میں ایک تقریر کے اقتباسات شامل ہیں جو یوکرین میں روس کی کارروائیوں کے جواب میں امریکہ کے ردعمل پر بات کرتے ہیں۔ یہ نوڈز وسیع تر جغرافیائی سیاسی اثرات اور حملے کے جواب میں امریکہ اور اس کے اتحادیوں کے اقدامات پر زور دیتے ہیں، لیکن حملے کی مخصوص تاریخ کا ذکر نہیں کرتے۔ یہ ایل ایل ایم کے ردعمل کے ساتھ ہم آہنگ ہے، جو درست طور پر پہچانتا ہے کہ سیاق و سباق میں صحیح تاریخ کی معلومات موجود نہیں ہیں۔\n"
   ]
  },
  {
   "cell_type": "code",
   "execution_count": 72,
   "metadata": {},
   "outputs": [
    {
     "data": {
      "text/markdown": [
       " The provided context does not specify the exact date of Russia's invasion of Ukraine. However, it mentions that the event occurred six days before the speech was given. To determine the precise date, one would need to know the date of the speech."
      ],
      "text/plain": [
       "<IPython.core.display.Markdown object>"
      ]
     },
     "metadata": {},
     "output_type": "display_data"
    },
    {
     "name": "stdout",
     "output_type": "stream",
     "text": [
      "\n",
      "\n",
      "Source Nodes:\n",
      "file_path: data\\txt\\state_of_the_union.txt\n",
      "\n",
      "Madam Speaker, Madam Vice President, our First Lady and Second Gentleman. Members of Congress and the Cabinet. Justices of the Supreme Court. My fellow Americans.  \n",
      "\n",
      "Last year COVID-19 kept us apart. This year we are finally together again. \n",
      "\n",
      "Tonight, we meet as Democrats Republicans and Independents. But most importantly as Americans. \n",
      "\n",
      "With a duty to one another to the American people to the Constitution. \n",
      "\n",
      "And with an unwavering resolve that freedom will always triumph over tyranny. \n",
      "\n",
      "Six days ago, Russia’s Vladimir Putin sought to shake the foundations of the free world thinking he could make it bend to his menacing ways. But he badly miscalculated. \n",
      "\n",
      "He thought he could roll into Ukraine and the world would roll over. Instead he met a wall of strength he never imagined. \n",
      "\n",
      "He met the Ukrainian people. \n",
      "\n",
      "From President Zelenskyy to every Ukrainian, their fearlessness, their courage, their determination, inspires the world. \n",
      "\n",
      "Groups of citizens blocking tanks with their bodies. Everyone from students to retirees teachers turned soldiers defending their homeland. \n",
      "\n",
      "In this struggle as President Zelenskyy said in his speech to the European Parliament “Light will win over darkness.” The Ukrainian Ambassador to the United States is here tonight. \n",
      "\n",
      "Let each of us here tonight in this Chamber send an unmistakable signal to Ukraine and to the world. \n",
      "\n",
      "Please rise if you are able and show that, Yes, we the United States of America stand with the Ukrainian people. \n",
      "\n",
      "Throughout our history we’ve learned this lesson when dictators do not pay a price for their aggression they cause more chaos.   \n",
      "\n",
      "They keep moving.   \n",
      "\n",
      "And the costs and the threats to America and the world keep rising.   \n",
      "\n",
      "That’s why the NATO Alliance was created to secure peace and stability in Europe after World War 2. \n",
      "\n",
      "The United States is a member along with 29 other nations. \n",
      "\n",
      "It matters. American diplomacy matters. American resolve matters. \n",
      "\n",
      "Putin’s latest attack on Ukraine was premeditated and unprovoked. \n",
      "\n",
      "He rejected repeated efforts at diplomacy. \n",
      "\n",
      "He thought the West and NATO wouldn’t respond. And he thought he could divide us at home. Putin was wrong. We were ready.  Here is what we did.   \n",
      "\n",
      "We prepared extensively and carefully. \n",
      "\n",
      "We spent months building a coalition of other freedom-loving nations from Europe\n",
      "file_path: data\\txt\\state_of_the_union.txt\n",
      "\n",
      "our forces are not engaged and will not engage in conflict with Russian forces in Ukraine.  \n",
      "\n",
      "Our forces are not going to Europe to fight in Ukraine, but to defend our NATO Allies – in the event that Putin decides to keep moving west.  \n",
      "\n",
      "For that purpose we’ve mobilized American ground forces, air squadrons, and ship deployments to protect NATO countries including Poland, Romania, Latvia, Lithuania, and Estonia. \n",
      "\n",
      "As I have made crystal clear the United States and our Allies will defend every inch of territory of NATO countries with the full force of our collective power.  \n",
      "\n",
      "And we remain clear-eyed. The Ukrainians are fighting back with pure courage. But the next few days weeks, months, will be hard on them.  \n",
      "\n",
      "Putin has unleashed violence and chaos.  But while he may make gains on the battlefield – he will pay a continuing high price over the long run. \n",
      "\n",
      "And a proud Ukrainian people, who have known 30 years  of independence, have repeatedly shown that they will not tolerate anyone who tries to take their country backwards.  \n",
      "\n",
      "To all Americans, I will be honest with you, as I’ve always promised. A Russian dictator, invading a foreign country, has costs around the world. \n",
      "\n",
      "And I’m taking robust action to make sure the pain of our sanctions  is targeted at Russia’s economy. And I will use every tool at our disposal to protect American businesses and consumers. \n",
      "\n",
      "Tonight, I can announce that the United States has worked with 30 other countries to release 60 Million barrels of oil from reserves around the world.  \n",
      "\n",
      "America will lead that effort, releasing 30 Million barrels from our own Strategic Petroleum Reserve. And we stand ready to do more if necessary, unified with our allies.  \n",
      "\n",
      "These steps will help blunt gas prices here at home. And I know the news about what’s happening can seem alarming. \n",
      "\n",
      "But I want you to know that we are going to be okay. \n",
      "\n",
      "When the history of this era is written Putin’s war on Ukraine will have left Russia weaker and the rest of the world stronger. \n",
      "\n",
      "While it shouldn’t have taken something so terrible for people around the world to see what’s at stake now everyone sees it clearly. \n",
      "\n",
      "We see the unity among leaders of nations and a more unified Europe a more unified West. And we see unity among the people who are gathering in cities in large crowds around the world\n"
     ]
    }
   ],
   "source": [
    "# Initialize hybrid retriever and query engine\n",
    "semantic_reranker_retriever = index.as_retriever(vector_store_query_mode=VectorStoreQueryMode.SEMANTIC_HYBRID)\n",
    "semantic_reranker_query_engine = RetrieverQueryEngine(retriever=semantic_reranker_retriever)\n",
    "\n",
    "# Query execution\n",
    "query = \"What was the precise date when Russia invaded Ukraine?\"\n",
    "response = semantic_reranker_query_engine.query(query)\n",
    "\n",
    "# Display the response\n",
    "display(Markdown(f\"{response}\"))\n",
    "print(\"\\n\")\n",
    "\n",
    "# Print the source nodes\n",
    "print(\"Source Nodes:\")\n",
    "for node in response.source_nodes:\n",
    "    print(node.get_content(metadata_mode=MetadataMode.LLM))\n"
   ]
  },
  {
   "cell_type": "markdown",
   "metadata": {},
   "source": [
    "### ہائبرڈ w/Reranking: LLM جواب کا تجزیہ\n",
    "ہائبرڈ w/Reranking کی مثال میں، LLM جواب اضافی سیاق و سباق فراہم کرتا ہے، یہ بتاتے ہوئے کہ واقعہ تقریر دیے جانے سے چھ دن پہلے ہوا تھا۔ یہ ظاہر کرتا ہے کہ LLM تقریر کے وقت کی بنیاد پر حملے کی تاریخ کا اندازہ لگا سکتا ہے، حالانکہ اسے درستگی کے لیے تقریر کی صحیح تاریخ جاننے کی ضرورت ہوتی ہے۔\n",
    "\n",
    "یہ جواب سیاق و سباق کے اشارے استعمال کرنے کی بہتر صلاحیت کو ظاہر کرتا ہے تاکہ زیادہ معلوماتی جواب فراہم کیا جا سکے۔ یہ reranking کے فائدے کو اجاگر کرتا ہے، جہاں LLM زیادہ متعلقہ معلومات تک رسائی حاصل کر سکتا ہے اور ترجیح دے سکتا ہے تاکہ مطلوبہ تفصیل (یعنی حملے کی تاریخ) کے قریب تر اندازہ فراہم کیا جا سکے۔\n",
    "\n",
    "### سورس نوڈز کا تجزیہ\n",
    "اس مثال میں سورس نوڈز میں روس کے حملے کے وقت کے حوالے شامل ہیں، خاص طور پر یہ ذکر کرتے ہوئے کہ یہ تقریر سے چھ دن پہلے ہوا تھا۔ حالانکہ صحیح تاریخ واضح طور پر بیان نہیں کی گئی، نوڈز عارضی سیاق و سباق فراہم کرتے ہیں جو LLM کو زیادہ باریک بینی سے جواب دینے کی اجازت دیتا ہے۔ اس تفصیل کا شامل ہونا یہ ظاہر کرتا ہے کہ reranking کس طرح فراہم کردہ سیاق و سباق سے معلومات نکالنے اور اندازہ لگانے کی LLM کی صلاحیت کو بہتر بنا سکتا ہے، جس کے نتیجے میں زیادہ درست اور معلوماتی جواب حاصل ہوتا ہے۔\n"
   ]
  },
  {
   "cell_type": "markdown",
   "metadata": {},
   "source": [
    "**نوٹ:**  \n",
    "اس نوٹ بک میں، ہم نے NVIDIA API کیٹلاگ سے NVIDIA NIM مائیکرو سروسز استعمال کی ہیں۔  \n",
    "اوپر دی گئی APIs، `NVIDIA (llms)`, `NVIDIAEmbedding`, اور [Azure AI Search Semantic Hybrid Retrieval (بلٹ ان رینکنگ)](https://learn.microsoft.com/azure/search/semantic-search-overview)۔  \n",
    "نوٹ کریں کہ یہ APIs خود میزبان مائیکرو سروسز کو بھی سپورٹ کر سکتی ہیں۔  \n",
    "\n",
    "**مثال:**  \n",
    "```python  \n",
    "NVIDIA(model=\"meta/llama3-8b-instruct\", base_url=\"http://your-nim-host-address:8000/v1\")  \n"
   ]
  },
  {
   "cell_type": "markdown",
   "metadata": {},
   "source": [
    "\n---\n\n**ڈسکلیمر**:  \nیہ دستاویز AI ترجمہ سروس [Co-op Translator](https://github.com/Azure/co-op-translator) کا استعمال کرتے ہوئے ترجمہ کی گئی ہے۔ ہم درستگی کے لیے کوشش کرتے ہیں، لیکن براہ کرم آگاہ رہیں کہ خودکار ترجمے میں غلطیاں یا غیر درستیاں ہو سکتی ہیں۔ اصل دستاویز کو اس کی اصل زبان میں مستند ذریعہ سمجھا جانا چاہیے۔ اہم معلومات کے لیے، پیشہ ور انسانی ترجمہ کی سفارش کی جاتی ہے۔ ہم اس ترجمے کے استعمال سے پیدا ہونے والی کسی بھی غلط فہمی یا غلط تشریح کے ذمہ دار نہیں ہیں۔\n"
   ]
  }
 ],
 "metadata": {
  "kernelspec": {
   "display_name": "Python 3",
   "language": "python",
   "name": "python3"
  },
  "language_info": {
   "codemirror_mode": {
    "name": "ipython",
    "version": 3
   },
   "file_extension": ".py",
   "mimetype": "text/x-python",
   "name": "python",
   "nbconvert_exporter": "python",
   "pygments_lexer": "ipython3",
   "version": "3.11.9"
  },
  "coopTranslator": {
   "original_hash": "c023540b1eda8c0746871294979e1e5c",
   "translation_date": "2025-09-12T19:03:51+00:00",
   "source_file": "md/02.Application/06.MoE/Phi3/azure-ai-search-nvidia-rag.ipynb",
   "language_code": "ur"
  }
 },
 "nbformat": 4,
 "nbformat_minor": 2
}