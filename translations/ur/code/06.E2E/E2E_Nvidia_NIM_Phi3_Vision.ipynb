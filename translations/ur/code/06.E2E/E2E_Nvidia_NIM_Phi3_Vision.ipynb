{
 "cells": [
  {
   "cell_type": "code",
   "execution_count": 1,
   "metadata": {},
   "outputs": [
    {
     "name": "stdout",
     "output_type": "stream",
     "text": [
      "Requirement already satisfied: langchain_nvidia_ai_endpoints in c:\\users\\chenj\\miniconda3\\envs\\work\\lib\\site-packages (0.2.0)\n",
      "Requirement already satisfied: aiohttp<4.0.0,>=3.9.1 in c:\\users\\chenj\\miniconda3\\envs\\work\\lib\\site-packages (from langchain_nvidia_ai_endpoints) (3.9.3)\n",
      "Requirement already satisfied: langchain-community<0.3.0,>=0.2.5 in c:\\users\\chenj\\miniconda3\\envs\\work\\lib\\site-packages (from langchain_nvidia_ai_endpoints) (0.2.10)\n",
      "Requirement already satisfied: langchain-core<0.3,>=0.1.47 in c:\\users\\chenj\\miniconda3\\envs\\work\\lib\\site-packages (from langchain_nvidia_ai_endpoints) (0.2.23)\n",
      "Requirement already satisfied: pillow<11.0.0,>=10.0.0 in c:\\users\\chenj\\miniconda3\\envs\\work\\lib\\site-packages (from langchain_nvidia_ai_endpoints) (10.2.0)\n",
      "Requirement already satisfied: aiosignal>=1.1.2 in c:\\users\\chenj\\miniconda3\\envs\\work\\lib\\site-packages (from aiohttp<4.0.0,>=3.9.1->langchain_nvidia_ai_endpoints) (1.3.1)\n",
      "Requirement already satisfied: attrs>=17.3.0 in c:\\users\\chenj\\miniconda3\\envs\\work\\lib\\site-packages (from aiohttp<4.0.0,>=3.9.1->langchain_nvidia_ai_endpoints) (23.2.0)\n",
      "Requirement already satisfied: frozenlist>=1.1.1 in c:\\users\\chenj\\miniconda3\\envs\\work\\lib\\site-packages (from aiohttp<4.0.0,>=3.9.1->langchain_nvidia_ai_endpoints) (1.4.1)\n",
      "Requirement already satisfied: multidict<7.0,>=4.5 in c:\\users\\chenj\\miniconda3\\envs\\work\\lib\\site-packages (from aiohttp<4.0.0,>=3.9.1->langchain_nvidia_ai_endpoints) (6.0.5)\n",
      "Requirement already satisfied: yarl<2.0,>=1.0 in c:\\users\\chenj\\miniconda3\\envs\\work\\lib\\site-packages (from aiohttp<4.0.0,>=3.9.1->langchain_nvidia_ai_endpoints) (1.9.4)\n",
      "Requirement already satisfied: PyYAML>=5.3 in c:\\users\\chenj\\miniconda3\\envs\\work\\lib\\site-packages (from langchain-community<0.3.0,>=0.2.5->langchain_nvidia_ai_endpoints) (6.0.1)\n",
      "Requirement already satisfied: SQLAlchemy<3,>=1.4 in c:\\users\\chenj\\miniconda3\\envs\\work\\lib\\site-packages (from langchain-community<0.3.0,>=0.2.5->langchain_nvidia_ai_endpoints) (2.0.29)\n",
      "Requirement already satisfied: dataclasses-json<0.7,>=0.5.7 in c:\\users\\chenj\\miniconda3\\envs\\work\\lib\\site-packages (from langchain-community<0.3.0,>=0.2.5->langchain_nvidia_ai_endpoints) (0.6.4)\n",
      "Requirement already satisfied: langchain<0.3.0,>=0.2.9 in c:\\users\\chenj\\miniconda3\\envs\\work\\lib\\site-packages (from langchain-community<0.3.0,>=0.2.5->langchain_nvidia_ai_endpoints) (0.2.11)\n",
      "Requirement already satisfied: langsmith<0.2.0,>=0.1.0 in c:\\users\\chenj\\miniconda3\\envs\\work\\lib\\site-packages (from langchain-community<0.3.0,>=0.2.5->langchain_nvidia_ai_endpoints) (0.1.92)\n",
      "Requirement already satisfied: numpy<2,>=1 in c:\\users\\chenj\\miniconda3\\envs\\work\\lib\\site-packages (from langchain-community<0.3.0,>=0.2.5->langchain_nvidia_ai_endpoints) (1.26.4)\n",
      "Requirement already satisfied: requests<3,>=2 in c:\\users\\chenj\\miniconda3\\envs\\work\\lib\\site-packages (from langchain-community<0.3.0,>=0.2.5->langchain_nvidia_ai_endpoints) (2.31.0)\n",
      "Requirement already satisfied: tenacity!=8.4.0,<9.0.0,>=8.1.0 in c:\\users\\chenj\\miniconda3\\envs\\work\\lib\\site-packages (from langchain-community<0.3.0,>=0.2.5->langchain_nvidia_ai_endpoints) (8.5.0)\n",
      "Requirement already satisfied: jsonpatch<2.0,>=1.33 in c:\\users\\chenj\\miniconda3\\envs\\work\\lib\\site-packages (from langchain-core<0.3,>=0.1.47->langchain_nvidia_ai_endpoints) (1.33)\n",
      "Requirement already satisfied: packaging<25,>=23.2 in c:\\users\\chenj\\miniconda3\\envs\\work\\lib\\site-packages (from langchain-core<0.3,>=0.1.47->langchain_nvidia_ai_endpoints) (23.2)\n",
      "Requirement already satisfied: pydantic<3,>=1 in c:\\users\\chenj\\miniconda3\\envs\\work\\lib\\site-packages (from langchain-core<0.3,>=0.1.47->langchain_nvidia_ai_endpoints) (2.6.3)\n",
      "Requirement already satisfied: marshmallow<4.0.0,>=3.18.0 in c:\\users\\chenj\\miniconda3\\envs\\work\\lib\\site-packages (from dataclasses-json<0.7,>=0.5.7->langchain-community<0.3.0,>=0.2.5->langchain_nvidia_ai_endpoints) (3.21.1)\n",
      "Requirement already satisfied: typing-inspect<1,>=0.4.0 in c:\\users\\chenj\\miniconda3\\envs\\work\\lib\\site-packages (from dataclasses-json<0.7,>=0.5.7->langchain-community<0.3.0,>=0.2.5->langchain_nvidia_ai_endpoints) (0.9.0)\n",
      "Requirement already satisfied: jsonpointer>=1.9 in c:\\users\\chenj\\miniconda3\\envs\\work\\lib\\site-packages (from jsonpatch<2.0,>=1.33->langchain-core<0.3,>=0.1.47->langchain_nvidia_ai_endpoints) (2.4)\n",
      "Requirement already satisfied: langchain-text-splitters<0.3.0,>=0.2.0 in c:\\users\\chenj\\miniconda3\\envs\\work\\lib\\site-packages (from langchain<0.3.0,>=0.2.9->langchain-community<0.3.0,>=0.2.5->langchain_nvidia_ai_endpoints) (0.2.2)\n",
      "Requirement already satisfied: orjson<4.0.0,>=3.9.14 in c:\\users\\chenj\\miniconda3\\envs\\work\\lib\\site-packages (from langsmith<0.2.0,>=0.1.0->langchain-community<0.3.0,>=0.2.5->langchain_nvidia_ai_endpoints) (3.10.1)\n",
      "Requirement already satisfied: annotated-types>=0.4.0 in c:\\users\\chenj\\miniconda3\\envs\\work\\lib\\site-packages (from pydantic<3,>=1->langchain-core<0.3,>=0.1.47->langchain_nvidia_ai_endpoints) (0.6.0)\n",
      "Requirement already satisfied: pydantic-core==2.16.3 in c:\\users\\chenj\\miniconda3\\envs\\work\\lib\\site-packages (from pydantic<3,>=1->langchain-core<0.3,>=0.1.47->langchain_nvidia_ai_endpoints) (2.16.3)\n",
      "Requirement already satisfied: typing-extensions>=4.6.1 in c:\\users\\chenj\\miniconda3\\envs\\work\\lib\\site-packages (from pydantic<3,>=1->langchain-core<0.3,>=0.1.47->langchain_nvidia_ai_endpoints) (4.12.2)\n",
      "Requirement already satisfied: charset-normalizer<4,>=2 in c:\\users\\chenj\\miniconda3\\envs\\work\\lib\\site-packages (from requests<3,>=2->langchain-community<0.3.0,>=0.2.5->langchain_nvidia_ai_endpoints) (3.3.2)\n",
      "Requirement already satisfied: idna<4,>=2.5 in c:\\users\\chenj\\miniconda3\\envs\\work\\lib\\site-packages (from requests<3,>=2->langchain-community<0.3.0,>=0.2.5->langchain_nvidia_ai_endpoints) (3.6)\n",
      "Requirement already satisfied: urllib3<3,>=1.21.1 in c:\\users\\chenj\\miniconda3\\envs\\work\\lib\\site-packages (from requests<3,>=2->langchain-community<0.3.0,>=0.2.5->langchain_nvidia_ai_endpoints) (2.2.1)\n",
      "Requirement already satisfied: certifi>=2017.4.17 in c:\\users\\chenj\\miniconda3\\envs\\work\\lib\\site-packages (from requests<3,>=2->langchain-community<0.3.0,>=0.2.5->langchain_nvidia_ai_endpoints) (2024.2.2)\n",
      "Requirement already satisfied: greenlet!=0.4.17 in c:\\users\\chenj\\miniconda3\\envs\\work\\lib\\site-packages (from SQLAlchemy<3,>=1.4->langchain-community<0.3.0,>=0.2.5->langchain_nvidia_ai_endpoints) (3.0.3)\n",
      "Requirement already satisfied: mypy-extensions>=0.3.0 in c:\\users\\chenj\\miniconda3\\envs\\work\\lib\\site-packages (from typing-inspect<1,>=0.4.0->dataclasses-json<0.7,>=0.5.7->langchain-community<0.3.0,>=0.2.5->langchain_nvidia_ai_endpoints) (1.0.0)\n"
     ]
    },
    {
     "name": "stderr",
     "output_type": "stream",
     "text": [
      "\n",
      "[notice] A new release of pip is available: 24.1.2 -> 24.2\n",
      "[notice] To update, run: python.exe -m pip install --upgrade pip\n"
     ]
    }
   ],
   "source": [
    "# Use pip to install the langchain_nvidia_ai_endpoints package\n",
    "# The -U flag ensures that the package is upgraded to the latest version if it's already installed\n",
    "!pip install langchain_nvidia_ai_endpoints -U"
   ]
  },
  {
   "cell_type": "code",
   "execution_count": 2,
   "metadata": {},
   "outputs": [],
   "source": [
    "# Import the ChatNVIDIA class from the langchain_nvidia_ai_endpoints package\n",
    "from langchain_nvidia_ai_endpoints import ChatNVIDIA\n",
    "\n",
    "# Import the getpass module to securely handle password inputs\n",
    "import getpass\n",
    "\n",
    "# Import the os module to interact with the operating system\n",
    "import os\n",
    "\n",
    "# Import the base64 module to encode and decode data in base64 format\n",
    "import base64\n"
   ]
  },
  {
   "cell_type": "code",
   "execution_count": 3,
   "metadata": {},
   "outputs": [],
   "source": [
    "# Check if the environment variable \"NVIDIA_API_KEY\" is not set\n",
    "if not os.getenv(\"NVIDIA_API_KEY\"):\n",
    "    # Prompt the user to enter their NVIDIA API key securely\n",
    "    # Note: the API key should start with \"nvapi-\"\n",
    "    os.environ[\"NVIDIA_API_KEY\"] = getpass.getpass(\"Enter your NVIDIA API key: \")\n"
   ]
  },
  {
   "cell_type": "code",
   "execution_count": 4,
   "metadata": {},
   "outputs": [],
   "source": [
    "# Define the model to be used with the ChatNVIDIA class\n",
    "model = 'microsoft/phi-3-vision-128k-instruct'\n",
    "\n",
    "# Create an instance of the ChatNVIDIA class with the specified model\n",
    "chat = ChatNVIDIA(model=model)\n",
    "\n",
    "# Specify the path to the image file to be used\n",
    "img_path = './imgs/demo.png'\n"
   ]
  },
  {
   "cell_type": "code",
   "execution_count": 5,
   "metadata": {},
   "outputs": [],
   "source": [
    "# Define the text prompt for generating Python code\n",
    "text = \"Please create Python code for image, and use plt to save the new picture under imgs/ and name it phi-3-vision.jpg.\"\n"
   ]
  },
  {
   "cell_type": "code",
   "execution_count": 6,
   "metadata": {},
   "outputs": [],
   "source": [
    "# Open the image file specified by img_path in binary read mode\n",
    "with open(img_path, \"rb\") as f:\n",
    "    # Read the file and encode its contents to base64\n",
    "    image_b64 = base64.b64encode(f.read()).decode()\n",
    "\n",
    "# Create an HTML image tag with the base64-encoded image data\n",
    "image = f'<img src=\"data:image/png;base64,{image_b64}\" />'"
   ]
  },
  {
   "cell_type": "code",
   "execution_count": 7,
   "metadata": {},
   "outputs": [],
   "source": [
    "# Combine the text prompt and the HTML image tag into a single string\n",
    "# The f-string format is used to insert the values of text and image into the prompt\n",
    "prompt = f\"{text} {image}\"\n"
   ]
  },
  {
   "cell_type": "code",
   "execution_count": 8,
   "metadata": {},
   "outputs": [
    {
     "name": "stdout",
     "output_type": "stream",
     "text": [
      "To create a pie chart from the given data and save it as a JPG image, you can use the following Python code with matplotlib:\n",
      "\n",
      "\n",
      "```python\n",
      "\n",
      "import matplotlib.pyplot as plt\n",
      "\n",
      "\n",
      "# Data to plot\n",
      "\n",
      "labels = 'physics', 'chemistry', 'english', 'maths'\n",
      "\n",
      "sizes = [25, 20, 15, 30]\n",
      "\n",
      "colors = ['red', 'yellow', 'cyan', 'magenta']\n",
      "\n",
      "\n",
      "# Plot\n",
      "\n",
      "fig1, ax1 = plt.subplots()\n",
      "\n",
      "ax1.pie(sizes, labels=labels, autopct='%1.1f%%', startangle=140, colors=colors)\n",
      "\n",
      "ax1.axis('equal')  # Equal aspect ratio ensures that pie is drawn as a circle.\n",
      "\n",
      "\n",
      "# Title and style\n",
      "\n",
      "plt.title('Marks obtained in an exam', pad=20)\n",
      "\n",
      "\n",
      "# Save the figure\n",
      "\n",
      "plt.savefig('imgs/phi-3-vision.jpg', format='jpg', bbox_inches='tight')\n",
      "\n",
      "```\n",
      "\n",
      "\n",
      "This code will create a pie chart with the given data, set the title, and save the figure as 'imgs/phi-3-vision.jpg'."
     ]
    }
   ],
   "source": [
    "# Initialize an empty string to store the generated code\n",
    "code = \"\"\n",
    "\n",
    "# Iterate over the chunks of the response from the chat model\n",
    "for chunk in chat.stream(prompt):\n",
    "    # Print each chunk's content without adding a newline at the end\n",
    "    print(chunk.content, end=\"\")\n",
    "    # Append each chunk's content to the code string\n",
    "    code += chunk.content\n"
   ]
  },
  {
   "cell_type": "code",
   "execution_count": 9,
   "metadata": {},
   "outputs": [
    {
     "data": {
      "text/plain": [
       "\"To create a pie chart from the given data and save it as a JPG image, you can use the following Python code with matplotlib:\\n\\n\\n```python\\n\\nimport matplotlib.pyplot as plt\\n\\n\\n# Data to plot\\n\\nlabels = 'physics', 'chemistry', 'english', 'maths'\\n\\nsizes = [25, 20, 15, 30]\\n\\ncolors = ['red', 'yellow', 'cyan', 'magenta']\\n\\n\\n# Plot\\n\\nfig1, ax1 = plt.subplots()\\n\\nax1.pie(sizes, labels=labels, autopct='%1.1f%%', startangle=140, colors=colors)\\n\\nax1.axis('equal')  # Equal aspect ratio ensures that pie is drawn as a circle.\\n\\n\\n# Title and style\\n\\nplt.title('Marks obtained in an exam', pad=20)\\n\\n\\n# Save the figure\\n\\nplt.savefig('imgs/phi-3-vision.jpg', format='jpg', bbox_inches='tight')\\n\\n```\\n\\n\\nThis code will create a pie chart with the given data, set the title, and save the figure as 'imgs/phi-3-vision.jpg'.\""
      ]
     },
     "execution_count": 9,
     "metadata": {},
     "output_type": "execute_result"
    }
   ],
   "source": [
    "# The variable 'code' now contains the complete generated code as a string\n",
    "code\n"
   ]
  },
  {
   "cell_type": "code",
   "execution_count": 10,
   "metadata": {},
   "outputs": [],
   "source": [
    "# Find the starting index of the Python code block within the generated code\n",
    "# The index is set to the position right after '```python'\n",
    "begin = code.index('```python') + 9\n",
    "\n",
    "# Slice the code string from the starting index to the end\n",
    "code = code[begin:]\n"
   ]
  },
  {
   "cell_type": "code",
   "execution_count": 11,
   "metadata": {},
   "outputs": [],
   "source": [
    "# Find the ending index of the Python code block within the generated code\n",
    "# The index is set to the position of the closing '```'\n",
    "end = code.index('```')\n"
   ]
  },
  {
   "cell_type": "code",
   "execution_count": 12,
   "metadata": {},
   "outputs": [],
   "source": [
    "# Slice the code string to include only the content up to the ending index\n",
    "# This removes the closing '```' from the code block\n",
    "code = code[:end]\n"
   ]
  },
  {
   "cell_type": "code",
   "execution_count": 13,
   "metadata": {},
   "outputs": [
    {
     "data": {
      "text/plain": [
       "\"\\n\\nimport matplotlib.pyplot as plt\\n\\n\\n# Data to plot\\n\\nlabels = 'physics', 'chemistry', 'english', 'maths'\\n\\nsizes = [25, 20, 15, 30]\\n\\ncolors = ['red', 'yellow', 'cyan', 'magenta']\\n\\n\\n# Plot\\n\\nfig1, ax1 = plt.subplots()\\n\\nax1.pie(sizes, labels=labels, autopct='%1.1f%%', startangle=140, colors=colors)\\n\\nax1.axis('equal')  # Equal aspect ratio ensures that pie is drawn as a circle.\\n\\n\\n# Title and style\\n\\nplt.title('Marks obtained in an exam', pad=20)\\n\\n\\n# Save the figure\\n\\nplt.savefig('imgs/phi-3-vision.jpg', format='jpg', bbox_inches='tight')\\n\\n\""
      ]
     },
     "execution_count": 13,
     "metadata": {},
     "output_type": "execute_result"
    }
   ],
   "source": [
    "# The variable 'code' now contains the cleaned Python code as a string\n",
    "code"
   ]
  },
  {
   "cell_type": "code",
   "execution_count": 14,
   "metadata": {},
   "outputs": [],
   "source": [
    "# Import the subprocess module to allow for spawning new processes,\n",
    "# connecting to their input/output/error pipes, and obtaining their return codes\n",
    "import subprocess\n"
   ]
  },
  {
   "cell_type": "code",
   "execution_count": 15,
   "metadata": {},
   "outputs": [],
   "source": [
    "# Run the generated Python code as a subprocess\n",
    "# The 'python' command is used with the '-c' option to execute the code string\n",
    "# The 'capture_output' parameter is set to True to capture the standard output and error\n",
    "result = subprocess.run([\"python\", \"-c\", code], capture_output=True)\n"
   ]
  },
  {
   "cell_type": "code",
   "execution_count": 16,
   "metadata": {},
   "outputs": [],
   "source": [
    "# Import the Image and display functions from the IPython.display module\n",
    "# These functions are used to display images in Jupyter notebooks\n",
    "from IPython.display import Image, display\n"
   ]
  },
  {
   "cell_type": "code",
   "execution_count": 17,
   "metadata": {},
   "outputs": [
    {
     "data": {
      "image/jpeg": "[encoded data removed]",
      "text/plain": [
       "<IPython.core.display.Image object>"
      ]
     },
     "metadata": {},
     "output_type": "display_data"
    }
   ],
   "source": [
    "display(Image(filename='./imgs/phi-3-vision.jpg'))"
   ]
  },
  {
   "cell_type": "code",
   "execution_count": 18,
   "metadata": {},
   "outputs": [
    {
     "data": {
      "image/png": "[encoded data removed]",
      "text/plain": [
       "<IPython.core.display.Image object>"
      ]
     },
     "metadata": {},
     "output_type": "display_data"
    }
   ],
   "source": [
    "# Display the image located at the specified file path\n",
    "# The Image function from IPython.display is used to create an image object\n",
    "# The display function is used to render the image in the output cell\n",
    "display(Image(filename='./imgs/demo.png'))\n"
   ]
  },
  {
   "cell_type": "markdown",
   "metadata": {},
   "source": [
    "\n---\n\n**ڈسکلیمر**:  \nیہ دستاویز AI ترجمہ سروس [Co-op Translator](https://github.com/Azure/co-op-translator) کا استعمال کرتے ہوئے ترجمہ کی گئی ہے۔ ہم درستگی کے لیے کوشش کرتے ہیں، لیکن براہ کرم آگاہ رہیں کہ خودکار ترجمے میں غلطیاں یا غیر درستیاں ہو سکتی ہیں۔ اصل دستاویز کو اس کی اصل زبان میں مستند ذریعہ سمجھا جانا چاہیے۔ اہم معلومات کے لیے، پیشہ ور انسانی ترجمہ کی سفارش کی جاتی ہے۔ ہم اس ترجمے کے استعمال سے پیدا ہونے والی کسی بھی غلط فہمی یا غلط تشریح کے ذمہ دار نہیں ہیں۔\n"
   ]
  }
 ],
 "metadata": {
  "kernelspec": {
   "display_name": "base",
   "language": "python",
   "name": "python3"
  },
  "language_info": {
   "codemirror_mode": {
    "name": "ipython",
    "version": 3
   },
   "file_extension": ".py",
   "mimetype": "text/x-python",
   "name": "python",
   "nbconvert_exporter": "python",
   "pygments_lexer": "ipython3",
   "version": "3.11.8"
  },
  "coopTranslator": {
   "original_hash": "6f21ae2c890f7976dba1078cb07d2fd4",
   "translation_date": "2025-09-12T19:43:27+00:00",
   "source_file": "code/06.E2E/E2E_Nvidia_NIM_Phi3_Vision.ipynb",
   "language_code": "ur"
  }
 },
 "nbformat": 4,
 "nbformat_minor": 2
}