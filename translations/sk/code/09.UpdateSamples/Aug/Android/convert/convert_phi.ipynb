{
 "cells": [
  {
   "cell_type": "code",
   "execution_count": 3,
   "metadata": {},
   "outputs": [],
   "source": [
    "TFLITE_MODEL = 'Your Phi-3.5 tflite model path'\n",
    "TOKENIZER_MODEL = 'Your Phi-3.5 tokenizer.model path'\n",
    "START_TOKEN = \"<s>\"\n",
    "STOP_TOKENS = [\"<|endoftext|>\"]\n",
    "OUTPUT_FILENAME = \"Your Phi-3.5 task model path\"\n",
    "ENABLE_BYTES_TO_UNICODE_MAPPING = True\n",
    "\n"
   ]
  },
  {
   "cell_type": "code",
   "execution_count": 4,
   "metadata": {},
   "outputs": [],
   "source": [
    "import mediapipe as mp\n",
    "from mediapipe.tasks.python.genai import bundler"
   ]
  },
  {
   "cell_type": "code",
   "execution_count": 5,
   "metadata": {},
   "outputs": [],
   "source": [
    "config = bundler.BundleConfig(\n",
    "    tflite_model=TFLITE_MODEL,\n",
    "    tokenizer_model=TOKENIZER_MODEL,\n",
    "    start_token=START_TOKEN,\n",
    "    stop_tokens=STOP_TOKENS,\n",
    "    output_filename=OUTPUT_FILENAME,\n",
    "    enable_bytes_to_unicode_mapping=ENABLE_BYTES_TO_UNICODE_MAPPING,\n",
    ")"
   ]
  },
  {
   "cell_type": "code",
   "execution_count": 6,
   "metadata": {},
   "outputs": [],
   "source": [
    "bundler.create_bundle(config)"
   ]
  },
  {
   "cell_type": "markdown",
   "metadata": {},
   "source": [
    "\n---\n\n**Upozornenie**:  \nTento dokument bol preložený pomocou služby na automatický preklad [Co-op Translator](https://github.com/Azure/co-op-translator). Aj keď sa snažíme o presnosť, upozorňujeme, že automatické preklady môžu obsahovať chyby alebo nepresnosti. Pôvodný dokument v jeho pôvodnom jazyku by mal byť považovaný za autoritatívny zdroj. Pre dôležité informácie sa odporúča profesionálny ľudský preklad. Nezodpovedáme za akékoľvek nedorozumenia alebo nesprávne interpretácie vyplývajúce z použitia tohto prekladu.\n"
   ]
  }
 ],
 "metadata": {
  "kernelspec": {
   "display_name": "tflite",
   "language": "python",
   "name": "python3"
  },
  "language_info": {
   "codemirror_mode": {
    "name": "ipython",
    "version": 3
   },
   "file_extension": ".py",
   "mimetype": "text/x-python",
   "name": "python",
   "nbconvert_exporter": "python",
   "pygments_lexer": "ipython3",
   "version": "3.10.12"
  },
  "coopTranslator": {
   "original_hash": "c38852a39916f5605a0d115129fdf162",
   "translation_date": "2025-09-13T06:28:26+00:00",
   "source_file": "code/09.UpdateSamples/Aug/Android/convert/convert_phi.ipynb",
   "language_code": "sk"
  }
 },
 "nbformat": 4,
 "nbformat_minor": 2
}