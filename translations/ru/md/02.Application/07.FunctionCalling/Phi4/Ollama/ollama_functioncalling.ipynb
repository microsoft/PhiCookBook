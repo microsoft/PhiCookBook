{
 "cells": [
  {
   "cell_type": "markdown",
   "metadata": {},
   "source": []
  },
  {
   "cell_type": "markdown",
   "metadata": {},
   "source": []
  },
  {
   "cell_type": "code",
   "execution_count": 1,
   "metadata": {},
   "outputs": [],
   "source": [
    "import requests\n",
    "import json"
   ]
  },
  {
   "cell_type": "markdown",
   "metadata": {},
   "source": []
  },
  {
   "cell_type": "code",
   "execution_count": 2,
   "metadata": {},
   "outputs": [],
   "source": [
    "def get_current_weather(location, format=\"json\"):\n",
    "    return \"Today \" + location + \" is sunny and 20 degrees \"+ format"
   ]
  },
  {
   "cell_type": "code",
   "execution_count": 3,
   "metadata": {},
   "outputs": [],
   "source": [
    "url = \"http://localhost:11434/api/chat\""
   ]
  },
  {
   "cell_type": "code",
   "execution_count": 4,
   "metadata": {},
   "outputs": [],
   "source": [
    "payload = {\n",
    "        \"model\": \"phi4-mini:3.8b-fp16\",\n",
    "        \"messages\": [\n",
    "            {\n",
    "                \"role\": \"system\",\n",
    "                \"content\": \"You are a helpful assistant with some tools.\"\n",
    "            },\n",
    "            {\n",
    "                \"role\": \"user\",\n",
    "                \"content\": \"What is the weather today in Paris?\"\n",
    "            }\n",
    "        ],\n",
    "        \"stream\": False,\n",
    "        \"options\": {\n",
    "            \"max_new_tokens\": 1024,\n",
    "            \"return_full_text\": False,\n",
    "            \"temperature\": 0.00001,\n",
    "            \"top_p\": 1.0,\n",
    "            \"do_sample\": False\n",
    "        },\n",
    "        \"tools\": [\n",
    "            {\n",
    "                \"type\": \"function\",\n",
    "                \"function\": {\n",
    "                    \"name\": \"get_current_weather\",\n",
    "                    \"description\": \"Get the current weather for a location\",\n",
    "                    \"parameters\": {\n",
    "                        \"type\": \"object\",\n",
    "                        \"properties\": {\n",
    "                            \"location\": {\n",
    "                                \"type\": \"string\",\n",
    "                                \"description\": \"The location to get the weather for, e.g. San Francisco, CA\"\n",
    "                            },\n",
    "                            \"format\": {\n",
    "                                \"type\": \"string\",\n",
    "                                \"description\": \"The format to return the weather in, e.g. celsius or fahrenheit\",\n",
    "                                \"enum\": [\"celsius\", \"fahrenheit\"]\n",
    "                            }\n",
    "                        },\n",
    "                        \"required\": [\"location\", \"format\"]\n",
    "                    }\n",
    "                }\n",
    "            }\n",
    "        ]\n",
    "    }"
   ]
  },
  {
   "cell_type": "code",
   "execution_count": 5,
   "metadata": {},
   "outputs": [
    {
     "name": "stdout",
     "output_type": "stream",
     "text": [
      "Response:\n",
      "{\n",
      "  \"model\": \"phi4-mini:3.8b-fp16\",\n",
      "  \"created_at\": \"2025-03-10T06:21:45.070769Z\",\n",
      "  \"message\": {\n",
      "    \"role\": \"assistant\",\n",
      "    \"content\": \"\",\n",
      "    \"tool_calls\": [\n",
      "      {\n",
      "        \"function\": {\n",
      "          \"name\": \"get_current_weather\",\n",
      "          \"arguments\": {\n",
      "            \"format\": \"celsius\",\n",
      "            \"location\": \"Paris\"\n",
      "          }\n",
      "        }\n",
      "      }\n",
      "    ]\n",
      "  },\n",
      "  \"done_reason\": \"stop\",\n",
      "  \"done\": true,\n",
      "  \"total_duration\": 1436226250,\n",
      "  \"load_duration\": 35039375,\n",
      "  \"prompt_eval_count\": 351,\n",
      "  \"prompt_eval_duration\": 518000000,\n",
      "  \"eval_count\": 32,\n",
      "  \"eval_duration\": 878000000\n",
      "}\n",
      "\n",
      "Assistant's message:\n",
      "[{'function': {'name': 'get_current_weather', 'arguments': {'format': 'celsius', 'location': 'Paris'}}}]\n"
     ]
    }
   ],
   "source": [
    "response = requests.post(url, json=payload)\n",
    "response.raise_for_status()  # Raise an exception for bad status codes\n",
    "        \n",
    "# Parse and print the response\n",
    "result = response.json()\n",
    "print(\"Response:\")\n",
    "print(json.dumps(result, indent=2, ensure_ascii=False))\n",
    "        \n",
    "        # Print just the assistant's message\n",
    "if \"message\" in result:\n",
    "    print(\"\\nAssistant's message:\")\n",
    "    print(result[\"message\"][\"tool_calls\"])"
   ]
  },
  {
   "cell_type": "code",
   "execution_count": 6,
   "metadata": {},
   "outputs": [],
   "source": [
    "tools_mapping_functions = {\n",
    "    \"get_current_weather\": get_current_weather\n",
    "}"
   ]
  },
  {
   "cell_type": "code",
   "execution_count": 7,
   "metadata": {},
   "outputs": [
    {
     "name": "stdout",
     "output_type": "stream",
     "text": [
      "\n",
      "Tool call:\n",
      "{\n",
      "  \"function\": {\n",
      "    \"name\": \"get_current_weather\",\n",
      "    \"arguments\": {\n",
      "      \"format\": \"celsius\",\n",
      "      \"location\": \"Paris\"\n",
      "    }\n",
      "  }\n",
      "}\n",
      "\n",
      "Tool call arguments:\n",
      "{\n",
      "  \"format\": \"celsius\",\n",
      "  \"location\": \"Paris\"\n",
      "}\n",
      "\n",
      "Functiong execution:Today Paris is sunny and 20 degrees celsius\n"
     ]
    }
   ],
   "source": [
    "for item in result[\"message\"][\"tool_calls\"]:\n",
    "    if item[\"function\"][\"name\"] == \"get_current_weather\":\n",
    "        print(\"\\nTool call:\")\n",
    "        print(json.dumps(item, indent=2, ensure_ascii=False))\n",
    "        print(\"\\nTool call arguments:\")\n",
    "        print(json.dumps(item[\"function\"][\"arguments\"], indent=2, ensure_ascii=False))\n",
    "        func_call = tools_mapping_functions[item[\"function\"][\"name\"]]\n",
    "        tool_reponse = func_call(**item[\"function\"][\"arguments\"])\n",
    "        print(\"\\nFunctiong execution:\" + tool_reponse)"
   ]
  },
  {
   "cell_type": "markdown",
   "metadata": {},
   "source": []
  },
  {
   "cell_type": "code",
   "execution_count": 8,
   "metadata": {},
   "outputs": [],
   "source": [
    "def booking_flight_tickets(origin_airport_code, destination_airport_code, departure_date, return_date):\n",
    "    return \"Your book flights from \" + origin_airport_code + \" to \" + destination_airport_code + \" on \" + departure_date + \" and return on \" + return_date\n",
    "\n",
    "def booking_hotels(destination, check_in_date, checkout_date):\n",
    "    return \"Your book hotels in \" + destination + \" from \" + check_in_date + \" to \" + checkout_date"
   ]
  },
  {
   "cell_type": "code",
   "execution_count": 9,
   "metadata": {},
   "outputs": [],
   "source": [
    "payload = {\n",
    "        \"model\": \"phi4-mini:3.8b-fp16\",\n",
    "        \"messages\": [                                          \n",
    "            {                                                            \n",
    "                \"role\": \"system\",                                        \n",
    "                \"content\": \"You are a helpful assistant using the provided tools.\"\n",
    "            },                                                \n",
    "            {                                                 \n",
    "            \"role\": \"user\",                                 \n",
    "            \"content\": \"book a hotel and flight ticket from Beijing to Paris(using airport code) in 2025-12-04 to 2025-12-10\"\n",
    "            }  \n",
    "        ],\n",
    "        \"stream\": False,\n",
    "        \"options\": {\n",
    "            \"max_new_tokens\": 1024,\n",
    "            \"return_full_text\": False,\n",
    "            \"temperature\": 0.00001,\n",
    "            \"top_p\": 1.0,\n",
    "            \"do_sample\": False\n",
    "        },\n",
    "        \"tools\": [\n",
    "                {\n",
    "                \"type\": \"function\",\n",
    "                \"function\": {\n",
    "                    \"name\": \"booking_flight_tickets\",\n",
    "                    \"description\": \"booking flights\",\n",
    "                    \"parameters\": {\n",
    "                        \"origin_airport_code\": {\n",
    "                            \"description\": \"The name of Departure airport code\",\n",
    "                            \"type\": \"str\"\n",
    "                        },\n",
    "                        \"destination_airport_code\": {\n",
    "                            \"description\": \"The name of Destination airport code\",\n",
    "                            \"type\": \"str\"\n",
    "                        },\n",
    "                        \"departure_date\": {\n",
    "                            \"description\": \"The date of outbound flight\",\n",
    "                            \"type\": \"str\"\n",
    "                        },\n",
    "                        \"return_date\": {\n",
    "                            \"description\": \"The date of return flight\",\n",
    "                            \"type\": \"str\"\n",
    "                        }\n",
    "                    }\n",
    "                }\n",
    "                },\n",
    "                { \"type\": \"function\",\n",
    "                \"function\": {\n",
    "                    \"name\": \"booking_hotels\",\n",
    "                    \"description\": \"booking hotel\",\n",
    "                    \"parameters\": {\n",
    "                        \"destination\": {\n",
    "                            \"description\": \"The name of the city\",\n",
    "                            \"type\": \"str\"\n",
    "                        },\n",
    "                        \"check_in_date\": {\n",
    "                            \"description\": \"The date of check in\",\n",
    "                            \"type\": \"str\"\n",
    "                        },\n",
    "                        \"checkout_date\": {\n",
    "                            \"description\": \"The date of check out\",\n",
    "                            \"type\": \"str\"\n",
    "                        }\n",
    "                    }\n",
    "                }\n",
    "                }\n",
    "        ]\n",
    "        \n",
    "    }"
   ]
  },
  {
   "cell_type": "code",
   "execution_count": 10,
   "metadata": {},
   "outputs": [],
   "source": [
    "tools_mapping_functions = {\n",
    "    \"booking_flight_tickets\": booking_flight_tickets,\n",
    "    \"booking_hotels\": booking_hotels\n",
    "}"
   ]
  },
  {
   "cell_type": "code",
   "execution_count": 11,
   "metadata": {},
   "outputs": [
    {
     "name": "stdout",
     "output_type": "stream",
     "text": [
      "Response:\n",
      "{\n",
      "  \"model\": \"phi4-mini:3.8b-fp16\",\n",
      "  \"created_at\": \"2025-03-10T06:21:48.387487Z\",\n",
      "  \"message\": {\n",
      "    \"role\": \"assistant\",\n",
      "    \"content\": \"\",\n",
      "    \"tool_calls\": [\n",
      "      {\n",
      "        \"function\": {\n",
      "          \"name\": \"booking_hotels\",\n",
      "          \"arguments\": {\n",
      "            \"check_in_date\": \"2025-12-04\",\n",
      "            \"checkout_date\": \"2025-12-10\",\n",
      "            \"destination\": \"Paris\"\n",
      "          }\n",
      "        }\n",
      "      },\n",
      "      {\n",
      "        \"function\": {\n",
      "          \"name\": \"booking_flight_tickets\",\n",
      "          \"arguments\": {\n",
      "            \"departure_date\": \"2025-12-04\",\n",
      "            \"destination_airport_code\": \"CDG\",\n",
      "            \"origin_airport_code\": \"PEK\",\n",
      "            \"return_date\": \"2025-12-10\"\n",
      "          }\n",
      "        }\n",
      "      }\n",
      "    ]\n",
      "  },\n",
      "  \"done_reason\": \"stop\",\n",
      "  \"done\": true,\n",
      "  \"total_duration\": 3276915375,\n",
      "  \"load_duration\": 16144792,\n",
      "  \"prompt_eval_count\": 339,\n",
      "  \"prompt_eval_duration\": 307000000,\n",
      "  \"eval_count\": 106,\n",
      "  \"eval_duration\": 2949000000\n",
      "}\n",
      "\n",
      "Assistant's message:\n",
      "[{'function': {'name': 'booking_hotels', 'arguments': {'check_in_date': '2025-12-04', 'checkout_date': '2025-12-10', 'destination': 'Paris'}}}, {'function': {'name': 'booking_flight_tickets', 'arguments': {'departure_date': '2025-12-04', 'destination_airport_code': 'CDG', 'origin_airport_code': 'PEK', 'return_date': '2025-12-10'}}}]\n"
     ]
    }
   ],
   "source": [
    "response = requests.post(url, json=payload)\n",
    "response.raise_for_status()  # Raise an exception for bad status codes\n",
    "        \n",
    "# Parse and print the response\n",
    "result = response.json()\n",
    "print(\"Response:\")\n",
    "print(json.dumps(result, indent=2, ensure_ascii=False))\n",
    "        \n",
    "        # Print just the assistant's message\n",
    "if \"message\" in result:\n",
    "    print(\"\\nAssistant's message:\")\n",
    "    print(result[\"message\"][\"tool_calls\"])"
   ]
  },
  {
   "cell_type": "code",
   "execution_count": 12,
   "metadata": {},
   "outputs": [
    {
     "name": "stdout",
     "output_type": "stream",
     "text": [
      "\n",
      "Functiong execution:Your book hotels in Paris from 2025-12-04 to 2025-12-10\n",
      "\n",
      "Functiong execution:Your book flights from PEK to CDG on 2025-12-04 and return on 2025-12-10\n"
     ]
    }
   ],
   "source": [
    "for item in result[\"message\"][\"tool_calls\"]:\n",
    "    func_call = tools_mapping_functions[item[\"function\"][\"name\"]]\n",
    "    tool_reponse = func_call(**item[\"function\"][\"arguments\"])\n",
    "    print(\"\\nFunctiong execution:\" + tool_reponse)"
   ]
  },
  {
   "cell_type": "markdown",
   "metadata": {},
   "source": [
    "\n---\n\n**Отказ от ответственности**:  \nЭтот документ был переведен с помощью сервиса автоматического перевода [Co-op Translator](https://github.com/Azure/co-op-translator). Несмотря на наши усилия по обеспечению точности, автоматические переводы могут содержать ошибки или неточности. Оригинальный документ на его родном языке следует считать авторитетным источником. Для получения критически важной информации рекомендуется профессиональный перевод человеком. Мы не несем ответственности за любые недоразумения или неправильные интерпретации, возникшие в результате использования данного перевода.\n"
   ]
  }
 ],
 "metadata": {
  "kernelspec": {
   "display_name": "pydev",
   "language": "python",
   "name": "python3"
  },
  "language_info": {
   "codemirror_mode": {
    "name": "ipython",
    "version": 3
   },
   "file_extension": ".py",
   "mimetype": "text/x-python",
   "name": "python",
   "nbconvert_exporter": "python",
   "pygments_lexer": "ipython3",
   "version": "3.11.8"
  },
  "coopTranslator": {
   "original_hash": "d8ff070b0f9acbcfb591b25dc1323e75",
   "translation_date": "2025-09-12T18:54:16+00:00",
   "source_file": "md/02.Application/07.FunctionCalling/Phi4/Ollama/ollama_functioncalling.ipynb",
   "language_code": "ru"
  }
 },
 "nbformat": 4,
 "nbformat_minor": 2
}