{
 "cells": [
  {
   "cell_type": "markdown",
   "metadata": {},
   "source": [
    "# Azure AI Search এবং NVIDIA NIM এবং LlamaIndex ইন্টিগ্রেশন\n",
    "\n",
    "এই নোটবুকে, আমরা NVIDIA-এর AI মডেল এবং LlamaIndex ব্যবহার করে একটি শক্তিশালী Retrieval-Augmented Generation (RAG) পাইপলাইন তৈরি করার পদ্ধতি দেখাব। আমরা NVIDIA-এর LLM এবং embeddings ব্যবহার করব, সেগুলোকে Azure AI Search-এর সাথে ভেক্টর স্টোর হিসেবে ইন্টিগ্রেট করব এবং RAG-এর মাধ্যমে সার্চের গুণমান এবং দক্ষতা উন্নত করব।\n",
    "\n",
    "## সুবিধাসমূহ\n",
    "- **স্কেলযোগ্যতা**: NVIDIA-এর বড় ভাষার মডেল এবং Azure AI Search ব্যবহার করে স্কেলযোগ্য এবং দক্ষ রিট্রিভাল।\n",
    "- **খরচ সাশ্রয়ী**: কার্যকর ভেক্টর স্টোরেজ এবং হাইব্রিড সার্চ কৌশল ব্যবহার করে সার্চ এবং রিট্রিভাল অপ্টিমাইজ করুন।\n",
    "- **উচ্চ পারফরম্যান্স**: শক্তিশালী LLM এবং ভেক্টরাইজড সার্চ একত্রিত করে দ্রুত এবং আরও সঠিক উত্তর প্রদান।\n",
    "- **গুণমান**: প্রাসঙ্গিক রিট্রিভড ডকুমেন্টের মাধ্যমে LLM-এর উত্তরকে ভিত্তি দিয়ে উচ্চ সার্চ গুণমান বজায় রাখুন।\n",
    "\n",
    "## পূর্বশর্ত\n",
    "- 🐍 Python 3.9 বা তার বেশি\n",
    "- 🔗 [Azure AI Search Service](https://learn.microsoft.com/azure/search/)\n",
    "- 🔗 NVIDIA API Key, NVIDIA-এর LLM এবং Embeddings-এ NVIDIA NIM মাইক্রোসার্ভিসের মাধ্যমে অ্যাক্সেসের জন্য\n",
    "\n",
    "## কাভার করা বৈশিষ্ট্যসমূহ\n",
    "- ✅ NVIDIA LLM ইন্টিগ্রেশন (আমরা ব্যবহার করব [Phi-3.5-MOE](https://build.nvidia.com/microsoft/phi-3_5-moe))\n",
    "- ✅ NVIDIA Embeddings (আমরা ব্যবহার করব [nv-embedqa-e5-v5](https://build.nvidia.com/nvidia/nv-embedqa-e5-v5))\n",
    "- ✅ Azure AI Search-এর উন্নত রিট্রিভাল মোড\n",
    "- ✅ LlamaIndex দিয়ে ডকুমেন্ট ইনডেক্সিং\n",
    "- ✅ Azure AI Search এবং LlamaIndex-এর সাথে NVIDIA LLM ব্যবহার করে RAG\n",
    "\n",
    "চলুন শুরু করি!\n"
   ]
  },
  {
   "cell_type": "code",
   "execution_count": null,
   "metadata": {},
   "outputs": [],
   "source": [
    "!pip install azure-search-documents==11.5.1\n",
    "!pip install --upgrade llama-index\n",
    "!pip install --upgrade llama-index-core\n",
    "!pip install --upgrade llama-index-readers-file\n",
    "!pip install --upgrade llama-index-llms-nvidia\n",
    "!pip install --upgrade llama-index-embeddings-nvidia\n",
    "!pip install --upgrade llama-index-postprocessor-nvidia-rerank\n",
    "!pip install --upgrade llama-index-vector-stores-azureaisearch\n",
    "!pip install python-dotenv"
   ]
  },
  {
   "cell_type": "markdown",
   "metadata": {},
   "source": [
    "## ইনস্টলেশন এবং প্রয়োজনীয়তা\n",
    "Python সংস্করণ >3.10 ব্যবহার করে একটি Python পরিবেশ তৈরি করুন।\n",
    "\n",
    "## শুরু করা!\n"
   ]
  },
  {
   "cell_type": "markdown",
   "metadata": {},
   "source": [
    "NVIDIA AI Foundation মডেল ব্যবহার করতে আপনার একটি `NVIDIA_API_KEY` প্রয়োজন:  \n",
    "1) [NVIDIA](https://build.nvidia.com/explore/discover)-এ একটি বিনামূল্যের অ্যাকাউন্ট তৈরি করুন।  \n",
    "2) আপনার পছন্দের মডেলে ক্লিক করুন।  \n",
    "3) Input-এর অধীনে, Python ট্যাব নির্বাচন করুন এবং **Get API Key**-এ ক্লিক করুন, তারপর **Generate Key**-এ ক্লিক করুন।  \n",
    "4) তৈরি করা কীটি কপি করুন এবং NVIDIA_API_KEY হিসেবে সংরক্ষণ করুন। এরপর, আপনি এন্ডপয়েন্টগুলোতে অ্যাক্সেস পাবেন।  \n"
   ]
  },
  {
   "cell_type": "code",
   "execution_count": 3,
   "metadata": {},
   "outputs": [],
   "source": [
    "import getpass\n",
    "import os\n",
    "from dotenv import load_dotenv\n",
    "\n",
    "# Load environment variables\n",
    "load_dotenv()\n",
    "\n",
    "if not os.environ.get(\"NVIDIA_API_KEY\", \"\").startswith(\"nvapi-\"):\n",
    "    nvidia_api_key = getpass.getpass(\"Enter your NVIDIA API key: \")\n",
    "    assert nvidia_api_key.startswith(\"nvapi-\"), f\"{nvidia_api_key[:5]}... is not a valid key\"\n",
    "    os.environ[\"NVIDIA_API_KEY\"] = nvidia_api_key\n"
   ]
  },
  {
   "cell_type": "markdown",
   "metadata": {},
   "source": [
    "## RAG উদাহরণ LLM এবং এমবেডিং ব্যবহার করে\n",
    "### ১) LLM আরম্ভ করুন\n",
    "`llama-index-llms-nvidia`, যা NVIDIA-এর LLM সংযোগকারী নামে পরিচিত, আপনাকে NVIDIA API ক্যাটালগে উপলব্ধ মডেলগুলোর সাথে সংযোগ স্থাপন এবং সেগুলো থেকে জেনারেট করতে সাহায্য করে। চ্যাট সম্পূর্ণ মডেলগুলোর তালিকা দেখতে এখানে যান: https://build.nvidia.com/search?term=Text-to-Text\n",
    "\n",
    "এখানে আমরা **mixtral-8x7b-instruct-v0.1** ব্যবহার করব।\n"
   ]
  },
  {
   "cell_type": "code",
   "execution_count": 75,
   "metadata": {},
   "outputs": [],
   "source": [
    "from llama_index.core import Settings\n",
    "from llama_index.llms.nvidia import NVIDIA\n",
    "\n",
    "# Here we are using mixtral-8x7b-instruct-v0.1 model from API Catalog\n",
    "Settings.llm = NVIDIA(model=\"microsoft/phi-3.5-moe-instruct\", api_key=os.getenv(\"NVIDIA_API_KEY\"))"
   ]
  },
  {
   "cell_type": "markdown",
   "metadata": {},
   "source": [
    "### 2) এম্বেডিং আরম্ভ করুন  \n",
    "`llama-index-embeddings-nvidia`, যা NVIDIA এর এম্বেডিংস কানেক্টর নামেও পরিচিত, আপনাকে NVIDIA API ক্যাটালগে উপলব্ধ মডেলগুলোর সাথে সংযোগ স্থাপন এবং সেগুলো থেকে জেনারেট করতে সাহায্য করে। আমরা এম্বেডিং মডেল হিসেবে `nvidia/nv-embedqa-e5-v5` নির্বাচন করেছি। টেক্সট এম্বেডিং মডেলগুলোর তালিকা দেখতে এখানে যান: https://build.nvidia.com/nim?filters=usecase%3Ausecase_text_to_embedding%2Cusecase%3Ausecase_image_to_embedding\n"
   ]
  },
  {
   "cell_type": "code",
   "execution_count": 6,
   "metadata": {},
   "outputs": [],
   "source": [
    "from llama_index.embeddings.nvidia import NVIDIAEmbedding\n",
    "\n",
    "Settings.embed_model = NVIDIAEmbedding(model=\"nvidia/nv-embedqa-e5-v5\", api_key=os.getenv(\"NVIDIA_API_KEY\"))"
   ]
  },
  {
   "cell_type": "markdown",
   "metadata": {},
   "source": [
    "### ৩) একটি Azure AI Search Vector Store তৈরি করুন\n"
   ]
  },
  {
   "cell_type": "code",
   "execution_count": 76,
   "metadata": {},
   "outputs": [],
   "source": [
    "import logging\n",
    "import sys\n",
    "import os\n",
    "import getpass\n",
    "from azure.core.credentials import AzureKeyCredential\n",
    "from azure.search.documents import SearchClient\n",
    "from azure.search.documents.indexes import SearchIndexClient\n",
    "from IPython.display import Markdown, display\n",
    "from llama_index.vector_stores.azureaisearch import AzureAISearchVectorStore, IndexManagement\n",
    "\n",
    "\n",
    "search_service_api_key = os.getenv('AZURE_SEARCH_ADMIN_KEY') or getpass.getpass('Enter your Azure Search API key: ')\n",
    "search_service_endpoint = os.getenv('AZURE_SEARCH_SERVICE_ENDPOINT') or getpass.getpass('Enter your Azure Search service endpoint: ')\n",
    "search_service_api_version = \"2024-07-01\"\n",
    "credential = AzureKeyCredential(search_service_api_key)\n",
    "\n",
    "# Index name to use\n",
    "index_name = \"llamaindex-nvidia-azureaisearch-demo\"\n",
    "\n",
    "# Use index client to demonstrate creating an index\n",
    "index_client = SearchIndexClient(\n",
    "    endpoint=search_service_endpoint,\n",
    "    credential=credential,\n",
    ")\n",
    "\n",
    "# Use search client to demonstrate using existing index\n",
    "search_client = SearchClient(\n",
    "    endpoint=search_service_endpoint,\n",
    "    index_name=index_name,\n",
    "    credential=credential,\n",
    ")"
   ]
  },
  {
   "cell_type": "code",
   "execution_count": null,
   "metadata": {},
   "outputs": [],
   "source": [
    "vector_store = AzureAISearchVectorStore(\n",
    "    search_or_index_client=index_client,\n",
    "    index_name=index_name,\n",
    "    index_management=IndexManagement.CREATE_IF_NOT_EXISTS,\n",
    "    id_field_key=\"id\",\n",
    "    chunk_field_key=\"chunk\",\n",
    "    embedding_field_key=\"embedding\",\n",
    "    embedding_dimensionality=1024, # dimensionality for nv-embedqa-e5-v5 model\n",
    "    metadata_string_field_key=\"metadata\",\n",
    "    doc_id_field_key=\"doc_id\",\n",
    "    language_analyzer=\"en.lucene\",\n",
    "    vector_algorithm_type=\"exhaustiveKnn\",\n",
    "    # compression_type=\"binary\" # Option to use \"scalar\" or \"binary\". NOTE: compression is only supported for HNSW\n",
    ")"
   ]
  },
  {
   "cell_type": "markdown",
   "metadata": {},
   "source": []
  },
  {
   "cell_type": "code",
   "execution_count": 20,
   "metadata": {},
   "outputs": [],
   "source": [
    "from llama_index.core import SimpleDirectoryReader, StorageContext, VectorStoreIndex\n",
    "from llama_index.core.text_splitter import TokenTextSplitter\n",
    "\n",
    "# Configure text splitter (nv-embedqa-e5-v5 model has a limit of 512 tokens per input size)\n",
    "text_splitter = TokenTextSplitter(separator=\" \", chunk_size=500, chunk_overlap=10)\n",
    "\n",
    "# Load documents\n",
    "documents = SimpleDirectoryReader(\n",
    "    input_files=[\"data/txt/state_of_the_union.txt\"]\n",
    ").load_data()\n",
    "storage_context = StorageContext.from_defaults(vector_store=vector_store)\n",
    "\n",
    "# Create index with text splitter\n",
    "index = VectorStoreIndex.from_documents(\n",
    "    documents,\n",
    "    transformations=[text_splitter],\n",
    "    storage_context=storage_context,\n",
    ")"
   ]
  },
  {
   "cell_type": "markdown",
   "metadata": {},
   "source": [
    "### ৫) আপনার ডেটার উপর প্রশ্ন করার জন্য একটি কুইরি ইঞ্জিন তৈরি করুন\n",
    "\n",
    "এখানে Azure AI Search-এ খাঁটি ভেক্টর অনুসন্ধান ব্যবহার করে এবং আমাদের LLM (Phi-3.5-MOE)-এ উত্তর ভিত্তি করে একটি কুইরি দেওয়া হয়েছে।\n"
   ]
  },
  {
   "cell_type": "code",
   "execution_count": 69,
   "metadata": {},
   "outputs": [
    {
     "data": {
      "text/markdown": [
       " The speaker mentioned the Ukrainian Ambassador to the United States, along with other members of Congress, the Cabinet, and various officials such as the Vice President, the First Lady, and the Second Gentleman, as being present in the chamber."
      ],
      "text/plain": [
       "<IPython.core.display.Markdown object>"
      ]
     },
     "metadata": {},
     "output_type": "display_data"
    }
   ],
   "source": [
    "query_engine = index.as_query_engine()\n",
    "response = query_engine.query(\"Who did the speaker mention as being present in the chamber?\")\n",
    "display(Markdown(f\"{response}\"))"
   ]
  },
  {
   "cell_type": "markdown",
   "metadata": {},
   "source": [
    "এখানে Azure AI Search-এ হাইব্রিড সার্চ ব্যবহার করে একটি প্রশ্ন।\n"
   ]
  },
  {
   "cell_type": "code",
   "execution_count": 70,
   "metadata": {},
   "outputs": [
    {
     "data": {
      "text/markdown": [
       " The Russian stock market experienced a significant drop, losing 40% of its value. Additionally, trading had to be suspended due to the ongoing situation."
      ],
      "text/plain": [
       "<IPython.core.display.Markdown object>"
      ]
     },
     "metadata": {},
     "output_type": "display_data"
    },
    {
     "name": "stdout",
     "output_type": "stream",
     "text": [
      "\n",
      "\n",
      "Source Nodes:\n",
      "file_path: data\\txt\\state_of_the_union.txt\n",
      "\n",
      "building a coalition of other freedom-loving nations from Europe and the Americas to Asia and Africa to confront Putin. \n",
      "\n",
      "I spent countless hours unifying our European allies. We shared with the world in advance what we knew Putin was planning and precisely how he would try to falsely justify his aggression.  \n",
      "\n",
      "We countered Russia’s lies with truth.   \n",
      "\n",
      "And now that he has acted the free world is holding him accountable. \n",
      "\n",
      "Along with twenty-seven members of the European Union including France, Germany, Italy, as well as countries like the United Kingdom, Canada, Japan, Korea, Australia, New Zealand, and many others, even Switzerland. \n",
      "\n",
      "We are inflicting pain on Russia and supporting the people of Ukraine. Putin is now isolated from the world more than ever. \n",
      "\n",
      "Together with our allies –we are right now enforcing powerful economic sanctions. \n",
      "\n",
      "We are cutting off Russia’s largest banks from the international financial system.  \n",
      "\n",
      "Preventing Russia’s central bank from defending the Russian Ruble making Putin’s $630 Billion “war fund” worthless.   \n",
      "\n",
      "We are choking off Russia’s access to technology that will sap its economic strength and weaken its military for years to come.  \n",
      "\n",
      "Tonight I say to the Russian oligarchs and corrupt leaders who have bilked billions of dollars off this violent regime no more. \n",
      "\n",
      "The U.S. Department of Justice is assembling a dedicated task force to go after the crimes of Russian oligarchs.  \n",
      "\n",
      "We are joining with our European allies to find and seize your yachts your luxury apartments your private jets. We are coming for your ill-begotten gains. \n",
      "\n",
      "And tonight I am announcing that we will join our allies in closing off American air space to all Russian flights – further isolating Russia – and adding an additional squeeze –on their economy. The Ruble has lost 30% of its value. \n",
      "\n",
      "The Russian stock market has lost 40% of its value and trading remains suspended. Russia’s economy is reeling and Putin alone is to blame. \n",
      "\n",
      "Together with our allies we are providing support to the Ukrainians in their fight for freedom. Military assistance. Economic assistance. Humanitarian assistance. \n",
      "\n",
      "We are giving more than $1 Billion in direct assistance to Ukraine. \n",
      "\n",
      "And we will continue to aid the Ukrainian people as they defend their country and to help ease their suffering.  \n",
      "\n",
      "Let me be clear, our forces are not engaged and will not engage in\n",
      "file_path: data\\txt\\state_of_the_union.txt\n",
      "\n",
      "our forces are not engaged and will not engage in conflict with Russian forces in Ukraine.  \n",
      "\n",
      "Our forces are not going to Europe to fight in Ukraine, but to defend our NATO Allies – in the event that Putin decides to keep moving west.  \n",
      "\n",
      "For that purpose we’ve mobilized American ground forces, air squadrons, and ship deployments to protect NATO countries including Poland, Romania, Latvia, Lithuania, and Estonia. \n",
      "\n",
      "As I have made crystal clear the United States and our Allies will defend every inch of territory of NATO countries with the full force of our collective power.  \n",
      "\n",
      "And we remain clear-eyed. The Ukrainians are fighting back with pure courage. But the next few days weeks, months, will be hard on them.  \n",
      "\n",
      "Putin has unleashed violence and chaos.  But while he may make gains on the battlefield – he will pay a continuing high price over the long run. \n",
      "\n",
      "And a proud Ukrainian people, who have known 30 years  of independence, have repeatedly shown that they will not tolerate anyone who tries to take their country backwards.  \n",
      "\n",
      "To all Americans, I will be honest with you, as I’ve always promised. A Russian dictator, invading a foreign country, has costs around the world. \n",
      "\n",
      "And I’m taking robust action to make sure the pain of our sanctions  is targeted at Russia’s economy. And I will use every tool at our disposal to protect American businesses and consumers. \n",
      "\n",
      "Tonight, I can announce that the United States has worked with 30 other countries to release 60 Million barrels of oil from reserves around the world.  \n",
      "\n",
      "America will lead that effort, releasing 30 Million barrels from our own Strategic Petroleum Reserve. And we stand ready to do more if necessary, unified with our allies.  \n",
      "\n",
      "These steps will help blunt gas prices here at home. And I know the news about what’s happening can seem alarming. \n",
      "\n",
      "But I want you to know that we are going to be okay. \n",
      "\n",
      "When the history of this era is written Putin’s war on Ukraine will have left Russia weaker and the rest of the world stronger. \n",
      "\n",
      "While it shouldn’t have taken something so terrible for people around the world to see what’s at stake now everyone sees it clearly. \n",
      "\n",
      "We see the unity among leaders of nations and a more unified Europe a more unified West. And we see unity among the people who are gathering in cities in large crowds around the world\n"
     ]
    }
   ],
   "source": [
    "from llama_index.core.query_engine import RetrieverQueryEngine\n",
    "from llama_index.core.vector_stores.types import VectorStoreQueryMode\n",
    "from IPython.display import Markdown, display\n",
    "from llama_index.core.schema import MetadataMode\n",
    "\n",
    "# Initialize hybrid retriever and query engine\n",
    "hybrid_retriever = index.as_retriever(vector_store_query_mode=VectorStoreQueryMode.HYBRID)\n",
    "hybrid_query_engine = RetrieverQueryEngine(retriever=hybrid_retriever)\n",
    "\n",
    "# Query execution\n",
    "query = \"What were the exact economic consequences mentioned in relation to Russia's stock market?\"\n",
    "response = hybrid_query_engine.query(query)\n",
    "\n",
    "# Display the response\n",
    "display(Markdown(f\"{response}\"))\n",
    "print(\"\\n\")\n",
    "\n",
    "# Print the source nodes\n",
    "print(\"Source Nodes:\")\n",
    "for node in response.source_nodes:\n",
    "    print(node.get_content(metadata_mode=MetadataMode.LLM))"
   ]
  },
  {
   "cell_type": "markdown",
   "metadata": {},
   "source": [
    "#### ভেক্টর অনুসন্ধান বিশ্লেষণ\n",
    "LLM-এর উত্তর সঠিকভাবে রাশিয়ার শেয়ার বাজার সম্পর্কিত মূল অর্থনৈতিক প্রভাবগুলি তুলে ধরেছে যা উৎস পাঠ্যে উল্লেখ করা হয়েছে। বিশেষভাবে, এটি উল্লেখ করেছে যে রাশিয়ার শেয়ার বাজারে উল্লেখযোগ্য পতন ঘটেছে, যার ফলে বাজার তার ৪০% মূল্য হারিয়েছে এবং চলমান পরিস্থিতির কারণে লেনদেন স্থগিত করা হয়েছে। এই উত্তর উৎসে প্রদত্ত তথ্যের সাথে ভালোভাবে সামঞ্জস্যপূর্ণ, যা নির্দেশ করে যে LLM সঠিকভাবে প্রাসঙ্গিক বিবরণ চিহ্নিত এবং সংক্ষেপ করেছে, যা রাশিয়ার কার্যকলাপ এবং আরোপিত নিষেধাজ্ঞার ফলস্বরূপ শেয়ার বাজারের প্রভাবকে তুলে ধরে।\n",
    "\n",
    "#### উৎস নোডের মন্তব্য\n",
    "উৎস নোডগুলি আন্তর্জাতিক নিষেধাজ্ঞার কারণে রাশিয়া যে অর্থনৈতিক প্রভাবগুলির মুখোমুখি হয়েছে তার একটি বিস্তারিত বিবরণ প্রদান করে। পাঠ্যটি তুলে ধরে যে রাশিয়ার শেয়ার বাজার তার ৪০% মূল্য হারিয়েছে এবং লেনদেন স্থগিত করা হয়েছে। এছাড়াও, এটি অন্যান্য অর্থনৈতিক প্রভাবগুলির উল্লেখ করে, যেমন রুবলের অবমূল্যায়ন এবং রাশিয়ার অর্থনীতির বৃহত্তর বিচ্ছিন্নতা। LLM-এর উত্তর এই নোডগুলির থেকে গুরুত্বপূর্ণ বিষয়গুলি দক্ষতার সাথে সংক্ষেপ করেছে, বিশেষভাবে শেয়ার বাজারের প্রভাবের উপর মনোযোগ কেন্দ্রীভূত করেছে, যা প্রশ্নে অনুরোধ করা হয়েছিল।\n"
   ]
  },
  {
   "cell_type": "markdown",
   "metadata": {},
   "source": [
    "এখন, চলুন এমন একটি প্রশ্নের দিকে নজর দিই যেখানে Hybrid Search একটি সুসংগঠিত উত্তর প্রদান করতে পারে না:\n"
   ]
  },
  {
   "cell_type": "code",
   "execution_count": 71,
   "metadata": {},
   "outputs": [
    {
     "data": {
      "text/markdown": [
       " The provided context does not specify the exact date of Russia's invasion of Ukraine. However, it does mention that the events discussed are happening in the current era and that the actions taken are in response to Putin's aggression. For the precise date, one would need to refer to external sources or historical records."
      ],
      "text/plain": [
       "<IPython.core.display.Markdown object>"
      ]
     },
     "metadata": {},
     "output_type": "display_data"
    },
    {
     "name": "stdout",
     "output_type": "stream",
     "text": [
      "\n",
      "\n",
      "Source Nodes:\n",
      "file_path: data\\txt\\state_of_the_union.txt\n",
      "\n",
      "our forces are not engaged and will not engage in conflict with Russian forces in Ukraine.  \n",
      "\n",
      "Our forces are not going to Europe to fight in Ukraine, but to defend our NATO Allies – in the event that Putin decides to keep moving west.  \n",
      "\n",
      "For that purpose we’ve mobilized American ground forces, air squadrons, and ship deployments to protect NATO countries including Poland, Romania, Latvia, Lithuania, and Estonia. \n",
      "\n",
      "As I have made crystal clear the United States and our Allies will defend every inch of territory of NATO countries with the full force of our collective power.  \n",
      "\n",
      "And we remain clear-eyed. The Ukrainians are fighting back with pure courage. But the next few days weeks, months, will be hard on them.  \n",
      "\n",
      "Putin has unleashed violence and chaos.  But while he may make gains on the battlefield – he will pay a continuing high price over the long run. \n",
      "\n",
      "And a proud Ukrainian people, who have known 30 years  of independence, have repeatedly shown that they will not tolerate anyone who tries to take their country backwards.  \n",
      "\n",
      "To all Americans, I will be honest with you, as I’ve always promised. A Russian dictator, invading a foreign country, has costs around the world. \n",
      "\n",
      "And I’m taking robust action to make sure the pain of our sanctions  is targeted at Russia’s economy. And I will use every tool at our disposal to protect American businesses and consumers. \n",
      "\n",
      "Tonight, I can announce that the United States has worked with 30 other countries to release 60 Million barrels of oil from reserves around the world.  \n",
      "\n",
      "America will lead that effort, releasing 30 Million barrels from our own Strategic Petroleum Reserve. And we stand ready to do more if necessary, unified with our allies.  \n",
      "\n",
      "These steps will help blunt gas prices here at home. And I know the news about what’s happening can seem alarming. \n",
      "\n",
      "But I want you to know that we are going to be okay. \n",
      "\n",
      "When the history of this era is written Putin’s war on Ukraine will have left Russia weaker and the rest of the world stronger. \n",
      "\n",
      "While it shouldn’t have taken something so terrible for people around the world to see what’s at stake now everyone sees it clearly. \n",
      "\n",
      "We see the unity among leaders of nations and a more unified Europe a more unified West. And we see unity among the people who are gathering in cities in large crowds around the world\n",
      "file_path: data\\txt\\state_of_the_union.txt\n",
      "\n",
      "building a coalition of other freedom-loving nations from Europe and the Americas to Asia and Africa to confront Putin. \n",
      "\n",
      "I spent countless hours unifying our European allies. We shared with the world in advance what we knew Putin was planning and precisely how he would try to falsely justify his aggression.  \n",
      "\n",
      "We countered Russia’s lies with truth.   \n",
      "\n",
      "And now that he has acted the free world is holding him accountable. \n",
      "\n",
      "Along with twenty-seven members of the European Union including France, Germany, Italy, as well as countries like the United Kingdom, Canada, Japan, Korea, Australia, New Zealand, and many others, even Switzerland. \n",
      "\n",
      "We are inflicting pain on Russia and supporting the people of Ukraine. Putin is now isolated from the world more than ever. \n",
      "\n",
      "Together with our allies –we are right now enforcing powerful economic sanctions. \n",
      "\n",
      "We are cutting off Russia’s largest banks from the international financial system.  \n",
      "\n",
      "Preventing Russia’s central bank from defending the Russian Ruble making Putin’s $630 Billion “war fund” worthless.   \n",
      "\n",
      "We are choking off Russia’s access to technology that will sap its economic strength and weaken its military for years to come.  \n",
      "\n",
      "Tonight I say to the Russian oligarchs and corrupt leaders who have bilked billions of dollars off this violent regime no more. \n",
      "\n",
      "The U.S. Department of Justice is assembling a dedicated task force to go after the crimes of Russian oligarchs.  \n",
      "\n",
      "We are joining with our European allies to find and seize your yachts your luxury apartments your private jets. We are coming for your ill-begotten gains. \n",
      "\n",
      "And tonight I am announcing that we will join our allies in closing off American air space to all Russian flights – further isolating Russia – and adding an additional squeeze –on their economy. The Ruble has lost 30% of its value. \n",
      "\n",
      "The Russian stock market has lost 40% of its value and trading remains suspended. Russia’s economy is reeling and Putin alone is to blame. \n",
      "\n",
      "Together with our allies we are providing support to the Ukrainians in their fight for freedom. Military assistance. Economic assistance. Humanitarian assistance. \n",
      "\n",
      "We are giving more than $1 Billion in direct assistance to Ukraine. \n",
      "\n",
      "And we will continue to aid the Ukrainian people as they defend their country and to help ease their suffering.  \n",
      "\n",
      "Let me be clear, our forces are not engaged and will not engage in\n"
     ]
    }
   ],
   "source": [
    "# Query execution\n",
    "query = \"What was the precise date when Russia invaded Ukraine?\"\n",
    "response = hybrid_query_engine.query(query)\n",
    "\n",
    "# Display the response\n",
    "display(Markdown(f\"{response}\"))\n",
    "print(\"\\n\")\n",
    "\n",
    "# Print the source nodes\n",
    "print(\"Source Nodes:\")\n",
    "for node in response.source_nodes:\n",
    "    print(node.get_content(metadata_mode=MetadataMode.LLM))\n"
   ]
  },
  {
   "cell_type": "markdown",
   "metadata": {},
   "source": [
    "### হাইব্রিড সার্চ: এলএলএম প্রতিক্রিয়া বিশ্লেষণ\n",
    "হাইব্রিড সার্চ উদাহরণে এলএলএম-এর প্রতিক্রিয়া নির্দেশ করে যে প্রদত্ত প্রসঙ্গে রাশিয়ার ইউক্রেন আক্রমণের সঠিক তারিখ উল্লেখ করা হয়নি। এই প্রতিক্রিয়া ইঙ্গিত দেয় যে এলএলএম উৎস ডকুমেন্টে থাকা তথ্য ব্যবহার করছে, তবে পাঠ্যে সুনির্দিষ্ট বিবরণের অভাবকে স্বীকার করছে।\n",
    "\n",
    "প্রতিক্রিয়া সঠিকভাবে চিহ্নিত করেছে যে প্রসঙ্গে রাশিয়ার আগ্রাসনের সাথে সম্পর্কিত ঘটনাগুলি উল্লেখ করা হয়েছে, কিন্তু নির্দিষ্ট আক্রমণের তারিখ উল্লেখ করা হয়নি। এটি এলএলএম-এর তথ্য বোঝার ক্ষমতা এবং বিষয়বস্তুর ফাঁকগুলি চিহ্নিত করার দক্ষতা প্রদর্শন করে। এলএলএম কার্যকরভাবে ব্যবহারকারীকে সঠিক তারিখের জন্য বাহ্যিক উৎস বা ঐতিহাসিক রেকর্ড খুঁজতে উৎসাহিত করে, যখন তথ্য অসম্পূর্ণ থাকে তখন একটি সতর্ক মনোভাব প্রদর্শন করে।\n",
    "\n",
    "### উৎস নোড বিশ্লেষণ\n",
    "হাইব্রিড সার্চ উদাহরণে উৎস নোডগুলি একটি বক্তৃতার অংশ অন্তর্ভুক্ত করে যেখানে ইউক্রেনে রাশিয়ার কার্যকলাপের প্রতি যুক্তরাষ্ট্রের প্রতিক্রিয়া আলোচনা করা হয়েছে। এই নোডগুলি বিস্তৃত ভূরাজনৈতিক প্রভাব এবং আক্রমণের প্রতিক্রিয়ায় যুক্তরাষ্ট্র ও তার মিত্রদের নেওয়া পদক্ষেপগুলিকে গুরুত্ব দেয়, তবে নির্দিষ্ট আক্রমণের তারিখ উল্লেখ করে না। এটি এলএলএম-এর প্রতিক্রিয়ার সাথে সামঞ্জস্যপূর্ণ, যা সঠিকভাবে চিহ্নিত করেছে যে প্রসঙ্গে সুনির্দিষ্ট তারিখের তথ্যের অভাব রয়েছে।\n"
   ]
  },
  {
   "cell_type": "code",
   "execution_count": 72,
   "metadata": {},
   "outputs": [
    {
     "data": {
      "text/markdown": [
       " The provided context does not specify the exact date of Russia's invasion of Ukraine. However, it mentions that the event occurred six days before the speech was given. To determine the precise date, one would need to know the date of the speech."
      ],
      "text/plain": [
       "<IPython.core.display.Markdown object>"
      ]
     },
     "metadata": {},
     "output_type": "display_data"
    },
    {
     "name": "stdout",
     "output_type": "stream",
     "text": [
      "\n",
      "\n",
      "Source Nodes:\n",
      "file_path: data\\txt\\state_of_the_union.txt\n",
      "\n",
      "Madam Speaker, Madam Vice President, our First Lady and Second Gentleman. Members of Congress and the Cabinet. Justices of the Supreme Court. My fellow Americans.  \n",
      "\n",
      "Last year COVID-19 kept us apart. This year we are finally together again. \n",
      "\n",
      "Tonight, we meet as Democrats Republicans and Independents. But most importantly as Americans. \n",
      "\n",
      "With a duty to one another to the American people to the Constitution. \n",
      "\n",
      "And with an unwavering resolve that freedom will always triumph over tyranny. \n",
      "\n",
      "Six days ago, Russia’s Vladimir Putin sought to shake the foundations of the free world thinking he could make it bend to his menacing ways. But he badly miscalculated. \n",
      "\n",
      "He thought he could roll into Ukraine and the world would roll over. Instead he met a wall of strength he never imagined. \n",
      "\n",
      "He met the Ukrainian people. \n",
      "\n",
      "From President Zelenskyy to every Ukrainian, their fearlessness, their courage, their determination, inspires the world. \n",
      "\n",
      "Groups of citizens blocking tanks with their bodies. Everyone from students to retirees teachers turned soldiers defending their homeland. \n",
      "\n",
      "In this struggle as President Zelenskyy said in his speech to the European Parliament “Light will win over darkness.” The Ukrainian Ambassador to the United States is here tonight. \n",
      "\n",
      "Let each of us here tonight in this Chamber send an unmistakable signal to Ukraine and to the world. \n",
      "\n",
      "Please rise if you are able and show that, Yes, we the United States of America stand with the Ukrainian people. \n",
      "\n",
      "Throughout our history we’ve learned this lesson when dictators do not pay a price for their aggression they cause more chaos.   \n",
      "\n",
      "They keep moving.   \n",
      "\n",
      "And the costs and the threats to America and the world keep rising.   \n",
      "\n",
      "That’s why the NATO Alliance was created to secure peace and stability in Europe after World War 2. \n",
      "\n",
      "The United States is a member along with 29 other nations. \n",
      "\n",
      "It matters. American diplomacy matters. American resolve matters. \n",
      "\n",
      "Putin’s latest attack on Ukraine was premeditated and unprovoked. \n",
      "\n",
      "He rejected repeated efforts at diplomacy. \n",
      "\n",
      "He thought the West and NATO wouldn’t respond. And he thought he could divide us at home. Putin was wrong. We were ready.  Here is what we did.   \n",
      "\n",
      "We prepared extensively and carefully. \n",
      "\n",
      "We spent months building a coalition of other freedom-loving nations from Europe\n",
      "file_path: data\\txt\\state_of_the_union.txt\n",
      "\n",
      "our forces are not engaged and will not engage in conflict with Russian forces in Ukraine.  \n",
      "\n",
      "Our forces are not going to Europe to fight in Ukraine, but to defend our NATO Allies – in the event that Putin decides to keep moving west.  \n",
      "\n",
      "For that purpose we’ve mobilized American ground forces, air squadrons, and ship deployments to protect NATO countries including Poland, Romania, Latvia, Lithuania, and Estonia. \n",
      "\n",
      "As I have made crystal clear the United States and our Allies will defend every inch of territory of NATO countries with the full force of our collective power.  \n",
      "\n",
      "And we remain clear-eyed. The Ukrainians are fighting back with pure courage. But the next few days weeks, months, will be hard on them.  \n",
      "\n",
      "Putin has unleashed violence and chaos.  But while he may make gains on the battlefield – he will pay a continuing high price over the long run. \n",
      "\n",
      "And a proud Ukrainian people, who have known 30 years  of independence, have repeatedly shown that they will not tolerate anyone who tries to take their country backwards.  \n",
      "\n",
      "To all Americans, I will be honest with you, as I’ve always promised. A Russian dictator, invading a foreign country, has costs around the world. \n",
      "\n",
      "And I’m taking robust action to make sure the pain of our sanctions  is targeted at Russia’s economy. And I will use every tool at our disposal to protect American businesses and consumers. \n",
      "\n",
      "Tonight, I can announce that the United States has worked with 30 other countries to release 60 Million barrels of oil from reserves around the world.  \n",
      "\n",
      "America will lead that effort, releasing 30 Million barrels from our own Strategic Petroleum Reserve. And we stand ready to do more if necessary, unified with our allies.  \n",
      "\n",
      "These steps will help blunt gas prices here at home. And I know the news about what’s happening can seem alarming. \n",
      "\n",
      "But I want you to know that we are going to be okay. \n",
      "\n",
      "When the history of this era is written Putin’s war on Ukraine will have left Russia weaker and the rest of the world stronger. \n",
      "\n",
      "While it shouldn’t have taken something so terrible for people around the world to see what’s at stake now everyone sees it clearly. \n",
      "\n",
      "We see the unity among leaders of nations and a more unified Europe a more unified West. And we see unity among the people who are gathering in cities in large crowds around the world\n"
     ]
    }
   ],
   "source": [
    "# Initialize hybrid retriever and query engine\n",
    "semantic_reranker_retriever = index.as_retriever(vector_store_query_mode=VectorStoreQueryMode.SEMANTIC_HYBRID)\n",
    "semantic_reranker_query_engine = RetrieverQueryEngine(retriever=semantic_reranker_retriever)\n",
    "\n",
    "# Query execution\n",
    "query = \"What was the precise date when Russia invaded Ukraine?\"\n",
    "response = semantic_reranker_query_engine.query(query)\n",
    "\n",
    "# Display the response\n",
    "display(Markdown(f\"{response}\"))\n",
    "print(\"\\n\")\n",
    "\n",
    "# Print the source nodes\n",
    "print(\"Source Nodes:\")\n",
    "for node in response.source_nodes:\n",
    "    print(node.get_content(metadata_mode=MetadataMode.LLM))\n"
   ]
  },
  {
   "cell_type": "markdown",
   "metadata": {},
   "source": [
    "### হাইব্রিড w/রির‍্যাঙ্কিং: LLM প্রতিক্রিয়া বিশ্লেষণ\n",
    "হাইব্রিড w/রির‍্যাঙ্কিং উদাহরণে, LLM প্রতিক্রিয়া অতিরিক্ত প্রসঙ্গ প্রদান করে উল্লেখ করে যে ঘটনাটি বক্তৃতা দেওয়ার ছয় দিন আগে ঘটেছিল। এটি নির্দেশ করে যে LLM বক্তৃতার সময়ের উপর ভিত্তি করে আক্রমণের তারিখ অনুমান করতে সক্ষম, যদিও সঠিকতার জন্য বক্তৃতার সঠিক তারিখ জানা এখনও প্রয়োজন।\n",
    "\n",
    "এই প্রতিক্রিয়া প্রসঙ্গ সূত্র ব্যবহার করে আরও তথ্যপূর্ণ উত্তর দেওয়ার উন্নত ক্ষমতা প্রদর্শন করে। এটি রির‍্যাঙ্কিংয়ের সুবিধা তুলে ধরে, যেখানে LLM আরও প্রাসঙ্গিক তথ্য অ্যাক্সেস করতে এবং অগ্রাধিকার দিতে পারে, যা কাঙ্ক্ষিত বিশদ (যেমন, আক্রমণের তারিখ) এর কাছাকাছি একটি অনুমান প্রদান করে।\n",
    "\n",
    "### সোর্স নোড বিশ্লেষণ\n",
    "এই উদাহরণে সোর্স নোডগুলোতে রাশিয়ার আক্রমণের সময়ের উল্লেখ রয়েছে, বিশেষভাবে উল্লেখ করা হয়েছে যে এটি বক্তৃতার ছয় দিন আগে ঘটেছিল। যদিও সঠিক তারিখ এখনও স্পষ্টভাবে উল্লেখ করা হয়নি, নোডগুলো এমন সময়গত প্রসঙ্গ প্রদান করে যা LLM-কে আরও সূক্ষ্ম প্রতিক্রিয়া দিতে সাহায্য করে। এই বিশদ অন্তর্ভুক্তি দেখায় যে রির‍্যাঙ্কিং কীভাবে প্রদত্ত প্রসঙ্গ থেকে তথ্য বের করার এবং অনুমান করার LLM-এর ক্ষমতা উন্নত করতে পারে, যার ফলে আরও সঠিক এবং তথ্যপূর্ণ প্রতিক্রিয়া পাওয়া যায়।\n"
   ]
  },
  {
   "cell_type": "markdown",
   "metadata": {},
   "source": [
    "**নোট:**\n",
    "এই নোটবুকে আমরা NVIDIA API ক্যাটালগ থেকে NVIDIA NIM মাইক্রোসার্ভিস ব্যবহার করেছি।  \n",
    "উপরের API গুলো, `NVIDIA (llms)`, `NVIDIAEmbedding`, এবং [Azure AI Search Semantic Hybrid Retrieval (বিল্ট-ইন রির‍্যাঙ্কিং)](https://learn.microsoft.com/azure/search/semantic-search-overview)।  \n",
    "উল্লেখ্য, উপরোক্ত API গুলো স্ব-হোস্টেড মাইক্রোসার্ভিসকেও সমর্থন করতে পারে।  \n",
    "\n",
    "**উদাহরণ:**\n",
    "```python\n",
    "NVIDIA(model=\"meta/llama3-8b-instruct\", base_url=\"http://your-nim-host-address:8000/v1\")\n",
    "```\n"
   ]
  },
  {
   "cell_type": "markdown",
   "metadata": {},
   "source": [
    "\n---\n\n**অস্বীকৃতি**:  \nএই নথিটি AI অনুবাদ পরিষেবা [Co-op Translator](https://github.com/Azure/co-op-translator) ব্যবহার করে অনুবাদ করা হয়েছে। আমরা যথাসাধ্য সঠিকতার জন্য চেষ্টা করি, তবে অনুগ্রহ করে মনে রাখবেন যে স্বয়ংক্রিয় অনুবাদে ত্রুটি বা অসঙ্গতি থাকতে পারে। মূল ভাষায় থাকা নথিটিকে প্রামাণিক উৎস হিসেবে বিবেচনা করা উচিত। গুরুত্বপূর্ণ তথ্যের জন্য, পেশাদার মানব অনুবাদ সুপারিশ করা হয়। এই অনুবাদ ব্যবহারের ফলে কোনো ভুল বোঝাবুঝি বা ভুল ব্যাখ্যা হলে আমরা দায়বদ্ধ থাকব না।\n"
   ]
  }
 ],
 "metadata": {
  "kernelspec": {
   "display_name": "Python 3",
   "language": "python",
   "name": "python3"
  },
  "language_info": {
   "codemirror_mode": {
    "name": "ipython",
    "version": 3
   },
   "file_extension": ".py",
   "mimetype": "text/x-python",
   "name": "python",
   "nbconvert_exporter": "python",
   "pygments_lexer": "ipython3",
   "version": "3.11.9"
  },
  "coopTranslator": {
   "original_hash": "c023540b1eda8c0746871294979e1e5c",
   "translation_date": "2025-09-12T19:05:19+00:00",
   "source_file": "md/02.Application/06.MoE/Phi3/azure-ai-search-nvidia-rag.ipynb",
   "language_code": "bn"
  }
 },
 "nbformat": 4,
 "nbformat_minor": 2
}