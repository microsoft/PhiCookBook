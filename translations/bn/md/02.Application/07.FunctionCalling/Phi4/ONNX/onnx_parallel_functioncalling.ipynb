{
 "cells": [
  {
   "cell_type": "markdown",
   "id": "81ad8c65",
   "metadata": {},
   "source": [
    "# Phi-4 Mini ONNX Parallel Function Calling Tutorial\n",
    "\n",
    "এই নোটবুকটি Phi-4 Mini এবং ONNX Runtime GenAI ব্যবহার করে সমান্তরাল ফাংশন কলিং কীভাবে করা যায় তা প্রদর্শন করে। ফাংশন কলিং মডেলকে ব্যবহারকারীর অনুরোধ অনুযায়ী বুদ্ধিমত্তার সাথে বাহ্যিক টুল এবং API-গুলো আহ্বান করতে সক্ষম করে।\n",
    "\n",
    "## সংক্ষিপ্ত বিবরণ\n",
    "\n",
    "এই টিউটোরিয়ালে আপনি শিখবেন:\n",
    "- Phi-4 Mini এবং ONNX Runtime GenAI সেট আপ করা\n",
    "- ফ্লাইট এবং হোটেল বুকিংয়ের জন্য ফাংশন স্কিমা সংজ্ঞায়িত করা\n",
    "- কাঠামোগত আউটপুটের জন্য Lark ব্যাকরণ সহ নির্দেশিত জেনারেশন ব্যবহার করা\n",
    "- জটিল ভ্রমণ বুকিং পরিস্থিতির জন্য সমান্তরাল ফাংশন কল সম্পাদন করা\n",
    "\n",
    "## প্রয়োজনীয়তা\n",
    "\n",
    "এই নোটবুক চালানোর আগে নিশ্চিত করুন যে আপনার কাছে রয়েছে:\n",
    "- Phi-4 Mini ONNX মডেল ডাউনলোড করা\n",
    "- `onnxruntime-genai` প্যাকেজ ইনস্টল করা\n",
    "- ফাংশন কলিং ধারণার মৌলিক ধারণা\n"
   ]
  },
  {
   "cell_type": "markdown",
   "id": "8fc2551b",
   "metadata": {},
   "source": [
    "## ধাপ ১: প্রয়োজনীয় লাইব্রেরি আমদানি করুন\n",
    "\n",
    "প্রথমে, আমরা আমাদের ফাংশন কলিং বাস্তবায়নের জন্য প্রয়োজনীয় লাইব্রেরিগুলি আমদানি করব।\n"
   ]
  },
  {
   "cell_type": "code",
   "execution_count": 1,
   "id": "7368a24e",
   "metadata": {},
   "outputs": [],
   "source": [
    "import json"
   ]
  },
  {
   "cell_type": "code",
   "execution_count": 2,
   "id": "3e806340",
   "metadata": {},
   "outputs": [],
   "source": [
    "import onnxruntime_genai as og"
   ]
  },
  {
   "cell_type": "markdown",
   "id": "dc55f0ab",
   "metadata": {},
   "source": [
    "## ধাপ ২: মডেল সেটআপ এবং কনফিগারেশন\n",
    "\n",
    "এখন আমরা Phi-4 Mini ONNX মডেলটি কনফিগার করব। আপনার প্রকৃত মডেল ডিরেক্টরির পথটি এখানে প্রতিস্থাপন করতে ভুলবেন না।\n"
   ]
  },
  {
   "cell_type": "code",
   "execution_count": null,
   "id": "1e8edfbf",
   "metadata": {},
   "outputs": [],
   "source": [
    "# TODO: Replace with your actual Phi-4 Mini ONNX model path\n",
    "# Download from: https://huggingface.co/microsoft/Phi-4-mini-onnx\n",
    "path = 'Your phi-4-mini-onnx path'  # Update this path!"
   ]
  },
  {
   "cell_type": "code",
   "execution_count": 4,
   "id": "b80f5bb5",
   "metadata": {},
   "outputs": [],
   "source": [
    "config = og.Config(path)"
   ]
  },
  {
   "cell_type": "code",
   "execution_count": 5,
   "id": "10e9a553",
   "metadata": {},
   "outputs": [],
   "source": [
    "model = og.Model(config)"
   ]
  },
  {
   "cell_type": "code",
   "execution_count": 6,
   "id": "66ce23b1",
   "metadata": {},
   "outputs": [],
   "source": [
    "tokenizer = og.Tokenizer(model)\n",
    "tokenizer_stream = tokenizer.create_stream()"
   ]
  },
  {
   "cell_type": "markdown",
   "id": "08ac6d4a",
   "metadata": {},
   "source": [
    "## ধাপ ৩: জেনারেশন প্যারামিটার কনফিগার করুন\n",
    "\n",
    "মডেলের আউটপুট আচরণ নিয়ন্ত্রণ করতে জেনারেশন প্যারামিটার সেট আপ করুন। এই সেটিংসগুলি ফাংশন কলিংয়ের জন্য নির্ধারিত এবং কেন্দ্রীভূত প্রতিক্রিয়া নিশ্চিত করে।\n"
   ]
  },
  {
   "cell_type": "code",
   "execution_count": 7,
   "id": "af01f5ed",
   "metadata": {},
   "outputs": [],
   "source": [
    "# Configure generation parameters for deterministic function calling\n",
    "search_options = {}\n",
    "search_options['max_length'] = 4096      # Maximum tokens to generate\n",
    "search_options['temperature'] = 0.00001  # Very low temperature for deterministic output\n",
    "search_options['top_p'] = 1.0            # Nucleus sampling parameter\n",
    "search_options['do_sample'] = False       # Disable sampling for consistent results"
   ]
  },
  {
   "cell_type": "markdown",
   "id": "c2808a51",
   "metadata": {},
   "source": [
    "## ধাপ ৪: উপলব্ধ ফাংশনগুলি সংজ্ঞায়িত করুন\n",
    "\n",
    "এখানে আমরা সেই ফাংশনগুলি সংজ্ঞায়িত করছি যা আমাদের AI সহকারী কল করতে পারে। এই উদাহরণে, আমাদের কাছে দুটি ভ্রমণ-সম্পর্কিত ফাংশন রয়েছে:\n",
    "1. **booking_flight_tickets**: বিমানবন্দরের মধ্যে ফ্লাইট বুক করার জন্য\n",
    "2. **booking_hotels**: হোটেল থাকার ব্যবস্থা বুক করার জন্য\n",
    "\n",
    "ফাংশন সংজ্ঞাগুলি OpenAI-এর ফাংশন কলিং স্কিমা ফরম্যাট অনুসরণ করে।\n"
   ]
  },
  {
   "cell_type": "code",
   "execution_count": 8,
   "id": "fc53b93b",
   "metadata": {},
   "outputs": [],
   "source": [
    "tool_list = '[{\"name\": \"booking_flight_tickets\", \"description\": \"booking flights\", \"parameters\": {\"origin_airport_code\": {\"description\": \"The name of Departure airport code\", \"type\": \"string\"}, \"destination_airport_code\": {\"description\": \"The name of Destination airport code\", \"type\": \"string\"}, \"departure_date\": {\"description\": \"The date of outbound flight\", \"type\": \"string\"}, \"return_date\": {\"description\": \"The date of return flight\", \"type\": \"string\"}}}, {\"name\": \"booking_hotels\", \"description\": \"booking hotel\", \"parameters\": {\"destination\": {\"description\": \"The name of the city\", \"type\": \"string\"}, \"check_in_date\": {\"description\": \"The date of check in\", \"type\": \"string\"}, \"checkout_date\": {\"description\": \"The date of check out\", \"type\": \"string\"}}}]'"
   ]
  },
  {
   "cell_type": "markdown",
   "id": "f4bb4048",
   "metadata": {},
   "source": [
    "## ধাপ ৫: ব্যাকরণ তৈরির সহায়ক ফাংশনসমূহ\n",
    "\n",
    "এই সহায়ক ফাংশনগুলো আমাদের ফাংশন সংজ্ঞাগুলোকে Lark ব্যাকরণ ফরম্যাটে রূপান্তর করে, যা ONNX Runtime GenAI দ্বারা নির্দেশিত জেনারেশনের জন্য ব্যবহৃত হয়। এটি নিশ্চিত করে যে মডেল সঠিক JSON ফরম্যাটে বৈধ ফাংশন কল আউটপুট করে।\n"
   ]
  },
  {
   "cell_type": "code",
   "execution_count": 9,
   "id": "0f86e51c",
   "metadata": {},
   "outputs": [],
   "source": [
    "def get_lark_grammar(input_tools):\n",
    "    tools_list = get_tools_list(input_tools)\n",
    "    prompt_tool_input = create_prompt_tool_input(tools_list)\n",
    "    if len(tools_list) == 1:\n",
    "        # output = (\"start: TEXT | fun_call\\n\" \"TEXT: /[^{](.|\\\\n)*/\\n\" \" fun_call: <|tool_call|> %json \" + json.dumps(tools_list[0]))\n",
    "        output = (\"start: TEXT | fun_call\\n\" \"TEXT: /[^{](.|\\\\n)*/\\n\" \" fun_call: <|tool_call|> %json \" + json.dumps(convert_tool_to_grammar_input(tools_list[0])))\n",
    "        return prompt_tool_input, output\n",
    "    else:\n",
    "        return prompt_tool_input, \"start: TEXT | fun_call \\n TEXT: /[^{](.|\\n)*/ \\n fun_call: <|tool_call|> %json {\\\"anyOf\\\": [\" + ','.join([json.dumps(tool) for tool in tools_list]) + \"]}\"\n"
   ]
  },
  {
   "cell_type": "code",
   "execution_count": 10,
   "id": "7f2da98d",
   "metadata": {},
   "outputs": [],
   "source": [
    "def get_tools_list(input_tools):\n",
    "    # input_tools format: '[{\"name\": \"fn1\", \"description\": \"fn details\", \"parameters\": {\"p1\": {\"description\": \"details\", \"type\": \"string\"}}},\n",
    "    # {\"fn2\": 2},{\"fn3\": 3}]'\n",
    "    tools_list = []\n",
    "    try:\n",
    "        tools_list = json.loads(input_tools)\n",
    "    except json.JSONDecodeError:\n",
    "        raise ValueError(\"Invalid JSON format for tools list, expected format: '[{\\\"name\\\": \\\"fn1\\\"},{\\\"name\\\": \\\"fn2\\\"}]'\")\n",
    "    if len(tools_list) == 0:\n",
    "        raise ValueError(\"Tools list cannot be empty\")\n",
    "    return tools_list"
   ]
  },
  {
   "cell_type": "code",
   "execution_count": 11,
   "id": "1b1c2261",
   "metadata": {},
   "outputs": [],
   "source": [
    "def create_prompt_tool_input(tools_list):\n",
    "    tool_input = str(tools_list[0])\n",
    "    for tool in tools_list[1:]:\n",
    "        tool_input += ',' + str(tool)\n",
    "    return tool_input"
   ]
  },
  {
   "cell_type": "code",
   "execution_count": 12,
   "id": "aa82c09c",
   "metadata": {},
   "outputs": [],
   "source": [
    "def convert_tool_to_grammar_input(tool):\n",
    "    param_props = {}\n",
    "    required_params = []\n",
    "    for param_name, param_info in tool.get(\"parameters\", {}).items():\n",
    "        param_props[param_name] = {\n",
    "            \"type\": param_info.get(\"type\", \"string\"),\n",
    "            \"description\": param_info.get(\"description\", \"\")\n",
    "        }\n",
    "        required_params.append(param_name)\n",
    "    output_schema = {\n",
    "        \"description\": tool.get('description', ''),\n",
    "        \"type\": \"object\",\n",
    "        \"required\": [\"name\", \"parameters\"],\n",
    "        \"additionalProperties\": False,\n",
    "        \"properties\": {\n",
    "            \"name\": { \"const\": tool[\"name\"] },\n",
    "            \"parameters\": {\n",
    "                \"type\": \"object\",\n",
    "                \"properties\": param_props,\n",
    "                \"required\": required_params,\n",
    "                \"additionalProperties\": False\n",
    "            }\n",
    "        }\n",
    "    }\n",
    "    if len(param_props) == 0:\n",
    "        output_schema[\"required\"] = [\"name\"]\n",
    "    return output_schema"
   ]
  },
  {
   "cell_type": "code",
   "execution_count": 13,
   "id": "284c9474",
   "metadata": {},
   "outputs": [
    {
     "data": {
      "text/plain": [
       "(\"{'name': 'booking_flight_tickets', 'description': 'booking flights', 'parameters': {'origin_airport_code': {'description': 'The name of Departure airport code', 'type': 'string'}, 'destination_airport_code': {'description': 'The name of Destination airport code', 'type': 'string'}, 'departure_date': {'description': 'The date of outbound flight', 'type': 'string'}, 'return_date': {'description': 'The date of return flight', 'type': 'string'}}},{'name': 'booking_hotels', 'description': 'booking hotel', 'parameters': {'destination': {'description': 'The name of the city', 'type': 'string'}, 'check_in_date': {'description': 'The date of check in', 'type': 'string'}, 'checkout_date': {'description': 'The date of check out', 'type': 'string'}}}\",\n",
       " 'start: TEXT | fun_call \\n TEXT: /[^{](.|\\n)*/ \\n fun_call: <|tool_call|> %json {\"anyOf\": [{\"name\": \"booking_flight_tickets\", \"description\": \"booking flights\", \"parameters\": {\"origin_airport_code\": {\"description\": \"The name of Departure airport code\", \"type\": \"string\"}, \"destination_airport_code\": {\"description\": \"The name of Destination airport code\", \"type\": \"string\"}, \"departure_date\": {\"description\": \"The date of outbound flight\", \"type\": \"string\"}, \"return_date\": {\"description\": \"The date of return flight\", \"type\": \"string\"}}},{\"name\": \"booking_hotels\", \"description\": \"booking hotel\", \"parameters\": {\"destination\": {\"description\": \"The name of the city\", \"type\": \"string\"}, \"check_in_date\": {\"description\": \"The date of check in\", \"type\": \"string\"}, \"checkout_date\": {\"description\": \"The date of check out\", \"type\": \"string\"}}}]}')"
      ]
     },
     "execution_count": 13,
     "metadata": {},
     "output_type": "execute_result"
    }
   ],
   "source": [
    "get_lark_grammar(tool_list)"
   ]
  },
  {
   "cell_type": "markdown",
   "id": "c534ff02",
   "metadata": {},
   "source": [
    "## ধাপ ৬: ব্যাকরণ তৈরির পরীক্ষা\n",
    "\n",
    "চলুন আমাদের ব্যাকরণ তৈরির ফাংশনগুলো পরীক্ষা করি এবং দেখি কীভাবে তারা আমাদের টুল সংজ্ঞাগুলোকে সঠিক ফরম্যাটে রূপান্তর করে।\n"
   ]
  },
  {
   "cell_type": "code",
   "execution_count": 14,
   "id": "a730b137",
   "metadata": {},
   "outputs": [],
   "source": [
    "prompt_tool_input, guidance_input = get_lark_grammar(tool_list)"
   ]
  },
  {
   "cell_type": "markdown",
   "id": "a4ca5aa8",
   "metadata": {},
   "source": [
    "## ধাপ ৭: সিস্টেম প্রম্পট এবং জেনারেটর প্রস্তুত করুন\n",
    "\n",
    "এখন আমরা সিস্টেম প্রম্পট তৈরি করব যা মডেলকে উপলব্ধ টুলগুলোর সম্পর্কে জানাবে এবং নির্দেশিত জেনারেশন প্যারামিটার দিয়ে জেনারেটর সেট আপ করব।\n"
   ]
  },
  {
   "cell_type": "code",
   "execution_count": 15,
   "id": "c8474cdf",
   "metadata": {},
   "outputs": [],
   "source": [
    "# Define the system prompt that introduces the assistant and its capabilities\n",
    "system_prompt = \"You are a helpful assistant with these tools.\""
   ]
  },
  {
   "cell_type": "code",
   "execution_count": 16,
   "id": "97c4c612",
   "metadata": {},
   "outputs": [],
   "source": [
    "# Format the system message with tools information\n",
    "messages = f\"\"\"[{{\"role\": \"system\", \"content\": \"{system_prompt}\", \"tools\": \"{prompt_tool_input}\"}}]\"\"\""
   ]
  },
  {
   "cell_type": "code",
   "execution_count": 17,
   "id": "aaabbc49",
   "metadata": {},
   "outputs": [],
   "source": [
    "# Apply chat template to format the system prompt properly\n",
    "tokenizer_input_system_prompt = tokenizer.apply_chat_template(messages=messages, add_generation_prompt=False)"
   ]
  },
  {
   "cell_type": "code",
   "execution_count": 18,
   "id": "81f0da4d",
   "metadata": {},
   "outputs": [
    {
     "data": {
      "text/plain": [
       "\"<|system|>You are a helpful assistant with these tools.<|tool|>{'name': 'booking_flight_tickets', 'description': 'booking flights', 'parameters': {'origin_airport_code': {'description': 'The name of Departure airport code', 'type': 'string'}, 'destination_airport_code': {'description': 'The name of Destination airport code', 'type': 'string'}, 'departure_date': {'description': 'The date of outbound flight', 'type': 'string'}, 'return_date': {'description': 'The date of return flight', 'type': 'string'}}},{'name': 'booking_hotels', 'description': 'booking hotel', 'parameters': {'destination': {'description': 'The name of the city', 'type': 'string'}, 'check_in_date': {'description': 'The date of check in', 'type': 'string'}, 'checkout_date': {'description': 'The date of check out', 'type': 'string'}}}<|/tool|><|end|><|endoftext|>\""
      ]
     },
     "execution_count": 18,
     "metadata": {},
     "output_type": "execute_result"
    }
   ],
   "source": [
    "tokenizer_input_system_prompt"
   ]
  },
  {
   "cell_type": "code",
   "execution_count": 19,
   "id": "10605b23",
   "metadata": {},
   "outputs": [],
   "source": [
    "input_tokens = tokenizer.encode(tokenizer_input_system_prompt)"
   ]
  },
  {
   "cell_type": "code",
   "execution_count": 20,
   "id": "6de50e32",
   "metadata": {},
   "outputs": [],
   "source": [
    "input_tokens = input_tokens[:-1]"
   ]
  },
  {
   "cell_type": "code",
   "execution_count": 21,
   "id": "1c17a6c9",
   "metadata": {},
   "outputs": [],
   "source": [
    "system_prompt_length = len(input_tokens)"
   ]
  },
  {
   "cell_type": "markdown",
   "id": "5ec5f242",
   "metadata": {},
   "source": [
    "## ধাপ ৮: নির্দেশিত জেনারেশনের জন্য জেনারেটর আরম্ভ করুন\n",
    "\n",
    "এখন আমরা আমাদের কনফিগার করা প্যারামিটারগুলির সাথে জেনারেটর তৈরি করব এবং নির্দেশিত জেনারেশনের জন্য লার্ক ব্যাকরণ প্রয়োগ করব।\n"
   ]
  },
  {
   "cell_type": "code",
   "execution_count": 22,
   "id": "b54180c0",
   "metadata": {},
   "outputs": [],
   "source": [
    "# Create generator parameters and apply search options\n",
    "params = og.GeneratorParams(model)\n",
    "params.set_search_options(**search_options)"
   ]
  },
  {
   "cell_type": "code",
   "execution_count": 23,
   "id": "eec56940",
   "metadata": {},
   "outputs": [],
   "source": [
    "# Apply Lark grammar for guided generation to ensure valid function call format\n",
    "params.set_guidance(\"lark_grammar\", guidance_input)"
   ]
  },
  {
   "cell_type": "code",
   "execution_count": null,
   "id": "92207c48",
   "metadata": {},
   "outputs": [],
   "source": []
  },
  {
   "cell_type": "code",
   "execution_count": 24,
   "id": "690112f5",
   "metadata": {},
   "outputs": [],
   "source": [
    "generator = og.Generator(model, params)"
   ]
  },
  {
   "cell_type": "code",
   "execution_count": 25,
   "id": "789d5b1a",
   "metadata": {},
   "outputs": [],
   "source": [
    "generator.append_tokens(input_tokens)"
   ]
  },
  {
   "cell_type": "markdown",
   "id": "5c7c9c2e",
   "metadata": {},
   "source": [
    "## ধাপ ৯: সমান্তরাল ফাংশন কলিং পরীক্ষা করুন\n",
    "\n",
    "এখন চলুন একটি জটিল ভ্রমণ বুকিং পরিস্থিতি পরীক্ষা করি, যেখানে একাধিক ফাংশন কল করতে হবে।\n"
   ]
  },
  {
   "cell_type": "code",
   "execution_count": 26,
   "id": "0ac5ff58",
   "metadata": {},
   "outputs": [],
   "source": [
    "# Complex travel booking request that requires both flight and hotel booking\n",
    "text = \"book flight ticket from Beijing to Paris(using airport code) in 2025-12-04 to 2025-12-10 , then book hotel from 2025-12-04 to 2025-12-10 in Paris\""
   ]
  },
  {
   "cell_type": "code",
   "execution_count": 27,
   "id": "36386526",
   "metadata": {},
   "outputs": [],
   "source": [
    "# Format user message and apply chat template\n",
    "messages = f\"\"\"[{{\"role\": \"user\", \"content\": \"{text}\"}}]\"\"\"\n",
    "\n",
    "# Apply Chat Template for user input\n",
    "user_prompt = tokenizer.apply_chat_template(messages=messages, add_generation_prompt=True)\n",
    "input_tokens = tokenizer.encode(user_prompt)\n",
    "generator.append_tokens(input_tokens)"
   ]
  },
  {
   "cell_type": "code",
   "execution_count": 28,
   "id": "f85f5caa",
   "metadata": {},
   "outputs": [
    {
     "data": {
      "text/plain": [
       "'<|user|>book flight ticket from Beijing to Paris(using airport code) in 2025-12-04 to 2025-12-10 , then book hotel from 2025-12-04 to 2025-12-10 in Paris<|end|><|assistant|>'"
      ]
     },
     "execution_count": 28,
     "metadata": {},
     "output_type": "execute_result"
    }
   ],
   "source": [
    "user_prompt"
   ]
  },
  {
   "cell_type": "markdown",
   "id": "833c90f9",
   "metadata": {},
   "source": []
  },
  {
   "cell_type": "markdown",
   "id": "65331735",
   "metadata": {},
   "source": [
    "### ফাংশন কল তৈরি করুন\n",
    "\n",
    "মডেল এখন আমাদের ব্যবহারকারীর অনুরোধ অনুযায়ী কাঠামোবদ্ধ ফাংশন কল তৈরি করবে। নির্দেশিত জেনারেশনের কারণে, আউটপুট বৈধ JSON ফরম্যাটে থাকবে যা সরাসরি কার্যকর করা যেতে পারে।\n",
    "\n",
    "**প্রত্যাশিত আউটপুট**: মডেলটি নিম্নলিখিত ফাংশন কল তৈরি করবে:\n",
    "1. `booking_flight_tickets` এর জন্য বেইজিং (PEK) থেকে প্যারিস (CDG) এর বিবরণ সহ\n",
    "2. `booking_hotels` এর জন্য প্যারিসে থাকার বিবরণ সহ\n",
    "\n",
    "নীচের সেলটি চালান লাইভ জেনারেশন দেখতে:\n"
   ]
  },
  {
   "cell_type": "code",
   "execution_count": 29,
   "id": "64a703a1",
   "metadata": {},
   "outputs": [
    {
     "name": "stdout",
     "output_type": "stream",
     "text": [
      "[{\"name\": \"booking_flight_tickets\", \"arguments\": {\"origin_airport_code\": \"PEKK\", \"destination_airport_code\": \"CDG\", \"departure_date\": \"2025-12-04\", \"return_date\": \"2025-12-10\"}}, {\"name\": \"booking_hotels\", \"arguments\": {\"destination\": \"Paris\", \"check_in_date\": \"2025-12-04\", \"checkout_date\": \"2025-12-10\"}}]"
     ]
    }
   ],
   "source": [
    "# Generate tokens one by one and stream the output\n",
    "while not generator.is_done():\n",
    "    generator.generate_next_token()\n",
    "    new_token = generator.get_next_tokens()[0]\n",
    "    print(tokenizer_stream.decode(new_token), end='', flush=True)"
   ]
  },
  {
   "cell_type": "markdown",
   "id": "e4db4123",
   "metadata": {},
   "source": [
    "## উপসংহার\n",
    "\n",
    "🎉 **অভিনন্দন!** আপনি সফলভাবে Phi-4 Mini ব্যবহার করে ONNX Runtime GenAI এর মাধ্যমে সমান্তরাল ফাংশন কলিং বাস্তবায়ন করেছেন।\n",
    "\n",
    "### আপনি যা শিখেছেন:\n",
    "\n",
    "1. **মডেল সেটআপ**: ONNX Runtime GenAI এর সাথে Phi-4 Mini কনফিগার করার পদ্ধতি\n",
    "2. **ফাংশন সংজ্ঞা**: AI ফাংশন কলিংয়ের জন্য ফাংশন স্কিমা কীভাবে সংজ্ঞায়িত করবেন\n",
    "3. **নির্দেশিত জেনারেশন**: কাঠামোবদ্ধ আউটপুট তৈরির জন্য Lark ব্যাকরণ ব্যবহার করার পদ্ধতি\n",
    "4. **সমান্তরাল ফাংশন কল**: জটিল অনুরোধ পরিচালনা করার জন্য একাধিক ফাংশন কলের ব্যবহার\n",
    "\n",
    "### প্রধান সুবিধাসমূহ:\n",
    "\n",
    "- ✅ **কাঠামোবদ্ধ আউটপুট**: নির্দেশিত জেনারেশন বৈধ JSON ফাংশন কল নিশ্চিত করে\n",
    "- ✅ **সমান্তরাল প্রসেসিং**: একক অনুরোধে একাধিক ফাংশন কল পরিচালনা করা যায়\n",
    "- ✅ **উচ্চ কার্যক্ষমতা**: ONNX Runtime অপ্টিমাইজড ইনফারেন্স প্রদান করে\n",
    "- ✅ **লচনীয় স্কিমা**: ফাংশন সংজ্ঞা সহজে যোগ বা পরিবর্তন করা যায়\n",
    "\n",
    "### সম্পদসমূহ:\n",
    "\n",
    "- [Phi-4 Mini ডকুমেন্টেশন](https://huggingface.co/microsoft/Phi-4-mini-onnx)\n",
    "- [ONNX Runtime GenAI ডকুমেন্টেশন](https://onnxruntime.ai/docs/genai/)\n",
    "- [ফাংশন কলিংয়ের সেরা অনুশীলন](https://platform.openai.com/docs/guides/function-calling)\n"
   ]
  },
  {
   "cell_type": "markdown",
   "metadata": {},
   "source": [
    "\n---\n\n**অস্বীকৃতি**:  \nএই নথিটি AI অনুবাদ পরিষেবা [Co-op Translator](https://github.com/Azure/co-op-translator) ব্যবহার করে অনুবাদ করা হয়েছে। আমরা যথাসম্ভব সঠিকতার জন্য চেষ্টা করি, তবে অনুগ্রহ করে মনে রাখবেন যে স্বয়ংক্রিয় অনুবাদে ত্রুটি বা অসঙ্গতি থাকতে পারে। মূল ভাষায় থাকা নথিটিকে প্রামাণিক উৎস হিসেবে বিবেচনা করা উচিত। গুরুত্বপূর্ণ তথ্যের জন্য, পেশাদার মানব অনুবাদ সুপারিশ করা হয়। এই অনুবাদ ব্যবহারের ফলে কোনো ভুল বোঝাবুঝি বা ভুল ব্যাখ্যা হলে আমরা তার জন্য দায়ী থাকব না।\n"
   ]
  }
 ],
 "metadata": {
  "kernelspec": {
   "display_name": "pydev",
   "language": "python",
   "name": "python3"
  },
  "language_info": {
   "codemirror_mode": {
    "name": "ipython",
    "version": 3
   },
   "file_extension": ".py",
   "mimetype": "text/x-python",
   "name": "python",
   "nbconvert_exporter": "python",
   "pygments_lexer": "ipython3",
   "version": "3.11.8"
  },
  "coopTranslator": {
   "original_hash": "8b61c907614fd2780d526c45c388d285",
   "translation_date": "2025-09-12T18:57:30+00:00",
   "source_file": "md/02.Application/07.FunctionCalling/Phi4/ONNX/onnx_parallel_functioncalling.ipynb",
   "language_code": "bn"
  }
 },
 "nbformat": 4,
 "nbformat_minor": 5
}