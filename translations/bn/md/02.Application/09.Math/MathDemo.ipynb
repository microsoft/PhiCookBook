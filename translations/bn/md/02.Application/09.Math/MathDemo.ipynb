{
 "cells": [
  {
   "cell_type": "markdown",
   "id": "64e7ac41",
   "metadata": {},
   "source": [
    "## প্রয়োজনীয় লাইব্রেরি আমদানি করুন\n",
    "Phi-4 মডেল লোড এবং ব্যবহার করার জন্য প্রয়োজনীয় PyTorch এবং transformers লাইব্রেরি আমদানি করুন।\n"
   ]
  },
  {
   "cell_type": "code",
   "execution_count": null,
   "id": "6381136a",
   "metadata": {},
   "outputs": [],
   "source": [
    "import torch\n",
    "from transformers import AutoModelForCausalLM, AutoTokenizer, pipeline"
   ]
  },
  {
   "cell_type": "markdown",
   "id": "ed6caaf7",
   "metadata": {},
   "source": [
    "## র্যান্ডম সিড সেট করুন\n",
    "র্যান্ডম সিড সেট করুন যাতে বিভিন্ন রান জুড়ে পুনরুত্পাদনযোগ্য ফলাফল নিশ্চিত করা যায়।\n"
   ]
  },
  {
   "cell_type": "code",
   "execution_count": null,
   "id": "a0f9d6f3",
   "metadata": {},
   "outputs": [],
   "source": [
    "torch.random.manual_seed(0)"
   ]
  },
  {
   "cell_type": "markdown",
   "id": "3c3ce6d9",
   "metadata": {},
   "source": [
    "## ফি-৪-মিনি-ফ্ল্যাশ-রিজনিং মডেল এবং টোকেনাইজার লোড করুন\n",
    "মাইক্রোসফট ফি-৪-মিনি-ফ্ল্যাশ-রিজনিং মডেল এবং এর সংশ্লিষ্ট টোকেনাইজার হাগিং ফেস থেকে লোড করুন। মডেলটি দ্রুত ইনফারেন্সের জন্য CUDA-তে লোড করা হবে।\n"
   ]
  },
  {
   "cell_type": "code",
   "execution_count": null,
   "id": "d981b896",
   "metadata": {},
   "outputs": [],
   "source": [
    "model_id = \"microsoft/Phi-4-mini-flash-reasoning\"\n",
    "model = AutoModelForCausalLM.from_pretrained(\n",
    "   model_id,\n",
    "   device_map=\"cuda\",\n",
    "   torch_dtype=\"auto\",\n",
    "   trust_remote_code=True,\n",
    ")\n",
    "tokenizer = AutoTokenizer.from_pretrained(model_id)"
   ]
  },
  {
   "cell_type": "markdown",
   "id": "c8789ea8",
   "metadata": {},
   "source": [
    "## ইনপুট বার্তা প্রস্তুত করুন\n",
    "একটি কথোপকথনের বার্তা তৈরি করুন যেখানে একটি দ্বিঘাত সমীকরণের গণিত সমস্যা থাকবে এবং এটি মডেলের জন্য চ্যাট টেমপ্লেট ব্যবহার করে ফরম্যাট করুন।\n"
   ]
  },
  {
   "cell_type": "code",
   "execution_count": null,
   "id": "ad1841fc",
   "metadata": {},
   "outputs": [],
   "source": [
    "messages = [{\n",
    "   \"role\": \"user\",\n",
    "   \"content\": \"How to solve 3*x^2+4*x+5=1?\"\n",
    "}]   \n",
    "inputs = tokenizer.apply_chat_template(\n",
    "   messages,\n",
    "   add_generation_prompt=True,\n",
    "   return_dict=True,\n",
    "   return_tensors=\"pt\",\n",
    ")"
   ]
  },
  {
   "cell_type": "markdown",
   "id": "51b87bf8",
   "metadata": {},
   "source": [
    "## প্রতিক্রিয়া তৈরি করুন\n",
    "নির্ধারিত প্যারামিটার যেমন temperature এবং top_p ব্যবহার করে মডেল থেকে একটি প্রতিক্রিয়া তৈরি করুন, যাতে আউটপুটে নিয়ন্ত্রিত র্যান্ডমনেস নিশ্চিত করা যায়।\n"
   ]
  },
  {
   "cell_type": "code",
   "execution_count": null,
   "id": "728f2de1",
   "metadata": {},
   "outputs": [],
   "source": [
    "outputs = model.generate(\n",
    "   **inputs.to(model.device),\n",
    "   max_new_tokens=32768,\n",
    "   temperature=0.6,\n",
    "   top_p=0.95,\n",
    "   do_sample=True,\n",
    ")"
   ]
  },
  {
   "cell_type": "markdown",
   "id": "b5088f0d",
   "metadata": {},
   "source": [
    "## আউটপুটকে টেক্সটে রূপান্তর করুন\n",
    "জেনারেট করা টোকেন সিকোয়েন্সগুলোকে মানুষের পড়ার উপযোগী টেক্সটে রূপান্তর করুন, যেখানে মূল ইনপুট টোকেনগুলো বাদ দিয়ে শুধুমাত্র মডেলের প্রতিক্রিয়া প্রদর্শিত হবে।\n"
   ]
  },
  {
   "cell_type": "code",
   "execution_count": null,
   "id": "0b1f67c5",
   "metadata": {},
   "outputs": [],
   "source": [
    "outputs = tokenizer.batch_decode(outputs[:, inputs[\"input_ids\"].shape[-1]:])"
   ]
  },
  {
   "cell_type": "markdown",
   "metadata": {},
   "source": [
    "\n---\n\n**অস্বীকৃতি**:  \nএই নথিটি AI অনুবাদ পরিষেবা [Co-op Translator](https://github.com/Azure/co-op-translator) ব্যবহার করে অনুবাদ করা হয়েছে। আমরা যথাসম্ভব সঠিকতার জন্য চেষ্টা করি, তবে অনুগ্রহ করে মনে রাখবেন যে স্বয়ংক্রিয় অনুবাদে ত্রুটি বা অসঙ্গতি থাকতে পারে। মূল ভাষায় থাকা নথিটিকে প্রামাণিক উৎস হিসেবে বিবেচনা করা উচিত। গুরুত্বপূর্ণ তথ্যের জন্য, পেশাদার মানব অনুবাদ সুপারিশ করা হয়। এই অনুবাদ ব্যবহারের ফলে কোনো ভুল বোঝাবুঝি বা ভুল ব্যাখ্যা হলে আমরা তার জন্য দায়ী থাকব না।\n"
   ]
  }
 ],
 "metadata": {
  "kernelspec": {
   "display_name": "pydev",
   "language": "python",
   "name": "python3"
  },
  "language_info": {
   "name": "python",
   "version": "3.11.8"
  },
  "coopTranslator": {
   "original_hash": "93d4d22a7a9ec7e7e668474526477813",
   "translation_date": "2025-09-12T18:49:52+00:00",
   "source_file": "md/02.Application/09.Math/MathDemo.ipynb",
   "language_code": "bn"
  }
 },
 "nbformat": 4,
 "nbformat_minor": 5
}