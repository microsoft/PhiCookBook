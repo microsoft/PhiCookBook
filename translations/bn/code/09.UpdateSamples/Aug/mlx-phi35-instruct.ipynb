{
 "cells": [
  {
   "cell_type": "code",
   "execution_count": 1,
   "metadata": {},
   "outputs": [],
   "source": [
    "from mlx_lm import load, generate"
   ]
  },
  {
   "cell_type": "code",
   "execution_count": 2,
   "metadata": {},
   "outputs": [
    {
     "name": "stderr",
     "output_type": "stream",
     "text": [
      "Special tokens have been added in the vocabulary, make sure the associated word embeddings are fine-tuned or trained.\n"
     ]
    }
   ],
   "source": [
    "model, tokenizer = load(\"./phi-3.5-instruct-mlx-int4\")"
   ]
  },
  {
   "cell_type": "code",
   "execution_count": 7,
   "metadata": {},
   "outputs": [],
   "source": [
    "prompt = tokenizer.apply_chat_template(\n",
    "    [{\"role\": \"user\", \"content\": \"能介绍一下 iOS 吗？\"}],\n",
    "    tokenize=False,\n",
    "    add_generation_prompt=True,\n",
    ")"
   ]
  },
  {
   "cell_type": "code",
   "execution_count": 8,
   "metadata": {},
   "outputs": [
    {
     "name": "stdout",
     "output_type": "stream",
     "text": [
      "==========\n",
      "Prompt: <|user|>\n",
      "能介绍一下 iOS 吗？<|end|>\n",
      "<|assistant|>\n",
      "\n",
      "iOS 是由è¹果公司（Apple）开发的一种操作系统，主要为è¹果的智能手机、平æ¿电è和平视器设å¤设计的平台。å®于 2007 年 秋å­£发布，首先为 iPhone 提ä¾，é后为 iPod touch 和 iPad 上实现了。iOS 是基于 macOS 的 Darwin æ ¸心，并包å«了其自å·±的界面和应用，通过应用商店（当时称为 Mac App Store）进行分发。\n",
      "\n",
      "以下是 iOS 的一些关é®特点：\n",
      "\n",
      "1. **用户界面 (UI)**：iOS 以其直è§ä¸美è§的界面而é»名，主要使用自定义的交äº界面，包æ¬è§¦æ¸å±å¹导航和应用程序之间的æ»动。\n",
      "\n",
      "2. **应用商店**：用户可以从应用商店下载或è´­ä¹°应用，这是 iOS 的主要应用分发平台。\n",
      "\n",
      "3. **集成性**：iOS 设å¤可以通过 iCloud 进行文件同æ­¥，并ä¸可以与其他 Apple 设å¤如 Mac 和 iTunes 进行å³时同æ­¥。\n",
      "\n",
      "4. **安全性**：è¹果对应用程序进行å®¡æ ¸，以确保安全性和é用性，并限制了æ©展组件的使用。\n",
      "\n",
      "5. **定制性**：用户可以在设置中定制å±å¹æ光时间、通知设置和应用程序å¯动时间。\n",
      "\n",
      "6. **功能**：iOS 包æ¬基本的工å·，如日å、地图和通知，并可以通过第三方应用程序进行æ©展。\n",
      "\n",
      "7. **集成性**：iOS 设å¤可以通过 iMessage、FaceTime 和ä¼业çº§的 iCloud 服务与其他用户进行通信。\n",
      "\n",
      "8. **åçº§é¢ç**：è¹果定期更新 iOS，以改å安全性、性能和功能。\n",
      "\n",
      "9. **可æ©展性**：è½然限制了应用程序的æ©展，ä½ iOS 可以通过第三方工å·进行æ©展，如è¹果的 Xcode。\n",
      "\n",
      "10. **è³语支持**：iOS 支持多种语言，包æ¬英语、法语、西ç­ç语和阿拉ä¼¯语等语言。\n",
      "\n",
      "iOS 的主要ç«äº对手是 Android，由 Google 主导，通常在设å¤的开源性和应用商店的多样性方面上有不同的特点。与 Android 不同，iOS 更多ä¾èµ于è¹果的生态系统。\n",
      "\n",
      "éç时间的æ¨移，è¹果不断æ©展了 iOS 的功能，包æ¬在 iOS 14 中引入了更多的应用程序自定义选项和 API 以å¢å¼º开发者的能力。然而，è¹果ä»然保持其ç¬特的操作系统形象。<|end|>\n",
      "==========\n",
      "Prompt: 17 tokens, 158.397 tokens-per-sec\n",
      "Generation: 932 tokens, 75.787 tokens-per-sec\n",
      "Peak memory: 2.512 GB\n"
     ]
    }
   ],
   "source": [
    "response = generate(model, tokenizer, prompt=prompt,max_tokens=1024, verbose=True)"
   ]
  },
  {
   "cell_type": "markdown",
   "metadata": {},
   "source": [
    "\n---\n\n**অস্বীকৃতি**:  \nএই নথিটি AI অনুবাদ পরিষেবা [Co-op Translator](https://github.com/Azure/co-op-translator) ব্যবহার করে অনুবাদ করা হয়েছে। আমরা যথাসম্ভব সঠিকতার জন্য চেষ্টা করি, তবে অনুগ্রহ করে মনে রাখবেন যে স্বয়ংক্রিয় অনুবাদে ত্রুটি বা অসঙ্গতি থাকতে পারে। মূল ভাষায় থাকা নথিটিকে প্রামাণিক উৎস হিসেবে বিবেচনা করা উচিত। গুরুত্বপূর্ণ তথ্যের জন্য, পেশাদার মানব অনুবাদ সুপারিশ করা হয়। এই অনুবাদ ব্যবহারের ফলে কোনো ভুল বোঝাবুঝি বা ভুল ব্যাখ্যা হলে আমরা দায়বদ্ধ থাকব না।\n"
   ]
  }
 ],
 "metadata": {
  "kernelspec": {
   "display_name": "mlxenv",
   "language": "python",
   "name": "python3"
  },
  "language_info": {
   "codemirror_mode": {
    "name": "ipython",
    "version": 3
   },
   "file_extension": ".py",
   "mimetype": "text/x-python",
   "name": "python",
   "nbconvert_exporter": "python",
   "pygments_lexer": "ipython3",
   "version": "3.11.7"
  },
  "coopTranslator": {
   "original_hash": "34054db367984cbb33241cfebf4fddf9",
   "translation_date": "2025-09-12T19:19:56+00:00",
   "source_file": "code/09.UpdateSamples/Aug/mlx-phi35-instruct.ipynb",
   "language_code": "bn"
  }
 },
 "nbformat": 4,
 "nbformat_minor": 2
}