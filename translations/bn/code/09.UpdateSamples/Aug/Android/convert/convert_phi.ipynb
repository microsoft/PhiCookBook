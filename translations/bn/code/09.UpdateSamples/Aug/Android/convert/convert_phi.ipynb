{
 "cells": [
  {
   "cell_type": "code",
   "execution_count": 3,
   "metadata": {},
   "outputs": [],
   "source": [
    "TFLITE_MODEL = 'Your Phi-3.5 tflite model path'\n",
    "TOKENIZER_MODEL = 'Your Phi-3.5 tokenizer.model path'\n",
    "START_TOKEN = \"<s>\"\n",
    "STOP_TOKENS = [\"<|endoftext|>\"]\n",
    "OUTPUT_FILENAME = \"Your Phi-3.5 task model path\"\n",
    "ENABLE_BYTES_TO_UNICODE_MAPPING = True\n",
    "\n"
   ]
  },
  {
   "cell_type": "code",
   "execution_count": 4,
   "metadata": {},
   "outputs": [],
   "source": [
    "import mediapipe as mp\n",
    "from mediapipe.tasks.python.genai import bundler"
   ]
  },
  {
   "cell_type": "code",
   "execution_count": 5,
   "metadata": {},
   "outputs": [],
   "source": [
    "config = bundler.BundleConfig(\n",
    "    tflite_model=TFLITE_MODEL,\n",
    "    tokenizer_model=TOKENIZER_MODEL,\n",
    "    start_token=START_TOKEN,\n",
    "    stop_tokens=STOP_TOKENS,\n",
    "    output_filename=OUTPUT_FILENAME,\n",
    "    enable_bytes_to_unicode_mapping=ENABLE_BYTES_TO_UNICODE_MAPPING,\n",
    ")"
   ]
  },
  {
   "cell_type": "code",
   "execution_count": 6,
   "metadata": {},
   "outputs": [],
   "source": [
    "bundler.create_bundle(config)"
   ]
  },
  {
   "cell_type": "markdown",
   "metadata": {},
   "source": [
    "\n---\n\n**অস্বীকৃতি**:  \nএই নথিটি AI অনুবাদ পরিষেবা [Co-op Translator](https://github.com/Azure/co-op-translator) ব্যবহার করে অনুবাদ করা হয়েছে। আমরা যথাসাধ্য সঠিকতা নিশ্চিত করার চেষ্টা করি, তবে অনুগ্রহ করে মনে রাখবেন যে স্বয়ংক্রিয় অনুবাদে ত্রুটি বা অসঙ্গতি থাকতে পারে। মূল ভাষায় থাকা নথিটিকে প্রামাণিক উৎস হিসেবে বিবেচনা করা উচিত। গুরুত্বপূর্ণ তথ্যের জন্য, পেশাদার মানব অনুবাদ সুপারিশ করা হয়। এই অনুবাদ ব্যবহারের ফলে কোনো ভুল বোঝাবুঝি বা ভুল ব্যাখ্যা হলে আমরা দায়বদ্ধ থাকব না।\n"
   ]
  }
 ],
 "metadata": {
  "kernelspec": {
   "display_name": "tflite",
   "language": "python",
   "name": "python3"
  },
  "language_info": {
   "codemirror_mode": {
    "name": "ipython",
    "version": 3
   },
   "file_extension": ".py",
   "mimetype": "text/x-python",
   "name": "python",
   "nbconvert_exporter": "python",
   "pygments_lexer": "ipython3",
   "version": "3.10.12"
  },
  "coopTranslator": {
   "original_hash": "c38852a39916f5605a0d115129fdf162",
   "translation_date": "2025-09-12T19:20:28+00:00",
   "source_file": "code/09.UpdateSamples/Aug/Android/convert/convert_phi.ipynb",
   "language_code": "bn"
  }
 },
 "nbformat": 4,
 "nbformat_minor": 2
}