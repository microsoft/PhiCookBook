{
 "cells": [
  {
   "cell_type": "markdown",
   "metadata": {},
   "source": [
    "# Ollama + OpenAI + Python\n",
    "\n",
    "## ১. মডেলের নাম নির্ধারণ করুন\n",
    "\n",
    "যদি আপনি \"phi3:mini\" ছাড়া অন্য কোনো মডেল ব্যবহার করেন, তাহলে নিচের সেলে মান পরিবর্তন করুন। এই ভেরিয়েবলটি নোটবুকের কোডে সর্বত্র ব্যবহার করা হবে।\n"
   ]
  },
  {
   "cell_type": "code",
   "execution_count": null,
   "metadata": {},
   "outputs": [],
   "source": [
    "MODEL_NAME = \"phi3:mini\""
   ]
  },
  {
   "cell_type": "markdown",
   "metadata": {},
   "source": [
    "## 2. ওপেন এআই ক্লায়েন্ট সেটআপ করুন\n",
    "\n",
    "সাধারণত ওপেন এআই ক্লায়েন্ট OpenAI.com বা Azure OpenAI এর সাথে বড় ভাষার মডেলের সাথে যোগাযোগ করার জন্য ব্যবহৃত হয়।  \n",
    "তবে, এটি Ollama এর সাথেও ব্যবহার করা যেতে পারে, কারণ Ollama \"http://localhost:11434/v1\" এ একটি OpenAI-সামঞ্জস্যপূর্ণ এন্ডপয়েন্ট প্রদান করে।\n"
   ]
  },
  {
   "cell_type": "code",
   "execution_count": null,
   "metadata": {},
   "outputs": [],
   "source": [
    "%pip install openai"
   ]
  },
  {
   "cell_type": "code",
   "execution_count": null,
   "metadata": {},
   "outputs": [],
   "source": [
    "import openai\n",
    "\n",
    "client = openai.OpenAI(\n",
    "    base_url=\"http://localhost:11434/v1\",\n",
    "    api_key=\"nokeyneeded\",\n",
    ")"
   ]
  },
  {
   "cell_type": "markdown",
   "metadata": {},
   "source": [
    "## ৩. একটি চ্যাট সম্পন্ন তৈরি করুন\n",
    "\n",
    "এখন আমরা OpenAI SDK ব্যবহার করে একটি কথোপকথনের জন্য উত্তর তৈরি করতে পারি। এই অনুরোধটি বিড়ালদের নিয়ে একটি হাইকু তৈরি করবে:\n"
   ]
  },
  {
   "cell_type": "code",
   "execution_count": null,
   "metadata": {},
   "outputs": [],
   "source": [
    "response = client.chat.completions.create(\n",
    "    model=MODEL_NAME,\n",
    "    temperature=0.7,\n",
    "    n=1,\n",
    "    messages=[\n",
    "        {\"role\": \"system\", \"content\": \"You are a helpful assistant.\"},\n",
    "        {\"role\": \"user\", \"content\": \"Write a haiku about a hungry cat\"},\n",
    "    ],\n",
    ")\n",
    "\n",
    "print(\"Response:\")\n",
    "print(response.choices[0].message.content)\n"
   ]
  },
  {
   "cell_type": "markdown",
   "metadata": {},
   "source": [
    "## ৪. প্রম্পট ইঞ্জিনিয়ারিং\n",
    "\n",
    "ভাষার মডেলে পাঠানো প্রথম বার্তাটি \"সিস্টেম মেসেজ\" বা \"সিস্টেম প্রম্পট\" নামে পরিচিত, যা মডেলের জন্য সামগ্রিক নির্দেশনা নির্ধারণ করে।  \n",
    "আপনি আপনার নিজস্ব কাস্টম সিস্টেম প্রম্পট প্রদান করতে পারেন, যা ভাষার মডেলকে ভিন্নভাবে আউটপুট তৈরি করতে নির্দেশনা দেয়।  \n",
    "নিচের `SYSTEM_MESSAGE` পরিবর্তন করুন যাতে এটি আপনার প্রিয় বিখ্যাত সিনেমা/টিভি চরিত্রের মতো উত্তর দেয়, অথবা অন্যান্য সিস্টেম প্রম্পটের জন্য [Awesome ChatGPT Prompts](https://github.com/f/awesome-chatgpt-prompts?tab=readme-ov-file#prompts) থেকে অনুপ্রেরণা নিন।  \n",
    "\n",
    "যখন আপনি সিস্টেম মেসেজটি কাস্টমাইজ করবেন, তখন `USER_MESSAGE`-এ প্রথম ব্যবহারকারীর প্রশ্ন প্রদান করুন।  \n"
   ]
  },
  {
   "cell_type": "code",
   "execution_count": null,
   "metadata": {},
   "outputs": [],
   "source": [
    "SYSTEM_MESSAGE = \"\"\"\n",
    "I want you to act like Elmo from Sesame Street.\n",
    "I want you to respond and answer like Elmo using the tone, manner and vocabulary that Elmo would use.\n",
    "Do not write any explanations. Only answer like Elmo.\n",
    "You must know all of the knowledge of Elmo, and nothing more.\n",
    "\"\"\"\n",
    "\n",
    "USER_MESSAGE = \"\"\"\n",
    "Hi Elmo, how are you doing today?\n",
    "\"\"\"\n",
    "\n",
    "response = client.chat.completions.create(\n",
    "    model=MODEL_NAME,\n",
    "    temperature=0.7,\n",
    "    n=1,\n",
    "    messages=[\n",
    "        {\"role\": \"system\", \"content\": SYSTEM_MESSAGE},\n",
    "        {\"role\": \"user\", \"content\": USER_MESSAGE},\n",
    "    ],\n",
    ")\n",
    "\n",
    "print(\"Response:\")\n",
    "print(response.choices[0].message.content)\n"
   ]
  },
  {
   "cell_type": "markdown",
   "metadata": {},
   "source": [
    "## ৫. কিছু উদাহরণ\n",
    "\n",
    "একটি ভাষা মডেলকে নির্দেশনা দেওয়ার আরেকটি উপায় হলো \"কিছু উদাহরণ\" প্রদান করা, যেখানে প্রশ্ন/উত্তরের একটি ধারাবাহিক উদাহরণ দেখানো হয় যা নির্দেশ করে এটি কীভাবে সাড়া দেবে।\n",
    "\n",
    "নিচের উদাহরণটি একটি ভাষা মডেলকে শিক্ষকের সহকারী হিসেবে কাজ করানোর চেষ্টা করে, যেখানে কিছু প্রশ্ন এবং উত্তরের উদাহরণ দেওয়া হয়েছে যা একজন সহকারী দিতে পারে, এবং তারপর মডেলকে এমন একটি প্রশ্নের মুখোমুখি করা হয়েছে যা একজন শিক্ষার্থী জিজ্ঞাসা করতে পারে।\n",
    "\n",
    "প্রথমে এটি চেষ্টা করুন, তারপর `SYSTEM_MESSAGE`, `EXAMPLES`, এবং `USER_MESSAGE` পরিবর্তন করে একটি নতুন পরিস্থিতির জন্য এটি ব্যবহার করুন।\n"
   ]
  },
  {
   "cell_type": "code",
   "execution_count": null,
   "metadata": {},
   "outputs": [],
   "source": [
    "SYSTEM_MESSAGE = \"\"\"\n",
    "You are a helpful assistant that helps students with their homework.\n",
    "Instead of providing the full answer, you respond with a hint or a clue.\n",
    "\"\"\"\n",
    "\n",
    "EXAMPLES = [\n",
    "    (\n",
    "        \"What is the capital of France?\",\n",
    "        \"Can you remember the name of the city that is known for the Eiffel Tower?\"\n",
    "    ),\n",
    "    (\n",
    "        \"What is the square root of 144?\",\n",
    "        \"What number multiplied by itself equals 144?\"\n",
    "    ),\n",
    "    (   \"What is the atomic number of oxygen?\",\n",
    "        \"How many protons does an oxygen atom have?\"\n",
    "    ),\n",
    "]\n",
    "\n",
    "USER_MESSAGE = \"What is the largest planet in our solar system?\"\n",
    "\n",
    "\n",
    "response = client.chat.completions.create(\n",
    "    model=MODEL_NAME,\n",
    "    temperature=0.7,\n",
    "    n=1,\n",
    "    messages=[\n",
    "        {\"role\": \"system\", \"content\": SYSTEM_MESSAGE},\n",
    "        {\"role\": \"user\", \"content\": EXAMPLES[0][0]},\n",
    "        {\"role\": \"assistant\", \"content\": EXAMPLES[0][1]},\n",
    "        {\"role\": \"user\", \"content\": EXAMPLES[1][0]},\n",
    "        {\"role\": \"assistant\", \"content\": EXAMPLES[1][1]},\n",
    "        {\"role\": \"user\", \"content\": EXAMPLES[2][0]},\n",
    "        {\"role\": \"assistant\", \"content\": EXAMPLES[2][1]},\n",
    "        {\"role\": \"user\", \"content\": USER_MESSAGE},\n",
    "    ],\n",
    ")\n",
    "\n",
    "\n",
    "print(\"Response:\")\n",
    "print(response.choices[0].message.content)"
   ]
  },
  {
   "cell_type": "markdown",
   "metadata": {},
   "source": [
    "## ৬. রিট্রিভাল অগমেন্টেড জেনারেশন\n",
    "\n",
    "RAG (Retrieval Augmented Generation) একটি পদ্ধতি যা একটি ভাষার মডেলকে নির্দিষ্ট কোনো ডোমেইনের প্রশ্নের সঠিক উত্তর দিতে সক্ষম করে। এটি প্রথমে একটি জ্ঞান উৎস থেকে প্রাসঙ্গিক তথ্য সংগ্রহ করে এবং তারপর সেই তথ্যের ভিত্তিতে উত্তর তৈরি করে।\n",
    "\n",
    "আমরা একটি স্থানীয় CSV ফাইল সরবরাহ করেছি, যেখানে হাইব্রিড গাড়ি সম্পর্কিত তথ্য রয়েছে। নিচের কোডটি CSV ফাইলটি পড়ে, ব্যবহারকারীর প্রশ্নের সাথে মিলে যাওয়া তথ্য খুঁজে বের করে এবং তারপর পাওয়া তথ্যের ভিত্তিতে একটি উত্তর তৈরি করে। মনে রাখবেন, এটি আগের উদাহরণগুলোর তুলনায় বেশি সময় নেবে, কারণ এটি মডেলে বেশি তথ্য পাঠায়। যদি আপনি লক্ষ্য করেন যে উত্তরটি এখনও ডেটার সাথে সঠিকভাবে সংযুক্ত নয়, তাহলে আপনি সিস্টেম ইঞ্জিনিয়ারিং চেষ্টা করতে পারেন বা অন্য মডেল ব্যবহার করতে পারেন। সাধারণত, RAG বড় মডেল বা SLM-এর ফাইন-টিউন করা সংস্করণের সাথে বেশি কার্যকর।\n"
   ]
  },
  {
   "cell_type": "code",
   "execution_count": null,
   "metadata": {},
   "outputs": [],
   "source": [
    "import csv\n",
    "\n",
    "SYSTEM_MESSAGE = \"\"\"\n",
    "You are a helpful assistant that answers questions about cars based off a hybrid car data set.\n",
    "You must use the data set to answer the questions, you should not provide any information that is not in the provided sources.\n",
    "\"\"\"\n",
    "\n",
    "USER_MESSAGE = \"how fast is a prius?\"\n",
    "\n",
    "# Open the CSV and store in a list\n",
    "with open(\"hybrid.csv\", \"r\") as file:\n",
    "    reader = csv.reader(file)\n",
    "    rows = list(reader)\n",
    "\n",
    "# Normalize the user question to replace punctuation and make lowercase\n",
    "normalized_message = USER_MESSAGE.lower().replace(\"?\", \"\").replace(\"(\", \" \").replace(\")\", \" \")\n",
    "\n",
    "# Search the CSV for user question using very naive search\n",
    "words = normalized_message.split()\n",
    "matches = []\n",
    "for row in rows[1:]:\n",
    "    # if the word matches any word in row, add the row to the matches\n",
    "    if any(word in row[0].lower().split() for word in words) or any(word in row[5].lower().split() for word in words):\n",
    "        matches.append(row)\n",
    "\n",
    "# Format as a markdown table, since language models understand markdown\n",
    "matches_table = \" | \".join(rows[0]) + \"\\n\" + \" | \".join(\" --- \" for _ in range(len(rows[0]))) + \"\\n\"\n",
    "matches_table += \"\\n\".join(\" | \".join(row) for row in matches)\n",
    "print(f\"Found {len(matches)} matches:\")\n",
    "print(matches_table)\n",
    "\n",
    "# Now we can use the matches to generate a response\n",
    "response = client.chat.completions.create(\n",
    "    model=MODEL_NAME,\n",
    "    temperature=0.7,\n",
    "    n=1,\n",
    "    messages=[\n",
    "        {\"role\": \"system\", \"content\": SYSTEM_MESSAGE},\n",
    "        {\"role\": \"user\", \"content\": USER_MESSAGE + \"\\nSources: \" + matches_table},\n",
    "    ],\n",
    ")\n",
    "\n",
    "print(\"Response:\")\n",
    "print(response.choices[0].message.content)"
   ]
  },
  {
   "cell_type": "markdown",
   "metadata": {},
   "source": [
    "\n---\n\n**অস্বীকৃতি**:  \nএই নথিটি AI অনুবাদ পরিষেবা [Co-op Translator](https://github.com/Azure/co-op-translator) ব্যবহার করে অনুবাদ করা হয়েছে। আমরা যথাসাধ্য সঠিকতা নিশ্চিত করার চেষ্টা করি, তবে অনুগ্রহ করে মনে রাখবেন যে স্বয়ংক্রিয় অনুবাদে ত্রুটি বা অসঙ্গতি থাকতে পারে। মূল ভাষায় থাকা নথিটিকে প্রামাণিক উৎস হিসেবে বিবেচনা করা উচিত। গুরুত্বপূর্ণ তথ্যের জন্য, পেশাদার মানব অনুবাদ সুপারিশ করা হয়। এই অনুবাদ ব্যবহারের ফলে কোনো ভুল বোঝাবুঝি বা ভুল ব্যাখ্যা হলে আমরা দায়বদ্ধ থাকব না।\n"
   ]
  }
 ],
 "metadata": {
  "kernelspec": {
   "display_name": "Python 3",
   "language": "python",
   "name": "python3"
  },
  "language_info": {
   "codemirror_mode": {
    "name": "ipython",
    "version": 3
   },
   "file_extension": ".py",
   "mimetype": "text/x-python",
   "name": "python",
   "nbconvert_exporter": "python",
   "pygments_lexer": "ipython3",
   "version": "3.12.3"
  },
  "coopTranslator": {
   "original_hash": "6f9e40a7dbbd892aae50aff77da4b4be",
   "translation_date": "2025-09-12T20:10:40+00:00",
   "source_file": "code/01.Introduce/ollama.ipynb",
   "language_code": "bn"
  }
 },
 "nbformat": 4,
 "nbformat_minor": 2
}